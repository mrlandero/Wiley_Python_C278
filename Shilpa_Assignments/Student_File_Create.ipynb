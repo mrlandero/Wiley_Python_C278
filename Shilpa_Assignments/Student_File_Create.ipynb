{
 "cells": [
  {
   "cell_type": "code",
   "execution_count": 3,
   "metadata": {},
   "outputs": [],
   "source": [
    "class Student:\n",
    "    def __init__(self,roll,name,total):\n",
    "        self.roll = roll\n",
    "        self.name = name\n",
    "        self.total = total\n",
    "\n",
    "    def display(self):\n",
    "        print(\"Roll Number: \",self.roll)\n",
    "        print(\"Student Name: \",self.name)\n",
    "        print(\"Total: \",self.total)\n",
    "\n",
    "    def writeRecord(studentRecords,input_file_path):\n",
    "        fp = open(input_file_path,\"w\")\n",
    "        fp.write(studentRecords)\n",
    "        fp.close()\n",
    "\n",
    "st = Student(\"1\",\"Tony\",1)"
   ]
  },
  {
   "cell_type": "code",
   "execution_count": 4,
   "metadata": {},
   "outputs": [],
   "source": [
    "n = int(input(\"Enter the number of records you'd like to retrieve: \"))\n",
    "studentRecords = []\n",
    "studentRecords.append(st)"
   ]
  },
  {
   "cell_type": "code",
   "execution_count": 5,
   "metadata": {},
   "outputs": [],
   "source": [
    "action = input(\"What action would you like to take: [1]Insert Record, [2]Display Record, [3]Search for a Record\")\n",
    "if action == 1:\n",
    "    st.writeRecord(studentRecords,\"student_records.txt\")"
   ]
  },
  {
   "cell_type": "code",
   "execution_count": null,
   "metadata": {},
   "outputs": [],
   "source": []
  }
 ],
 "metadata": {
  "interpreter": {
   "hash": "fb00f0c01367cd29234ef98d6ee35d5dad54fff2cb1a8b567bc06dceecc7a7af"
  },
  "kernelspec": {
   "display_name": "Python 3.8.8 ('base')",
   "language": "python",
   "name": "python3"
  },
  "language_info": {
   "codemirror_mode": {
    "name": "ipython",
    "version": 3
   },
   "file_extension": ".py",
   "mimetype": "text/x-python",
   "name": "python",
   "nbconvert_exporter": "python",
   "pygments_lexer": "ipython3",
   "version": "3.8.8"
  },
  "orig_nbformat": 4
 },
 "nbformat": 4,
 "nbformat_minor": 2
}
