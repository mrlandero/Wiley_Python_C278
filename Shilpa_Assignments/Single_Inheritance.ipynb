{
 "cells": [
  {
   "cell_type": "code",
   "execution_count": 1,
   "metadata": {},
   "outputs": [
    {
     "name": "stdout",
     "output_type": "stream",
     "text": [
      "Area of Square =  81\n",
      "Perimeter of Square =  36\n"
     ]
    }
   ],
   "source": [
    "class Shape:\n",
    "    def __init__(self):\n",
    "        self.len = 0\n",
    "        self.bred = 0\n",
    "        self.rad = 0\n",
    "\n",
    "    def setlen(self,l):\n",
    "        self.len = l\n",
    "    def setbred(self,b):\n",
    "        self.bred = b\n",
    "    def setrad(self,r):\n",
    "        self.rad = r\n",
    "\n",
    "class Square(Shape):\n",
    "    def __init__(self):\n",
    "        self.area = 0\n",
    "        self.peri = 0\n",
    "\n",
    "    def calculate(self):\n",
    "        self.area = self.len**2\n",
    "        self.peri = 4 * self.len\n",
    "\n",
    "    def display(self):\n",
    "        print(\"Area of Square = \",self.area)\n",
    "        print(\"Perimeter of Square = \",self.peri)\n",
    "\n",
    "ob = Square()\n",
    "ob.setlen(9)\n",
    "ob.calculate()\n",
    "ob.display()"
   ]
  },
  {
   "cell_type": "code",
   "execution_count": null,
   "metadata": {},
   "outputs": [],
   "source": []
  }
 ],
 "metadata": {
  "interpreter": {
   "hash": "ad9fb37fa15c2fac4885b853501abc8587965d08b8586f67468c92fe4e3567d7"
  },
  "kernelspec": {
   "display_name": "Python 3.7.10 ('dev')",
   "language": "python",
   "name": "python3"
  },
  "language_info": {
   "codemirror_mode": {
    "name": "ipython",
    "version": 3
   },
   "file_extension": ".py",
   "mimetype": "text/x-python",
   "name": "python",
   "nbconvert_exporter": "python",
   "pygments_lexer": "ipython3",
   "version": "3.7.10"
  },
  "orig_nbformat": 4
 },
 "nbformat": 4,
 "nbformat_minor": 2
}
