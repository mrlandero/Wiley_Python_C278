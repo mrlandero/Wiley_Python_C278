{
 "cells": [
  {
   "cell_type": "code",
   "execution_count": null,
   "metadata": {},
   "outputs": [],
   "source": [
    "class Category:\n",
    "    def setdata(self):\n",
    "        self.catId = int(input(\"Enter the category ID = \"))\n",
    "        self.name = input(\"Enter the category name = \")\n",
    "        self.catdesc = input(\"Enter the category description = \")\n",
    "\n",
    "    def display(self):\n",
    "        print(\"CAT ID = \",self.catId)\n",
    "        print(\"CAT NAME = \",self.name)\n",
    "        print(\"CAT DESCRIPTION = \",self.catdesc)\n",
    "\n",
    "\n",
    "class Product:\n",
    "    "
   ]
  }
 ],
 "metadata": {
  "interpreter": {
   "hash": "ad9fb37fa15c2fac4885b853501abc8587965d08b8586f67468c92fe4e3567d7"
  },
  "kernelspec": {
   "display_name": "Python 3.7.10 ('dev')",
   "language": "python",
   "name": "python3"
  },
  "language_info": {
   "name": "python",
   "version": "3.7.10"
  },
  "orig_nbformat": 4
 },
 "nbformat": 4,
 "nbformat_minor": 2
}
