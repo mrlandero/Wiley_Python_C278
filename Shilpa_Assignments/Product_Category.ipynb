{
 "cells": [
  {
   "cell_type": "code",
   "execution_count": 1,
   "metadata": {},
   "outputs": [],
   "source": [
    "class Product:\n",
    "    pid = \"\"\n",
    "    pname = \"\"\n",
    "    pdesc = \"\"\n",
    "    price = \"\"\n",
    "    catid = \"\"\n",
    "\n",
    "    def __init__(self,pid,pname,pdesc,price,catid):\n",
    "        self.pid = pid\n",
    "        self.pname = pname\n",
    "        self.pdesc = pdesc\n",
    "        self.price = price\n",
    "        self.catid = catid \n",
    "\n",
    "    def displayData(self):\n",
    "        print(\"PID\",self.pid)\n",
    "        print(\"Pname\",self.pname)\n",
    "        print(\"Pdesc\",self.pdesc)\n",
    "        print(\"Price\",self.price)\n",
    "        print(\"CatID\",self.catid)"
   ]
  },
  {
   "cell_type": "code",
   "execution_count": 2,
   "metadata": {},
   "outputs": [],
   "source": [
    "first_product = Product(1111,\"Shampoo\",\"Hair Products\",9.99,1111)"
   ]
  },
  {
   "cell_type": "code",
   "execution_count": 3,
   "metadata": {},
   "outputs": [
    {
     "name": "stdout",
     "output_type": "stream",
     "text": [
      "PID 1111\n",
      "Pname Shampoo\n",
      "Pdesc Hair Products\n",
      "Price 9.99\n",
      "CatID 1111\n"
     ]
    }
   ],
   "source": [
    "first_product.displayData()"
   ]
  },
  {
   "cell_type": "code",
   "execution_count": null,
   "metadata": {},
   "outputs": [],
   "source": []
  }
 ],
 "metadata": {
  "interpreter": {
   "hash": "ad9fb37fa15c2fac4885b853501abc8587965d08b8586f67468c92fe4e3567d7"
  },
  "kernelspec": {
   "display_name": "Python 3.7.10 ('dev')",
   "language": "python",
   "name": "python3"
  },
  "language_info": {
   "codemirror_mode": {
    "name": "ipython",
    "version": 3
   },
   "file_extension": ".py",
   "mimetype": "text/x-python",
   "name": "python",
   "nbconvert_exporter": "python",
   "pygments_lexer": "ipython3",
   "version": "3.7.10"
  },
  "orig_nbformat": 4
 },
 "nbformat": 4,
 "nbformat_minor": 2
}
