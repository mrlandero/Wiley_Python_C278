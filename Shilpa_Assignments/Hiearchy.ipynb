{
 "cells": [
  {
   "cell_type": "code",
   "execution_count": null,
   "metadata": {},
   "outputs": [],
   "source": [
    "class Person:\n",
    "    def __init__(self):\n",
    "        self.name = \"\"\n",
    "        self.id = 0\n",
    "\n",
    "    def setdata(self):\n",
    "        self.name = input(\"Enter the name = \")\n",
    "        self.id = int(input(\"Enter the id = \"))\n",
    "\n",
    "    def display(self):\n",
    "        print(\"NAME =  \",self.name)\n",
    "        print(\"ROLL  = \",self.id)\n",
    "\n",
    "class Student(Person):\n",
    "    def setdata(self):\n",
    "        super().setdata()\n",
    "        self.courseId = int(input(\"Enter the course ID: \"))\n"
   ]
  }
 ],
 "metadata": {
  "interpreter": {
   "hash": "ad9fb37fa15c2fac4885b853501abc8587965d08b8586f67468c92fe4e3567d7"
  },
  "kernelspec": {
   "display_name": "Python 3.7.10 ('dev')",
   "language": "python",
   "name": "python3"
  },
  "language_info": {
   "name": "python",
   "version": "3.7.10"
  },
  "orig_nbformat": 4
 },
 "nbformat": 4,
 "nbformat_minor": 2
}
