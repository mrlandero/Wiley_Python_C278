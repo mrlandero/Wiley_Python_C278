{
 "cells": [
  {
   "cell_type": "markdown",
   "metadata": {},
   "source": [
    "### Example 10:\n",
    "In this example, we use the **```time```** class to generate a time that is not date-specific.<br>\n",
    "\n",
    "We then use **```time```** to extract a **```time```** object from a full **```datetime```** value. Note that both objects are **```datetime.time```** objects."
   ]
  },
  {
   "cell_type": "code",
   "execution_count": 1,
   "metadata": {},
   "outputs": [],
   "source": [
    "import datetime"
   ]
  },
  {
   "cell_type": "code",
   "execution_count": 3,
   "metadata": {},
   "outputs": [
    {
     "name": "stdout",
     "output_type": "stream",
     "text": [
      "13:45:30\n",
      "=======\n",
      "<class 'datetime.time'>\n"
     ]
    }
   ],
   "source": [
    "# We create a time object, for 1:45:30 pm, using 24-hour time format\n",
    "t = datetime.time(13,45,30)\n",
    "print(t)\n",
    "print(\"=======\")\n",
    "print(type(t))"
   ]
  },
  {
   "cell_type": "code",
   "execution_count": 4,
   "metadata": {},
   "outputs": [
    {
     "name": "stdout",
     "output_type": "stream",
     "text": [
      "13:25:13.358431\n",
      "=======\n",
      "<class 'datetime.time'>\n"
     ]
    }
   ],
   "source": [
    "# We use the now method of the datetime.datetime class to return the current date and time\n",
    "\n",
    "# We then use the time() method from the datetime.datetime class to extract a time object from the datetime object\n",
    "current_time = datetime.datetime.now().time()\n",
    "print(current_time)\n",
    "print(\"=======\")\n",
    "print(type(current_time))"
   ]
  },
  {
   "cell_type": "code",
   "execution_count": null,
   "metadata": {},
   "outputs": [],
   "source": []
  }
 ],
 "metadata": {
  "interpreter": {
   "hash": "fb00f0c01367cd29234ef98d6ee35d5dad54fff2cb1a8b567bc06dceecc7a7af"
  },
  "kernelspec": {
   "display_name": "Python 3.8.8 ('base')",
   "language": "python",
   "name": "python3"
  },
  "language_info": {
   "codemirror_mode": {
    "name": "ipython",
    "version": 3
   },
   "file_extension": ".py",
   "mimetype": "text/x-python",
   "name": "python",
   "nbconvert_exporter": "python",
   "pygments_lexer": "ipython3",
   "version": "3.8.8"
  },
  "orig_nbformat": 4
 },
 "nbformat": 4,
 "nbformat_minor": 2
}
