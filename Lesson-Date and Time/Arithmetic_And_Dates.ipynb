{
 "cells": [
  {
   "cell_type": "markdown",
   "metadata": {},
   "source": [
    "### Example 8A:\n",
    "In this example, we perform the following actions:\n",
    "\n",
    "    1. Find tomorrow's date.\n",
    "    2. Find the date four weeks ago.\n",
    "    3. Calculate the time one hour from now."
   ]
  },
  {
   "cell_type": "code",
   "execution_count": 1,
   "metadata": {},
   "outputs": [],
   "source": [
    "import datetime"
   ]
  },
  {
   "cell_type": "code",
   "execution_count": 2,
   "metadata": {},
   "outputs": [
    {
     "name": "stdout",
     "output_type": "stream",
     "text": [
      "2022-07-04 12:41:32.544779\n"
     ]
    }
   ],
   "source": [
    "# Add one day to the current datetime // Tomorrow's date\n",
    "d1 = datetime.datetime.now() + datetime.timedelta(days=1)\n",
    "print(d1)"
   ]
  },
  {
   "cell_type": "code",
   "execution_count": 3,
   "metadata": {},
   "outputs": [
    {
     "name": "stdout",
     "output_type": "stream",
     "text": [
      "2022-06-05 12:51:39.909260\n"
     ]
    }
   ],
   "source": [
    "# Subtract 4 weeks from the current datetime\n",
    "d2 = datetime.datetime.now() - datetime.timedelta(weeks=4)\n",
    "print(d2)"
   ]
  },
  {
   "cell_type": "code",
   "execution_count": 4,
   "metadata": {},
   "outputs": [
    {
     "name": "stdout",
     "output_type": "stream",
     "text": [
      "2022-07-03 13:52:50.181607\n"
     ]
    }
   ],
   "source": [
    "# Add 1 hour to the current datetime\n",
    "d3 = datetime.datetime.now() + datetime.timedelta(minutes=60)\n",
    "print(d3)"
   ]
  },
  {
   "cell_type": "markdown",
   "metadata": {},
   "source": [
    "### Example 8B:\n",
    "We can also subtract one date from another date to calculate the number of days between two **```datetime```** objects."
   ]
  },
  {
   "cell_type": "code",
   "execution_count": 5,
   "metadata": {},
   "outputs": [
    {
     "name": "stdout",
     "output_type": "stream",
     "text": [
      "2022-07-03 12:56:50.082552\n",
      "=======\n",
      "2019-01-01 00:00:00\n",
      "=======\n",
      "1279 days, 12:56:50.082552\n",
      "=======\n",
      "1279\n"
     ]
    }
   ],
   "source": [
    "d_now = datetime.datetime.now()\n",
    "d_other = datetime.datetime(2019,1,1)\n",
    "\n",
    "print(d_now)\n",
    "print(\"=======\")\n",
    "print(d_other)\n",
    "print(\"=======\")\n",
    "days_passed = d_now - d_other\n",
    "print(days_passed)\n",
    "print(\"=======\")\n",
    "print(days_passed.days)"
   ]
  },
  {
   "cell_type": "code",
   "execution_count": null,
   "metadata": {},
   "outputs": [],
   "source": []
  }
 ],
 "metadata": {
  "interpreter": {
   "hash": "fb00f0c01367cd29234ef98d6ee35d5dad54fff2cb1a8b567bc06dceecc7a7af"
  },
  "kernelspec": {
   "display_name": "Python 3.8.8 ('base')",
   "language": "python",
   "name": "python3"
  },
  "language_info": {
   "codemirror_mode": {
    "name": "ipython",
    "version": 3
   },
   "file_extension": ".py",
   "mimetype": "text/x-python",
   "name": "python",
   "nbconvert_exporter": "python",
   "pygments_lexer": "ipython3",
   "version": "3.8.8"
  },
  "orig_nbformat": 4
 },
 "nbformat": 4,
 "nbformat_minor": 2
}
