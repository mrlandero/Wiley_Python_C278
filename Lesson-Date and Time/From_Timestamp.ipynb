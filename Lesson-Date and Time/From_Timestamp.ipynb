{
 "cells": [
  {
   "cell_type": "markdown",
   "metadata": {},
   "source": [
    "### Example 7:\n",
    "In this example, we start with an integer timestamp value and convert that value to a datetime object."
   ]
  },
  {
   "cell_type": "code",
   "execution_count": 1,
   "metadata": {},
   "outputs": [],
   "source": [
    "import datetime"
   ]
  },
  {
   "cell_type": "code",
   "execution_count": 2,
   "metadata": {},
   "outputs": [],
   "source": [
    "tstamp = 1355689900 # The timestamp should be an integer"
   ]
  },
  {
   "cell_type": "code",
   "execution_count": 3,
   "metadata": {},
   "outputs": [],
   "source": [
    "# From timestamp will convert the integer timestamp into a datetime object\n",
    "d = datetime.datetime.fromtimestamp(tstamp)"
   ]
  },
  {
   "cell_type": "code",
   "execution_count": 9,
   "metadata": {},
   "outputs": [
    {
     "name": "stdout",
     "output_type": "stream",
     "text": [
      "2012-12-16 14:31:40\n",
      "=====================\n",
      "2012\n",
      "=====================\n",
      "12\n",
      "=====================\n",
      "16\n",
      "=====================\n",
      "14\n",
      "=====================\n",
      "31\n",
      "=====================\n",
      "40\n",
      "=====================\n",
      "0\n",
      "=====================\n",
      "None\n"
     ]
    }
   ],
   "source": [
    "print(d)\n",
    "print(\"=====================\")\n",
    "print(d.year)\n",
    "print(\"=====================\")\n",
    "print(d.month)\n",
    "print(\"=====================\")\n",
    "print(d.day)\n",
    "print(\"=====================\")\n",
    "print(d.hour)\n",
    "print(\"=====================\")\n",
    "print(d.minute)\n",
    "print(\"=====================\")\n",
    "print(d.second)\n",
    "print(\"=====================\")\n",
    "print(d.microsecond)\n",
    "print(\"=====================\")\n",
    "print(d.tzinfo)"
   ]
  },
  {
   "cell_type": "code",
   "execution_count": null,
   "metadata": {},
   "outputs": [],
   "source": []
  }
 ],
 "metadata": {
  "interpreter": {
   "hash": "fb00f0c01367cd29234ef98d6ee35d5dad54fff2cb1a8b567bc06dceecc7a7af"
  },
  "kernelspec": {
   "display_name": "Python 3.8.8 ('base')",
   "language": "python",
   "name": "python3"
  },
  "language_info": {
   "codemirror_mode": {
    "name": "ipython",
    "version": 3
   },
   "file_extension": ".py",
   "mimetype": "text/x-python",
   "name": "python",
   "nbconvert_exporter": "python",
   "pygments_lexer": "ipython3",
   "version": "3.8.8"
  },
  "orig_nbformat": 4
 },
 "nbformat": 4,
 "nbformat_minor": 2
}
