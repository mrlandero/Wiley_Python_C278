{
 "cells": [
  {
   "cell_type": "markdown",
   "metadata": {},
   "source": [
    "### Example 5:\n",
    "In this example, we use **```utcnow()```** instead of **```now()```** to generate the current time and date in UTC format.<br>\n",
    "\n",
    "The output should be shifted by the number of hours your current time zone is from UTC. For example, if you are in Central Standard Time, your current time is 6 hours less than UTC. During daylight saving time, the difference is 5 hours ranther than 6."
   ]
  },
  {
   "cell_type": "code",
   "execution_count": 1,
   "metadata": {},
   "outputs": [],
   "source": [
    "import datetime"
   ]
  },
  {
   "cell_type": "code",
   "execution_count": 2,
   "metadata": {},
   "outputs": [],
   "source": [
    "time_utc_now = datetime.datetime.utcnow()"
   ]
  },
  {
   "cell_type": "code",
   "execution_count": 8,
   "metadata": {},
   "outputs": [
    {
     "name": "stdout",
     "output_type": "stream",
     "text": [
      "2022-07-03 17:13:31.409187\n",
      "2022\n",
      "7\n",
      "3\n",
      "17\n",
      "13\n",
      "31\n",
      "409187\n",
      "None\n"
     ]
    }
   ],
   "source": [
    "print(time_utc_now)\n",
    "print(time_utc_now.year)\n",
    "print(time_utc_now.month)\n",
    "print(time_utc_now.day)\n",
    "print(time_utc_now.hour)\n",
    "print(time_utc_now.minute)\n",
    "print(time_utc_now.second)\n",
    "print(time_utc_now.microsecond)\n",
    "print(time_utc_now.tzinfo)"
   ]
  },
  {
   "cell_type": "code",
   "execution_count": null,
   "metadata": {},
   "outputs": [],
   "source": []
  }
 ],
 "metadata": {
  "interpreter": {
   "hash": "fb00f0c01367cd29234ef98d6ee35d5dad54fff2cb1a8b567bc06dceecc7a7af"
  },
  "kernelspec": {
   "display_name": "Python 3.8.8 ('base')",
   "language": "python",
   "name": "python3"
  },
  "language_info": {
   "codemirror_mode": {
    "name": "ipython",
    "version": 3
   },
   "file_extension": ".py",
   "mimetype": "text/x-python",
   "name": "python",
   "nbconvert_exporter": "python",
   "pygments_lexer": "ipython3",
   "version": "3.8.8"
  },
  "orig_nbformat": 4
 },
 "nbformat": 4,
 "nbformat_minor": 2
}
