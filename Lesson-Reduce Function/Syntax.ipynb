{
 "cells": [
  {
   "cell_type": "markdown",
   "metadata": {},
   "source": [
    "### Example 1:\n",
    "In this example, we start with a list of numbers.<br>\n",
    "\n",
    "We then apply the **```reduce```** function to the list, using a lambda function that multiplies the numbers in pairs.<br>\n",
    "\n",
    "* 2 * 4 = 8: The product of the first two values<br>\n",
    "* 8 * 6 = 48: The product of the first product and the third value<br>\n",
    "* 48 * 8 = 384: The product of the second product and the fourth value<br>\n",
    "\n",
    "The result is an integer that equals 2 * 4 * 6 * 8"
   ]
  },
  {
   "cell_type": "code",
   "execution_count": 1,
   "metadata": {},
   "outputs": [],
   "source": [
    "from functools import reduce"
   ]
  },
  {
   "cell_type": "code",
   "execution_count": 2,
   "metadata": {},
   "outputs": [],
   "source": [
    "list_numbers = [2,4,6,8]"
   ]
  },
  {
   "cell_type": "code",
   "execution_count": 3,
   "metadata": {},
   "outputs": [],
   "source": [
    "# Reduce will apply the multiplication on the first and second element: 2*4 = 8\n",
    "# Reduce will then multiply the result of the previous step by the third element 8 * 6 = 48\n",
    "# Reduce will then multiply the result of the previous step by the fourth element 48 * 8 = 384\n",
    "product = reduce(lambda x,y: x*y, list_numbers) "
   ]
  },
  {
   "cell_type": "code",
   "execution_count": 4,
   "metadata": {},
   "outputs": [
    {
     "name": "stdout",
     "output_type": "stream",
     "text": [
      "<class 'int'>\n",
      "===========\n",
      "384\n"
     ]
    }
   ],
   "source": [
    "print(type(product))\n",
    "print(\"===========\")\n",
    "print(product)"
   ]
  },
  {
   "cell_type": "code",
   "execution_count": null,
   "metadata": {},
   "outputs": [],
   "source": []
  }
 ],
 "metadata": {
  "interpreter": {
   "hash": "fb00f0c01367cd29234ef98d6ee35d5dad54fff2cb1a8b567bc06dceecc7a7af"
  },
  "kernelspec": {
   "display_name": "Python 3.8.8 ('base')",
   "language": "python",
   "name": "python3"
  },
  "language_info": {
   "codemirror_mode": {
    "name": "ipython",
    "version": 3
   },
   "file_extension": ".py",
   "mimetype": "text/x-python",
   "name": "python",
   "nbconvert_exporter": "python",
   "pygments_lexer": "ipython3",
   "version": "3.8.8"
  },
  "orig_nbformat": 4
 },
 "nbformat": 4,
 "nbformat_minor": 2
}
