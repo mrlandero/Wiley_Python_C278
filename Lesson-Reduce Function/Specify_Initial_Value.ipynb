{
 "cells": [
  {
   "cell_type": "markdown",
   "metadata": {},
   "source": [
    "### Example 2:\n",
    "This example is the same as the previous example, except that we include an initial value of 5.<br>\n",
    "\n",
    "When we specify an initial value, the **```reduce```** function starts with the initial value, pairs it with the first value in the collection, and applies the function to that pair. It then continues through the rest of the values normally.<br>\n",
    "\n",
    "Specifically, in this case, the **```reduce```** function applies the following steps:<br>\n",
    "\n",
    "1. 5(the initial value) * 2(the first value in the set) = 10<br>\n",
    "2. 10 * 4 = 40: The initial product and the second item<br>\n",
    "3. 40 * 6 = 240: The product of the previous operation and the third value<br>\n",
    "4. 240 * 8 = 1920: The product of the previous operation and the fourth value<br>\n",
    "\n",
    "The result is an integer that equals 5 * 2 * 4 * 6 * 8."
   ]
  },
  {
   "cell_type": "code",
   "execution_count": 1,
   "metadata": {},
   "outputs": [],
   "source": [
    "from functools import reduce"
   ]
  },
  {
   "cell_type": "code",
   "execution_count": 2,
   "metadata": {},
   "outputs": [],
   "source": [
    "list_numbers = [2,4,6,8]"
   ]
  },
  {
   "cell_type": "code",
   "execution_count": 3,
   "metadata": {},
   "outputs": [],
   "source": [
    "# Initial value = 5\n",
    "# Reduce will mutiply the intitial value and the first element: 5 * 2 = 10\n",
    "# Reduce will multiply the previous product by the second element: 10 * 4 = 40\n",
    "# Reduce will multiply the previous product by the third element: 40 * 6 = 240\n",
    "# Reduce will multiply the previous product by the fourth element: 240 * 8 = 1920\n",
    "product = reduce(lambda x,y: x*y, list_numbers,5)"
   ]
  },
  {
   "cell_type": "code",
   "execution_count": 4,
   "metadata": {},
   "outputs": [
    {
     "name": "stdout",
     "output_type": "stream",
     "text": [
      "<class 'int'>\n",
      "=========\n",
      "1920\n"
     ]
    }
   ],
   "source": [
    "print(type(product))\n",
    "print(\"=========\")\n",
    "print(product)"
   ]
  },
  {
   "cell_type": "code",
   "execution_count": null,
   "metadata": {},
   "outputs": [],
   "source": []
  }
 ],
 "metadata": {
  "interpreter": {
   "hash": "fb00f0c01367cd29234ef98d6ee35d5dad54fff2cb1a8b567bc06dceecc7a7af"
  },
  "kernelspec": {
   "display_name": "Python 3.8.8 ('base')",
   "language": "python",
   "name": "python3"
  },
  "language_info": {
   "codemirror_mode": {
    "name": "ipython",
    "version": 3
   },
   "file_extension": ".py",
   "mimetype": "text/x-python",
   "name": "python",
   "nbconvert_exporter": "python",
   "pygments_lexer": "ipython3",
   "version": "3.8.8"
  },
  "orig_nbformat": 4
 },
 "nbformat": 4,
 "nbformat_minor": 2
}
