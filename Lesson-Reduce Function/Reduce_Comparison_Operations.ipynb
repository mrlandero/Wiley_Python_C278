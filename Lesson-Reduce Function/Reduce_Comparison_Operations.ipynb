{
 "cells": [
  {
   "cell_type": "markdown",
   "metadata": {},
   "source": [
    "### Example 3:\n",
    "In this example, we want to find the highest value in a collection of values. The result will be one of the original values, rather than a collective value calculated from all values.<br>\n",
    "\n",
    "Specifically, we use a comparison statement in a lambda function that compares each value in the original collection to the next value in the collection, and then keeps the higher of the two values for the next comparison. Given the numbers 1, 20, 300, 560, and 4, the **```reduce```** function will return the following:<br>\n",
    "\n",
    "1. The larger of the first two numbers, 1 and 20: 20\n",
    "2. The larger of the previous result and the third number, 20 and 300: 300\n",
    "3. The larger of the previous result and the fourth number, 300 and 560: 560\n",
    "4. The larger of the previous result and the fifth number, 560 and 4: 560<br>\n",
    "\n",
    "The result is the integer value of 560."
   ]
  },
  {
   "cell_type": "code",
   "execution_count": 1,
   "metadata": {},
   "outputs": [],
   "source": [
    "from functools import reduce"
   ]
  },
  {
   "cell_type": "code",
   "execution_count": 2,
   "metadata": {},
   "outputs": [],
   "source": [
    "list_numbers = [1,20,300,560,4]"
   ]
  },
  {
   "cell_type": "code",
   "execution_count": 3,
   "metadata": {},
   "outputs": [],
   "source": [
    "# The lambda function returns the max between two input numbers a and b.\n",
    "# Reduce will apply the lambda function to compute the max\n",
    "# First, compare the first two elements in the list, 1 and 20: 20\n",
    "# Second, compare the third element (300) and the previous result: 300\n",
    "# Third, compare the fourth element (560) and the previous result: 560\n",
    "# Fourth, compare the fifth element (4) and the previous result: 560\n",
    "max_element = reduce(lambda a,b: a if a > b else b, list_numbers)"
   ]
  },
  {
   "cell_type": "code",
   "execution_count": 4,
   "metadata": {},
   "outputs": [
    {
     "name": "stdout",
     "output_type": "stream",
     "text": [
      "<class 'int'>\n",
      "======\n",
      "560\n"
     ]
    }
   ],
   "source": [
    "print(type(max_element))\n",
    "print(\"======\")\n",
    "print(max_element)"
   ]
  },
  {
   "cell_type": "code",
   "execution_count": null,
   "metadata": {},
   "outputs": [],
   "source": []
  }
 ],
 "metadata": {
  "interpreter": {
   "hash": "fb00f0c01367cd29234ef98d6ee35d5dad54fff2cb1a8b567bc06dceecc7a7af"
  },
  "kernelspec": {
   "display_name": "Python 3.8.8 ('base')",
   "language": "python",
   "name": "python3"
  },
  "language_info": {
   "codemirror_mode": {
    "name": "ipython",
    "version": 3
   },
   "file_extension": ".py",
   "mimetype": "text/x-python",
   "name": "python",
   "nbconvert_exporter": "python",
   "pygments_lexer": "ipython3",
   "version": "3.8.8"
  },
  "orig_nbformat": 4
 },
 "nbformat": 4,
 "nbformat_minor": 2
}
