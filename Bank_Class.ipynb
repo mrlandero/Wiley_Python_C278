{
 "cells": [
  {
   "cell_type": "code",
   "execution_count": null,
   "metadata": {},
   "outputs": [],
   "source": [
    "class Bank:\n",
    "    def __init__(self,bankname,banklocation,bankid):\n",
    "        self.bankname = bankname\n",
    "        self.banklocation = banklocation\n",
    "        self.bankid = bankid\n",
    "\n",
    "    def display(self):\n",
    "        print(\"Bank Name: \",self.bankname)\n",
    "        print(\"Bank Location: \",self.banklocation)\n",
    "        print(\"Bank ID: \",self.bankid)\n",
    "\n",
    "\n",
    "class HDFC(Bank):\n",
    "    def __init__(self,)"
   ]
  },
  {
   "cell_type": "code",
   "execution_count": null,
   "metadata": {},
   "outputs": [],
   "source": []
  }
 ],
 "metadata": {
  "interpreter": {
   "hash": "ad9fb37fa15c2fac4885b853501abc8587965d08b8586f67468c92fe4e3567d7"
  },
  "kernelspec": {
   "display_name": "Python 3.7.10 ('dev')",
   "language": "python",
   "name": "python3"
  },
  "language_info": {
   "codemirror_mode": {
    "name": "ipython",
    "version": 3
   },
   "file_extension": ".py",
   "mimetype": "text/x-python",
   "name": "python",
   "nbconvert_exporter": "python",
   "pygments_lexer": "ipython3",
   "version": "3.7.10"
  },
  "orig_nbformat": 4
 },
 "nbformat": 4,
 "nbformat_minor": 2
}
