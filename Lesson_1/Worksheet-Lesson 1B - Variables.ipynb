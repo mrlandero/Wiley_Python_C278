{
 "cells": [
  {
   "cell_type": "markdown",
   "metadata": {},
   "source": [
    "# Worksheet: Variables\n",
    "This worksheet includes the practice activities for *Lesson 1B: Variables* in the online course. Refer to that lesson as necessary to complete these activities."
   ]
  },
  {
   "cell_type": "markdown",
   "metadata": {},
   "source": [
    "## Practice 1\n",
    "Create three variables to store the following information:\n",
    "- Name: Your name\n",
    "- Age: Your age\n",
    "- States: A list that contains the names of the states (in the USA) where you have lived "
   ]
  },
  {
   "cell_type": "code",
   "execution_count": 4,
   "metadata": {},
   "outputs": [
    {
     "name": "stdout",
     "output_type": "stream",
     "text": [
      "Your name is tony. You are 39 years old. You have lived in texas, maryland, virginia\n"
     ]
    }
   ],
   "source": [
    "# Create the requested variables here.\n",
    "name = input(\"What is your name? \")\n",
    "age = input(\"What is your age? \")\n",
    "states_list = input(\"In which states have you lived? \")\n",
    "\n",
    "print(\"Your name is {}. You are {} years old. You have lived in {}\".format(name,age,states_list))"
   ]
  },
  {
   "cell_type": "markdown",
   "metadata": {},
   "source": [
    "## Practice 2a\n",
    "Experiment with the example code below. What happens if you put the `print` statements at the end of the program? What if you put them above the corresponding variable statements?"
   ]
  },
  {
   "cell_type": "code",
   "execution_count": 6,
   "metadata": {},
   "outputs": [
    {
     "name": "stdout",
     "output_type": "stream",
     "text": [
      "0\n",
      "Hello World\n",
      "0.06\n",
      "False\n",
      "['Maya', 'Marley']\n",
      "[45, 7, 25, 7, 2, 6, 4, 11]\n"
     ]
    }
   ],
   "source": [
    "t =0 #a variable that stores an integer\n",
    "print(t)\n",
    "message=\"Hello World\"  #a variable that stores a string\n",
    "print(message)\n",
    "tax_rate=0.06 #a variable that stores fractional numbers\n",
    "print(tax_rate)\n",
    "isFromNH = False  #a variable that stores boolean values true or false\n",
    "print(isFromNH)\n",
    "pets = [\"Maya\",\"Marley\"] #a variable that stores a list of strings \n",
    "print(pets)\n",
    "winning_numbers= [45,7,25,7,2,6,4,11]  #a variable that stores a list of integers\n",
    "print(winning_numbers)"
   ]
  },
  {
   "cell_type": "markdown",
   "metadata": {},
   "source": [
    "## Practice 2b\n",
    "Using the example given above, create variables to store your name, your age, and a list of states you have lived in and then display those values in the output."
   ]
  },
  {
   "cell_type": "code",
   "execution_count": 8,
   "metadata": {},
   "outputs": [
    {
     "name": "stdout",
     "output_type": "stream",
     "text": [
      "tony\n",
      "39\n",
      "tx,ga,md,va\n"
     ]
    }
   ],
   "source": [
    "# Add your code here.\n",
    "name = input(\"What is your name? \")\n",
    "print(name)\n",
    "age = input(\"What is your age? \")\n",
    "print(age)\n",
    "states = input(\"Enter all of the states where you have lived: \")\n",
    "print(states)"
   ]
  },
  {
   "cell_type": "markdown",
   "metadata": {},
   "source": [
    "## Practice 3a"
   ]
  },
  {
   "cell_type": "markdown",
   "metadata": {},
   "source": [
    "Note that when you run a program that includes an error, the code stops as soon as it reaches an error. We only see one error above because the program stops as soon as it finds a variable whose name starts with a number.\n",
    "\n",
    "Change the code in line 4 below to make the variable name valid and run the code again. What happens when the program reaches line 5?"
   ]
  },
  {
   "cell_type": "code",
   "execution_count": 11,
   "metadata": {
    "scrolled": true
   },
   "outputs": [
    {
     "ename": "SyntaxError",
     "evalue": "cannot assign to operator (Temp/ipykernel_30656/2564241496.py, line 5)",
     "output_type": "error",
     "traceback": [
      "\u001b[1;36m  File \u001b[1;32m\"C:\\Users\\TONYLA~1\\AppData\\Local\\Temp/ipykernel_30656/2564241496.py\"\u001b[1;36m, line \u001b[1;32m5\u001b[0m\n\u001b[1;33m    -age = 33 #incorrect\u001b[0m\n\u001b[1;37m    ^\u001b[0m\n\u001b[1;31mSyntaxError\u001b[0m\u001b[1;31m:\u001b[0m cannot assign to operator\n"
     ]
    }
   ],
   "source": [
    "age = 33 #correct\n",
    "_age = 33 #correct\n",
    "__age = 33 #correct\n",
    "age_5 = 33  #incorrect\n",
    "-age = 33 #incorrect"
   ]
  },
  {
   "cell_type": "markdown",
   "metadata": {},
   "source": [
    "## Practice 3b\n",
    "Fix the following code to create three valid variable names. Add `print` statements to display the values associated with each variable and run the code to verify that there are no errors. "
   ]
  },
  {
   "cell_type": "code",
   "execution_count": 12,
   "metadata": {},
   "outputs": [
    {
     "name": "stdout",
     "output_type": "stream",
     "text": [
      "Alex\n",
      "35\n",
      "['Kentucky', 'New Jersey']\n"
     ]
    }
   ],
   "source": [
    "name=\"Alex\"\n",
    "print(name)\n",
    "age = 35\n",
    "print(age)\n",
    "list_of_states_2 = [\"Kentucky\",\"New Jersey\"]\n",
    "print(list_of_states_2)"
   ]
  },
  {
   "cell_type": "markdown",
   "metadata": {},
   "source": [
    "## Practice 4 \n",
    "While longer names can be useful to make variable names meaningful, it is best practice to keep variable names relatively short whenever possible. Very long names can be hard to re-use because they take more time to key out and because the length makes it more likely that errors will occur when rekeying the name.\n",
    "\n",
    "Run the code in the following cell and then fix the problem so that the code will display the associated value correctly."
   ]
  },
  {
   "cell_type": "code",
   "execution_count": 13,
   "metadata": {},
   "outputs": [
    {
     "name": "stdout",
     "output_type": "stream",
     "text": [
      "5\n"
     ]
    }
   ],
   "source": [
    "thisisavalidvariablenamealthoughitisverylong=5\n",
    "print(thisisavalidvariablenamealthoughitisverylong)"
   ]
  },
  {
   "cell_type": "code",
   "execution_count": null,
   "metadata": {},
   "outputs": [],
   "source": []
  }
 ],
 "metadata": {
  "kernelspec": {
   "display_name": "Python 3",
   "language": "python",
   "name": "python3"
  },
  "language_info": {
   "codemirror_mode": {
    "name": "ipython",
    "version": 3
   },
   "file_extension": ".py",
   "mimetype": "text/x-python",
   "name": "python",
   "nbconvert_exporter": "python",
   "pygments_lexer": "ipython3",
   "version": "3.8.8"
  }
 },
 "nbformat": 4,
 "nbformat_minor": 2
}
