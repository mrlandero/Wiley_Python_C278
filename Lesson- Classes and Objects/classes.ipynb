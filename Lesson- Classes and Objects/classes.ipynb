{
 "cells": [
  {
   "cell_type": "markdown",
   "metadata": {},
   "source": [
    "## Concept 1: Classes\n",
    "When using an object-oriented approach to software development, we define classes to represent or describe real-world entities.<br>\n",
    "\n",
    "To define a class, we use the keyword **```class```** followed by the name of the class. Within the class, we define its attributes, which describe its state.<br>\n",
    "\n",
    "We also use specific naming conventions to make the code easier to read, especially when multiple developers are working on the same project.<br>\n",
    "\n",
    "* We use ***PascalCasing*** for class names that we create, where each word in the class name is capitalized (including the first word). For example: *ClassName*, *Person*, *Product*.\n",
    "* We use lowercase characters for attributes, with underscores to separate words as necessary.<br>\n",
    "\n",
    "Note that Python's built-in class names are lowercase."
   ]
  },
  {
   "cell_type": "markdown",
   "metadata": {},
   "source": [
    "### Example 1: \n",
    "In this example, we crate a class named **```Person```**, with attributes for **```first_name```** and **```last_name```**.<br>\n",
    "\n",
    "In a more complex program, we would likely include more attributes, such as birth date, phone number, or email address, depending on the needs of the program."
   ]
  },
  {
   "cell_type": "code",
   "execution_count": null,
   "metadata": {},
   "outputs": [],
   "source": [
    "class Person:\n",
    "    first_name = \"\" # first_name is the first attribute of the person class\n",
    "    last_name = \"\" # last_name is the second attribute of the person class\n",
    "    # We can have as many attributes as needed in a class"
   ]
  },
  {
   "cell_type": "markdown",
   "metadata": {},
   "source": [
    "### Practice 1:\n",
    "Create a class **```Animal```** that could represent any animal.<br>\n",
    "\n",
    "Include at least two attributes within the new class."
   ]
  },
  {
   "cell_type": "code",
   "execution_count": null,
   "metadata": {},
   "outputs": [],
   "source": [
    "class Animal:\n",
    "    sound_type = \"\" # What kind a sound do they make?\n",
    "    spine = \"\" # Are they vertebrates or invertabrates?\n",
    "    weight = \"\" # How much does the aminal weigh? "
   ]
  },
  {
   "cell_type": "markdown",
   "metadata": {},
   "source": [
    "## Concept 2: Objects\n",
    "We create classes to represent real-world entities as abstract concepts. We can then use the class to ***instantiate*** objects, which represent concrete realizations of the class."
   ]
  },
  {
   "cell_type": "markdown",
   "metadata": {},
   "source": [
    "### Example 2:\n",
    "In this example, we use the **```Person```** class to instantiate two people: one named Robert Johnson and the other named Mary Smith.<br>\n",
    "\n",
    "Object names should be lowercase, with underscores separating words as appropriate. \n",
    "\n",
    "```python\n",
    "class Person:\n",
    "    first_name = \"\" # first_name is the first attribute of the person class\n",
    "    last_name = \"\" # last_name is the second attribute of the person class\n",
    "    # We can have as many attributes as needed in a class\n",
    "```"
   ]
  },
  {
   "cell_type": "code",
   "execution_count": null,
   "metadata": {},
   "outputs": [],
   "source": [
    "person_1 = Person()\n",
    "person_1.first_name = \"Robert\"\n",
    "person_1.last_name = \"Johnson\"\n",
    "print(person_1.first_name + \" \" + person_1.last_name)\n",
    "\n",
    "print('**************')\n",
    "\n",
    "person_2 = Person()\n",
    "person_2.first_name = \"Mary\"\n",
    "person_2.last_name = \"Smith\"\n",
    "print(person_2.first_name + \" \" + person_2.last_name)"
   ]
  },
  {
   "cell_type": "markdown",
   "metadata": {},
   "source": [
    "### Practice 2:\n",
    "Using the **```Animal```** class from the previous exercise, create three objects that represent animals.<br>\n",
    "\n",
    "Print out all attributes for each animal.\n",
    "\n",
    "```python\n",
    "class Animal:\n",
    "    sound_type = \"\" # What kind a sound do they make?\n",
    "    spine = \"\" # Are they vertebrates or invertabrates?\n",
    "    weight = \"\" # How much does the aminal weigh? \n",
    "```"
   ]
  },
  {
   "cell_type": "code",
   "execution_count": null,
   "metadata": {},
   "outputs": [],
   "source": [
    "cat = Animal()\n",
    "cat.sound_type = \"Meow\"\n",
    "cat.spine = \"Vertabrate\"\n",
    "cat.weight = \"10 lbs\"\n",
    "print(f\"The sound this cat makes is {cat.sound_type}.\")\n",
    "print(f\"This cat is a {cat.spine}.\")\n",
    "print(f\"This cat weighs {cat.weight}.\")\n",
    "\n",
    "print('*****************')\n",
    "\n",
    "dog = Animal()\n",
    "dog.sound_type = \"Bark\"\n",
    "dog.spine = \"Vertebrate\"\n",
    "dog.weight = \"20 lbs\"\n",
    "print(f\"The sound this dog makes is {dog.sound_type}.\")\n",
    "print(f\"This dog is a {dog.spine}.\")\n",
    "print(f\"This dog weighs {dog.weight}.\")\n",
    "\n",
    "print('*****************')\n",
    "\n",
    "jellyfish = Animal()\n",
    "jellyfish.sound_type = \"None\"\n",
    "jellyfish.spine = \"Invertebrate\"\n",
    "jellyfish.weight = \"30 lbs\"\n",
    "print(f\"The sound this jellyfish makes is {jellyfish.sound_type}.\")\n",
    "print(f\"This jellyfish is an {jellyfish.spine}.\")\n",
    "print(f\"This jellyfish weighs {jellyfish.weight}.\")"
   ]
  },
  {
   "cell_type": "markdown",
   "metadata": {},
   "source": [
    "## Concept 3: Constructors\n",
    "A ***constructor*** is a special method within a class that can be called while creating an instance or an object to speed up the process of creating an object.<br>\n",
    "\n",
    "In Python, we use the **```__init__```** method as a constructor."
   ]
  },
  {
   "cell_type": "markdown",
   "metadata": {},
   "source": [
    "### Example 3:\n",
    "In this example, we define the same **```Person```** class, and then we define an **```__init__```** constructor that we can use to implement objects in that class later.<br>\n",
    "\n",
    "The **```__init__```** method here includes three arguments:<br>\n",
    "* **```self:```**  Refers to the current object\n",
    "* **```fname:```** An abbreviation for **```self.first_name```**\n",
    "* **```lname:```** An abbreviation for **```self.last_name```**<br>\n",
    "\n",
    "The use of **```self```** is important because classes do not execute methods. Instead, objects derived from a class execute methods associated with that class. In this example, **```self```** becomes the object that executes the methods associated with the **```Person```** class.<br>\n",
    "\n",
    "We can then implement an object using this format:<br>\n",
    "\n",
    "```python\n",
    "    object = Class(attribute_1, attribute_2)\n",
    "```\n",
    "\n",
    "In this example, the statement looks like this:<br>\n",
    "\n",
    "```python\n",
    "    person_1 = Class(\"Robert\", \"Johnson\")\n",
    "```"
   ]
  },
  {
   "cell_type": "code",
   "execution_count": null,
   "metadata": {},
   "outputs": [],
   "source": [
    "class Person:\n",
    "    first_name = \"\"\n",
    "    last_name = \"\"     \n",
    "    def __init__(self, fname, lname): # self refers to the current object\n",
    "        self.first_name = fname # assign input fname to first_name\n",
    "        self.last_name = lname # assign input lname to last_name\n",
    "\n",
    "# The next lines executes the __init__ method, which will\n",
    "# assing the input values to the attributes of the class\n",
    "person_1 = Person(\"Robert\", \"Johnson\")\n",
    "person_2 = Person(\"Mary\", \"Smith\")\n",
    "\n",
    "# We can access an attribute in an object using the syntax object_name.attribute_name\n",
    "print(\"Person 1 First Name: \" + person_1.first_name)\n",
    "print(\"Person 1 Last Name: \" + person_1.last_name)\n",
    "\n",
    "print('***************')\n",
    "\n",
    "print(\"Person 2 First Name: \" + person_2.first_name)\n",
    "print(\"Person 2 Last Name: \" + person_2.last_name)"
   ]
  },
  {
   "cell_type": "markdown",
   "metadata": {},
   "source": [
    "### Practice 3:\n",
    "Create an **```__init__```** method for the **```Animal```** class. Include at least three of the attributes, you originally defined in the new method.<br>\n",
    "\n",
    "```python\n",
    "class Animal:\n",
    "    sound_type = \"\" # What kind a sound do they make?\n",
    "    spine = \"\" # Are they vertebrates or invertabrates?\n",
    "    weight = \"\" # How much does the aminal weigh? \n",
    "```"
   ]
  },
  {
   "cell_type": "code",
   "execution_count": null,
   "metadata": {},
   "outputs": [],
   "source": [
    "class Animal:\n",
    "    sound_type = \"\"\n",
    "    spine = \"\"\n",
    "    weight = \"\"\n",
    "    def __init__(self,sound_type, spine, weight):\n",
    "        self.sound_type = sound_type\n",
    "        self.spine = spine\n",
    "        self.weight = weight\n",
    "\n",
    "cat = Animal(\"Meow\",\"Vertebrate\",\"15 lbs\")\n",
    "print(\"This cat makes the sound: \" + cat.sound_type)\n",
    "print(\"This cat is a \" + cat.spine + \".\")\n",
    "print(\"This cat weighs \" + cat.weight + \".\")\n",
    "\n",
    "print('*************')\n",
    "\n",
    "dog = Animal(\"Bark\", \"Vertebrate\", \"25 lbs\")\n",
    "print(\"This dog makes the sound: \" + dog.sound_type)\n",
    "print(\"This dog is a \" + dog.spine + \".\")\n",
    "print(\"This dog weighs \" + dog.weight + \".\")\n",
    "\n",
    "print('*************')\n",
    "\n",
    "jellyfish = Animal(\"None\", \"Invertebrate\", \"35 lbs\")\n",
    "print(\"This jellyfish makes the sound: \" + jellyfish.sound_type)\n",
    "print(\"This jellyfish is an \" + jellyfish.spine + \".\")\n",
    "print(\"This jellyfish weighs \" + jellyfish.weight + \".\")"
   ]
  },
  {
   "cell_type": "markdown",
   "metadata": {},
   "source": [
    "## Concept 4: Methods\n",
    "A ***method*** is a function defined within a class.<br>\n",
    "\n",
    "While attributes normally refer to properties associated with the class (like a person's name or the number of legs an animal has), methods normally describe what a class can do.<br>\n",
    "\n",
    "A class can have any number of methods."
   ]
  },
  {
   "cell_type": "markdown",
   "metadata": {},
   "source": [
    "### Example 4:\n",
    "In this example, we create a method named **```display_info```** that is designed to display the attributes associated with the **```Person```** class -- in this case, their first and last name -- with a user-friendly statement.<br>\n",
    "\n",
    "Now we can call this method for any object in the **```Person```** class to print the person's name."
   ]
  },
  {
   "cell_type": "code",
   "execution_count": null,
   "metadata": {},
   "outputs": [],
   "source": [
    "class Person:\n",
    "    first_name = \"\"\n",
    "    last_name = \"\"\n",
    "    def __init__(self,first_name,last_name):\n",
    "        self.first_name = first_name\n",
    "        self.last_name = last_name\n",
    "\n",
    "    # We define a method called display_info that we can execute from any object created from the person class\n",
    "    def display_info(self):\n",
    "        print(\"Person First Name: \" + self.first_name)\n",
    "        print(\"Person Last Name: \" + self.last_name)\n",
    "\n",
    "person_1 = Person(\"Robert\", \"Johnson\")\n",
    "person_1.display_info()\n",
    "\n",
    "print('**************')\n",
    "\n",
    "person_2 = Person(\"Mary\", \"Smith\")\n",
    "person_2.display_info()"
   ]
  },
  {
   "cell_type": "markdown",
   "metadata": {},
   "source": [
    "### Practice 4:\n",
    "Create a **```display_info```** method for the **```Animal```** class.<br>\n",
    "\n",
    "Create three objects from the **```Animal```** class and display each object using the **```display_info```** method.\n",
    "\n",
    "```python\n",
    "class Animal:\n",
    "    sound_type = \"\"\n",
    "    spine = \"\"\n",
    "    weight = \"\"\n",
    "```"
   ]
  },
  {
   "cell_type": "code",
   "execution_count": null,
   "metadata": {},
   "outputs": [],
   "source": [
    "class Animal:\n",
    "    sound_type = \"\"\n",
    "    spine = \"\"\n",
    "    weight = \"\"\n",
    "    def __init__(self,sound_type,spine,weight):\n",
    "        self.sound_type = sound_type\n",
    "        self.spine = spine\n",
    "        self.weight = weight\n",
    "\n",
    "    def display_info(self):\n",
    "        print(\"This animal makes the sound: \" + self.sound_type)\n",
    "        print(\"This animal is a/an \" + self.spine + \".\")\n",
    "        print(\"This animal weighs \" + self.weight + \".\")\n",
    "\n",
    "cat = Animal(\"Meow\", \"vertebrate\", \"26 lbs\")\n",
    "cat.display_info()\n",
    "\n",
    "print('***************')\n",
    "\n",
    "dog = Animal(\"Bark\", \"vertebrate\", \"36 lbs\")\n",
    "dog.display_info()\n",
    "\n",
    "print('***************')\n",
    "\n",
    "jellyfish = Animal(\"None\", \"invertebrate\", \"46 lbs\")\n",
    "jellyfish.display_info()"
   ]
  },
  {
   "cell_type": "markdown",
   "metadata": {},
   "source": [
    "## Concept 5: self\n",
    "In the previous concepts, we used **```self```** as a reference to the current instance (object) of the class, and we then used **```self```** to access variables that belong to the class.<br>\n",
    "\n",
    "The reference does not have to be named **```self```**, but whatever name we use for this role must be included as the first parameter of any method in the class. If we fail to include it as a reference for methods on that class, we get an error."
   ]
  },
  {
   "cell_type": "markdown",
   "metadata": {},
   "source": [
    "### Example 5:\n",
    "In this example, we again create the **```Person```** class with a constructor for its attributes and a method to print its attributes.<br>\n",
    "\n",
    "When we execute the **```display_info```** method, however, we do not include **```self```** as an argument, and the code fails."
   ]
  },
  {
   "cell_type": "code",
   "execution_count": null,
   "metadata": {},
   "outputs": [],
   "source": [
    "class Person:\n",
    "    first_name = \"\"\n",
    "    last_name = \"\"\n",
    "    # self refers to the current object executing the __init__\n",
    "    # It must be the first parameter in every method\n",
    "    def __init__(self,first_name,last_name):\n",
    "        self.first_name = first_name\n",
    "        self.last_name = last_name\n",
    "\n",
    "    # THIS WILL THROW AN ERROR because we didn't provide self as a parameter\n",
    "    # If we want to fix the code, add self as an input parameter to the display_info method\n",
    "    def display_info():\n",
    "        print(\"Person First Name: \" + self.first_name)\n",
    "        print(\"Person Last Name: \" + self.last_name)\n",
    "\n",
    "person_1 = Person(\"Robert\", \"Johnson\")\n",
    "person_1.display_info()\n",
    "\n",
    "print('*************')\n",
    "\n",
    "person_2 = Person(\"Mary\", \"Smith\")\n",
    "person_2.display_info()"
   ]
  },
  {
   "cell_type": "code",
   "execution_count": null,
   "metadata": {},
   "outputs": [],
   "source": [
    "# Fixed: With self as the display_info input parameter\n",
    "class Person:\n",
    "    first_name = \"\"\n",
    "    last_name = \"\"\n",
    "    # self refers to the current object executing the __init__\n",
    "    # It must be the first parameter in every method\n",
    "    def __init__(self,first_name,last_name):\n",
    "        self.first_name = first_name\n",
    "        self.last_name = last_name\n",
    "\n",
    "    # THIS WILL THROW AN ERROR because we didn't provide self as a parameter\n",
    "    # If we want to fix the code, add self as an input parameter to the display_info method\n",
    "    def display_info(self):\n",
    "        print(\"Person First Name: \" + self.first_name)\n",
    "        print(\"Person Last Name: \" + self.last_name)\n",
    "\n",
    "person_1 = Person(\"Robert\", \"Johnson\")\n",
    "person_1.display_info()\n",
    "\n",
    "print('*************')\n",
    "\n",
    "person_2 = Person(\"Mary\", \"Smith\")\n",
    "person_2.display_info()"
   ]
  },
  {
   "cell_type": "markdown",
   "metadata": {},
   "source": [
    "### Practice 5a:\n",
    "The following code includes multiple errors. Find the errors and update the code as necessary. Do not change any of the existing code above line 9.<br>\n",
    "\n",
    "The final output should read: **```Harry Potter and the Sorcerer's Stone by J.K. Rowling, published in 1997.```**"
   ]
  },
  {
   "cell_type": "code",
   "execution_count": null,
   "metadata": {},
   "outputs": [],
   "source": [
    "class Book:\n",
    "    title = \"\"\n",
    "    author = \"\"\n",
    "    pub_date = \"\"\n",
    "    def __init__(book,ti,au,da):\n",
    "        book.title = ti\n",
    "        book.author = au\n",
    "        book.pub_date = da\n",
    "\n",
    "    # Change only the code below this line\n",
    "    # def book_details(self):\n",
    "    #     print(title + \" by \" + author + \", published in \" + pub_date)\n",
    "    def book_details(book):\n",
    "        print(book.title + \" by \" + book.author + \", published in \" + book.pub_date)\n",
    "\n",
    "book_1 = Book(\"Harry Potter and the Sorcerer's Stone\", \"J.K. Rowling\", \"1997\")\n",
    "book_1.book_details()"
   ]
  },
  {
   "cell_type": "markdown",
   "metadata": {},
   "source": [
    "### Practice 5b:\n",
    "Create an execute another meaningful method for the **```Animal```** class. Make sure to pass the **```self```** object when executing the method.<br>\n",
    "\n",
    "```python\n",
    "class Animal:\n",
    "    sound_type = \"\"\n",
    "    spine = \"\"\n",
    "    weight = \"\"\n",
    "```"
   ]
  },
  {
   "cell_type": "code",
   "execution_count": null,
   "metadata": {},
   "outputs": [],
   "source": [
    "class Animal:\n",
    "    sound_type = \"\"\n",
    "    spine = \"\"\n",
    "    weight = \"\"\n",
    "    limbs = \"\"\n",
    "    def __init__(self,sound_type,spine,weight,limbs):\n",
    "        self.sound_type = sound_type\n",
    "        self.spine = spine\n",
    "        self.weight = weight\n",
    "        self.limbs = limbs\n",
    "    def display_info(self):\n",
    "        print(\"This animal makes the following sound: \" + self.sound_type)\n",
    "        print(\"This animal is a/an \" + self.spine + \".\")\n",
    "        print(\"This animal weighs \" + self.weight + \".\")\n",
    "        print(\"This animal has \" + self.limbs + \".\")\n",
    "    def movement(self):\n",
    "        print(\"This animal moves with its \" + self.limbs)\n",
    "    def makes_sound(self):\n",
    "        print(\"The sound that this animal makes is a: \" + self.sound_type)\n",
    "\n",
    "cat = Animal(\"Meow\", \"vertebrate\", \"9 lbs\", \"4 legs\")\n",
    "cat.display_info()\n",
    "cat.movement()\n",
    "cat.makes_sound()\n",
    "\n",
    "print('****************')\n",
    "\n",
    "dog = Animal(\"Bark\", \"vertebrate\", \"19 lbs\", \"4 legs\")\n",
    "dog.display_info()\n",
    "dog.movement()\n",
    "dog.makes_sound()\n",
    "\n",
    "print('****************')\n",
    "\n",
    "jellyfish = Animal(\"None\", \"invertebrate\", \"29 lbs\", \"8 tentacles\")\n",
    "jellyfish.display_info()\n",
    "jellyfish.movement()\n",
    "jellyfish.makes_sound()"
   ]
  },
  {
   "cell_type": "markdown",
   "metadata": {},
   "source": [
    "## Concept 6: Combining Classes\n",
    "We can create several classes in the same application, which in turn allows us to create more complex entities.<br>\n",
    "\n",
    "In the example above, we created a **```Person```** object and defined a first and last name for that person. In addition to names, we often associate addresses with people, but a person's address is more likely to change over time than their name. To manage this, we can create a separate **```Address```** class and associate it with an existing **```Person```** class to create a more robust entity. "
   ]
  },
  {
   "cell_type": "markdown",
   "metadata": {},
   "source": [
    "### Example 6:\n",
    "In the following example, we create an **```Address```** class that includes variables ofr details of an address. We then use the **```Address```** class as an attribute in a separate **```Person```** class.<br>\n",
    "\n",
    "This process effectively associates a person with an address, but in a way that makes it easier to update a person's address without having to update other attributes about the person.<br>\n",
    "\n",
    "We also create a new **```Account```** class that includes the **```Person```** class as an attribute; this associates a specific **```Person```** with a specific **```Account```**."
   ]
  },
  {
   "cell_type": "code",
   "execution_count": 1,
   "metadata": {},
   "outputs": [
    {
     "name": "stdout",
     "output_type": "stream",
     "text": [
      "123 Main Street Asbury Park, NJ 07712\n",
      "********************\n",
      "Haythem Balti\n",
      "123 Main Street Asbury Park, NJ 07712\n",
      "********************\n",
      "Account Number: C1566X56576\n",
      "Account Holder Information:\n",
      "Haythem Balti\n",
      "123 Main Street Asbury Park, NJ 07712\n"
     ]
    }
   ],
   "source": [
    "class Address:\n",
    "    number = None\n",
    "    street = None\n",
    "    city = None\n",
    "    state = None\n",
    "    zipcode = None\n",
    "    def __init__(self,number,street,city,state,zipcode):\n",
    "        self.number = number\n",
    "        self.street = street\n",
    "        self.city = city\n",
    "        self.state = state\n",
    "        self.zipcode = zipcode\n",
    "    \n",
    "    def display(self):\n",
    "        print(str(self.number) + \" \" + self.street + \" \" + self.city + \", \" + self.state + \" \" + self.zipcode)\n",
    "\n",
    "class Person:\n",
    "    first_name = None\n",
    "    last_name = None\n",
    "    address = None # address will hold the address information about a person\n",
    "    def __init__(self,first_name,last_name,address):\n",
    "        self.first_name = first_name\n",
    "        self.last_name = last_name\n",
    "        self.address = address\n",
    "    \n",
    "    def display(self):\n",
    "        print(self.first_name + \" \" + self.last_name)\n",
    "        self.address.display()\n",
    "\n",
    "class Account:\n",
    "    ain = None # account identification number: unique ID\n",
    "    person = None # person will hold the information about the person on the account\n",
    "    def __init__(self,ain,person):\n",
    "        self.ain = ain\n",
    "        self.person = person\n",
    "    \n",
    "    def display(self):\n",
    "        print(\"Account Number: \" + str(self.ain))\n",
    "        print(\"Account Holder Information:\")\n",
    "        self.person.display()\n",
    "\n",
    "address_1 = Address(123,\"Main Street\", \"Asbury Park\", \"NJ\", \"07712\")\n",
    "address_1.display()\n",
    "\n",
    "print('********************')\n",
    "\n",
    "person_1 = Person(\"Haythem\",\"Balti\",address_1)\n",
    "person_1.display()\n",
    "\n",
    "print('********************')\n",
    "\n",
    "account_1 = Account(\"C1566X56576\", person_1)\n",
    "account_1.display()"
   ]
  },
  {
   "cell_type": "markdown",
   "metadata": {},
   "source": [
    "### Practice 6:\n",
    "Revise the following code so that the **```Person```** class includes a list of addresses rather than a single address."
   ]
  },
  {
   "cell_type": "code",
   "execution_count": 8,
   "metadata": {},
   "outputs": [
    {
     "name": "stdout",
     "output_type": "stream",
     "text": [
      "Haythem Balti\n",
      "[<__main__.Address object at 0x000001EFB2ADD960>, <__main__.Address object at 0x000001EFB2ADE230>]\n",
      "[<__main__.Address object at 0x000001EFB2ADD960>, <__main__.Address object at 0x000001EFB2ADE230>]\n"
     ]
    }
   ],
   "source": [
    "class Address:\n",
    "    number = None\n",
    "    street = None\n",
    "    city = None\n",
    "    state = None\n",
    "    zipcode = None\n",
    "    def __init__(self,number,street,city,state,zipcode):\n",
    "        self.number = number\n",
    "        self.street = street\n",
    "        self.city = city\n",
    "        self.state = state\n",
    "        self.zipcode = zipcode\n",
    "    def display(self):\n",
    "        print(self.number + \" \" + self.street + \" \" + self.city + \", \" + self.state + \" \" + self.zipcode)\n",
    "\n",
    "class Person:\n",
    "    first_name = None\n",
    "    last_name = None\n",
    "    addresses = list() # addresses will hold a list of addresses that belong to a person\n",
    "    def __init__(self,first_name,last_name,address):\n",
    "        self.first_name = first_name\n",
    "        self.last_name = last_name\n",
    "        self.address = address\n",
    "    def display(self):\n",
    "        # Implement the display method to display first name and laat name\n",
    "        # Then iterate through addresses and display each address in one line\n",
    "        print(self.first_name + \" \" + self.last_name)\n",
    "        for adr in addresses:\n",
    "            print(addresses)\n",
    "\n",
    "    def add_address(self,address):\n",
    "        self.addresses.append(address)\n",
    "\n",
    "\n",
    "addresses = list()\n",
    "address_1 = Address(\"123\", \"Main Street\", \"Asbury Park\", \"NJ\", \"07712\")\n",
    "address_2 = Address(\"12\", \"Rue Simon Boulevard\", \"Paris\", \"France\", \"75019\")\n",
    "addresses.append(address_1)\n",
    "addresses.append(address_2)\n",
    "\n",
    "\n",
    "person_1 = Person(\"Haythem\",\"Balti\",addresses)\n",
    "address_3 = Address(\"46\", \"Fourth Street\", \"Louisville\", \"KY\", \"40208\")\n",
    "person_1.add_address(address_3)\n",
    "person_1.display()"
   ]
  },
  {
   "cell_type": "code",
   "execution_count": null,
   "metadata": {},
   "outputs": [],
   "source": []
  }
 ],
 "metadata": {
  "kernelspec": {
   "display_name": "Python 3.10.2 64-bit",
   "language": "python",
   "name": "python3"
  },
  "language_info": {
   "codemirror_mode": {
    "name": "ipython",
    "version": 3
   },
   "file_extension": ".py",
   "mimetype": "text/x-python",
   "name": "python",
   "nbconvert_exporter": "python",
   "pygments_lexer": "ipython3",
   "version": "3.10.2"
  },
  "orig_nbformat": 4,
  "vscode": {
   "interpreter": {
    "hash": "369f2c481f4da34e4445cda3fffd2e751bd1c4d706f27375911949ba6bb62e1c"
   }
  }
 },
 "nbformat": 4,
 "nbformat_minor": 2
}
