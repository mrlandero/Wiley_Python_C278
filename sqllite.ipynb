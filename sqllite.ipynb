{
 "cells": [
  {
   "cell_type": "code",
   "execution_count": 1,
   "metadata": {},
   "outputs": [],
   "source": [
    "import sqlite3"
   ]
  },
  {
   "cell_type": "code",
   "execution_count": 2,
   "metadata": {},
   "outputs": [],
   "source": [
    "conn = sqlite3.connect(\"sqlite-sakila.db\")"
   ]
  },
  {
   "cell_type": "code",
   "execution_count": 3,
   "metadata": {},
   "outputs": [],
   "source": [
    "cur = conn.cursor()"
   ]
  },
  {
   "cell_type": "code",
   "execution_count": 4,
   "metadata": {},
   "outputs": [
    {
     "data": {
      "text/plain": [
       "<sqlite3.Cursor at 0x136f25fdd40>"
      ]
     },
     "execution_count": 4,
     "metadata": {},
     "output_type": "execute_result"
    }
   ],
   "source": [
    "cur.execute(\"select * from actor\")"
   ]
  },
  {
   "cell_type": "code",
   "execution_count": 5,
   "metadata": {},
   "outputs": [],
   "source": [
    "rows = cur.fetchall()"
   ]
  },
  {
   "cell_type": "code",
   "execution_count": 6,
   "metadata": {},
   "outputs": [
    {
     "name": "stdout",
     "output_type": "stream",
     "text": [
      "(1, 'PENELOPE', 'GUINESS', '2021-03-06 15:51:59')\n",
      "(2, 'NICK', 'WAHLBERG', '2021-03-06 15:51:59')\n",
      "(3, 'ED', 'CHASE', '2021-03-06 15:51:59')\n",
      "(4, 'JENNIFER', 'DAVIS', '2021-03-06 15:51:59')\n",
      "(5, 'JOHNNY', 'LOLLOBRIGIDA', '2021-03-06 15:51:59')\n",
      "(6, 'BETTE', 'NICHOLSON', '2021-03-06 15:51:59')\n",
      "(7, 'GRACE', 'MOSTEL', '2021-03-06 15:51:59')\n",
      "(8, 'MATTHEW', 'JOHANSSON', '2021-03-06 15:51:59')\n",
      "(9, 'JOE', 'SWANK', '2021-03-06 15:51:59')\n",
      "(10, 'CHRISTIAN', 'GABLE', '2021-03-06 15:51:59')\n",
      "(11, 'ZERO', 'CAGE', '2021-03-06 15:51:59')\n",
      "(12, 'KARL', 'BERRY', '2021-03-06 15:51:59')\n",
      "(13, 'UMA', 'WOOD', '2021-03-06 15:51:59')\n",
      "(14, 'VIVIEN', 'BERGEN', '2021-03-06 15:51:59')\n",
      "(15, 'CUBA', 'OLIVIER', '2021-03-06 15:51:59')\n",
      "(16, 'FRED', 'COSTNER', '2021-03-06 15:51:59')\n",
      "(17, 'HELEN', 'VOIGHT', '2021-03-06 15:51:59')\n",
      "(18, 'DAN', 'TORN', '2021-03-06 15:51:59')\n",
      "(19, 'BOB', 'FAWCETT', '2021-03-06 15:51:59')\n",
      "(20, 'LUCILLE', 'TRACY', '2021-03-06 15:51:59')\n",
      "(21, 'KIRSTEN', 'PALTROW', '2021-03-06 15:51:59')\n",
      "(22, 'ELVIS', 'MARX', '2021-03-06 15:51:59')\n",
      "(23, 'SANDRA', 'KILMER', '2021-03-06 15:51:59')\n",
      "(24, 'CAMERON', 'STREEP', '2021-03-06 15:51:59')\n",
      "(25, 'KEVIN', 'BLOOM', '2021-03-06 15:51:59')\n",
      "(26, 'RIP', 'CRAWFORD', '2021-03-06 15:51:59')\n",
      "(27, 'JULIA', 'MCQUEEN', '2021-03-06 15:51:59')\n",
      "(28, 'WOODY', 'HOFFMAN', '2021-03-06 15:51:59')\n",
      "(29, 'ALEC', 'WAYNE', '2021-03-06 15:51:59')\n",
      "(30, 'SANDRA', 'PECK', '2021-03-06 15:51:59')\n",
      "(31, 'SISSY', 'SOBIESKI', '2021-03-06 15:51:59')\n",
      "(32, 'TIM', 'HACKMAN', '2021-03-06 15:51:59')\n",
      "(33, 'MILLA', 'PECK', '2021-03-06 15:51:59')\n",
      "(34, 'AUDREY', 'OLIVIER', '2021-03-06 15:51:59')\n",
      "(35, 'JUDY', 'DEAN', '2021-03-06 15:51:59')\n",
      "(36, 'BURT', 'DUKAKIS', '2021-03-06 15:51:59')\n",
      "(37, 'VAL', 'BOLGER', '2021-03-06 15:51:59')\n",
      "(38, 'TOM', 'MCKELLEN', '2021-03-06 15:51:59')\n",
      "(39, 'GOLDIE', 'BRODY', '2021-03-06 15:51:59')\n",
      "(40, 'JOHNNY', 'CAGE', '2021-03-06 15:51:59')\n",
      "(41, 'JODIE', 'DEGENERES', '2021-03-06 15:51:59')\n",
      "(42, 'TOM', 'MIRANDA', '2021-03-06 15:51:59')\n",
      "(43, 'KIRK', 'JOVOVICH', '2021-03-06 15:51:59')\n",
      "(44, 'NICK', 'STALLONE', '2021-03-06 15:51:59')\n",
      "(45, 'REESE', 'KILMER', '2021-03-06 15:51:59')\n",
      "(46, 'PARKER', 'GOLDBERG', '2021-03-06 15:51:59')\n",
      "(47, 'JULIA', 'BARRYMORE', '2021-03-06 15:51:59')\n",
      "(48, 'FRANCES', 'DAY-LEWIS', '2021-03-06 15:51:59')\n",
      "(49, 'ANNE', 'CRONYN', '2021-03-06 15:51:59')\n",
      "(50, 'NATALIE', 'HOPKINS', '2021-03-06 15:51:59')\n",
      "(51, 'GARY', 'PHOENIX', '2021-03-06 15:51:59')\n",
      "(52, 'CARMEN', 'HUNT', '2021-03-06 15:51:59')\n",
      "(53, 'MENA', 'TEMPLE', '2021-03-06 15:51:59')\n",
      "(54, 'PENELOPE', 'PINKETT', '2021-03-06 15:51:59')\n",
      "(55, 'FAY', 'KILMER', '2021-03-06 15:51:59')\n",
      "(56, 'DAN', 'HARRIS', '2021-03-06 15:51:59')\n",
      "(57, 'JUDE', 'CRUISE', '2021-03-06 15:51:59')\n",
      "(58, 'CHRISTIAN', 'AKROYD', '2021-03-06 15:51:59')\n",
      "(59, 'DUSTIN', 'TAUTOU', '2021-03-06 15:51:59')\n",
      "(60, 'HENRY', 'BERRY', '2021-03-06 15:51:59')\n",
      "(61, 'CHRISTIAN', 'NEESON', '2021-03-06 15:51:59')\n",
      "(62, 'JAYNE', 'NEESON', '2021-03-06 15:51:59')\n",
      "(63, 'CAMERON', 'WRAY', '2021-03-06 15:51:59')\n",
      "(64, 'RAY', 'JOHANSSON', '2021-03-06 15:51:59')\n",
      "(65, 'ANGELA', 'HUDSON', '2021-03-06 15:51:59')\n",
      "(66, 'MARY', 'TANDY', '2021-03-06 15:51:59')\n",
      "(67, 'JESSICA', 'BAILEY', '2021-03-06 15:51:59')\n",
      "(68, 'RIP', 'WINSLET', '2021-03-06 15:51:59')\n",
      "(69, 'KENNETH', 'PALTROW', '2021-03-06 15:51:59')\n",
      "(70, 'MICHELLE', 'MCCONAUGHEY', '2021-03-06 15:51:59')\n",
      "(71, 'ADAM', 'GRANT', '2021-03-06 15:51:59')\n",
      "(72, 'SEAN', 'WILLIAMS', '2021-03-06 15:51:59')\n",
      "(73, 'GARY', 'PENN', '2021-03-06 15:51:59')\n",
      "(74, 'MILLA', 'KEITEL', '2021-03-06 15:51:59')\n",
      "(75, 'BURT', 'POSEY', '2021-03-06 15:51:59')\n",
      "(76, 'ANGELINA', 'ASTAIRE', '2021-03-06 15:51:59')\n",
      "(77, 'CARY', 'MCCONAUGHEY', '2021-03-06 15:51:59')\n",
      "(78, 'GROUCHO', 'SINATRA', '2021-03-06 15:51:59')\n",
      "(79, 'MAE', 'HOFFMAN', '2021-03-06 15:51:59')\n",
      "(80, 'RALPH', 'CRUZ', '2021-03-06 15:51:59')\n",
      "(81, 'SCARLETT', 'DAMON', '2021-03-06 15:51:59')\n",
      "(82, 'WOODY', 'JOLIE', '2021-03-06 15:51:59')\n",
      "(83, 'BEN', 'WILLIS', '2021-03-06 15:51:59')\n",
      "(84, 'JAMES', 'PITT', '2021-03-06 15:51:59')\n",
      "(85, 'MINNIE', 'ZELLWEGER', '2021-03-06 15:51:59')\n",
      "(86, 'GREG', 'CHAPLIN', '2021-03-06 15:51:59')\n",
      "(87, 'SPENCER', 'PECK', '2021-03-06 15:51:59')\n",
      "(88, 'KENNETH', 'PESCI', '2021-03-06 15:51:59')\n",
      "(89, 'CHARLIZE', 'DENCH', '2021-03-06 15:51:59')\n",
      "(90, 'SEAN', 'GUINESS', '2021-03-06 15:51:59')\n",
      "(91, 'CHRISTOPHER', 'BERRY', '2021-03-06 15:51:59')\n",
      "(92, 'KIRSTEN', 'AKROYD', '2021-03-06 15:51:59')\n",
      "(93, 'ELLEN', 'PRESLEY', '2021-03-06 15:51:59')\n",
      "(94, 'KENNETH', 'TORN', '2021-03-06 15:51:59')\n",
      "(95, 'DARYL', 'WAHLBERG', '2021-03-06 15:51:59')\n",
      "(96, 'GENE', 'WILLIS', '2021-03-06 15:51:59')\n",
      "(97, 'MEG', 'HAWKE', '2021-03-06 15:51:59')\n",
      "(98, 'CHRIS', 'BRIDGES', '2021-03-06 15:51:59')\n",
      "(99, 'JIM', 'MOSTEL', '2021-03-06 15:51:59')\n",
      "(100, 'SPENCER', 'DEPP', '2021-03-06 15:51:59')\n",
      "(101, 'SUSAN', 'DAVIS', '2021-03-06 15:51:59')\n",
      "(102, 'WALTER', 'TORN', '2021-03-06 15:51:59')\n",
      "(103, 'MATTHEW', 'LEIGH', '2021-03-06 15:51:59')\n",
      "(104, 'PENELOPE', 'CRONYN', '2021-03-06 15:51:59')\n",
      "(105, 'SIDNEY', 'CROWE', '2021-03-06 15:51:59')\n",
      "(106, 'GROUCHO', 'DUNST', '2021-03-06 15:51:59')\n",
      "(107, 'GINA', 'DEGENERES', '2021-03-06 15:51:59')\n",
      "(108, 'WARREN', 'NOLTE', '2021-03-06 15:51:59')\n",
      "(109, 'SYLVESTER', 'DERN', '2021-03-06 15:51:59')\n",
      "(110, 'SUSAN', 'DAVIS', '2021-03-06 15:51:59')\n",
      "(111, 'CAMERON', 'ZELLWEGER', '2021-03-06 15:51:59')\n",
      "(112, 'RUSSELL', 'BACALL', '2021-03-06 15:51:59')\n",
      "(113, 'MORGAN', 'HOPKINS', '2021-03-06 15:51:59')\n",
      "(114, 'MORGAN', 'MCDORMAND', '2021-03-06 15:51:59')\n",
      "(115, 'HARRISON', 'BALE', '2021-03-06 15:51:59')\n",
      "(116, 'DAN', 'STREEP', '2021-03-06 15:51:59')\n",
      "(117, 'RENEE', 'TRACY', '2021-03-06 15:51:59')\n",
      "(118, 'CUBA', 'ALLEN', '2021-03-06 15:51:59')\n",
      "(119, 'WARREN', 'JACKMAN', '2021-03-06 15:51:59')\n",
      "(120, 'PENELOPE', 'MONROE', '2021-03-06 15:51:59')\n",
      "(121, 'LIZA', 'BERGMAN', '2021-03-06 15:51:59')\n",
      "(122, 'SALMA', 'NOLTE', '2021-03-06 15:51:59')\n",
      "(123, 'JULIANNE', 'DENCH', '2021-03-06 15:51:59')\n",
      "(124, 'SCARLETT', 'BENING', '2021-03-06 15:52:00')\n",
      "(125, 'ALBERT', 'NOLTE', '2021-03-06 15:52:00')\n",
      "(126, 'FRANCES', 'TOMEI', '2021-03-06 15:52:00')\n",
      "(127, 'KEVIN', 'GARLAND', '2021-03-06 15:52:00')\n",
      "(128, 'CATE', 'MCQUEEN', '2021-03-06 15:52:00')\n",
      "(129, 'DARYL', 'CRAWFORD', '2021-03-06 15:52:00')\n",
      "(130, 'GRETA', 'KEITEL', '2021-03-06 15:52:00')\n",
      "(131, 'JANE', 'JACKMAN', '2021-03-06 15:52:00')\n",
      "(132, 'ADAM', 'HOPPER', '2021-03-06 15:52:00')\n",
      "(133, 'RICHARD', 'PENN', '2021-03-06 15:52:00')\n",
      "(134, 'GENE', 'HOPKINS', '2021-03-06 15:52:00')\n",
      "(135, 'RITA', 'REYNOLDS', '2021-03-06 15:52:00')\n",
      "(136, 'ED', 'MANSFIELD', '2021-03-06 15:52:00')\n",
      "(137, 'MORGAN', 'WILLIAMS', '2021-03-06 15:52:00')\n",
      "(138, 'LUCILLE', 'DEE', '2021-03-06 15:52:00')\n",
      "(139, 'EWAN', 'GOODING', '2021-03-06 15:52:00')\n",
      "(140, 'WHOOPI', 'HURT', '2021-03-06 15:52:00')\n",
      "(141, 'CATE', 'HARRIS', '2021-03-06 15:52:00')\n",
      "(142, 'JADA', 'RYDER', '2021-03-06 15:52:00')\n",
      "(143, 'RIVER', 'DEAN', '2021-03-06 15:52:00')\n",
      "(144, 'ANGELA', 'WITHERSPOON', '2021-03-06 15:52:00')\n",
      "(145, 'KIM', 'ALLEN', '2021-03-06 15:52:00')\n",
      "(146, 'ALBERT', 'JOHANSSON', '2021-03-06 15:52:00')\n",
      "(147, 'FAY', 'WINSLET', '2021-03-06 15:52:00')\n",
      "(148, 'EMILY', 'DEE', '2021-03-06 15:52:00')\n",
      "(149, 'RUSSELL', 'TEMPLE', '2021-03-06 15:52:00')\n",
      "(150, 'JAYNE', 'NOLTE', '2021-03-06 15:52:00')\n",
      "(151, 'GEOFFREY', 'HESTON', '2021-03-06 15:52:00')\n",
      "(152, 'BEN', 'HARRIS', '2021-03-06 15:52:00')\n",
      "(153, 'MINNIE', 'KILMER', '2021-03-06 15:52:00')\n",
      "(154, 'MERYL', 'GIBSON', '2021-03-06 15:52:00')\n",
      "(155, 'IAN', 'TANDY', '2021-03-06 15:52:00')\n",
      "(156, 'FAY', 'WOOD', '2021-03-06 15:52:00')\n",
      "(157, 'GRETA', 'MALDEN', '2021-03-06 15:52:00')\n",
      "(158, 'VIVIEN', 'BASINGER', '2021-03-06 15:52:00')\n",
      "(159, 'LAURA', 'BRODY', '2021-03-06 15:52:00')\n",
      "(160, 'CHRIS', 'DEPP', '2021-03-06 15:52:00')\n",
      "(161, 'HARVEY', 'HOPE', '2021-03-06 15:52:00')\n",
      "(162, 'OPRAH', 'KILMER', '2021-03-06 15:52:00')\n",
      "(163, 'CHRISTOPHER', 'WEST', '2021-03-06 15:52:00')\n",
      "(164, 'HUMPHREY', 'WILLIS', '2021-03-06 15:52:00')\n",
      "(165, 'AL', 'GARLAND', '2021-03-06 15:52:00')\n",
      "(166, 'NICK', 'DEGENERES', '2021-03-06 15:52:00')\n",
      "(167, 'LAURENCE', 'BULLOCK', '2021-03-06 15:52:00')\n",
      "(168, 'WILL', 'WILSON', '2021-03-06 15:52:00')\n",
      "(169, 'KENNETH', 'HOFFMAN', '2021-03-06 15:52:00')\n",
      "(170, 'MENA', 'HOPPER', '2021-03-06 15:52:00')\n",
      "(171, 'OLYMPIA', 'PFEIFFER', '2021-03-06 15:52:00')\n",
      "(172, 'GROUCHO', 'WILLIAMS', '2021-03-06 15:52:00')\n",
      "(173, 'ALAN', 'DREYFUSS', '2021-03-06 15:52:00')\n",
      "(174, 'MICHAEL', 'BENING', '2021-03-06 15:52:00')\n",
      "(175, 'WILLIAM', 'HACKMAN', '2021-03-06 15:52:00')\n",
      "(176, 'JON', 'CHASE', '2021-03-06 15:52:00')\n",
      "(177, 'GENE', 'MCKELLEN', '2021-03-06 15:52:00')\n",
      "(178, 'LISA', 'MONROE', '2021-03-06 15:52:00')\n",
      "(179, 'ED', 'GUINESS', '2021-03-06 15:52:00')\n",
      "(180, 'JEFF', 'SILVERSTONE', '2021-03-06 15:52:00')\n",
      "(181, 'MATTHEW', 'CARREY', '2021-03-06 15:52:00')\n",
      "(182, 'DEBBIE', 'AKROYD', '2021-03-06 15:52:00')\n",
      "(183, 'RUSSELL', 'CLOSE', '2021-03-06 15:52:00')\n",
      "(184, 'HUMPHREY', 'GARLAND', '2021-03-06 15:52:00')\n",
      "(185, 'MICHAEL', 'BOLGER', '2021-03-06 15:52:00')\n",
      "(186, 'JULIA', 'ZELLWEGER', '2021-03-06 15:52:00')\n",
      "(187, 'RENEE', 'BALL', '2021-03-06 15:52:00')\n",
      "(188, 'ROCK', 'DUKAKIS', '2021-03-06 15:52:00')\n",
      "(189, 'CUBA', 'BIRCH', '2021-03-06 15:52:00')\n",
      "(190, 'AUDREY', 'BAILEY', '2021-03-06 15:52:00')\n",
      "(191, 'GREGORY', 'GOODING', '2021-03-06 15:52:00')\n",
      "(192, 'JOHN', 'SUVARI', '2021-03-06 15:52:00')\n",
      "(193, 'BURT', 'TEMPLE', '2021-03-06 15:52:00')\n",
      "(194, 'MERYL', 'ALLEN', '2021-03-06 15:52:00')\n",
      "(195, 'JAYNE', 'SILVERSTONE', '2021-03-06 15:52:00')\n",
      "(196, 'BELA', 'WALKEN', '2021-03-06 15:52:00')\n",
      "(197, 'REESE', 'WEST', '2021-03-06 15:52:00')\n",
      "(198, 'MARY', 'KEITEL', '2021-03-06 15:52:00')\n",
      "(199, 'JULIA', 'FAWCETT', '2021-03-06 15:52:00')\n",
      "(200, 'THORA', 'TEMPLE', '2021-03-06 15:52:00')\n"
     ]
    }
   ],
   "source": [
    "for r in rows:\n",
    "    print(r)"
   ]
  },
  {
   "cell_type": "code",
   "execution_count": 7,
   "metadata": {},
   "outputs": [],
   "source": [
    "import pandas as pd"
   ]
  },
  {
   "cell_type": "code",
   "execution_count": 8,
   "metadata": {},
   "outputs": [],
   "source": [
    "import numpy"
   ]
  },
  {
   "cell_type": "code",
   "execution_count": 9,
   "metadata": {},
   "outputs": [],
   "source": [
    "df = pd.DataFrame({'numbers': [1,2,3]})"
   ]
  },
  {
   "cell_type": "code",
   "execution_count": 10,
   "metadata": {},
   "outputs": [
    {
     "name": "stdout",
     "output_type": "stream",
     "text": [
      "   numbers\n",
      "0        1\n",
      "1        2\n",
      "2        3\n"
     ]
    }
   ],
   "source": [
    "print(df)"
   ]
  },
  {
   "cell_type": "code",
   "execution_count": null,
   "metadata": {},
   "outputs": [],
   "source": []
  }
 ],
 "metadata": {
  "interpreter": {
   "hash": "2be5faf79681da6f2a61fdfdd5405d65d042280f7fba6178067603e3a2925119"
  },
  "kernelspec": {
   "display_name": "Python 3.10.2 64-bit",
   "language": "python",
   "name": "python3"
  },
  "language_info": {
   "codemirror_mode": {
    "name": "ipython",
    "version": 3
   },
   "file_extension": ".py",
   "mimetype": "text/x-python",
   "name": "python",
   "nbconvert_exporter": "python",
   "pygments_lexer": "ipython3",
   "version": "3.10.2"
  },
  "orig_nbformat": 4
 },
 "nbformat": 4,
 "nbformat_minor": 2
}
