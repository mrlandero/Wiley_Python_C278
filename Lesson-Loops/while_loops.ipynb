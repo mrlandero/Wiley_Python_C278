{
 "cells": [
  {
   "cell_type": "markdown",
   "metadata": {},
   "source": [
    "## Concept 1: While Loops\n",
    "The basic syntax for a **```while```** loop is:<br>\n",
    "\n",
    "**```while (condition == True):```**<br>\n",
    "&nbsp;&nbsp;&nbsp;&nbsp;&nbsp;&nbsp;&nbsp;&nbsp;**```set of instructions```**<br>\n",
    "\n",
    "We also include an incrementer or other instruction that changes the value used in the condition as the last step of a **```while```** loop to ensure that the condition will eventually stop being True. Otherwise, we would end up with an endless loop that will run forever."
   ]
  },
  {
   "cell_type": "markdown",
   "metadata": {},
   "source": [
    "### Example 1:\n",
    "In this first example, we simply display the integers from 0 through 9 using the following steps:<br>\n",
    "* Start by setting a variable **```i```** to 0.\n",
    "* Create a **```while```** loop that will run as long as **```i```** is less than 10.\n",
    "* Inside the loop, print the value of **```i```**.\n",
    "* As the last step of the loop, increment **```i```** by 1.<br>\n",
    "\n",
    "When **```i```** is equal to 10, the loop stops."
   ]
  },
  {
   "cell_type": "code",
   "execution_count": 1,
   "metadata": {},
   "outputs": [
    {
     "name": "stdout",
     "output_type": "stream",
     "text": [
      "0\n",
      "1\n",
      "2\n",
      "3\n",
      "4\n",
      "5\n",
      "6\n",
      "7\n",
      "8\n",
      "9\n"
     ]
    }
   ],
   "source": [
    "i = 0\n",
    "\n",
    "while (i < 10):\n",
    "    print(i)\n",
    "    i += 1"
   ]
  },
  {
   "cell_type": "markdown",
   "metadata": {},
   "source": [
    "### Practice 1:\n",
    "Update the following code to display integers backwards from 100 to 0. Both 100 and 0 should be included in the results."
   ]
  },
  {
   "cell_type": "code",
   "execution_count": 2,
   "metadata": {},
   "outputs": [
    {
     "name": "stdout",
     "output_type": "stream",
     "text": [
      "100\n",
      "99\n",
      "98\n",
      "97\n",
      "96\n",
      "95\n",
      "94\n",
      "93\n",
      "92\n",
      "91\n",
      "90\n",
      "89\n",
      "88\n",
      "87\n",
      "86\n",
      "85\n",
      "84\n",
      "83\n",
      "82\n",
      "81\n",
      "80\n",
      "79\n",
      "78\n",
      "77\n",
      "76\n",
      "75\n",
      "74\n",
      "73\n",
      "72\n",
      "71\n",
      "70\n",
      "69\n",
      "68\n",
      "67\n",
      "66\n",
      "65\n",
      "64\n",
      "63\n",
      "62\n",
      "61\n",
      "60\n",
      "59\n",
      "58\n",
      "57\n",
      "56\n",
      "55\n",
      "54\n",
      "53\n",
      "52\n",
      "51\n",
      "50\n",
      "49\n",
      "48\n",
      "47\n",
      "46\n",
      "45\n",
      "44\n",
      "43\n",
      "42\n",
      "41\n",
      "40\n",
      "39\n",
      "38\n",
      "37\n",
      "36\n",
      "35\n",
      "34\n",
      "33\n",
      "32\n",
      "31\n",
      "30\n",
      "29\n",
      "28\n",
      "27\n",
      "26\n",
      "25\n",
      "24\n",
      "23\n",
      "22\n",
      "21\n",
      "20\n",
      "19\n",
      "18\n",
      "17\n",
      "16\n",
      "15\n",
      "14\n",
      "13\n",
      "12\n",
      "11\n",
      "10\n",
      "9\n",
      "8\n",
      "7\n",
      "6\n",
      "5\n",
      "4\n",
      "3\n",
      "2\n",
      "1\n",
      "0\n"
     ]
    }
   ],
   "source": [
    "i = 100\n",
    "\n",
    "while (i > -1):\n",
    "    print(i)\n",
    "    i -= 1"
   ]
  },
  {
   "cell_type": "markdown",
   "metadata": {},
   "source": [
    "## Concept 2: Unexecutable While Loops\n",
    "Because a **```while```** loop starts with a condition and executes the instructions in the loop only if that condition is met, it is possible that the instructions in the **```while```** loop may not execute at all if the condition is met at the start of the loop."
   ]
  },
  {
   "cell_type": "markdown",
   "metadata": {},
   "source": [
    "### Example 2:\n",
    "In this example, we start with a value of 1.<br>\n",
    "\n",
    "In the **```while```** loop, we check to see if that value is less than 0. Because 1 is not less than 0, the instructions in the **```while```** loop do not execute."
   ]
  },
  {
   "cell_type": "code",
   "execution_count": 3,
   "metadata": {},
   "outputs": [],
   "source": [
    "i = 1\n",
    "\n",
    "while (i < 0):\n",
    "    print(\"This message will never be displayed.\")"
   ]
  },
  {
   "cell_type": "markdown",
   "metadata": {},
   "source": [
    "### Practice 2:\n",
    "Let's create a script that accepts input from the user and prompts the user to enter a specific value.<br>\n",
    "\n",
    "If the user enters the correct value, the program stops.<br>\n",
    "\n",
    "If the user does not enter the correct value, the program prompts the user to enter the value again, and stops only when the user enters the correct value.<br>\n",
    "\n",
    "We've added the first line of code for you. Use a **```while```** loop to complete the script. Test the script using both correct and incorrect input values.<br>\n",
    "\n",
    "***Tip:*** Remember that Python is always case-sensitive by default."
   ]
  },
  {
   "cell_type": "code",
   "execution_count": 7,
   "metadata": {},
   "outputs": [
    {
     "name": "stdout",
     "output_type": "stream",
     "text": [
      "You have exceeded your maximum attempts. Try again in a minute\n"
     ]
    }
   ],
   "source": [
    "input_value = input(\"Enter the phrase 'Hello, World': \")\n",
    " \n",
    "# your code here\n",
    "correct = \"Hello, World\"\n",
    "counter = 0\n",
    "while input_value != correct:\n",
    "    input_value = input(\"Sorry, please try again: \")\n",
    "    counter += 1\n",
    "    if counter == 2:\n",
    "        print(\"You have exceeded your maximum attempts. Try again in a minute\")\n",
    "        break\n",
    "else:\n",
    "    print(\"Great job\")\n"
   ]
  },
  {
   "cell_type": "markdown",
   "metadata": {},
   "source": [
    "## Concept 3: While vs. For\n",
    "The **```while```** and **```for```** operations are similar in that each function can iterate through items in a dataset. However, there are significant differences.<br>\n",
    "* **```for```**<br>\n",
    "&nbsp;&nbsp;&nbsp;&nbsp;&nbsp;&nbsp;&nbsp;&nbsp;&nbsp;* Automatically determines the start point and end point based on the number of items in the dataset \n",
    "&nbsp;&nbsp;&nbsp;&nbsp;&nbsp;&nbsp;&nbsp;&nbsp;&nbsp;&nbsp;&nbsp;or using a defined **```range```**<br>\n",
    "&nbsp;&nbsp;&nbsp;&nbsp;&nbsp;&nbsp;&nbsp;&nbsp;&nbsp;* Uses inherent index values, so we do not have to define the values in the script<br>\n",
    "* **```while```**<br>\n",
    "&nbsp;&nbsp;&nbsp;&nbsp;&nbsp;&nbsp;&nbsp;&nbsp;&nbsp;* Requires that the developer define an initial condition<br>\n",
    "&nbsp;&nbsp;&nbsp;&nbsp;&nbsp;&nbsp;&nbsp;&nbsp;&nbsp;* Uses values defined by the developer rather than values that inherent to the dataset<br>\n",
    "&nbsp;&nbsp;&nbsp;&nbsp;&nbsp;&nbsp;&nbsp;&nbsp;&nbsp;* Requires an incrementer or other instruction that changes the value used in the initital condition to \n",
    "&nbsp;&nbsp;&nbsp;&nbsp;&nbsp;&nbsp;&nbsp;&nbsp;&nbsp;&nbsp;&nbsp;avoid an infinite loop<br>\n",
    "&nbsp;&nbsp;&nbsp;&nbsp;&nbsp;&nbsp;&nbsp;&nbsp;&nbsp;* May not run at all if the initial condition is not met<br>\n",
    "\n",
    "These differences do not mean that one function is better than the other. Instead, we have to take the differences into account to determine which function is better for a specific purpose."
   ]
  },
  {
   "cell_type": "markdown",
   "metadata": {},
   "source": [
    "### Practice 3:\n",
    "Change the following code to use a **```while```** loop instead of a **```for```** loop. The output should be the same in both versions."
   ]
  },
  {
   "cell_type": "code",
   "execution_count": 8,
   "metadata": {},
   "outputs": [
    {
     "name": "stdout",
     "output_type": "stream",
     "text": [
      "John\n",
      "Smith\n",
      "123 East Main Street\n",
      "Boston\n",
      "Junior Software Developer\n"
     ]
    }
   ],
   "source": [
    "info = [\"John\", \"Smith\", \"123 East Main Street\", \"Boston\", \"Junior Software Developer\"]\n",
    " \n",
    "for i in range(len(info)):\n",
    "    print(info[i]) "
   ]
  },
  {
   "cell_type": "code",
   "execution_count": 11,
   "metadata": {},
   "outputs": [
    {
     "name": "stdout",
     "output_type": "stream",
     "text": [
      "John\n",
      "Smith\n",
      "123 East Main Street\n",
      "Boston\n",
      "Junior Software Developer\n"
     ]
    }
   ],
   "source": [
    "i = 0\n",
    "while i < len(info):\n",
    "    print(info[i])\n",
    "    i += 1"
   ]
  },
  {
   "cell_type": "code",
   "execution_count": null,
   "metadata": {},
   "outputs": [],
   "source": []
  }
 ],
 "metadata": {
  "kernelspec": {
   "display_name": "Python 3.9.6 64-bit",
   "language": "python",
   "name": "python3"
  },
  "language_info": {
   "codemirror_mode": {
    "name": "ipython",
    "version": 3
   },
   "file_extension": ".py",
   "mimetype": "text/x-python",
   "name": "python",
   "nbconvert_exporter": "python",
   "pygments_lexer": "ipython3",
   "version": "3.9.6"
  },
  "orig_nbformat": 4,
  "vscode": {
   "interpreter": {
    "hash": "9cc6a95a29893daac463ce220390149ef03aeb7175da3903cfd40cfc8442e04e"
   }
  }
 },
 "nbformat": 4,
 "nbformat_minor": 2
}
