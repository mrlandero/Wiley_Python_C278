{
 "cells": [
  {
   "cell_type": "markdown",
   "metadata": {},
   "source": [
    "## Concept 1: Create a Sequence of Numbers\n",
    "One use of **```range()```** is to simply create a set of numbers. If we use **```range```** by itself, without referencing a dataset like a list or a string, **```range```** simply uses integer values, where **```x```** is the first value in the range and **```y-1```** is the last value."
   ]
  },
  {
   "cell_type": "markdown",
   "metadata": {},
   "source": [
    "### Example 1:\n",
    "In this example, we create a sequence of numbers from 0 to 4 using **```range(0,5)```**.<br>\n",
    "\n",
    "Note that the output (stored in **```sequence```**) is a **```range```** type, not a **```list```**.<br>\n",
    "\n",
    "We then use **```for```** to iterate through the values in the range to print the values sequentially."
   ]
  },
  {
   "cell_type": "code",
   "execution_count": 2,
   "metadata": {},
   "outputs": [
    {
     "name": "stdout",
     "output_type": "stream",
     "text": [
      "range(0, 5)\n",
      "<class 'range'>\n",
      "\n",
      "\n",
      "0\n",
      "1\n",
      "2\n",
      "3\n",
      "4\n"
     ]
    }
   ],
   "source": [
    "sequence = range(0,5) # We create a sequence of numbers from 0 to 4\n",
    "print(sequence)\n",
    "print(type(sequence)) # Sequence is NOT a list. Sequence is a range type\n",
    "print(\"\\n\")\n",
    "\n",
    "for n in sequence: # We can use the for loop to iterate through sequence\n",
    "    print(n)"
   ]
  },
  {
   "cell_type": "markdown",
   "metadata": {},
   "source": [
    "### Practice 1:\n",
    "Create a script that uses the **```range```** function and displays the square (x^2) of each number between 1 and 20."
   ]
  },
  {
   "cell_type": "code",
   "execution_count": 6,
   "metadata": {},
   "outputs": [
    {
     "name": "stdout",
     "output_type": "stream",
     "text": [
      "The square of 1 is: 1\n",
      "The square of 2 is: 4\n",
      "The square of 3 is: 9\n",
      "The square of 4 is: 16\n",
      "The square of 5 is: 25\n",
      "The square of 6 is: 36\n",
      "The square of 7 is: 49\n",
      "The square of 8 is: 64\n",
      "The square of 9 is: 81\n",
      "The square of 10 is: 100\n",
      "The square of 11 is: 121\n",
      "The square of 12 is: 144\n",
      "The square of 13 is: 169\n",
      "The square of 14 is: 196\n",
      "The square of 15 is: 225\n",
      "The square of 16 is: 256\n",
      "The square of 17 is: 289\n",
      "The square of 18 is: 324\n",
      "The square of 19 is: 361\n",
      "The square of 20 is: 400\n"
     ]
    }
   ],
   "source": [
    "for n in range(1,21):\n",
    "    print(f\"The square of {n} is: {n**2}\")"
   ]
  },
  {
   "cell_type": "markdown",
   "metadata": {},
   "source": [
    "## Concept 2: Unbounded Ranges\n",
    "By default, the **```range```** function assumes that the lower bound is 0 if no value is specified. In other words, **```range(y)```** will perform the **```range```** function on all values from 0 through **```y-1```**."
   ]
  },
  {
   "cell_type": "markdown",
   "metadata": {},
   "source": [
    "### Example 2:\n",
    "In the following example, we create a sequence of numbers from 0 through 4, specifying only the value 5 in the **```range```** function. "
   ]
  },
  {
   "cell_type": "code",
   "execution_count": 7,
   "metadata": {},
   "outputs": [
    {
     "name": "stdout",
     "output_type": "stream",
     "text": [
      "0\n",
      "1\n",
      "2\n",
      "3\n",
      "4\n"
     ]
    }
   ],
   "source": [
    "# We create a sequence of numbers from 0 to 4\n",
    "# If we don't specify the lower bound, it will be assigned the value zero\n",
    "x = range(5)\n",
    "for n in x: # We can use the for-loop to iterate through x\n",
    "    print(n)"
   ]
  },
  {
   "cell_type": "markdown",
   "metadata": {},
   "source": [
    "### Practice 2:\n",
    "Create a Python script that uses the **```range```** function to display all of the even numbers between 0 and 100, inclusive."
   ]
  },
  {
   "cell_type": "code",
   "execution_count": 8,
   "metadata": {},
   "outputs": [
    {
     "name": "stdout",
     "output_type": "stream",
     "text": [
      "0\n",
      "2\n",
      "4\n",
      "6\n",
      "8\n",
      "10\n",
      "12\n",
      "14\n",
      "16\n",
      "18\n",
      "20\n",
      "22\n",
      "24\n",
      "26\n",
      "28\n",
      "30\n",
      "32\n",
      "34\n",
      "36\n",
      "38\n",
      "40\n",
      "42\n",
      "44\n",
      "46\n",
      "48\n",
      "50\n",
      "52\n",
      "54\n",
      "56\n",
      "58\n",
      "60\n",
      "62\n",
      "64\n",
      "66\n",
      "68\n",
      "70\n",
      "72\n",
      "74\n",
      "76\n",
      "78\n",
      "80\n",
      "82\n",
      "84\n",
      "86\n",
      "88\n",
      "90\n",
      "92\n",
      "94\n",
      "96\n",
      "98\n",
      "100\n"
     ]
    }
   ],
   "source": [
    "for n in range(101):\n",
    "    if n%2 == 0:\n",
    "        print(n)"
   ]
  },
  {
   "cell_type": "markdown",
   "metadata": {},
   "source": [
    "## Concept 3: Range with Index Values\n",
    "When we create a list, Python automatically assigns sequential index values to each item in the list, starting with 0 as the first index value.<br>\n",
    "\n",
    "We can use the **```range```** function to iterate through a list using the index values assigned to each item."
   ]
  },
  {
   "cell_type": "markdown",
   "metadata": {},
   "source": [
    "### Example 3:\n",
    "While **```for```** automatically limits itself to the number of items in a list or similar data collection, we have to specify and end point for a **```range```**. If we want to include all items in the list, the end point will be the length (number of items) of the list.<br>\n",
    "\n",
    "We use the following syntax to specify a **```range```** that includes all items in a list: <br>\n",
    "\n",
    "**```range(0,len(list))```**<br>\n",
    "\n",
    "Alternatively, because **```range```** starts with 0 by default, we can simplify this to:<br>\n",
    "\n",
    "**```range(len(list))```**<br>\n",
    "\n",
    "Once we have a range that includes the sequential index values, we can use **```for```** with those values to retrieve each item in turn:<br>\n",
    "\n",
    "**```for i in range(len(list)):```**<br>\n",
    "\n",
    "We can then use the statement **```list[value]```** to retrieve an item from a list based on the item's index value.<br>\n",
    "\n",
    "The following script shows an example. We start with a list of personal details and display each item sequentially."
   ]
  },
  {
   "cell_type": "code",
   "execution_count": 9,
   "metadata": {},
   "outputs": [
    {
     "name": "stdout",
     "output_type": "stream",
     "text": [
      "John\n",
      "Smith\n",
      "123 East Main Street\n",
      "Boston\n",
      "Junior Software Developer\n"
     ]
    }
   ],
   "source": [
    "# we create a list \n",
    "info = [\"John\",\"Smith\",\"123 East Main Street\",\"Boston\",\"Junior Software Developer\"]\n",
    "\n",
    "# We use the range function to create a sequence of indexes between 0 and the length of the list\n",
    "for i in range(len(info)):\n",
    "    print(info[i]) # We use i as an index to access the current element in the list"
   ]
  },
  {
   "cell_type": "markdown",
   "metadata": {},
   "source": [
    "### Practice 3:\n",
    "Use the same logic from Example 3 to iterate through a tuple.<br>\n",
    "\n",
    "The box below includes the original code from Example 3. Modify it to use a tuple instead of a list."
   ]
  },
  {
   "cell_type": "code",
   "execution_count": 12,
   "metadata": {},
   "outputs": [
    {
     "name": "stdout",
     "output_type": "stream",
     "text": [
      "John\n",
      "Smith\n",
      "123 East Main Street\n",
      "Boston\n",
      "Junior Software Developer\n"
     ]
    }
   ],
   "source": [
    "info = (\"John\",\"Smith\",\"123 East Main Street\",\"Boston\",\"Junior Software Developer\")\n",
    " \n",
    "for i in range(len(info)):\n",
    "    print(info[i]) "
   ]
  },
  {
   "cell_type": "markdown",
   "metadata": {},
   "source": [
    "## Concept 4: Range with Strings\n",
    "Python treats strings as datasets of individual characters, so it assigns sequential index values to each character in a string. This means that we can also use the **```range```** function to iterate through the characters in a string."
   ]
  },
  {
   "cell_type": "markdown",
   "metadata": {},
   "source": [
    "### Example 4:\n",
    "In this example, we start with a string and display each character in the string on a separate line."
   ]
  },
  {
   "cell_type": "code",
   "execution_count": 13,
   "metadata": {},
   "outputs": [
    {
     "name": "stdout",
     "output_type": "stream",
     "text": [
      "H\n",
      "e\n",
      "l\n",
      "l\n",
      "o\n",
      ",\n",
      " \n",
      "W\n",
      "o\n",
      "r\n",
      "l\n",
      "d\n",
      "!\n"
     ]
    }
   ],
   "source": [
    "message = \"Hello, World!\"\n",
    "\n",
    "for i in range(len(message)):\n",
    "    print(message[i])"
   ]
  },
  {
   "cell_type": "markdown",
   "metadata": {},
   "source": [
    "### Practice 4:\n",
    "Use the logic from the previous example (Example 4) to display the string backwards."
   ]
  },
  {
   "cell_type": "code",
   "execution_count": 30,
   "metadata": {},
   "outputs": [
    {
     "name": "stdout",
     "output_type": "stream",
     "text": [
      "!\n",
      "d\n",
      "l\n",
      "r\n",
      "o\n",
      "W\n",
      " \n",
      ",\n",
      "o\n",
      "l\n",
      "l\n",
      "e\n",
      "H\n"
     ]
    }
   ],
   "source": [
    "message = \"Hello, World!\"\n",
    "for i in range(1,len(message) + 1):\n",
    "    print(message[-i])"
   ]
  },
  {
   "cell_type": "code",
   "execution_count": 32,
   "metadata": {},
   "outputs": [
    {
     "name": "stdout",
     "output_type": "stream",
     "text": [
      "!dlroW ,olleH\n"
     ]
    }
   ],
   "source": [
    "message = \"Hello, World!\"[::-1]\n",
    "print(message)"
   ]
  },
  {
   "cell_type": "code",
   "execution_count": 38,
   "metadata": {},
   "outputs": [
    {
     "name": "stdout",
     "output_type": "stream",
     "text": [
      "!\n",
      "d\n",
      "l\n",
      "r\n",
      "o\n",
      "W\n",
      " \n",
      ",\n",
      "o\n",
      "l\n",
      "l\n",
      "e\n",
      "H\n"
     ]
    }
   ],
   "source": [
    "message = \"Hello, World!\"\n",
    "for i in range(len(message)-1,-1, -1):\n",
    "    print(message[i])"
   ]
  },
  {
   "cell_type": "markdown",
   "metadata": {},
   "source": [
    "## Concept 5:\n",
    "By default, **```range```** starts with 0 and increments by 1. However, we can specify a custom step value using the syntax:<br>\n",
    "\n",
    "**```range(x,y,z)```**<br>\n",
    "\n",
    "In this syntax, **```x```** references the starting point of the range, **```y```** indicates the end point, and **```z```** defines the step value. By default, the step value is 1, as we have seen in earlier examples.<br>\n",
    "\n",
    "While **```x```** defaults to 0 when only **```y```** is provided, we must include a value for **```x```** if we specify a value for **```z```**. If we only include two numbers in a **```range```** statement, Python will assume the numbers are **```x```** and **```y```**."
   ]
  },
  {
   "cell_type": "markdown",
   "metadata": {},
   "source": [
    "### Example 5:\n",
    "For example, let's say that we want to retrieve every second value from a **```range```**. In that case, we can use the statement:<br>\n",
    "\n",
    "**```range(x, y, 2)```**<br>\n",
    "\n",
    "In the example below, we want to print only the even values between 0 and 10."
   ]
  },
  {
   "cell_type": "code",
   "execution_count": 39,
   "metadata": {},
   "outputs": [
    {
     "name": "stdout",
     "output_type": "stream",
     "text": [
      "0\n",
      "2\n",
      "4\n",
      "6\n",
      "8\n"
     ]
    }
   ],
   "source": [
    "# Range(start, stop, step)\n",
    "\n",
    "# Start: An integer number specifying the start point of the range. Default is 0\n",
    "# Stop: An integer number specifying the end point of the range\n",
    "# Step: An integer number specifying the incrementation. Default is 1\n",
    "\n",
    "x = range(0,10,2)\n",
    "for i in x:\n",
    "    print(i)"
   ]
  },
  {
   "cell_type": "markdown",
   "metadata": {},
   "source": [
    "### Practice 5:\n",
    "Display a list of numbers that include all integers between 0 and 100 that are evenly divisible by 3."
   ]
  },
  {
   "cell_type": "code",
   "execution_count": 40,
   "metadata": {},
   "outputs": [
    {
     "name": "stdout",
     "output_type": "stream",
     "text": [
      "0\n",
      "3\n",
      "6\n",
      "9\n",
      "12\n",
      "15\n",
      "18\n",
      "21\n",
      "24\n",
      "27\n",
      "30\n",
      "33\n",
      "36\n",
      "39\n",
      "42\n",
      "45\n",
      "48\n",
      "51\n",
      "54\n",
      "57\n",
      "60\n",
      "63\n",
      "66\n",
      "69\n",
      "72\n",
      "75\n",
      "78\n",
      "81\n",
      "84\n",
      "87\n",
      "90\n",
      "93\n",
      "96\n",
      "99\n"
     ]
    }
   ],
   "source": [
    "for i in range(0,100,3):\n",
    "    print(i)"
   ]
  },
  {
   "cell_type": "code",
   "execution_count": 41,
   "metadata": {},
   "outputs": [
    {
     "name": "stdout",
     "output_type": "stream",
     "text": [
      "0\n",
      "3\n",
      "6\n",
      "9\n",
      "12\n",
      "15\n",
      "18\n",
      "21\n",
      "24\n",
      "27\n",
      "30\n",
      "33\n",
      "36\n",
      "39\n",
      "42\n",
      "45\n",
      "48\n",
      "51\n",
      "54\n",
      "57\n",
      "60\n",
      "63\n",
      "66\n",
      "69\n",
      "72\n",
      "75\n",
      "78\n",
      "81\n",
      "84\n",
      "87\n",
      "90\n",
      "93\n",
      "96\n",
      "99\n"
     ]
    }
   ],
   "source": [
    "for i in range(0,100):\n",
    "    if (i%3==0):\n",
    "        print(i)"
   ]
  },
  {
   "cell_type": "code",
   "execution_count": null,
   "metadata": {},
   "outputs": [],
   "source": []
  }
 ],
 "metadata": {
  "kernelspec": {
   "display_name": "Python 3.9.6 64-bit",
   "language": "python",
   "name": "python3"
  },
  "language_info": {
   "codemirror_mode": {
    "name": "ipython",
    "version": 3
   },
   "file_extension": ".py",
   "mimetype": "text/x-python",
   "name": "python",
   "nbconvert_exporter": "python",
   "pygments_lexer": "ipython3",
   "version": "3.9.6"
  },
  "orig_nbformat": 4,
  "vscode": {
   "interpreter": {
    "hash": "9cc6a95a29893daac463ce220390149ef03aeb7175da3903cfd40cfc8442e04e"
   }
  }
 },
 "nbformat": 4,
 "nbformat_minor": 2
}
