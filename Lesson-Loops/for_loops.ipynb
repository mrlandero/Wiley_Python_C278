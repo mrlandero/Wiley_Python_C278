{
 "cells": [
  {
   "cell_type": "markdown",
   "metadata": {},
   "source": [
    "## Concept 1: For Loops\n",
    "A common use of **```for```** loops is to iterate through a dataset, such as a list, a tuple, or a string, and execute instructions based on that dataset.<br>\n",
    "\n",
    "In this scenario, we combine **```for```** with **```in```**, where **```for```** looks at each value in the dataset defined by **```in```** and performs an action on each of those values."
   ]
  },
  {
   "cell_type": "markdown",
   "metadata": {},
   "source": [
    "### Example 1:\n",
    "In the following example, we have a list of string values and we want to display each value individually. By default, Python will perform the **```print```** action until there are no more values in the list, so the condition is inherent to the structure.<br>\n",
    "\n",
    "Specifically, this program performs the following steps:<br>\n",
    "1. Define a list that includes three names.\n",
    "2. Use the **```in```** operator to identify individual values in the list, and assign each value to **```name```**.\n",
    "3. Print the current value of **```name```**.\n",
    "4. Repeat the loop, using the next value in the list.<br>\n",
    "\n",
    "The program ends after it has iterated through all values in the list.<br>\n",
    "\n",
    "In this example, there are three names in the list, so we get three lines of output, with one name per line."
   ]
  },
  {
   "cell_type": "code",
   "execution_count": 2,
   "metadata": {},
   "outputs": [
    {
     "name": "stdout",
     "output_type": "stream",
     "text": [
      "['Kate', 'Jennifer', 'Mike']\n",
      "Kate\n",
      "Jennifer\n",
      "Mike\n"
     ]
    }
   ],
   "source": [
    "# We define a list of strings that contains three names\n",
    "list_of_names = [\"Kate\", \"Jennifer\", \"Mike\"]\n",
    "print(list_of_names)\n",
    "\n",
    "# We use a for-loop to iterate through the list\n",
    "# We use the for and in command to create the for-loop\n",
    "# The variable name will contain the current value for the current iteration\n",
    "# We could use any variable name such as item\n",
    "for name in list_of_names:\n",
    "    # At each iteration through the list, the variable name will contain the current element in the list\n",
    "    print(name)"
   ]
  },
  {
   "cell_type": "markdown",
   "metadata": {},
   "source": [
    "### Practice 1:\n",
    "Fix the following code to display the list items one at a time."
   ]
  },
  {
   "cell_type": "code",
   "execution_count": 3,
   "metadata": {},
   "outputs": [
    {
     "name": "stdout",
     "output_type": "stream",
     "text": [
      "['John', 'Smith', '123 East Main Street', 'Boston', 'Junior Software Developer']\n",
      "\n",
      "\n",
      "John\n",
      "Smith\n",
      "123 East Main Street\n",
      "Boston\n",
      "Junior Software Developer\n"
     ]
    }
   ],
   "source": [
    "info = [\"John\",\"Smith\",\"123 East Main Street\",\"Boston\",\"Junior Software Developer\"]\n",
    "print(info)\n",
    "print(\"\\n\")\n",
    "for item in info:\n",
    "    print(item)"
   ]
  },
  {
   "cell_type": "markdown",
   "metadata": {},
   "source": [
    "## Concept 2: Iterating Through Tuples\n",
    "Given that a tuple is an array of individual values like a list, we can also use a **```for```** loop to iterate through a tuple."
   ]
  },
  {
   "cell_type": "markdown",
   "metadata": {},
   "source": [
    "### Example 2:\n",
    "In this example, we start with a tuple that contains information about Maria Smith.<br>\n",
    "\n",
    "We use the same combination of **```for```** and **```in```** to iterate through the items in the tuple and display each item individually."
   ]
  },
  {
   "cell_type": "code",
   "execution_count": 5,
   "metadata": {},
   "outputs": [
    {
     "name": "stdout",
     "output_type": "stream",
     "text": [
      "('Maria', 'Smith', 31, '123 Main Street', '234-567-8901')\n",
      "\n",
      "\n",
      "Maria\n",
      "Smith\n",
      "31\n",
      "123 Main Street\n",
      "234-567-8901\n"
     ]
    }
   ],
   "source": [
    "#create a tuple \n",
    "info = (\"Maria\",\"Smith\",31,\"123 Main Street\",\"234-567-8901\") \n",
    "print(info)\n",
    "print(\"\\n\")\n",
    "\n",
    "# Iterate through the tuple using a for loop\n",
    "for item in info:\n",
    "    print(item)"
   ]
  },
  {
   "cell_type": "markdown",
   "metadata": {},
   "source": [
    "### Practice 2:\n",
    "Fix the following code to display the tuple items one at a time."
   ]
  },
  {
   "cell_type": "code",
   "execution_count": 6,
   "metadata": {},
   "outputs": [
    {
     "name": "stdout",
     "output_type": "stream",
     "text": [
      "('John', 'Smith', '123 East Main Street', 'Boston', 'Junior Software Developer')\n",
      "\n",
      "\n",
      "John\n",
      "Smith\n",
      "123 East Main Street\n",
      "Boston\n",
      "Junior Software Developer\n"
     ]
    }
   ],
   "source": [
    "info = (\"John\",\"Smith\",\"123 East Main Street\",\"Boston\",\"Junior Software Developer\")\n",
    "print(info)\n",
    "print(\"\\n\")\n",
    "for i in info:\n",
    "    print(i)"
   ]
  },
  {
   "cell_type": "markdown",
   "metadata": {},
   "source": [
    "## Concept 3: Iterating Through Strings\n",
    "Python treats strings as arrays of individual characters, similar to a list or tuple, rather than as a single value. This means that we can use a **```for```** loop to iterate through the characters in a string, allowing us to look for specific characters in the same way we might want to find a name in a list."
   ]
  },
  {
   "cell_type": "markdown",
   "metadata": {},
   "source": [
    "### Example 3:\n",
    "In this example, we iterate through a \"Hello, World!\" string and extract each character individually.<br>\n",
    "\n",
    "As with the use of **```for```** and **```in```** with lists and tuples, the repetition will automatically stop when it reaches the last character of the string."
   ]
  },
  {
   "cell_type": "code",
   "execution_count": 7,
   "metadata": {},
   "outputs": [
    {
     "name": "stdout",
     "output_type": "stream",
     "text": [
      "Hello, World!\n",
      "\n",
      "\n",
      "H\n",
      "e\n",
      "l\n",
      "l\n",
      "o\n",
      ",\n",
      " \n",
      "W\n",
      "o\n",
      "r\n",
      "l\n",
      "d\n",
      "!\n"
     ]
    }
   ],
   "source": [
    "# Create a string variable\n",
    "message = \"Hello, World!\"\n",
    "print(message)\n",
    "print(\"\\n\")\n",
    "\n",
    "# Use a for loop to iterate through the list character by character\n",
    "for i in message:\n",
    "    print(i)"
   ]
  },
  {
   "cell_type": "markdown",
   "metadata": {},
   "source": [
    "### Practice 3:\n",
    "Complete the following script so that it iterates through the characters in the variable **```name```** and displays each character in upper case."
   ]
  },
  {
   "cell_type": "code",
   "execution_count": 8,
   "metadata": {},
   "outputs": [
    {
     "name": "stdout",
     "output_type": "stream",
     "text": [
      "P\n",
      "A\n",
      "T\n",
      "R\n",
      "I\n",
      "C\n",
      "K\n"
     ]
    }
   ],
   "source": [
    "name = \"Patrick\"\n",
    "\n",
    "for letter in name:\n",
    "    print(letter.upper())"
   ]
  },
  {
   "cell_type": "code",
   "execution_count": null,
   "metadata": {},
   "outputs": [],
   "source": []
  }
 ],
 "metadata": {
  "kernelspec": {
   "display_name": "Python 3.9.6 64-bit",
   "language": "python",
   "name": "python3"
  },
  "language_info": {
   "codemirror_mode": {
    "name": "ipython",
    "version": 3
   },
   "file_extension": ".py",
   "mimetype": "text/x-python",
   "name": "python",
   "nbconvert_exporter": "python",
   "pygments_lexer": "ipython3",
   "version": "3.9.6"
  },
  "orig_nbformat": 4,
  "vscode": {
   "interpreter": {
    "hash": "9cc6a95a29893daac463ce220390149ef03aeb7175da3903cfd40cfc8442e04e"
   }
  }
 },
 "nbformat": 4,
 "nbformat_minor": 2
}
