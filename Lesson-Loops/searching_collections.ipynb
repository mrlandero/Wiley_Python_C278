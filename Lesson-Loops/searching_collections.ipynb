{
 "cells": [
  {
   "cell_type": "markdown",
   "metadata": {},
   "source": [
    "## Concept 1: Finding Items in a List\n",
    "We have seen that we can use **```in```** to find out if a given value is included in a list or not. We can also combine **```in```** with **```for```** to see if there are multiple instances of that value in the list, using the syntax:<br>\n",
    "\n",
    "**```for item in list:```**<br>\n",
    "\n",
    "The **```for```** operator thells Python to examine each item in the list, while **```in```** tell Python to llok at the value of each item. The **```for```** operator automatically stops the search after the last item in the list."
   ]
  },
  {
   "cell_type": "markdown",
   "metadata": {},
   "source": [
    "### Example 1:\n",
    "This example includes two parts that use the same search term on the same list of names.<br>\n",
    "\n",
    "We first use the **```if```** operator to verify that the search value exists in the list. This returns a simple **```True```** or **```False```**, with no additional information, and the search stops as soon as the value is found, regardless of how many times the search term appears in the list.<br>\n",
    "\n",
    "We then combine **```for```** with **```in```** to iterate through the list and find all examples of the search term. In this case, the search term appears twice in the list, so we will get a separate **```print```** statement for each instance of the search term in the collection."
   ]
  },
  {
   "cell_type": "code",
   "execution_count": 4,
   "metadata": {},
   "outputs": [
    {
     "name": "stdout",
     "output_type": "stream",
     "text": [
      "Mike appears at least once in the list\n",
      "We found Mike\n",
      "We found Mike\n",
      "We found a total of 2 records matching your search term.\n"
     ]
    }
   ],
   "source": [
    "list_of_names = [\"Kate\", \"Jennifer\", \"Mike\", \"Pete\", \"Alex\", \"Mike\"]\n",
    "search_term = \"Mike\"\n",
    "\n",
    "# Check that the search term occurs at least once in the list\n",
    "if search_term in list_of_names:\n",
    "    print(search_term + \" appears at least once in the list\")\n",
    "\n",
    "# Use the variable name to store each item in the list sequentially and compare name to the search term\n",
    "# Print a separate statement for each instance of the search term\n",
    "counter = 0\n",
    "for name in list_of_names:\n",
    "    if name == search_term:\n",
    "        print(\"We found\", search_term)\n",
    "        counter += 1\n",
    "print(f\"We found a total of {counter} records matching your search term.\")"
   ]
  },
  {
   "cell_type": "markdown",
   "metadata": {},
   "source": [
    "### Practice 1a:\n",
    "Complete the following script so that it performs the following actions:<br>\n",
    "* Iterate through the entire list.\n",
    "* Display only negative numbers from the list. "
   ]
  },
  {
   "cell_type": "code",
   "execution_count": 5,
   "metadata": {},
   "outputs": [
    {
     "name": "stdout",
     "output_type": "stream",
     "text": [
      "We found -9\n",
      "We found -10\n",
      "We found -11\n",
      "We found -23\n",
      "We found 4 negative numbers in the list.\n"
     ]
    }
   ],
   "source": [
    "list_of_numbers = [0, 1, -9, -10, 3, 56, 45, -11, 35, 2, -23]\n",
    " \n",
    "# your code goes here \n",
    "counter = 0\n",
    "for number in list_of_numbers:\n",
    "    if number < 0:\n",
    "        print(\"We found\", number)\n",
    "        counter += 1\n",
    "print(f\"We found {counter} negative numbers in the list.\")"
   ]
  },
  {
   "cell_type": "markdown",
   "metadata": {},
   "source": [
    "### Practice 1b:\n",
    "Let's make the code from Example 1 above more interactive.<br>\n",
    "\n",
    "The code block below includes the same code presented in Example 1. Modify the code to include the following actions:<br>\n",
    "1. Prompt the user for a name to look for.\n",
    "2. Check whether or not the name is in the list.<br>\n",
    "&nbsp;&nbsp;&nbsp;&nbsp;&nbsp;&nbsp;&nbsp;&nbsp;1. If the name is ***not*** in the list, print a statement to that effect and end the program.<br>\n",
    "&nbsp;&nbsp;&nbsp;&nbsp;&nbsp;&nbsp;&nbsp;&nbsp;2. If the name ***is*** in the list, print a statement to that effect and then print a separate statement for\n",
    "&nbsp;&nbsp;&nbsp;&nbsp;&nbsp;&nbsp;&nbsp;&nbsp;&nbsp;&nbsp;&nbsp;&nbsp;each instance of the search term in the list."
   ]
  },
  {
   "cell_type": "code",
   "execution_count": 9,
   "metadata": {},
   "outputs": [
    {
     "name": "stdout",
     "output_type": "stream",
     "text": [
      "Sorry! There is no Alicia in this list.\n",
      "We found 0 name(s) that match.\n"
     ]
    }
   ],
   "source": [
    "list_of_names = [\"Kate\", \"Jennifer\", \"Mike\", \"Pete\", \"Alex\", \"Mike\"]\n",
    "search_term = input(\"Which name would you like to search for? \")\n",
    " \n",
    "#check that the search term occurs at least once in the list\n",
    "if search_term in list_of_names:\n",
    "    print (search_term + \" appears at least once in the list.\")\n",
    "else:\n",
    "    print(f\"Sorry! There is no {search_term} in this list.\")\n",
    " \n",
    "#use the variable name to store each item in the list sequentially \n",
    "#and compare name to the search term\n",
    "#print a separate statement for each instance of the search term\n",
    "counter = 0\n",
    "for name in list_of_names:\n",
    "    if name == search_term:\n",
    "        print(\"We found \" + search_term)\n",
    "        counter += 1\n",
    "print(f\"We found {counter} name(s) that match.\")"
   ]
  },
  {
   "cell_type": "markdown",
   "metadata": {},
   "source": [
    "## Concept 2: Searching Tuples\n",
    "The **```for```** and **```in```** operators work with tuples in the same way they work with lists:<br>\n",
    "* **```for```** iterates through the items in the tuple.\n",
    "* **```in```** examines each item to determine its value.<br>\n",
    "\n",
    "As with lists, we can combine **```for```** and **```in```** to determine not only if an item is ina tuple or not, but also how many times that specific value appears."
   ]
  },
  {
   "cell_type": "markdown",
   "metadata": {},
   "source": [
    "### Example 2:\n",
    "Let's see an example using a tuple."
   ]
  },
  {
   "cell_type": "code",
   "execution_count": 13,
   "metadata": {},
   "outputs": [
    {
     "name": "stdout",
     "output_type": "stream",
     "text": [
      "Mike appears at least once in the tuple.\n",
      "We found: Mike\n",
      "We found: Mike\n",
      "We found 2 record(s) matching the search term.\n"
     ]
    }
   ],
   "source": [
    "# create a tuple\n",
    "tuple_of_names = (\"Kate\",\"Jennifer\",\"Mike\",\"Pete\",\"Alex\",\"Mike\")\n",
    "search_term = \"Mike\"\n",
    "\n",
    "# Check that the search term occurs at least once in the tuple\n",
    "if search_term in tuple_of_names:\n",
    "    print(search_term + \" appears at least once in the tuple.\")\n",
    "\n",
    "# Use the variable 'name' to store each item in the tuple sequentially\n",
    "# and compare 'name' to the search term\n",
    "# Print a separate statement for each instance of the search term\n",
    "counter = 0\n",
    "for name in tuple_of_names:\n",
    "    if name == search_term:\n",
    "        print(\"We found:\", search_term )\n",
    "        counter += 1\n",
    "print(f\"We found {counter} record(s) matching the search term.\")"
   ]
  },
  {
   "cell_type": "markdown",
   "metadata": {},
   "source": [
    "### Practice 2:\n",
    "Create a tuple that includes data of your choice, with at least 2 duplicate items.<br>\n",
    "\n",
    "Create a script that searches the tuple for duplicate items and displays appropriate output each time the search terms are found."
   ]
  },
  {
   "cell_type": "code",
   "execution_count": 79,
   "metadata": {},
   "outputs": [
    {
     "name": "stdout",
     "output_type": "stream",
     "text": [
      "We surveyed 10 people about their favorite sport, and these are their responses:\n",
      "('football', 'baseball', 'soccer', 'basketball', 'hockey', 'football', 'volleyball', 'track', 'baseball', 'football')\n",
      "We found: football\n",
      "We found: baseball\n",
      "We found: football\n",
      "We found: baseball\n",
      "We found: football\n"
     ]
    }
   ],
   "source": [
    "from itertools import count\n",
    "\n",
    "print(\"We surveyed 10 people about their favorite sport, and these are their responses:\")\n",
    "tuple_of_sports = (\"football\", \"baseball\", \"soccer\", \"basketball\", \"hockey\", \"football\", \"volleyball\", \"track\", \"baseball\", \"football\")\n",
    "print(tuple_of_sports)\n",
    "for sport in tuple_of_sports:\n",
    "    if tuple_of_sports.count(sport) > 1:\n",
    "        print(\"We found:\", sport)"
   ]
  },
  {
   "cell_type": "code",
   "execution_count": 83,
   "metadata": {},
   "outputs": [
    {
     "name": "stdout",
     "output_type": "stream",
     "text": [
      "We surveyed 10 people about their favorite sport, and these are their responses:\n",
      "('football', 'baseball', 'soccer', 'basketball', 'hockey', 'football', 'volleyball', 'track', 'baseball', 'football')\n",
      "3 people chose football\n"
     ]
    }
   ],
   "source": [
    "print(\"We surveyed 10 people about their favorite sport, and these are their responses:\")\n",
    "tuple_of_sports = (\"football\", \"baseball\", \"soccer\", \"basketball\", \"hockey\", \"football\", \"volleyball\", \"track\", \"baseball\", \"football\")\n",
    "print(tuple_of_sports)\n",
    "search_term = input(\"Choose a sport to see how many people chose the same sport: \")\n",
    "counter = 0\n",
    "for sport in tuple_of_sports:\n",
    "    if sport == search_term:\n",
    "        counter += 1\n",
    "print(f\"{counter} people chose {search_term}\")"
   ]
  },
  {
   "cell_type": "markdown",
   "metadata": {},
   "source": [
    "## Concept 3: Searching Strings\n",
    "We can also use **```for```** and **```in```** to find specific characters in a string."
   ]
  },
  {
   "cell_type": "markdown",
   "metadata": {},
   "source": [
    "### Example 3:\n",
    "The following example uses the same pattern we used for lists and tuples to find specific characters in a string."
   ]
  },
  {
   "cell_type": "code",
   "execution_count": 87,
   "metadata": {},
   "outputs": [
    {
     "name": "stdout",
     "output_type": "stream",
     "text": [
      "m appears at least once in the name.\n",
      "We found: m\n",
      "We found 1 letter(s) matching your search.\n"
     ]
    }
   ],
   "source": [
    "name = \"Melissa\".lower()\n",
    "letter = \"m\".lower()\n",
    "\n",
    "# Check that the letter occurs at least once in the string\n",
    "if letter in name:\n",
    "    print(letter,\"appears at least once in the name.\")\n",
    "\n",
    "# Use the variable 'char' to store each character in the string sequentially\n",
    "# and compare character to the letter\n",
    "# Print a separate statement for each instance of the letter\n",
    "counter = 0\n",
    "for char in name:\n",
    "    if char == letter:\n",
    "        print(\"We found:\", letter)\n",
    "        counter += 1\n",
    "print(f\"We found {counter} letter(s) matching your search.\")"
   ]
  },
  {
   "cell_type": "markdown",
   "metadata": {},
   "source": [
    "### Practice 3a:\n",
    "Now let's try a customized search using a string.<br>\n",
    "\n",
    "We'll start with a longer string, such as the first sentence from Edgar Allan Poe's story ***The House of Usher***, as published in Project Gutenberg.<br>\n",
    "\n",
    "Create a script that performs the following tasks:<br>\n",
    "* Prompt the user for a single character.\n",
    "* Search the string for that character.<br>\n",
    "&nbsp;&nbsp;&nbsp;&nbsp;&nbsp;&nbsp;&nbsp;&nbsp;* If the character does not appear in the string, display a message to inform the user.<br>\n",
    "&nbsp;&nbsp;&nbsp;&nbsp;&nbsp;&nbsp;&nbsp;&nbsp;* If the character does appear in the string, print a statement for each instance of the character."
   ]
  },
  {
   "cell_type": "code",
   "execution_count": 96,
   "metadata": {},
   "outputs": [
    {
     "name": "stdout",
     "output_type": "stream",
     "text": [
      "During the whole of a dull, dark, and soundless day in the autumn of the year, when the clouds hung oppressively low in the heavens, I had been passing alone, on horseback, through a singularly dreary tract of country; and at length found myself, as the shades of the evening drew on, within view of the melancholy House of Usher.\n",
      "We found: h\n",
      "We found: h\n",
      "We found: h\n",
      "We found: h\n",
      "We found: h\n",
      "We found: h\n",
      "We found: h\n",
      "We found: h\n",
      "We found: h\n",
      "We found: h\n",
      "We found: h\n",
      "We found: h\n",
      "We found: h\n",
      "We found: h\n",
      "We found: h\n",
      "We found: h\n",
      "We found: h\n",
      "We found: h\n",
      "We found: h\n",
      "We found: h\n",
      "We found: h\n",
      "There are 21 instances of the letter h in the poem.\n"
     ]
    }
   ],
   "source": [
    "#create a string\n",
    "#because this string is very long, we use \\ at the end of each line \n",
    " #to continue the text to the next line\n",
    "#Python ignores the \\ character\n",
    "string_1 = \"During the whole of a dull, dark, and soundless day in the \\\n",
    "autumn of the year, when the clouds hung oppressively low in the \\\n",
    "heavens, I had been passing alone, on horseback, through a \\\n",
    "singularly dreary tract of country; and at length found myself, \\\n",
    "as the shades of the evening drew on, within view of the \\\n",
    "melancholy House of Usher.\"\n",
    " \n",
    "print(string_1)\n",
    " \n",
    "# your code here\n",
    "counter = 0\n",
    "character = input(\"Which letter would you like to search for? \")\n",
    "for char in string_1:\n",
    "    if character == char:\n",
    "        print(\"We found:\", character)\n",
    "        counter += 1\n",
    "print(f\"There are {counter} instances of the letter {character} in the poem.\")"
   ]
  },
  {
   "cell_type": "markdown",
   "metadata": {},
   "source": [
    "### Practice 3b:\n",
    "Refactor the code in the previous exercise so that the user can enter a character in uppercase or lowercase and Python will find each instance of that character, regardless of its case in the original text.<br>\n",
    "\n",
    "For example, the user can enter either \"i\" or \"I\" and Python will find all instances of the letter \"i\" or \"I\" in the string in the same search."
   ]
  },
  {
   "cell_type": "code",
   "execution_count": 97,
   "metadata": {},
   "outputs": [
    {
     "name": "stdout",
     "output_type": "stream",
     "text": [
      "during the whole of a dull, dark, and soundless day in the autumn of the year, when the clouds hung oppressively low in the heavens, i had been passing alone, on horseback, through a singularly dreary tract of country; and at length found myself, as the shades of the evening drew on, within view of the melancholy house of usher.\n",
      "We found: h\n",
      "We found: h\n",
      "We found: h\n",
      "We found: h\n",
      "We found: h\n",
      "We found: h\n",
      "We found: h\n",
      "We found: h\n",
      "We found: h\n",
      "We found: h\n",
      "We found: h\n",
      "We found: h\n",
      "We found: h\n",
      "We found: h\n",
      "We found: h\n",
      "We found: h\n",
      "We found: h\n",
      "We found: h\n",
      "We found: h\n",
      "We found: h\n",
      "We found: h\n",
      "We found: h\n",
      "There are 22 instances of the letter h in the poem.\n"
     ]
    }
   ],
   "source": [
    "# Copy your code from the previous practice and paste the code here\n",
    "string_1 = \"During the whole of a dull, dark, and soundless day in the \\\n",
    "autumn of the year, when the clouds hung oppressively low in the \\\n",
    "heavens, I had been passing alone, on horseback, through a \\\n",
    "singularly dreary tract of country; and at length found myself, \\\n",
    "as the shades of the evening drew on, within view of the \\\n",
    "melancholy House of Usher.\".lower()\n",
    " \n",
    "print(string_1)\n",
    " \n",
    "# your code here\n",
    "counter = 0\n",
    "character = input(\"Which letter would you like to search for? \").lower()\n",
    "for char in string_1:\n",
    "    if character == char:\n",
    "        print(\"We found:\", character)\n",
    "        counter += 1\n",
    "print(f\"There are {counter} instances of the letter {character} in the poem.\")"
   ]
  },
  {
   "cell_type": "markdown",
   "metadata": {},
   "source": [
    "### Search Challenge:\n",
    "Now let's put together a bunch of individual concepts into a single script.<br>\n",
    "\n",
    "The tuple below contains the abbreviations of all states in the USA.<br>\n",
    "\n",
    "Using the values in the tuple as a starting point, create three new lists:<br>\n",
    "* One list contains all states that start with N.\n",
    "* One list contains all states that start with W.\n",
    "* One list contains all states that start with A.<br>\n",
    "\n",
    "The lists should be generated by asking Python to look at the initial letter of each abbreviation and performing a set of instructions based on that letter. Do NOT use slicing techniques to extract multiple values at the same time.<br>\n",
    "\n",
    "Print each list one time."
   ]
  },
  {
   "cell_type": "code",
   "execution_count": 101,
   "metadata": {},
   "outputs": [
    {
     "name": "stdout",
     "output_type": "stream",
     "text": [
      "['NE', 'NV', 'NH', 'NJ', 'NM', 'NY', 'NC', 'ND']\n",
      "There are 8 states that start with the letter N.\n",
      "['WA', 'WV', 'WI', 'WY']\n",
      "There are 4 states that start with the letter W.\n",
      "['AL', 'AK', 'AZ', 'AR']\n",
      "There are 4 states that start with the letter A.\n"
     ]
    }
   ],
   "source": [
    "states = (\"AL\", \"AK\", \"AZ\", \"AR\", \"CA\", \"CO\", \"CT\", \"DC\", \"FL\", \"GA\", \n",
    "          \"HI\", \"ID\", \"IL\", \"IN\", \"IA\", \"KS\", \"KY\", \"LA\", \"ME\", \"MD\", \n",
    "          \"MA\", \"MI\", \"MN\", \"MS\", \"MO\", \"MT\", \"NE\", \"NV\", \"NH\", \"NJ\", \n",
    "          \"NM\", \"NY\", \"NC\", \"ND\", \"OH\", \"OK\", \"OR\", \"PA\", \"RI\", \"SC\", \n",
    "          \"SD\", \"TN\", \"TX\", \"UT\", \"VT\", \"VA\", \"WA\", \"WV\", \"WI\", \"WY\")\n",
    "\n",
    "list_n = []\n",
    "list_w = []\n",
    "list_a = []\n",
    "\n",
    "# your code here \n",
    "for state in states:\n",
    "    if state[0] == 'n'.upper():\n",
    "        list_n.append(state)\n",
    "    elif state[0] == 'w'.upper():\n",
    "        list_w.append(state)\n",
    "    elif state[0] == 'a'.upper():\n",
    "        list_a.append(state)\n",
    "print(list_n)\n",
    "print(f\"There are {len(list_n)} states that start with the letter N.\")\n",
    "print(list_w)\n",
    "print(f\"There are {len(list_w)} states that start with the letter W.\")\n",
    "print(list_a)\n",
    "print(f\"There are {len(list_a)} states that start with the letter A.\")"
   ]
  },
  {
   "cell_type": "code",
   "execution_count": 111,
   "metadata": {},
   "outputs": [
    {
     "name": "stdout",
     "output_type": "stream",
     "text": [
      "['HI']\n",
      "There are/is 1 state(s) that start with the letter H\n"
     ]
    }
   ],
   "source": [
    "states = (\"AL\", \"AK\", \"AZ\", \"AR\", \"CA\", \"CO\", \"CT\", \"DE\", \"FL\", \"GA\", \n",
    "          \"HI\", \"ID\", \"IL\", \"IN\", \"IA\", \"KS\", \"KY\", \"LA\", \"ME\", \"MD\", \n",
    "          \"MA\", \"MI\", \"MN\", \"MS\", \"MO\", \"MT\", \"NE\", \"NV\", \"NH\", \"NJ\", \n",
    "          \"NM\", \"NY\", \"NC\", \"ND\", \"OH\", \"OK\", \"OR\", \"PA\", \"RI\", \"SC\", \n",
    "          \"SD\", \"TN\", \"TX\", \"UT\", \"VT\", \"VA\", \"WA\", \"WV\", \"WI\", \"WY\")\n",
    "\n",
    "letter = input(\"Tell me a letter and I'll tell you how many states start with that letter: \").upper()\n",
    "\n",
    "user_list = []\n",
    "\n",
    "for state in states:\n",
    "    if letter == state[0]:\n",
    "        user_list.append(state)\n",
    "print(user_list)\n",
    "print(f\"There are/is {len(user_list)} state(s) that start with the letter {letter}\")"
   ]
  },
  {
   "cell_type": "code",
   "execution_count": null,
   "metadata": {},
   "outputs": [],
   "source": []
  }
 ],
 "metadata": {
  "kernelspec": {
   "display_name": "Python 3.9.6 64-bit",
   "language": "python",
   "name": "python3"
  },
  "language_info": {
   "codemirror_mode": {
    "name": "ipython",
    "version": 3
   },
   "file_extension": ".py",
   "mimetype": "text/x-python",
   "name": "python",
   "nbconvert_exporter": "python",
   "pygments_lexer": "ipython3",
   "version": "3.9.6"
  },
  "orig_nbformat": 4,
  "vscode": {
   "interpreter": {
    "hash": "9cc6a95a29893daac463ce220390149ef03aeb7175da3903cfd40cfc8442e04e"
   }
  }
 },
 "nbformat": 4,
 "nbformat_minor": 2
}
