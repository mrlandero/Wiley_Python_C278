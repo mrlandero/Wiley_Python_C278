{
 "cells": [
  {
   "cell_type": "markdown",
   "metadata": {},
   "source": [
    "### Example 2:\n",
    "The following example includes multiple steps:<br>\n",
    "\n",
    "1. We define a **```fromCSV```** function that imports the contents of a CSV file as a list of dictionaries, where each row in the original file is a dictionary that uses the column names as keys associated with data values.<br>\n",
    "2. We also define an **```extract_month```** function, which looks at the **```Date```** value in each dictionary item, splits the value using \"/\" as the delimiter, extracts the first value as the month, and appends that value as a new item in the original data.<br>\n",
    "3. We use the **```fromCSV```** function to convert the data from the named CSV file to a list of dictionary values. We then apply **```extract_month```** as a mapped function on the new list.<br>\n",
    "4. Finally, we display the first item for each list."
   ]
  },
  {
   "cell_type": "code",
   "execution_count": 1,
   "metadata": {},
   "outputs": [],
   "source": [
    "def fromCSV(path,delimiter,quotechar):\n",
    "    # Import the csv module\n",
    "    import csv\n",
    "    # Convert the CSV data into a list\n",
    "    data = list()\n",
    "    # Open the file\n",
    "    with open(path,newline=\"\") as csvfile:\n",
    "        # Access the content of the file\n",
    "        filecontent = csv.DictReader(csvfile,delimiter=delimiter,quotechar=quotechar)\n",
    "        # Iterate through the rows\n",
    "        for row in filecontent:\n",
    "            # Save each row as a dictionary item in the data list\n",
    "            data.append(row)\n",
    "    return data"
   ]
  },
  {
   "cell_type": "code",
   "execution_count": 2,
   "metadata": {},
   "outputs": [],
   "source": [
    "def extract_month(row):\n",
    "    # Input is the entire row from data\n",
    "    # Extract the month from the date field\n",
    "    # Add the month field to the row and return the row\n",
    "    value = row[\"Date\"]\n",
    "    MM = \"\"\n",
    "    # Split function in python used to divide strings based on some delimiter\n",
    "    a = value.split(\"/\")\n",
    "    MM = a[0]\n",
    "    # Implement logic here\n",
    "    new_row = row.copy()\n",
    "    new_row.update({\"Month\": MM})\n",
    "    return new_row "
   ]
  },
  {
   "cell_type": "code",
   "execution_count": 3,
   "metadata": {},
   "outputs": [
    {
     "name": "stdout",
     "output_type": "stream",
     "text": [
      "{'Date': '7/7/06', 'Open': '492.7', 'High': '495.9', 'Low': '490.0999', 'Close': '490.8', 'Volume': '807950'}\n"
     ]
    }
   ],
   "source": [
    "data = fromCSV(path=\"stocks.csv\", delimiter=\",\", quotechar=\"|\")\n",
    "print(data[0])"
   ]
  },
  {
   "cell_type": "code",
   "execution_count": 4,
   "metadata": {},
   "outputs": [
    {
     "name": "stdout",
     "output_type": "stream",
     "text": [
      "{'Date': '7/7/06', 'Open': '492.7', 'High': '495.9', 'Low': '490.0999', 'Close': '490.8', 'Volume': '807950', 'Month': '7'}\n"
     ]
    }
   ],
   "source": [
    "data_mapped = map(extract_month, data)\n",
    "data_mapped_list = list(data_mapped)\n",
    "print(data_mapped_list[0])"
   ]
  },
  {
   "cell_type": "code",
   "execution_count": 7,
   "metadata": {},
   "outputs": [],
   "source": [
    "def extract_year(row):\n",
    "    # Input is the entire row from data\n",
    "    # Extract the month from the date field\n",
    "    # Add the month field to the row and return the row\n",
    "    value = row[\"Date\"]\n",
    "    YYYY = \"\"\n",
    "    # Split function in python used to divide strings based on some delimiter\n",
    "    a = value.split(\"/\")\n",
    "    YYYY = a[2]\n",
    "    # Implement logic here\n",
    "    new_row = row.copy()\n",
    "    new_row.update({\"Year\": YYYY})\n",
    "    return new_row "
   ]
  },
  {
   "cell_type": "code",
   "execution_count": 10,
   "metadata": {},
   "outputs": [
    {
     "name": "stdout",
     "output_type": "stream",
     "text": [
      "{'Date': '7/7/06', 'Open': '492.7', 'High': '495.9', 'Low': '490.0999', 'Close': '490.8', 'Volume': '807950', 'Year': '06'}\n"
     ]
    }
   ],
   "source": [
    "data_mapped = map(extract_year, data)\n",
    "data_mapped_list = list(data_mapped)\n",
    "print(data_mapped_list[0])"
   ]
  },
  {
   "cell_type": "code",
   "execution_count": null,
   "metadata": {},
   "outputs": [],
   "source": []
  }
 ],
 "metadata": {
  "interpreter": {
   "hash": "fb00f0c01367cd29234ef98d6ee35d5dad54fff2cb1a8b567bc06dceecc7a7af"
  },
  "kernelspec": {
   "display_name": "Python 3.8.8 ('base')",
   "language": "python",
   "name": "python3"
  },
  "language_info": {
   "codemirror_mode": {
    "name": "ipython",
    "version": 3
   },
   "file_extension": ".py",
   "mimetype": "text/x-python",
   "name": "python",
   "nbconvert_exporter": "python",
   "pygments_lexer": "ipython3",
   "version": "3.8.8"
  },
  "orig_nbformat": 4
 },
 "nbformat": 4,
 "nbformat_minor": 2
}
