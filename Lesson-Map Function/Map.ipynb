{
 "cells": [
  {
   "cell_type": "markdown",
   "metadata": {},
   "source": [
    "### Example 1:\n",
    "In this example, we define a function **```to_upper_case```** that converts string characters to uppercase.<br>\n",
    "\n",
    "We then use the **```map```** function to apply the **```to_upper_case```** function to each item in a list. The final **```map```** object is converted back to a list."
   ]
  },
  {
   "cell_type": "code",
   "execution_count": 1,
   "metadata": {},
   "outputs": [],
   "source": [
    "def to_upper_cas(s):\n",
    "    return str(s).upper()"
   ]
  },
  {
   "cell_type": "code",
   "execution_count": 2,
   "metadata": {},
   "outputs": [
    {
     "name": "stdout",
     "output_type": "stream",
     "text": [
      "['haythem', 'mike', 'james']\n"
     ]
    }
   ],
   "source": [
    "names = [\"haythem\", \"mike\", \"james\"]\n",
    "print(names)"
   ]
  },
  {
   "cell_type": "code",
   "execution_count": 3,
   "metadata": {},
   "outputs": [
    {
     "name": "stdout",
     "output_type": "stream",
     "text": [
      "<map object at 0x000001EB25407490>\n",
      "<class 'map'>\n"
     ]
    }
   ],
   "source": [
    "# Apply to_upper_cas function to each element in names\n",
    "names_upper = map(to_upper_cas,names) \n",
    "print(names_upper)\n",
    "print(type(names_upper))"
   ]
  },
  {
   "cell_type": "code",
   "execution_count": 4,
   "metadata": {},
   "outputs": [
    {
     "name": "stdout",
     "output_type": "stream",
     "text": [
      "['HAYTHEM', 'MIKE', 'JAMES']\n",
      "<class 'list'>\n"
     ]
    }
   ],
   "source": [
    "# Convert the names_upper map object to a Python list\n",
    "names_upper_list = list(names_upper)\n",
    "print(names_upper_list)\n",
    "print(type(names_upper_list))"
   ]
  },
  {
   "cell_type": "code",
   "execution_count": 10,
   "metadata": {},
   "outputs": [],
   "source": [
    "def remove_first_char(s):\n",
    "    for word in s:\n",
    "        word = s[1:]\n",
    "        return word"
   ]
  },
  {
   "cell_type": "code",
   "execution_count": 11,
   "metadata": {},
   "outputs": [
    {
     "name": "stdout",
     "output_type": "stream",
     "text": [
      "<map object at 0x000001EB25407BE0>\n"
     ]
    }
   ],
   "source": [
    "names = [\"haythem\", \"mike\", \"james\"]\n",
    "letter_removed = map(remove_first_char,names)\n",
    "print(letter_removed)"
   ]
  },
  {
   "cell_type": "code",
   "execution_count": 12,
   "metadata": {},
   "outputs": [
    {
     "name": "stdout",
     "output_type": "stream",
     "text": [
      "['aythem', 'ike', 'ames']\n",
      "<class 'list'>\n"
     ]
    }
   ],
   "source": [
    "letter_removed_list = list(letter_removed)\n",
    "print(letter_removed_list)\n",
    "print(type(letter_removed_list))"
   ]
  },
  {
   "cell_type": "code",
   "execution_count": null,
   "metadata": {},
   "outputs": [],
   "source": []
  }
 ],
 "metadata": {
  "interpreter": {
   "hash": "fb00f0c01367cd29234ef98d6ee35d5dad54fff2cb1a8b567bc06dceecc7a7af"
  },
  "kernelspec": {
   "display_name": "Python 3.8.8 ('base')",
   "language": "python",
   "name": "python3"
  },
  "language_info": {
   "codemirror_mode": {
    "name": "ipython",
    "version": 3
   },
   "file_extension": ".py",
   "mimetype": "text/x-python",
   "name": "python",
   "nbconvert_exporter": "python",
   "pygments_lexer": "ipython3",
   "version": "3.8.8"
  },
  "orig_nbformat": 4
 },
 "nbformat": 4,
 "nbformat_minor": 2
}
