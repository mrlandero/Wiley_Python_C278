{
 "cells": [
  {
   "cell_type": "markdown",
   "metadata": {},
   "source": [
    "### Example 7:\n",
    "In this example, we create three dictionary objects and add each object to a CSV file as a separate row.<br>\n",
    "\n",
    "When defining the dictionary objects, we use the column header labels as keys and associate a value with each key. The **```DictWriter```** class interprets the keys and adds the data to the correct column. This means that as long as each key-value pair is identified correctly, the data will be structured correctly in the final version of the file."
   ]
  },
  {
   "cell_type": "code",
   "execution_count": 1,
   "metadata": {},
   "outputs": [],
   "source": [
    "import csv"
   ]
  },
  {
   "cell_type": "code",
   "execution_count": 2,
   "metadata": {},
   "outputs": [],
   "source": [
    "# Create three rows of data; item order is not important because each dictionary uses keys to identify each value\n",
    "row_1 = {\"employee_id\":\"EMP4564576566\",\"first_name\":\"jack\",\"last_name\":\"russel\"} \n",
    "row_2 = {\"first_name\":\"jenny\",\"last_name\":\"clapper\",\"employee_id\":\"EMP9807976875\"} \n",
    "row_3 = {\"employee_id\":\"EMP4564564566\",\"last_name\":\"cruz\",\"first_name\":\"mario\"} \n",
    "field_names = [\"employee_id\",\"first_name\",\"last_name\"]"
   ]
  },
  {
   "cell_type": "code",
   "execution_count": 3,
   "metadata": {},
   "outputs": [],
   "source": [
    "with open(\"employee.csv\", \"w\") as csv_file:\n",
    "    writer = csv.DictWriter(csv_file, delimiter=\",\",fieldnames=field_names)\n",
    "    writer.writeheader()\n",
    "    writer.writerow(row_1) # Write the first row\n",
    "    writer.writerow(row_2) # Write the second row\n",
    "    writer.writerow(row_3) # Write the third row\n",
    "csv_file.close()"
   ]
  },
  {
   "cell_type": "code",
   "execution_count": 4,
   "metadata": {},
   "outputs": [
    {
     "name": "stdout",
     "output_type": "stream",
     "text": [
      "employee_id,first_name,last_name\n",
      "\n",
      "EMP4564576566,jack,russel\n",
      "\n",
      "EMP9807976875,jenny,clapper\n",
      "\n",
      "EMP4564564566,mario,cruz\n",
      "\n",
      "\n"
     ]
    }
   ],
   "source": [
    "f = open(\"employee.csv\", \"r\")\n",
    "print(f.read())\n",
    "f.close()"
   ]
  },
  {
   "cell_type": "code",
   "execution_count": null,
   "metadata": {},
   "outputs": [],
   "source": []
  }
 ],
 "metadata": {
  "interpreter": {
   "hash": "fb00f0c01367cd29234ef98d6ee35d5dad54fff2cb1a8b567bc06dceecc7a7af"
  },
  "kernelspec": {
   "display_name": "Python 3.8.8 ('base')",
   "language": "python",
   "name": "python3"
  },
  "language_info": {
   "codemirror_mode": {
    "name": "ipython",
    "version": 3
   },
   "file_extension": ".py",
   "mimetype": "text/x-python",
   "name": "python",
   "nbconvert_exporter": "python",
   "pygments_lexer": "ipython3",
   "version": "3.8.8"
  },
  "orig_nbformat": 4
 },
 "nbformat": 4,
 "nbformat_minor": 2
}
