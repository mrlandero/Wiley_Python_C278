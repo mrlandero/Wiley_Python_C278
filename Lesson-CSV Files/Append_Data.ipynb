{
 "cells": [
  {
   "cell_type": "markdown",
   "metadata": {},
   "source": [
    "### Example 5:\n",
    "In this example, we open the **employee.csv** file in append mode rather than write mode. The new data will be added to the end of the existing file without deleting any content that was already there."
   ]
  },
  {
   "cell_type": "code",
   "execution_count": 1,
   "metadata": {},
   "outputs": [],
   "source": [
    "import csv"
   ]
  },
  {
   "cell_type": "code",
   "execution_count": 2,
   "metadata": {},
   "outputs": [],
   "source": [
    "row_1 = [\"EMP4564576566\",\"jack\",\"russel\"] # First row\n",
    "row_2 = [\"EMP9807976875\",\"jenny\",\"clapper\"] # Second row\n",
    "row_3 = [\"EMP4564564566\",\"mario\",\"cruz\"] # Third row"
   ]
  },
  {
   "cell_type": "code",
   "execution_count": 3,
   "metadata": {},
   "outputs": [],
   "source": [
    "# Open file in append mode, which will add the data at the end of the file\n",
    "with open(\"employee.csv\", \"a\") as csv_file:\n",
    "    # Use the writer class to create a writer object that we will use to write data into the file\n",
    "    writer = csv.writer(csv_file,delimiter=\",\")\n",
    "    writer.writerow(row_1) # Writing the first row\n",
    "    writer.writerow(row_2) # Writing the second row\n",
    "    writer.writerow(row_3) # Writing the third row\n",
    "csv_file.close() "
   ]
  },
  {
   "cell_type": "code",
   "execution_count": 4,
   "metadata": {},
   "outputs": [
    {
     "name": "stdout",
     "output_type": "stream",
     "text": [
      "employee_id,first_name,last_name\n",
      "\n",
      "EMP2345235636,robert,balti\n",
      "\n",
      "EMP2498799899,mark,smith\n",
      "\n",
      "EMP2498989890,mary,caldwell\n",
      "\n",
      "EMP4564576566,jack,russel\n",
      "\n",
      "EMP9807976875,jenny,clapper\n",
      "\n",
      "EMP4564564566,mario,cruz\n",
      "\n",
      "\n"
     ]
    }
   ],
   "source": [
    "f = open(\"employee.csv\", \"r\")\n",
    "print(f.read())\n",
    "f.close()"
   ]
  },
  {
   "cell_type": "code",
   "execution_count": null,
   "metadata": {},
   "outputs": [],
   "source": []
  }
 ],
 "metadata": {
  "interpreter": {
   "hash": "fb00f0c01367cd29234ef98d6ee35d5dad54fff2cb1a8b567bc06dceecc7a7af"
  },
  "kernelspec": {
   "display_name": "Python 3.8.8 ('base')",
   "language": "python",
   "name": "python3"
  },
  "language_info": {
   "codemirror_mode": {
    "name": "ipython",
    "version": 3
   },
   "file_extension": ".py",
   "mimetype": "text/x-python",
   "name": "python",
   "nbconvert_exporter": "python",
   "pygments_lexer": "ipython3",
   "version": "3.8.8"
  },
  "orig_nbformat": 4
 },
 "nbformat": 4,
 "nbformat_minor": 2
}
