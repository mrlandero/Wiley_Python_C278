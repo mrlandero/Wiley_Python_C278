{
 "cells": [
  {
   "cell_type": "markdown",
   "metadata": {},
   "source": [
    "### Example 3:\n",
    "In the example below, we start with the short version of the CSV data, create a new list named **```dataset```**, use **```DictReader```** to convert each line of data into a new row, and append each row to the **```dataset```** list.<br>\n",
    "\n",
    "Note that we define the delimiter in the **```read_csv```** function and then reference the same delimiter when we call **```DictReader```**.<br>\n",
    "\n",
    "In the output, we display the number of rows as the length of the dataset, the first row only, and then the entire dataset."
   ]
  },
  {
   "cell_type": "code",
   "execution_count": 1,
   "metadata": {},
   "outputs": [],
   "source": [
    "def read_csv(filepath,delimiter=\",\"):\n",
    "    import csv\n",
    "    dataset = list()\n",
    "    with open(filepath) as f:\n",
    "        # Use the DictReader function of the CSV module to read the fileusing the same delimiter\n",
    "        csv_file = csv.DictReader(f,delimiter=\",\")\n",
    "        # csv_file is an iterable object that we can iterate through using a for-loop\n",
    "        for row in csv_file:\n",
    "            dataset.append(row)\n",
    "    return dataset"
   ]
  },
  {
   "cell_type": "code",
   "execution_count": 2,
   "metadata": {},
   "outputs": [
    {
     "name": "stdout",
     "output_type": "stream",
     "text": [
      "10\n"
     ]
    }
   ],
   "source": [
    "dataset = read_csv(\"stocks_short.csv\")\n",
    "print(len(dataset)) # Number of rows in the dataset"
   ]
  },
  {
   "cell_type": "code",
   "execution_count": 3,
   "metadata": {},
   "outputs": [
    {
     "name": "stdout",
     "output_type": "stream",
     "text": [
      "{'Date': '7/7/2006', 'Open': '492.7', 'High': '495.9', 'Low': '490.0999', 'Close': '490.8', 'Volume': '807950'}\n"
     ]
    }
   ],
   "source": [
    "print(dataset[0]) # Prints first row in the dataset"
   ]
  },
  {
   "cell_type": "code",
   "execution_count": 4,
   "metadata": {},
   "outputs": [
    {
     "name": "stdout",
     "output_type": "stream",
     "text": [
      "[{'Date': '7/7/2006', 'Open': '492.7', 'High': '495.9', 'Low': '490.0999', 'Close': '490.8', 'Volume': '807950'}, {'Date': '7/10/2006', 'Open': '493.3', 'High': '496.4', 'Low': '491.0001', 'Close': '493.4', 'Volume': '838869'}, {'Date': '7/11/2006', 'Open': '493.4', 'High': '496.7999', 'Low': '488.6', 'Close': '496.0001', 'Volume': '816880'}, {'Date': '7/12/2006', 'Open': '495.2', 'High': '497.3', 'Low': '487.1001', 'Close': '488.3', 'Volume': '1374150'}, {'Date': '7/13/2006', 'Open': '488', 'High': '488', 'Low': '478.3', 'Close': '478.7', 'Volume': '1633189'}, {'Date': '7/14/2006', 'Open': '478.5001', 'High': '480.0999', 'Low': '474.1', 'Close': '475.8', 'Volume': '1539689'}, {'Date': '7/17/2006', 'Open': '469.1', 'High': '469.5', 'Low': '463.3', 'Close': '463.9999', 'Volume': '3265409'}, {'Date': '7/18/2006', 'Open': '464.2', 'High': '468.9999', 'Low': '462.2', 'Close': '465.5', 'Volume': '1655100'}, {'Date': '7/19/2006', 'Open': '468.5001', 'High': '475.0999', 'Low': '468.3', 'Close': '472.5', 'Volume': '2621339'}, {'Date': '7/20/2006', 'Open': '472.5', 'High': '474.5', 'Low': '470.5', 'Close': '471.1', 'Volume': '1597130'}]\n"
     ]
    }
   ],
   "source": [
    "print(dataset)"
   ]
  },
  {
   "cell_type": "code",
   "execution_count": null,
   "metadata": {},
   "outputs": [],
   "source": []
  }
 ],
 "metadata": {
  "interpreter": {
   "hash": "fb00f0c01367cd29234ef98d6ee35d5dad54fff2cb1a8b567bc06dceecc7a7af"
  },
  "kernelspec": {
   "display_name": "Python 3.8.8 ('base')",
   "language": "python",
   "name": "python3"
  },
  "language_info": {
   "codemirror_mode": {
    "name": "ipython",
    "version": 3
   },
   "file_extension": ".py",
   "mimetype": "text/x-python",
   "name": "python",
   "nbconvert_exporter": "python",
   "pygments_lexer": "ipython3",
   "version": "3.8.8"
  },
  "orig_nbformat": 4
 },
 "nbformat": 4,
 "nbformat_minor": 2
}
