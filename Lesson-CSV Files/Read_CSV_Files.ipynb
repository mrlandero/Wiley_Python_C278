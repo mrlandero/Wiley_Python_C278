{
 "cells": [
  {
   "cell_type": "markdown",
   "metadata": {},
   "source": [
    "### Example 1:\n",
    "In this example, we use the **```open```** function to open an existing CSV file as a file object named **```f```**, and then we use the **```csv.reader```** function to read the contents of the file.<br>\n",
    "\n",
    "A CSV file is an iterable object, so we can use a **```for```** loop to display the contents. Because of how a CSV file is structured, the column or field names appear on the first row of the output,and the data in each of the other rows includes values for each of those columns.<br>\n",
    "\n",
    "We first print each row in its entirety, and then we print only the first and second values in each row. "
   ]
  },
  {
   "cell_type": "code",
   "execution_count": 1,
   "metadata": {},
   "outputs": [],
   "source": [
    "import csv"
   ]
  },
  {
   "cell_type": "code",
   "execution_count": 4,
   "metadata": {},
   "outputs": [
    {
     "name": "stdout",
     "output_type": "stream",
     "text": [
      "['Date', 'Open', 'High', 'Low', 'Close', 'Volume']\n",
      "==================\n",
      "Date\n",
      "Open\n",
      "['7/7/2006', '492.7', '495.9', '490.0999', '490.8', '807950']\n",
      "==================\n",
      "7/7/2006\n",
      "492.7\n",
      "['7/10/2006', '493.3', '496.4', '491.0001', '493.4', '838869']\n",
      "==================\n",
      "7/10/2006\n",
      "493.3\n",
      "['7/11/2006', '493.4', '496.7999', '488.6', '496.0001', '816880']\n",
      "==================\n",
      "7/11/2006\n",
      "493.4\n",
      "['7/12/2006', '495.2', '497.3', '487.1001', '488.3', '1374150']\n",
      "==================\n",
      "7/12/2006\n",
      "495.2\n",
      "['7/13/2006', '488', '488', '478.3', '478.7', '1633189']\n",
      "==================\n",
      "7/13/2006\n",
      "488\n",
      "['7/14/2006', '478.5001', '480.0999', '474.1', '475.8', '1539689']\n",
      "==================\n",
      "7/14/2006\n",
      "478.5001\n",
      "['7/17/2006', '469.1', '469.5', '463.3', '463.9999', '3265409']\n",
      "==================\n",
      "7/17/2006\n",
      "469.1\n",
      "['7/18/2006', '464.2', '468.9999', '462.2', '465.5', '1655100']\n",
      "==================\n",
      "7/18/2006\n",
      "464.2\n",
      "['7/19/2006', '468.5001', '475.0999', '468.3', '472.5', '2621339']\n",
      "==================\n",
      "7/19/2006\n",
      "468.5001\n",
      "['7/20/2006', '472.5', '474.5', '470.5', '471.1', '1597130']\n",
      "==================\n",
      "7/20/2006\n",
      "472.5\n"
     ]
    }
   ],
   "source": [
    "# Use open function to read the CSV file and create a file object f\n",
    "with open(\"stocks_short.csv\") as f:\n",
    "    # Use the reader class under the csv module to read the file using comma as the delimiter\n",
    "    csv_file = csv.reader(f, delimiter=\",\")\n",
    "    # CSV files are iterable objects that we can iterate through using a for-loop\n",
    "    for row in csv_file:\n",
    "        print(row) # Print entire row\n",
    "        print(\"==================\")\n",
    "        print(row[0]) # Print only first column\n",
    "        print(row[1]) # Print only second column"
   ]
  },
  {
   "cell_type": "code",
   "execution_count": null,
   "metadata": {},
   "outputs": [],
   "source": []
  }
 ],
 "metadata": {
  "interpreter": {
   "hash": "ad9fb37fa15c2fac4885b853501abc8587965d08b8586f67468c92fe4e3567d7"
  },
  "kernelspec": {
   "display_name": "Python 3.7.10 ('dev')",
   "language": "python",
   "name": "python3"
  },
  "language_info": {
   "codemirror_mode": {
    "name": "ipython",
    "version": 3
   },
   "file_extension": ".py",
   "mimetype": "text/x-python",
   "name": "python",
   "nbconvert_exporter": "python",
   "pygments_lexer": "ipython3",
   "version": "3.8.8"
  },
  "orig_nbformat": 4
 },
 "nbformat": 4,
 "nbformat_minor": 2
}
