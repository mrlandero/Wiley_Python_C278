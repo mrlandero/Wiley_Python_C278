{
 "cells": [
  {
   "cell_type": "markdown",
   "metadata": {},
   "source": [
    "### Example 2:\n",
    "This example iterates through the data in the CSV file and creates a dictionary for each row. The column names from the first row are used as the keys and values from the data in each row are paired with the keys."
   ]
  },
  {
   "cell_type": "code",
   "execution_count": 1,
   "metadata": {},
   "outputs": [],
   "source": [
    "import csv"
   ]
  },
  {
   "cell_type": "code",
   "execution_count": 2,
   "metadata": {},
   "outputs": [
    {
     "name": "stdout",
     "output_type": "stream",
     "text": [
      "{'Date': '7/7/2006', 'Open': '492.7', 'High': '495.9', 'Low': '490.0999', 'Close': '490.8', 'Volume': '807950'}\n",
      "{'Date': '7/10/2006', 'Open': '493.3', 'High': '496.4', 'Low': '491.0001', 'Close': '493.4', 'Volume': '838869'}\n",
      "{'Date': '7/11/2006', 'Open': '493.4', 'High': '496.7999', 'Low': '488.6', 'Close': '496.0001', 'Volume': '816880'}\n",
      "{'Date': '7/12/2006', 'Open': '495.2', 'High': '497.3', 'Low': '487.1001', 'Close': '488.3', 'Volume': '1374150'}\n",
      "{'Date': '7/13/2006', 'Open': '488', 'High': '488', 'Low': '478.3', 'Close': '478.7', 'Volume': '1633189'}\n",
      "{'Date': '7/14/2006', 'Open': '478.5001', 'High': '480.0999', 'Low': '474.1', 'Close': '475.8', 'Volume': '1539689'}\n",
      "{'Date': '7/17/2006', 'Open': '469.1', 'High': '469.5', 'Low': '463.3', 'Close': '463.9999', 'Volume': '3265409'}\n",
      "{'Date': '7/18/2006', 'Open': '464.2', 'High': '468.9999', 'Low': '462.2', 'Close': '465.5', 'Volume': '1655100'}\n",
      "{'Date': '7/19/2006', 'Open': '468.5001', 'High': '475.0999', 'Low': '468.3', 'Close': '472.5', 'Volume': '2621339'}\n",
      "{'Date': '7/20/2006', 'Open': '472.5', 'High': '474.5', 'Low': '470.5', 'Close': '471.1', 'Volume': '1597130'}\n"
     ]
    }
   ],
   "source": [
    "# Use open function to read the CSV file and create a file object f\n",
    "with open(\"stocks_short.csv\") as f:\n",
    "    # Use the DictReader function under the CSV module to read the file using comma as the delimiter\n",
    "    csv_file = csv.DictReader(f,delimiter=\",\")\n",
    "    # csv_file is an iterable object that we can interate through using a for-loop\n",
    "    for row in csv_file:\n",
    "        print(row) # Print entire row\n",
    "\n",
    "f.close()"
   ]
  },
  {
   "cell_type": "code",
   "execution_count": null,
   "metadata": {},
   "outputs": [],
   "source": []
  }
 ],
 "metadata": {
  "interpreter": {
   "hash": "fb00f0c01367cd29234ef98d6ee35d5dad54fff2cb1a8b567bc06dceecc7a7af"
  },
  "kernelspec": {
   "display_name": "Python 3.8.8 ('base')",
   "language": "python",
   "name": "python3"
  },
  "language_info": {
   "codemirror_mode": {
    "name": "ipython",
    "version": 3
   },
   "file_extension": ".py",
   "mimetype": "text/x-python",
   "name": "python",
   "nbconvert_exporter": "python",
   "pygments_lexer": "ipython3",
   "version": "3.8.8"
  },
  "orig_nbformat": 4
 },
 "nbformat": 4,
 "nbformat_minor": 2
}
