{
 "cells": [
  {
   "cell_type": "markdown",
   "metadata": {},
   "source": [
    "### Example 4: \n",
    "In this example, we define a series of rows, starting with a header row. We then open a CSV file and iterate through the data one row at a time to add the data to the file.<br>\n",
    "\n",
    "We use the **```\"w\"```** parameter with **```open```**, which will either overwrite an existing file or create a new file in the given path. In this example, the file does not yet exist, so Python creates a new file and adds the data to that file.\n",
    "\n",
    "We see all four rows when opening the file after creating it."
   ]
  },
  {
   "cell_type": "code",
   "execution_count": 1,
   "metadata": {},
   "outputs": [],
   "source": [
    "import csv"
   ]
  },
  {
   "cell_type": "code",
   "execution_count": 2,
   "metadata": {},
   "outputs": [],
   "source": [
    "row_1 = [\"employee_id\",\"first_name\",\"last_name\"] # Header row\n",
    "row_2 = [\"EMP2345235636\",\"robert\",\"balti\"] # First row\n",
    "row_3 = [\"EMP2498799899\",\"mark\",\"smith\"] # Second row\n",
    "row_4 = [\"EMP2498989890\",\"mary\",\"caldwell\"] # Third row"
   ]
  },
  {
   "cell_type": "code",
   "execution_count": 3,
   "metadata": {},
   "outputs": [],
   "source": [
    "with open(\"employee.csv\",\"w\") as csv_file: # Open file in write mode\n",
    "    # Use the writer class to create a writer object that we will use to write data into the file\n",
    "    writer = csv.writer(csv_file,delimiter=\",\")\n",
    "    writer.writerow(row_1) # Writing header row\n",
    "    writer.writerow(row_2) # Writing the first row\n",
    "    writer.writerow(row_3) # Writing the second row\n",
    "    writer.writerow(row_4) # Writing the third row\n",
    "csv_file.close()"
   ]
  },
  {
   "cell_type": "code",
   "execution_count": 4,
   "metadata": {},
   "outputs": [
    {
     "name": "stdout",
     "output_type": "stream",
     "text": [
      "employee_id,first_name,last_name\n",
      "\n",
      "EMP2345235636,robert,balti\n",
      "\n",
      "EMP2498799899,mark,smith\n",
      "\n",
      "EMP2498989890,mary,caldwell\n",
      "\n",
      "\n"
     ]
    }
   ],
   "source": [
    "f = open(\"employee.csv\", \"r\")\n",
    "print(f.read())\n",
    "f.close()"
   ]
  },
  {
   "cell_type": "code",
   "execution_count": null,
   "metadata": {},
   "outputs": [],
   "source": []
  }
 ],
 "metadata": {
  "interpreter": {
   "hash": "fb00f0c01367cd29234ef98d6ee35d5dad54fff2cb1a8b567bc06dceecc7a7af"
  },
  "kernelspec": {
   "display_name": "Python 3.8.8 ('base')",
   "language": "python",
   "name": "python3"
  },
  "language_info": {
   "codemirror_mode": {
    "name": "ipython",
    "version": 3
   },
   "file_extension": ".py",
   "mimetype": "text/x-python",
   "name": "python",
   "nbconvert_exporter": "python",
   "pygments_lexer": "ipython3",
   "version": "3.8.8"
  },
  "orig_nbformat": 4
 },
 "nbformat": 4,
 "nbformat_minor": 2
}
