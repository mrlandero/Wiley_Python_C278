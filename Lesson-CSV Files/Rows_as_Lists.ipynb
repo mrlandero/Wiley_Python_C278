{
 "cells": [
  {
   "cell_type": "markdown",
   "metadata": {},
   "source": [
    "### Example 6:\n",
    "In this example, we create a list named **```dataset```** that itself includes multiple lists. Each of the embedded lists represents a row of data, so when we use **```writer.writerows```**, each nested list is added to the file as a new row of data. <br>\n",
    "\n",
    "The values in each nested list must be in the same order as the columns in the CSV file; otherwise, the data will not be structured correctly in the updated file."
   ]
  },
  {
   "cell_type": "code",
   "execution_count": 1,
   "metadata": {},
   "outputs": [],
   "source": [
    "import csv"
   ]
  },
  {
   "cell_type": "code",
   "execution_count": 2,
   "metadata": {},
   "outputs": [],
   "source": [
    "dataset = [[\"EMP9807976877\",\"mary\",\"donald\"],[\"EMP9807976872\",\"jacky\",\"foreman\"],\n",
    "           [\"EMP4564564598\",\"leslie\",\"knope\"]] \n",
    "           # A list of lists: each nested list is a separate row"
   ]
  },
  {
   "cell_type": "code",
   "execution_count": 3,
   "metadata": {},
   "outputs": [],
   "source": [
    "# Open the file in append mode, which will add the data at the end of the file\n",
    "with open(\"employee.csv\", \"a\") as csv_file:\n",
    "    # Use the writer class to create a writer object that we will use to write data into the file\n",
    "    writer = csv.writer(csv_file,delimiter=\",\")\n",
    "    # Write multiple rows at once using writerows\n",
    "    writer.writerows(dataset)\n",
    "csv_file.close()"
   ]
  },
  {
   "cell_type": "code",
   "execution_count": 4,
   "metadata": {},
   "outputs": [
    {
     "name": "stdout",
     "output_type": "stream",
     "text": [
      "employee_id,first_name,last_name\n",
      "\n",
      "EMP2345235636,robert,balti\n",
      "\n",
      "EMP2498799899,mark,smith\n",
      "\n",
      "EMP2498989890,mary,caldwell\n",
      "\n",
      "EMP4564576566,jack,russel\n",
      "\n",
      "EMP9807976875,jenny,clapper\n",
      "\n",
      "EMP4564564566,mario,cruz\n",
      "\n",
      "EMP9807976877,mary,donald\n",
      "\n",
      "EMP9807976872,jacky,foreman\n",
      "\n",
      "EMP4564564598,leslie,knope\n",
      "\n",
      "\n"
     ]
    }
   ],
   "source": [
    "f = open(\"employee.csv\", \"r\")\n",
    "print(f.read())\n",
    "f.close()"
   ]
  },
  {
   "cell_type": "code",
   "execution_count": null,
   "metadata": {},
   "outputs": [],
   "source": []
  }
 ],
 "metadata": {
  "interpreter": {
   "hash": "fb00f0c01367cd29234ef98d6ee35d5dad54fff2cb1a8b567bc06dceecc7a7af"
  },
  "kernelspec": {
   "display_name": "Python 3.8.8 ('base')",
   "language": "python",
   "name": "python3"
  },
  "language_info": {
   "codemirror_mode": {
    "name": "ipython",
    "version": 3
   },
   "file_extension": ".py",
   "mimetype": "text/x-python",
   "name": "python",
   "nbconvert_exporter": "python",
   "pygments_lexer": "ipython3",
   "version": "3.8.8"
  },
  "orig_nbformat": 4
 },
 "nbformat": 4,
 "nbformat_minor": 2
}
