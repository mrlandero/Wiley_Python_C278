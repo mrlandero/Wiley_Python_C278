{
 "cells": [
  {
   "cell_type": "markdown",
   "metadata": {},
   "source": [
    "### Example 1:\n",
    "In this example, we open a text file that contains the first three paragraphs of Edwin Abbott's book, **Flatland**, as downloaded from Project Gutenberg.<br>\n",
    "\n",
    "The file itself is stored in a subdirectory named **data** that is in the same directory as this Python File, so we use the relative path **data/flatland01.txt** to locate it.<br>\n",
    "\n",
    "We open the file as a file object named **f** with the **\"r\"** option to open the book in read-only mode. We close the file at the end of the script to remove it from memory, although the file itself will remain visible in the output window."
   ]
  },
  {
   "cell_type": "code",
   "execution_count": 1,
   "metadata": {},
   "outputs": [],
   "source": [
    "f = open(\"flatland01.txt\", \"r\")"
   ]
  },
  {
   "cell_type": "code",
   "execution_count": 2,
   "metadata": {},
   "outputs": [
    {
     "name": "stdout",
     "output_type": "stream",
     "text": [
      "FLATLAND\n",
      "\n",
      "PART 1\n",
      "\n",
      "THIS WORLD\n",
      "\n",
      "SECTION 1  Of the Nature of Flatland\n",
      "\n",
      "I call our world Flatland, not because we call it so, but to make its\n",
      "nature clearer to you, my happy readers, who are privileged to live in\n",
      "Space.\n",
      "\n",
      "Imagine a vast sheet of paper on which straight Lines, Triangles,\n",
      "Squares, Pentagons, Hexagons, and other figures, instead of remaining\n",
      "fixed in their places, move freely about, on or in the surface, but\n",
      "without the power of rising above or sinking below it, very much like\n",
      "shadows--only hard with luminous edges--and you will then have a pretty\n",
      "correct notion of my country and countrymen.  Alas, a few years ago, I\n",
      "should have said \"my universe:\"  but now my mind has been opened to\n",
      "higher views of things.\n",
      "\n",
      "In such a country, you will perceive at once that it is impossible that\n",
      "there should be anything of what you call a \"solid\" kind; but I dare\n",
      "say you will suppose that we could at least distinguish by sight the\n",
      "Triangles, Squares, and other figures, moving about as I have described\n",
      "them.  On the contrary, we could see nothing of the kind, not at least\n",
      "so as to distinguish one figure from another.  Nothing was visible, nor\n",
      "could be visible, to us, except Straight Lines; and the necessity of\n",
      "this I will speedily demonstrate.\n"
     ]
    }
   ],
   "source": [
    "# We use the read() method from the file object f to read the entire file and display it using the print command\n",
    "print(f.read())"
   ]
  },
  {
   "cell_type": "code",
   "execution_count": 3,
   "metadata": {},
   "outputs": [],
   "source": [
    "# After finishing with the file object, we use the close() method to free up resources\n",
    "f.close()"
   ]
  },
  {
   "cell_type": "code",
   "execution_count": null,
   "metadata": {},
   "outputs": [],
   "source": []
  }
 ],
 "metadata": {
  "interpreter": {
   "hash": "fb00f0c01367cd29234ef98d6ee35d5dad54fff2cb1a8b567bc06dceecc7a7af"
  },
  "kernelspec": {
   "display_name": "Python 3.8.8 ('base')",
   "language": "python",
   "name": "python3"
  },
  "language_info": {
   "codemirror_mode": {
    "name": "ipython",
    "version": 3
   },
   "file_extension": ".py",
   "mimetype": "text/x-python",
   "name": "python",
   "nbconvert_exporter": "python",
   "pygments_lexer": "ipython3",
   "version": "3.8.8"
  },
  "orig_nbformat": 4
 },
 "nbformat": 4,
 "nbformat_minor": 2
}
