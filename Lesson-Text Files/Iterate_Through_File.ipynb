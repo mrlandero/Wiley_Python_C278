{
 "cells": [
  {
   "cell_type": "markdown",
   "metadata": {},
   "source": [
    "### Example 4:\n",
    "In this example, we open the file and iterate through the lines of the file.<br>\n",
    "\n",
    "Because we are using a **```for```** loop, the loop ends automatically when it reaches the last line of the file."
   ]
  },
  {
   "cell_type": "code",
   "execution_count": 1,
   "metadata": {},
   "outputs": [],
   "source": [
    "f = open(\"flatland01.txt\", \"r\")"
   ]
  },
  {
   "cell_type": "code",
   "execution_count": 2,
   "metadata": {},
   "outputs": [
    {
     "name": "stdout",
     "output_type": "stream",
     "text": [
      "FLATLAND\n",
      "\n",
      "\n",
      "\n",
      "PART 1\n",
      "\n",
      "\n",
      "\n",
      "THIS WORLD\n",
      "\n",
      "\n",
      "\n",
      "SECTION 1  Of the Nature of Flatland\n",
      "\n",
      "\n",
      "\n",
      "I call our world Flatland, not because we call it so, but to make its\n",
      "\n",
      "nature clearer to you, my happy readers, who are privileged to live in\n",
      "\n",
      "Space.\n",
      "\n",
      "\n",
      "\n",
      "Imagine a vast sheet of paper on which straight Lines, Triangles,\n",
      "\n",
      "Squares, Pentagons, Hexagons, and other figures, instead of remaining\n",
      "\n",
      "fixed in their places, move freely about, on or in the surface, but\n",
      "\n",
      "without the power of rising above or sinking below it, very much like\n",
      "\n",
      "shadows--only hard with luminous edges--and you will then have a pretty\n",
      "\n",
      "correct notion of my country and countrymen.  Alas, a few years ago, I\n",
      "\n",
      "should have said \"my universe:\"  but now my mind has been opened to\n",
      "\n",
      "higher views of things.\n",
      "\n",
      "\n",
      "\n",
      "In such a country, you will perceive at once that it is impossible that\n",
      "\n",
      "there should be anything of what you call a \"solid\" kind; but I dare\n",
      "\n",
      "say you will suppose that we could at least distinguish by sight the\n",
      "\n",
      "Triangles, Squares, and other figures, moving about as I have described\n",
      "\n",
      "them.  On the contrary, we could see nothing of the kind, not at least\n",
      "\n",
      "so as to distinguish one figure from another.  Nothing was visible, nor\n",
      "\n",
      "could be visible, to us, except Straight Lines; and the necessity of\n",
      "\n",
      "this I will speedily demonstrate.\n"
     ]
    }
   ],
   "source": [
    "for line in f: # The file object can be iterated on at the line level\n",
    "    print(line) # With each iteration, line contains the current line"
   ]
  },
  {
   "cell_type": "code",
   "execution_count": 3,
   "metadata": {},
   "outputs": [],
   "source": [
    "f.close()"
   ]
  },
  {
   "cell_type": "code",
   "execution_count": null,
   "metadata": {},
   "outputs": [],
   "source": []
  }
 ],
 "metadata": {
  "interpreter": {
   "hash": "fb00f0c01367cd29234ef98d6ee35d5dad54fff2cb1a8b567bc06dceecc7a7af"
  },
  "kernelspec": {
   "display_name": "Python 3.8.8 ('base')",
   "language": "python",
   "name": "python3"
  },
  "language_info": {
   "codemirror_mode": {
    "name": "ipython",
    "version": 3
   },
   "file_extension": ".py",
   "mimetype": "text/x-python",
   "name": "python",
   "nbconvert_exporter": "python",
   "pygments_lexer": "ipython3",
   "version": "3.8.8"
  },
  "orig_nbformat": 4
 },
 "nbformat": 4,
 "nbformat_minor": 2
}
