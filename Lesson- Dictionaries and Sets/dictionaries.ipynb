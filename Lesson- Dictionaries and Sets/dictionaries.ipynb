{
 "cells": [
  {
   "cell_type": "markdown",
   "metadata": {},
   "source": [
    "## Concept 1: Dictionaries\n",
    "A dictionary is a collection of items that uses defined keys.<br>\n",
    "\n",
    "The key acts as a unique index, which does not have to be an integer, and each key maps to a specific value in the dictionary. This allows us to create more meaningful indexes that we can use to retrieve and manage the data stored in the collection."
   ]
  },
  {
   "cell_type": "markdown",
   "metadata": {},
   "source": [
    "### Example 1:\n",
    "Let's create a quick dictionary for a collection of student names.<br>\n",
    "\n",
    "We start by defining an empty dictionary named **```students_dict```**.<br>\n",
    "\n",
    "We then add individual items to the dictionary, using a key for each entry along with the student's first name. Note that the items do not have to be in a specific order, as long as each item has a unique key."
   ]
  },
  {
   "cell_type": "code",
   "execution_count": 4,
   "metadata": {},
   "outputs": [
    {
     "name": "stdout",
     "output_type": "stream",
     "text": [
      "{}\n",
      "{'X10000': 'Michael'}\n",
      "{'X10000': 'Michael', 'X10002': 'Neil'}\n",
      "{'X10000': 'Michael', 'X10002': 'Neil', 'X10001': 'Karen'}\n"
     ]
    }
   ],
   "source": [
    "students_dict = dict()\n",
    "print(students_dict)\n",
    "\n",
    "# Assign the key x10000, the value Michael\n",
    "students_dict['X10000'] = \"Michael\"\n",
    "print(students_dict)\n",
    "\n",
    "# Assign the key X10002, the value Neil\n",
    "students_dict['X10002'] = \"Neil\"\n",
    "print(students_dict)\n",
    "\n",
    "# Assign the key X10001, the value Karen\n",
    "students_dict['X10001'] = \"Karen\"\n",
    "print(students_dict)"
   ]
  },
  {
   "cell_type": "markdown",
   "metadata": {},
   "source": [
    "### Practice 1a:\n",
    "Starting with the same dictionary example, add another record with the same key as an existing record, such as \"X10001\": \"Mary\". Before running the updated code, predict what you think will happen, keeping in mind that a dictionary cannot include the same key in more than one record.<br>\n",
    "\n",
    "Was your prediction correct?"
   ]
  },
  {
   "cell_type": "code",
   "execution_count": 5,
   "metadata": {},
   "outputs": [
    {
     "name": "stdout",
     "output_type": "stream",
     "text": [
      "{}\n",
      "{'X10000': 'Michael'}\n",
      "{'X10000': 'Michael', 'X10002': 'Neil'}\n",
      "{'X10000': 'Michael', 'X10002': 'Neil', 'X10001': 'Karen'}\n",
      "{'X10000': 'Michael', 'X10002': 'Neil', 'X10001': 'Mary'}\n"
     ]
    }
   ],
   "source": [
    "students_dict = dict()\n",
    "print(students_dict)\n",
    "\n",
    "# Assign the key x10000, the value Michael\n",
    "students_dict['X10000'] = \"Michael\"\n",
    "print(students_dict)\n",
    "\n",
    "# Assign the key X10002, the value Neil\n",
    "students_dict['X10002'] = \"Neil\"\n",
    "print(students_dict)\n",
    "\n",
    "# Assign the key X10001, the value Karen\n",
    "students_dict['X10001'] = \"Karen\"\n",
    "print(students_dict)\n",
    "\n",
    "students_dict['X10001'] = \"Mary\" # 1. Error 2. Mary replaces Karen\n",
    "print(students_dict)\n",
    "\n",
    "# My second prediction was correct, not my first prediction"
   ]
  },
  {
   "cell_type": "markdown",
   "metadata": {},
   "source": [
    "### Practice 1b:\n",
    "Create a dictionary that contains key-value pairs of your choice. The dictionary should have at least four key-value pairs. Make sure to use meaningful keys and values, sp you would eventually be able to up a value using its key.<br>\n",
    "\n",
    "Suggestions include:<br>\n",
    "* Names and phone numbers\n",
    "* Menu prices\n",
    "* RPG players and roles\n",
    "* Text acronyms and their meanings<br>\n",
    "\n",
    "Remember that each key must be unique in the dictionary. However, key-value pairs can be added in any order."
   ]
  },
  {
   "cell_type": "code",
   "execution_count": 8,
   "metadata": {},
   "outputs": [
    {
     "name": "stdout",
     "output_type": "stream",
     "text": [
      "{'Hot Dog': 3.99, 'Hamburger': 5.99, 'Combo': 8.99, 'Steak Sandwich': 12.99}\n"
     ]
    }
   ],
   "source": [
    "# Dictionary for Menu items and their prices\n",
    "menu_dict = dict()\n",
    "menu_dict[\"Hot Dog\"] = 3.99\n",
    "menu_dict[\"Hamburger\"] = 5.99\n",
    "menu_dict[\"Combo\"] = 8.99\n",
    "menu_dict[\"Steak Sandwich\"] = 12.99 \n",
    "print(menu_dict)\n",
    "#menu_dict[]"
   ]
  },
  {
   "cell_type": "markdown",
   "metadata": {},
   "source": [
    "## Concept 2: Retrieving Items from a Dictionary\n",
    "We can access specific key-value pairs in a dictionary using **```dict_name[key]```**."
   ]
  },
  {
   "cell_type": "markdown",
   "metadata": {},
   "source": [
    "### Example 2:\n",
    "In this example, we create the same dictionary from the previous example and then we retrieve one of the records.<br>\n",
    "\n",
    "Note that we do not have to know the order of items in the dictionary, as we would with a list or tuple. We simply need to know what key is assigned to the value we want to retreive."
   ]
  },
  {
   "cell_type": "code",
   "execution_count": 9,
   "metadata": {},
   "outputs": [
    {
     "name": "stdout",
     "output_type": "stream",
     "text": [
      "{}\n",
      "{'X10000': 'Michael'}\n",
      "{'X10000': 'Michael', 'X10002': 'Neil'}\n",
      "{'X10000': 'Michael', 'X10002': 'Neil', 'X10001': 'Karen'}\n",
      "Neil\n"
     ]
    }
   ],
   "source": [
    "students_dict = dict()\n",
    "print(students_dict)\n",
    "\n",
    "# Assign the key x10000, the value Michael\n",
    "students_dict['X10000'] = \"Michael\"\n",
    "print(students_dict)\n",
    "\n",
    "# Assign the key X10002, the value Neil\n",
    "students_dict['X10002'] = \"Neil\"\n",
    "print(students_dict)\n",
    "\n",
    "# Assign the key X10001, the value Karen\n",
    "students_dict['X10001'] = \"Karen\"\n",
    "print(students_dict)\n",
    "\n",
    "print(students_dict['X10002'])"
   ]
  },
  {
   "cell_type": "markdown",
   "metadata": {},
   "source": [
    "### Practice 2:\n",
    "Use the two lists below to create a dictionary where the state abbreviations are used as keys and the values are the respective populations.<br>\n",
    "\n",
    "The state and populations lists are in the same order, e.g., CA has a population of 39557045.<br>\n",
    "\n",
    "After creating the dictionary, retrieve the population of each state individually. "
   ]
  },
  {
   "cell_type": "code",
   "execution_count": 14,
   "metadata": {},
   "outputs": [
    {
     "name": "stdout",
     "output_type": "stream",
     "text": [
      "{'CA': 39557045, 'NY': 19542209, 'KY': 4468402}\n",
      "The population of California is 39557045\n",
      "The population of New York is 19542209\n",
      "The population of Kentucky is 4468402\n"
     ]
    }
   ],
   "source": [
    "states = ['CA', 'NY', 'KY']\n",
    "population  = [39557045,19542209,4468402]\n",
    " \n",
    "# your code here\n",
    "states_dict = {}\n",
    "\n",
    "for key in states:\n",
    "    for values in population:\n",
    "        states_dict[key] = values\n",
    "        population.remove(values)\n",
    "        break\n",
    "print(states_dict)\n",
    "\n",
    "# Print each population individually\n",
    "print(\"The population of California is\", states_dict['CA'])\n",
    "print(\"The population of New York is\", states_dict['NY'])\n",
    "print(\"The population of Kentucky is\", states_dict['KY'])"
   ]
  },
  {
   "cell_type": "markdown",
   "metadata": {},
   "source": [
    "## Concept 3:\n",
    "We can use a **```for```** loop to iterate through a dictionary using the **```keys()```** method, using the syntax:<br>\n",
    "\n",
    "&nbsp;&nbsp;&nbsp;**```for id in dictionary.keys():```**<br>\n",
    "\n",
    "This will look at each key value in the dictionary and return the value associated with each key. As with other uses of **```for```** and **```in```**, the process stops after the last item in the dictionary."
   ]
  },
  {
   "cell_type": "markdown",
   "metadata": {},
   "source": [
    "### Example 3:\n",
    "In this example, we use the **```keys()```** method to retrieve each student's name from the dictionary as an individual value."
   ]
  },
  {
   "cell_type": "code",
   "execution_count": 16,
   "metadata": {},
   "outputs": [
    {
     "name": "stdout",
     "output_type": "stream",
     "text": [
      "Michael\n",
      "Neil\n",
      "Karen\n"
     ]
    }
   ],
   "source": [
    "students_dict = dict()\n",
    "#print(students_dict)\n",
    "\n",
    "# Assign the key x10000, the value Michael\n",
    "students_dict['X10000'] = \"Michael\"\n",
    "#print(students_dict)\n",
    "\n",
    "# Assign the key X10002, the value Neil\n",
    "students_dict['X10002'] = \"Neil\"\n",
    "#print(students_dict)\n",
    "\n",
    "# Assign the key X10001, the value Karen\n",
    "students_dict['X10001'] = \"Karen\"\n",
    "#print(students_dict)\n",
    "\n",
    "for id in students_dict.keys():\n",
    "    print(students_dict[id])"
   ]
  },
  {
   "cell_type": "markdown",
   "metadata": {},
   "source": [
    "### Practice 3:\n",
    "Write a script that creates a dictionary and then uses a **```for```** loop to display the individual values in the dictionary.<br>\n",
    "\n",
    "You can use the practice dictionary you created earlier in this lesson, if you wish."
   ]
  },
  {
   "cell_type": "code",
   "execution_count": 19,
   "metadata": {},
   "outputs": [
    {
     "name": "stdout",
     "output_type": "stream",
     "text": [
      "Hot Dog : 3.99\n",
      "Hamburger : 5.99\n",
      "Combo : 8.99\n",
      "Steak Sandwich : 12.99\n"
     ]
    }
   ],
   "source": [
    "menu_dict = dict()\n",
    "menu_dict[\"Hot Dog\"] = 3.99\n",
    "menu_dict[\"Hamburger\"] = 5.99\n",
    "menu_dict[\"Combo\"] = 8.99\n",
    "menu_dict[\"Steak Sandwich\"] = 12.99 \n",
    "#print(menu_dict)\n",
    "for item in menu_dict.keys():\n",
    "    print(item,\":\",menu_dict[item])"
   ]
  },
  {
   "cell_type": "markdown",
   "metadata": {},
   "source": [
    "## Concept 4: items() Method\n",
    "We can also use a **```for```** loop to iterate through a dictionary using the **```items()```** method.<br>\n",
    "\n",
    "While the **```keys()```** method works to retrieve values from a dictionary, we can use the **```items()```** method to retrieve either keys or values."
   ]
  },
  {
   "cell_type": "markdown",
   "metadata": {},
   "source": [
    "### Example 4:\n",
    "In this example, we retrieve the individual keys as well as the individual values."
   ]
  },
  {
   "cell_type": "code",
   "execution_count": 20,
   "metadata": {},
   "outputs": [
    {
     "name": "stdout",
     "output_type": "stream",
     "text": [
      "X10000 : Michael\n",
      "X10002 : Neil\n",
      "X10001 : Karen\n"
     ]
    }
   ],
   "source": [
    "students_dict = dict()\n",
    "students_dict['X10000'] = 'Michael'\n",
    "students_dict['X10002'] = 'Neil'\n",
    "students_dict['X10001'] = 'Karen'\n",
    "\n",
    "for key,value in students_dict.items():\n",
    "    print(key,\":\",value)"
   ]
  },
  {
   "cell_type": "markdown",
   "metadata": {},
   "source": [
    "### Practice 4:\n",
    "Create a program that asks the user for a series of key value pairs and assigns each pair to the same dictionary. Display the contents of the dictionary in the last step, in the format \"key:value\", with each key-value pair on a separate line."
   ]
  },
  {
   "cell_type": "code",
   "execution_count": 25,
   "metadata": {},
   "outputs": [
    {
     "name": "stdout",
     "output_type": "stream",
     "text": [
      "Gumbo : 10.99\n",
      "Jambalaya : 15.99\n",
      "Eutofee : 19.99\n"
     ]
    }
   ],
   "source": [
    "user_dict = {}\n",
    "key1,value1 = input(\"Create a new menu item and the price of that item: \").split()\n",
    "user_dict[key1] = float(value1)\n",
    "key2,value2 = input(\"Create a second new menu item and the price of that item: \").split()\n",
    "user_dict[key2] = float(value2)\n",
    "key3,value3 = input(\"Create a third new menu item and the price of that item: \").split()\n",
    "user_dict[key3] = float(value3)\n",
    "#print(user_dict)\n",
    "for key,value in user_dict.items():\n",
    "    print(key,\":\",value)"
   ]
  },
  {
   "cell_type": "markdown",
   "metadata": {},
   "source": [
    "## Concept 5: Generating a Dictionary\n",
    "In the previous examples, we first created an empty dictionary and then we added items to that dictionary. Another option is to create the dictionary and its key-value pairs in the same step.<br>\n",
    "\n",
    "To create the dictionary and values in one step:<br>\n",
    "* The dictionary is named using a variable, just as we have done in earlier examples.\n",
    "* The data collection is included in curly brackets: **```{}```**.\n",
    "* Each item is defined using the syntax **```\"key\":value```**.\n",
    "* Items are separated by commas."
   ]
  },
  {
   "cell_type": "markdown",
   "metadata": {},
   "source": [
    "### Example 5:\n",
    "Here, we create a dictionary that includes values for name, age, and address.<br>\n",
    "\n",
    "Note that string values in each pair should be enclosed in quotation marks. Quotation marks are not required for non-string types."
   ]
  },
  {
   "cell_type": "code",
   "execution_count": 26,
   "metadata": {},
   "outputs": [
    {
     "name": "stdout",
     "output_type": "stream",
     "text": [
      "{'name': 'Robert', 'age': 34, 'address': '123 Main Street, Lousville, KY'}\n"
     ]
    }
   ],
   "source": [
    "info = {\n",
    "    \"name\": \"Robert\",\n",
    "    \"age\": 34,\n",
    "    \"address\": \"123 Main Street, Lousville, KY\"\n",
    "}\n",
    "\n",
    "print(info)"
   ]
  },
  {
   "cell_type": "markdown",
   "metadata": {},
   "source": [
    "### Practice 5:\n",
    "The code below includes 2 lists: one for each state's abbreviation and the other for the full name of each state. Each list represents the states in the same order.<br>\n",
    "\n",
    "Transform the lists into a single dictionary of key-value pairs, where:<br>\n",
    "* The key is the state abbreviation\n",
    "* The value is the full state name<br>\n",
    "\n",
    "Print the list of states from the dictionary, displaying both the abbreviation and the name of the state in the output."
   ]
  },
  {
   "cell_type": "code",
   "execution_count": 29,
   "metadata": {},
   "outputs": [
    {
     "name": "stdout",
     "output_type": "stream",
     "text": [
      "{'AL': 'Alabama', 'AK': 'Alaska', 'AZ': 'Arizona', 'AR': 'Arkansas', 'CA': 'California', 'CO': 'Colorado', 'CT': 'Connecticut', 'DE': 'Delaware', 'FL': 'Florida', 'GA': 'Georgia', 'HI': 'Hawaii', 'ID': 'Idaho', 'IL': 'Illinois', 'IN': 'Indiana', 'IA': 'Iowa', 'KS': 'Kansas', 'KY': 'Kentucky', 'LA': 'Louisiana', 'ME': 'Maine', 'MD': 'Maryland', 'MA': 'Massachusetts', 'MI': 'Michigan', 'MN': 'Minnesota', 'MS': 'Mississippi', 'MO': 'Missouri', 'MT': 'Montana', 'NE': 'Nebraska', 'NV': 'Nevada', 'NH': 'New Hampshire', 'NJ': 'New Jersey', 'NM': 'New Mexico', 'NY': 'New York', 'NC': 'North Carolina', 'ND': 'North Dakota', 'OH': 'Ohio', 'OK': 'Oklahoma', 'OR': 'Oregon', 'PA': 'Pennsylvania', 'RI': 'Rhode Island', 'SC': 'South Carolina', 'SD': 'South Dakota', 'TN': 'Tennessee', 'TX': 'Texas', 'UT': 'Utah', 'VT': 'Vermont', 'VA': 'Virginia', 'WA': 'Washington', 'WV': 'West Virginia', 'WI': 'Wisconsin', 'WY': 'Wyoming'}\n",
      "AL : Alabama\n",
      "AK : Alaska\n",
      "AZ : Arizona\n",
      "AR : Arkansas\n",
      "CA : California\n",
      "CO : Colorado\n",
      "CT : Connecticut\n",
      "DE : Delaware\n",
      "FL : Florida\n",
      "GA : Georgia\n",
      "HI : Hawaii\n",
      "ID : Idaho\n",
      "IL : Illinois\n",
      "IN : Indiana\n",
      "IA : Iowa\n",
      "KS : Kansas\n",
      "KY : Kentucky\n",
      "LA : Louisiana\n",
      "ME : Maine\n",
      "MD : Maryland\n",
      "MA : Massachusetts\n",
      "MI : Michigan\n",
      "MN : Minnesota\n",
      "MS : Mississippi\n",
      "MO : Missouri\n",
      "MT : Montana\n",
      "NE : Nebraska\n",
      "NV : Nevada\n",
      "NH : New Hampshire\n",
      "NJ : New Jersey\n",
      "NM : New Mexico\n",
      "NY : New York\n",
      "NC : North Carolina\n",
      "ND : North Dakota\n",
      "OH : Ohio\n",
      "OK : Oklahoma\n",
      "OR : Oregon\n",
      "PA : Pennsylvania\n",
      "RI : Rhode Island\n",
      "SC : South Carolina\n",
      "SD : South Dakota\n",
      "TN : Tennessee\n",
      "TX : Texas\n",
      "UT : Utah\n",
      "VT : Vermont\n",
      "VA : Virginia\n",
      "WA : Washington\n",
      "WV : West Virginia\n",
      "WI : Wisconsin\n",
      "WY : Wyoming\n"
     ]
    }
   ],
   "source": [
    "states_dict = {}\n",
    "states_abbrev = [\"AL\", \"AK\", \"AZ\", \"AR\", \"CA\", \"CO\", \"CT\", \"DE\", \"FL\", \"GA\", \n",
    "          \"HI\", \"ID\", \"IL\", \"IN\", \"IA\", \"KS\", \"KY\", \"LA\", \"ME\", \"MD\", \n",
    "          \"MA\", \"MI\", \"MN\", \"MS\", \"MO\", \"MT\", \"NE\", \"NV\", \"NH\", \"NJ\", \n",
    "          \"NM\", \"NY\", \"NC\", \"ND\", \"OH\", \"OK\", \"OR\", \"PA\", \"RI\", \"SC\", \n",
    "          \"SD\", \"TN\", \"TX\", \"UT\", \"VT\", \"VA\", \"WA\", \"WV\", \"WI\", \"WY\"]\n",
    " \n",
    "states_full = [\"Alabama\", \"Alaska\", \"Arizona\", \"Arkansas\", \"California\", \"Colorado\",\n",
    "  \"Connecticut\", \"Delaware\", \"Florida\", \"Georgia\", \"Hawaii\", \"Idaho\", \"Illinois\",\n",
    "  \"Indiana\", \"Iowa\", \"Kansas\", \"Kentucky\", \"Louisiana\", \"Maine\", \"Maryland\",\n",
    "  \"Massachusetts\", \"Michigan\", \"Minnesota\", \"Mississippi\", \"Missouri\", \"Montana\",\n",
    "  \"Nebraska\", \"Nevada\", \"New Hampshire\", \"New Jersey\", \"New Mexico\", \"New York\",\n",
    "  \"North Carolina\", \"North Dakota\", \"Ohio\", \"Oklahoma\", \"Oregon\", \"Pennsylvania\",\n",
    "  \"Rhode Island\", \"South Carolina\", \"South Dakota\", \"Tennessee\", \"Texas\", \"Utah\",\n",
    "  \"Vermont\", \"Virginia\", \"Washington\", \"West Virginia\", \"Wisconsin\", \"Wyoming\"]\n",
    " \n",
    "# your code here\n",
    "for key in states_abbrev:\n",
    "    for values in states_full:\n",
    "        states_dict[key] = values\n",
    "        states_full.remove(values)\n",
    "        break\n",
    "print(states_dict)\n",
    "for key,value in states_dict.items():\n",
    "    print(key,\":\",value)"
   ]
  },
  {
   "cell_type": "markdown",
   "metadata": {},
   "source": [
    "## Concept 6: values() and keys() Methods\n",
    "We can use the **```keys```** or **```values```** method in the **```dictionary```** class to retrieve the keys or values stored in a dictionary. "
   ]
  },
  {
   "cell_type": "markdown",
   "metadata": {},
   "source": [
    "### Example 6:\n",
    "This example demonstrates the use of all three methods: **```keys(), values(),```** and **```items().```**<br>\n",
    "* The first collection displays each individual key in the dictionary.\n",
    "* The second displays the values.\n",
    "* The third collection displays the key-value pairs."
   ]
  },
  {
   "cell_type": "code",
   "execution_count": 32,
   "metadata": {},
   "outputs": [
    {
     "name": "stdout",
     "output_type": "stream",
     "text": [
      "dict_keys(['X10000', 'X10002', 'X10001'])\n",
      "dict_values(['Michael', 'Neil', 'Karen'])\n",
      "dict_items([('X10000', 'Michael'), ('X10002', 'Neil'), ('X10001', 'Karen')])\n"
     ]
    }
   ],
   "source": [
    "students_dict = dict()\n",
    "students_dict['X10000'] = 'Michael'\n",
    "students_dict['X10002'] = 'Neil'\n",
    "students_dict['X10001'] = 'Karen'\n",
    "\n",
    "print(students_dict.keys())\n",
    "print(students_dict.values())\n",
    "print(students_dict.items())"
   ]
  },
  {
   "cell_type": "markdown",
   "metadata": {},
   "source": [
    "### Practice 6:\n",
    "Now let's do the opposite of the last activity.<br>\n",
    "\n",
    "Transform the dictionary below into two separate lists. One list should contain the state abbreviations, and the other one should contain the full name of each state. You must preserve the same order in both lists.<br>\n",
    "\n",
    "Print both lists after they have been generated."
   ]
  },
  {
   "cell_type": "code",
   "execution_count": 35,
   "metadata": {},
   "outputs": [
    {
     "name": "stdout",
     "output_type": "stream",
     "text": [
      "The states' abbreviations are:\n",
      "['AK', 'AL', 'AR', 'AS', 'AZ', 'CA', 'CO', 'CT', 'DC', 'DE', 'FL', 'GA', 'GU', 'HI', 'IA', 'ID', 'IL', 'IN', 'KS', 'KY', 'LA', 'MA', 'MD', 'ME', 'MI', 'MN', 'MO', 'MP', 'MS', 'MT', 'NA', 'NC', 'ND', 'NE', 'NH', 'NJ', 'NM', 'NV', 'NY', 'OH', 'OK', 'OR', 'PA', 'PR', 'RI', 'SC', 'SD', 'TN', 'TX', 'UT', 'VA', 'VI', 'VT', 'WA', 'WI', 'WV', 'WY']\n",
      "\n",
      "The states' full names are:\n",
      "['Alaska', 'Alabama', 'Arkansas', 'American Samoa', 'Arizona', 'California', 'Colorado', 'Connecticut', 'District of Columbia', 'Delaware', 'Florida', 'Georgia', 'Guam', 'Hawaii', 'Iowa', 'Idaho', 'Illinois', 'Indiana', 'Kansas', 'Kentucky', 'Louisiana', 'Massachusetts', 'Maryland', 'Maine', 'Michigan', 'Minnesota', 'Missouri', 'Northern Mariana Islands', 'Mississippi', 'Montana', 'National', 'North Carolina', 'North Dakota', 'Nebraska', 'New Hampshire', 'New Jersey', 'New Mexico', 'Nevada', 'New York', 'Ohio', 'Oklahoma', 'Oregon', 'Pennsylvania', 'Puerto Rico', 'Rhode Island', 'South Carolina', 'South Dakota', 'Tennessee', 'Texas', 'Utah', 'Virginia', 'Virgin Islands', 'Vermont', 'Washington', 'Wisconsin', 'West Virginia', 'Wyoming']\n"
     ]
    }
   ],
   "source": [
    "states = {\n",
    "        'AK': 'Alaska',\n",
    "        'AL': 'Alabama',\n",
    "        'AR': 'Arkansas',\n",
    "        'AS': 'American Samoa',\n",
    "        'AZ': 'Arizona',\n",
    "        'CA': 'California',\n",
    "        'CO': 'Colorado',\n",
    "        'CT': 'Connecticut',\n",
    "        'DC': 'District of Columbia',\n",
    "        'DE': 'Delaware',\n",
    "        'FL': 'Florida',\n",
    "        'GA': 'Georgia',\n",
    "        'GU': 'Guam',\n",
    "        'HI': 'Hawaii',\n",
    "        'IA': 'Iowa',\n",
    "        'ID': 'Idaho',\n",
    "        'IL': 'Illinois',\n",
    "        'IN': 'Indiana',\n",
    "        'KS': 'Kansas',\n",
    "        'KY': 'Kentucky',\n",
    "        'LA': 'Louisiana',\n",
    "        'MA': 'Massachusetts',\n",
    "        'MD': 'Maryland',\n",
    "        'ME': 'Maine',\n",
    "        'MI': 'Michigan',\n",
    "        'MN': 'Minnesota',\n",
    "        'MO': 'Missouri',\n",
    "        'MP': 'Northern Mariana Islands',\n",
    "        'MS': 'Mississippi',\n",
    "        'MT': 'Montana',\n",
    "        'NA': 'National',\n",
    "        'NC': 'North Carolina',\n",
    "        'ND': 'North Dakota',\n",
    "        'NE': 'Nebraska',\n",
    "        'NH': 'New Hampshire',\n",
    "        'NJ': 'New Jersey',\n",
    "        'NM': 'New Mexico',\n",
    "        'NV': 'Nevada',\n",
    "        'NY': 'New York',\n",
    "        'OH': 'Ohio',\n",
    "        'OK': 'Oklahoma',\n",
    "        'OR': 'Oregon',\n",
    "        'PA': 'Pennsylvania',\n",
    "        'PR': 'Puerto Rico',\n",
    "        'RI': 'Rhode Island',\n",
    "        'SC': 'South Carolina',\n",
    "        'SD': 'South Dakota',\n",
    "        'TN': 'Tennessee',\n",
    "        'TX': 'Texas',\n",
    "        'UT': 'Utah',\n",
    "        'VA': 'Virginia',\n",
    "        'VI': 'Virgin Islands',\n",
    "        'VT': 'Vermont',\n",
    "        'WA': 'Washington',\n",
    "        'WI': 'Wisconsin',\n",
    "        'WV': 'West Virginia',\n",
    "        'WY': 'Wyoming'\n",
    "}\n",
    " \n",
    "# your code here\n",
    "state_abbrev_list = list(states.keys())\n",
    "state_full_list = list(states.values())\n",
    "print(\"The states' abbreviations are:\")\n",
    "print(state_abbrev_list)\n",
    "print(\"\\nThe states' full names are:\")\n",
    "print(state_full_list)"
   ]
  },
  {
   "cell_type": "markdown",
   "metadata": {},
   "source": [
    "## Concept 7: get() Method\n",
    "We can use the **```get()```** method to access a specific key-value pair in a dictionary by referencing the index(key) for that pair.<br>\n",
    "\n",
    "This is an alternative to using **```dict_name[key]```**."
   ]
  },
  {
   "cell_type": "markdown",
   "metadata": {},
   "source": [
    "### Example 7:\n",
    "In this example, we create a dictionary with name, age, and address data. We then use **```get()```** to retrieve the \"name\" value from the dictionary."
   ]
  },
  {
   "cell_type": "code",
   "execution_count": 36,
   "metadata": {},
   "outputs": [
    {
     "name": "stdout",
     "output_type": "stream",
     "text": [
      "Robert\n"
     ]
    }
   ],
   "source": [
    "info = {\n",
    "  \"name\": \"Robert\",\n",
    "  \"age\": 34,\n",
    "  \"address\": \"123 Main Street, Louisville, KY\"\n",
    "}\n",
    "\n",
    "# Access the value of the key name directly\n",
    "name = info.get(\"name\")\n",
    "print(name)"
   ]
  },
  {
   "cell_type": "markdown",
   "metadata": {},
   "source": [
    "### Practice 7:\n",
    "Complete the program below to include the following steps:<br>\n",
    "* Ask the user for a state abbreviation.\n",
    "* Display the full name of the state if it exists in the dictionary or an error message if the abbreviation does not exist in the dictionary."
   ]
  },
  {
   "cell_type": "code",
   "execution_count": 40,
   "metadata": {},
   "outputs": [
    {
     "name": "stdout",
     "output_type": "stream",
     "text": [
      "MD : Maryland\n"
     ]
    }
   ],
   "source": [
    "states = {\n",
    "        'AK': 'Alaska',\n",
    "        'AL': 'Alabama',\n",
    "        'AR': 'Arkansas',\n",
    "        'AS': 'American Samoa',\n",
    "        'AZ': 'Arizona',\n",
    "        'CA': 'California',\n",
    "        'CO': 'Colorado',\n",
    "        'CT': 'Connecticut',\n",
    "        'DE': 'Delaware',\n",
    "        'FL': 'Florida',\n",
    "        'GA': 'Georgia',\n",
    "        'GU': 'Guam',\n",
    "        'HI': 'Hawaii',\n",
    "        'IA': 'Iowa',\n",
    "        'ID': 'Idaho',\n",
    "        'IL': 'Illinois',\n",
    "        'IN': 'Indiana',\n",
    "        'KS': 'Kansas',\n",
    "        'KY': 'Kentucky',\n",
    "        'LA': 'Louisiana',\n",
    "        'MA': 'Massachusetts',\n",
    "        'MD': 'Maryland',\n",
    "        'ME': 'Maine',\n",
    "        'MI': 'Michigan',\n",
    "        'MN': 'Minnesota',\n",
    "        'MO': 'Missouri',\n",
    "        'MP': 'Northern Mariana Islands',\n",
    "        'MS': 'Mississippi',\n",
    "        'MT': 'Montana',\n",
    "        'NA': 'National',\n",
    "        'NC': 'North Carolina',\n",
    "        'ND': 'North Dakota',\n",
    "        'NE': 'Nebraska',\n",
    "        'NH': 'New Hampshire',\n",
    "        'NJ': 'New Jersey',\n",
    "        'NM': 'New Mexico',\n",
    "        'NV': 'Nevada',\n",
    "        'NY': 'New York',\n",
    "        'OH': 'Ohio',\n",
    "        'OK': 'Oklahoma',\n",
    "        'OR': 'Oregon',\n",
    "        'PA': 'Pennsylvania',\n",
    "        'PR': 'Puerto Rico',\n",
    "        'RI': 'Rhode Island',\n",
    "        'SC': 'South Carolina',\n",
    "        'SD': 'South Dakota',\n",
    "        'TN': 'Tennessee',\n",
    "        'TX': 'Texas',\n",
    "        'UT': 'Utah',\n",
    "        'VA': 'Virginia',\n",
    "        'VI': 'Virgin Islands',\n",
    "        'VT': 'Vermont',\n",
    "        'WA': 'Washington',\n",
    "        'WI': 'Wisconsin',\n",
    "        'WV': 'West Virginia',\n",
    "        'WY': 'Wyoming'\n",
    "}\n",
    " \n",
    "# your code here\n",
    "state = input(\"Enter a state abreviation and I'll give you the full state name: \")\n",
    "while state:\n",
    "    if state in states.keys():\n",
    "        print(state,\":\",states[state])\n",
    "        break\n",
    "    else:\n",
    "        state = input(\"Sorry, that state abrreviation does not exist. Please try again: \")"
   ]
  },
  {
   "cell_type": "markdown",
   "metadata": {},
   "source": [
    "## Concept 8: Clearing a Dictionary\n",
    "We can use the **```clear```** method to delete all key-value pairs from a dictionary.<br>\n",
    "\n",
    "This does not delete the dictionary variable. It simply removes all data from the dictionary. This function is particularly useful if you want to reset and rebuild a dictionary to update its contents quickly."
   ]
  },
  {
   "cell_type": "markdown",
   "metadata": {},
   "source": [
    "### Example 8:\n",
    "This example shows how to use **```clear()```** to empty a dictionary. Note that the **```print```** command at the end displays an empty dictionary. If the dictionary did not exist, Python would throw an error because it would not recognize the variable."
   ]
  },
  {
   "cell_type": "code",
   "execution_count": 42,
   "metadata": {},
   "outputs": [
    {
     "name": "stdout",
     "output_type": "stream",
     "text": [
      "{'name': 'Robert', 'age': 34, 'address': '123 Main Street, Louisville, KY'}\n",
      "{}\n"
     ]
    }
   ],
   "source": [
    "info = {\n",
    "  \"name\": \"Robert\",\n",
    "  \"age\": 34,\n",
    "  \"address\": \"123 Main Street, Louisville, KY\"\n",
    "}\n",
    "\n",
    "# Display the dictionary\n",
    "print(info)\n",
    "\n",
    "# Apply the clear method to remove all key-value pairs from the dictionary\n",
    "info.clear()\n",
    "\n",
    "# Display the (empty) dictionary\n",
    "print(info)"
   ]
  },
  {
   "cell_type": "markdown",
   "metadata": {},
   "source": [
    "### Practice 8:\n",
    "Add the **```clear```** method in the program below to empty the dictionary and include only the key-value pair **```('X10002','Karen')```**.<br>\n",
    "\n",
    "***Hint:*** Do not add the Karen record more than one time."
   ]
  },
  {
   "cell_type": "code",
   "execution_count": 43,
   "metadata": {},
   "outputs": [
    {
     "name": "stdout",
     "output_type": "stream",
     "text": [
      "{'X10002': 'Karen'}\n"
     ]
    }
   ],
   "source": [
    "# your code here \n",
    " \n",
    "students_dict = dict()\n",
    "students_dict['X10000']='Michael'\n",
    "students_dict['X10001']='Neil'\n",
    "students_dict.clear()\n",
    "students_dict['X10002']='Karen'\n",
    " \n",
    "print(students_dict)\n"
   ]
  },
  {
   "cell_type": "markdown",
   "metadata": {},
   "source": [
    "## Concept 9: Duplicating a Dictionary\n",
    "We can use the **```copy()```** method to create a copy of a dictionary."
   ]
  },
  {
   "cell_type": "markdown",
   "metadata": {},
   "source": [
    "### Example 9:\n",
    "In this example, we create a short dictionary of student names and duplicate the dictionary."
   ]
  },
  {
   "cell_type": "code",
   "execution_count": 44,
   "metadata": {},
   "outputs": [
    {
     "name": "stdout",
     "output_type": "stream",
     "text": [
      "{'X10000': 'Michael', 'X10001': 'Neil', 'X10002': 'Karen'}\n"
     ]
    }
   ],
   "source": [
    "students_dict = dict()\n",
    "students_dict['X10000'] = 'Michael'\n",
    "students_dict['X10001'] = 'Neil'\n",
    "students_dict['X10002'] = 'Karen'\n",
    "\n",
    "# Use the copy method to copy the content of students_dict into another_dict\n",
    "another_dict = students_dict.copy()\n",
    "\n",
    "print(another_dict)"
   ]
  },
  {
   "cell_type": "markdown",
   "metadata": {},
   "source": [
    "### Practice 9:\n",
    "Using the following code as your starting point, complete the following steps:<br>\n",
    "* Create a copy of the **```states```** dictionary.\n",
    "* Add key-value pairs that represent US districts and territories to the new dictionary.<br>\n",
    "\n",
    "Use this list of districts and territories:<br>\n",
    "* AS: American Samoa\n",
    "* DC: District of Columbia\n",
    "* GU: Guam\n",
    "* NMI: Northern Mariana Islands\n",
    "* PR: Puerto Rico\n",
    "* USVI: U.S. Virgin Islands"
   ]
  },
  {
   "cell_type": "code",
   "execution_count": 45,
   "metadata": {},
   "outputs": [
    {
     "name": "stdout",
     "output_type": "stream",
     "text": [
      "{'AK': 'Alaska', 'AL': 'Alabama', 'AR': 'Arkansas', 'AZ': 'Arizona', 'CA': 'California', 'CO': 'Colorado', 'CT': 'Connecticut', 'DE': 'Delaware', 'FL': 'Florida', 'GA': 'Georgia', 'HI': 'Hawaii', 'IA': 'Iowa', 'ID': 'Idaho', 'IL': 'Illinois', 'IN': 'Indiana', 'KS': 'Kansas', 'KY': 'Kentucky', 'LA': 'Louisiana', 'MA': 'Massachusetts', 'MD': 'Maryland', 'ME': 'Maine', 'MI': 'Michigan', 'MN': 'Minnesota', 'MO': 'Missouri', 'MS': 'Mississippi', 'MT': 'Montana', 'NC': 'North Carolina', 'ND': 'North Dakota', 'NE': 'Nebraska', 'NH': 'New Hampshire', 'NJ': 'New Jersey', 'NM': 'New Mexico', 'NV': 'Nevada', 'NY': 'New York', 'OH': 'Ohio', 'OK': 'Oklahoma', 'OR': 'Oregon', 'PA': 'Pennsylvania', 'RI': 'Rhode Island', 'SC': 'South Carolina', 'SD': 'South Dakota', 'TN': 'Tennessee', 'TX': 'Texas', 'UT': 'Utah', 'VA': 'Virginia', 'VT': 'Vermont', 'WA': 'Washington', 'WI': 'Wisconsin', 'WV': 'West Virginia', 'WY': 'Wyoming', 'AS': 'American Samoa', 'DC': 'District of Columbia', 'GU': 'Guam', 'NMI': 'Northern Mariana Islands', 'PR': 'Puerto Rico', 'USVI': 'U.S. Virgin Islands'}\n"
     ]
    }
   ],
   "source": [
    "states = {\n",
    "        'AK': 'Alaska',\n",
    "        'AL': 'Alabama',\n",
    "        'AR': 'Arkansas',\n",
    "        'AZ': 'Arizona',\n",
    "        'CA': 'California',\n",
    "        'CO': 'Colorado',\n",
    "        'CT': 'Connecticut',\n",
    "        'DE': 'Delaware',\n",
    "        'FL': 'Florida',\n",
    "        'GA': 'Georgia',\n",
    "        'HI': 'Hawaii',\n",
    "        'IA': 'Iowa',\n",
    "        'ID': 'Idaho',\n",
    "        'IL': 'Illinois',\n",
    "        'IN': 'Indiana',\n",
    "        'KS': 'Kansas',\n",
    "        'KY': 'Kentucky',\n",
    "        'LA': 'Louisiana',\n",
    "        'MA': 'Massachusetts',\n",
    "        'MD': 'Maryland',\n",
    "        'ME': 'Maine',\n",
    "        'MI': 'Michigan',\n",
    "        'MN': 'Minnesota',\n",
    "        'MO': 'Missouri',\n",
    "        'MS': 'Mississippi',\n",
    "        'MT': 'Montana',\n",
    "        'NC': 'North Carolina',\n",
    "        'ND': 'North Dakota',\n",
    "        'NE': 'Nebraska',\n",
    "        'NH': 'New Hampshire',\n",
    "        'NJ': 'New Jersey',\n",
    "        'NM': 'New Mexico',\n",
    "        'NV': 'Nevada',\n",
    "        'NY': 'New York',\n",
    "        'OH': 'Ohio',\n",
    "        'OK': 'Oklahoma',\n",
    "        'OR': 'Oregon',\n",
    "        'PA': 'Pennsylvania',\n",
    "        'RI': 'Rhode Island',\n",
    "        'SC': 'South Carolina',\n",
    "        'SD': 'South Dakota',\n",
    "        'TN': 'Tennessee',\n",
    "        'TX': 'Texas',\n",
    "        'UT': 'Utah',\n",
    "        'VA': 'Virginia',\n",
    "        'VT': 'Vermont',\n",
    "        'WA': 'Washington',\n",
    "        'WI': 'Wisconsin',\n",
    "        'WV': 'West Virginia',\n",
    "        'WY': 'Wyoming'\n",
    "}\n",
    "\n",
    "# Your code here\n",
    "states_territories = states.copy()\n",
    "states_territories['AS'] = 'American Samoa'\n",
    "states_territories['DC'] = 'District of Columbia'\n",
    "states_territories['GU'] = 'Guam'\n",
    "states_territories['NMI'] = 'Northern Mariana Islands'\n",
    "states_territories['PR'] = 'Puerto Rico'\n",
    "states_territories['USVI'] = 'U.S. Virgin Islands'\n",
    "print(states_territories) "
   ]
  },
  {
   "cell_type": "markdown",
   "metadata": {},
   "source": [
    "## Concept 10: pop()\n",
    "We can use the **```pop()```** method to remove and return an element from a dictionary given an input key.<br>\n",
    "\n",
    "Unlike the **```get()```** method, **```pop()```** removes the key-value pair from the dictionary. We can optionally choose to store the removed value (without the key) in a separate variable for reuse."
   ]
  },
  {
   "cell_type": "markdown",
   "metadata": {},
   "source": [
    "### Example 10:\n",
    "In this example, we again create a dictionary with three student names.<br>\n",
    "\n",
    "We then **```pop```** the first entry. When we view the dictionary again, that entry is gone.<br>\n",
    "\n",
    "As a final step, we **```pop```** another entry and store it in a variable. We can then display the value from that entry separately from the dictionary, which includes only one entry at this point."
   ]
  },
  {
   "cell_type": "code",
   "execution_count": 49,
   "metadata": {},
   "outputs": [
    {
     "name": "stdout",
     "output_type": "stream",
     "text": [
      "{'X10000': 'Michael', 'X10001': 'Neil', 'X10002': 'Karen'}\n",
      "{'X10001': 'Neil', 'X10002': 'Karen'}\n",
      "Neil\n",
      "{'X10002': 'Karen'}\n"
     ]
    }
   ],
   "source": [
    "students_dict = dict()\n",
    "students_dict['X10000'] = 'Michael'\n",
    "students_dict['X10001'] = 'Neil'\n",
    "students_dict['X10002'] = 'Karen'\n",
    "print(students_dict)\n",
    "\n",
    "# We remove the first entry\n",
    "students_dict.pop('X10000')\n",
    "# Students_dict contains only two elements\n",
    "print(students_dict)\n",
    "\n",
    "# We remove another entry and store it in a separate variable\n",
    "person = students_dict.pop(\"X10001\") \n",
    "# We display the element returned from the pop method\n",
    "print(person)\n",
    "# Students_dict contains only one element\n",
    "print(students_dict)"
   ]
  },
  {
   "cell_type": "markdown",
   "metadata": {},
   "source": [
    "### Practice 10:\n",
    "Using the **```states```** dictionary defined below, move all states that start with M to a new dictionary.<br>\n",
    "\n",
    "Requirements:<br>\n",
    "* The new dictionary should include the abbreviation and name for each state moved out of the **```states```** dictionary.<br>\n",
    "* Use the **```pop()```** method to remove the states from the states dictionary. "
   ]
  },
  {
   "cell_type": "code",
   "execution_count": 51,
   "metadata": {},
   "outputs": [
    {
     "name": "stdout",
     "output_type": "stream",
     "text": [
      "{'MA': 'Massachusetts', 'MD': 'Maryland', 'ME': 'Maine', 'MI': 'Michigan', 'MN': 'Minnesota', 'MO': 'Missouri', 'MP': 'Northern Mariana Islands', 'MS': 'Mississippi', 'MT': 'Montana'}\n",
      "{'AK': 'Alaska', 'AL': 'Alabama', 'AR': 'Arkansas', 'AS': 'American Samoa', 'AZ': 'Arizona', 'CA': 'California', 'CO': 'Colorado', 'CT': 'Connecticut', 'DE': 'Delaware', 'FL': 'Florida', 'GA': 'Georgia', 'GU': 'Guam', 'HI': 'Hawaii', 'IA': 'Iowa', 'ID': 'Idaho', 'IL': 'Illinois', 'IN': 'Indiana', 'KS': 'Kansas', 'KY': 'Kentucky', 'LA': 'Louisiana', 'NA': 'National', 'NC': 'North Carolina', 'ND': 'North Dakota', 'NE': 'Nebraska', 'NH': 'New Hampshire', 'NJ': 'New Jersey', 'NM': 'New Mexico', 'NV': 'Nevada', 'NY': 'New York', 'OH': 'Ohio', 'OK': 'Oklahoma', 'OR': 'Oregon', 'PA': 'Pennsylvania', 'PR': 'Puerto Rico', 'RI': 'Rhode Island', 'SC': 'South Carolina', 'SD': 'South Dakota', 'TN': 'Tennessee', 'TX': 'Texas', 'UT': 'Utah', 'VA': 'Virginia', 'VI': 'Virgin Islands', 'VT': 'Vermont', 'WA': 'Washington', 'WI': 'Wisconsin', 'WV': 'West Virginia', 'WY': 'Wyoming'}\n"
     ]
    }
   ],
   "source": [
    "states = {\n",
    "        'AK': 'Alaska',\n",
    "        'AL': 'Alabama',\n",
    "        'AR': 'Arkansas',\n",
    "        'AS': 'American Samoa',\n",
    "        'AZ': 'Arizona',\n",
    "        'CA': 'California',\n",
    "        'CO': 'Colorado',\n",
    "        'CT': 'Connecticut',\n",
    "        'DE': 'Delaware',\n",
    "        'FL': 'Florida',\n",
    "        'GA': 'Georgia',\n",
    "        'GU': 'Guam',\n",
    "        'HI': 'Hawaii',\n",
    "        'IA': 'Iowa',\n",
    "        'ID': 'Idaho',\n",
    "        'IL': 'Illinois',\n",
    "        'IN': 'Indiana',\n",
    "        'KS': 'Kansas',\n",
    "        'KY': 'Kentucky',\n",
    "        'LA': 'Louisiana',\n",
    "        'MA': 'Massachusetts',\n",
    "        'MD': 'Maryland',\n",
    "        'ME': 'Maine',\n",
    "        'MI': 'Michigan',\n",
    "        'MN': 'Minnesota',\n",
    "        'MO': 'Missouri',\n",
    "        'MP': 'Northern Mariana Islands',\n",
    "        'MS': 'Mississippi',\n",
    "        'MT': 'Montana',\n",
    "        'NA': 'National',\n",
    "        'NC': 'North Carolina',\n",
    "        'ND': 'North Dakota',\n",
    "        'NE': 'Nebraska',\n",
    "        'NH': 'New Hampshire',\n",
    "        'NJ': 'New Jersey',\n",
    "        'NM': 'New Mexico',\n",
    "        'NV': 'Nevada',\n",
    "        'NY': 'New York',\n",
    "        'OH': 'Ohio',\n",
    "        'OK': 'Oklahoma',\n",
    "        'OR': 'Oregon',\n",
    "        'PA': 'Pennsylvania',\n",
    "        'PR': 'Puerto Rico',\n",
    "        'RI': 'Rhode Island',\n",
    "        'SC': 'South Carolina',\n",
    "        'SD': 'South Dakota',\n",
    "        'TN': 'Tennessee',\n",
    "        'TX': 'Texas',\n",
    "        'UT': 'Utah',\n",
    "        'VA': 'Virginia',\n",
    "        'VI': 'Virgin Islands',\n",
    "        'VT': 'Vermont',\n",
    "        'WA': 'Washington',\n",
    "        'WI': 'Wisconsin',\n",
    "        'WV': 'West Virginia',\n",
    "        'WY': 'Wyoming'\n",
    "}\n",
    " \n",
    "# your code here\n",
    "new_dict_m = {\n",
    "    'MA': 'Massachusetts',\n",
    "    'MD': 'Maryland',\n",
    "    'ME': 'Maine',\n",
    "    'MI': 'Michigan',\n",
    "    'MN': 'Minnesota',\n",
    "    'MO': 'Missouri',\n",
    "    'MP': 'Northern Mariana Islands',\n",
    "    'MS': 'Mississippi',\n",
    "    'MT': 'Montana',\n",
    "}\n",
    "print(new_dict_m)\n",
    "\n",
    "# Remove all M's from 'states'\n",
    "states.pop('MA')\n",
    "states.pop('MD')\n",
    "states.pop('ME')\n",
    "states.pop('MI')\n",
    "states.pop('MN')\n",
    "states.pop('MO')\n",
    "states.pop('MP')\n",
    "states.pop('MS')\n",
    "states.pop('MT')\n",
    "print(states)"
   ]
  },
  {
   "cell_type": "markdown",
   "metadata": {},
   "source": [
    "## Concept 11: Updating a Dictionary\n",
    "We can use the **```update()```** method to change the values in a dictionary. When using **```update()```**, the new entry must include the key for the entry that you are updating. Python will replace the current entry with the new one if the key already exists. If there is no entry with that key, Python will add a new entry to the dictionary."
   ]
  },
  {
   "cell_type": "markdown",
   "metadata": {},
   "source": [
    "### Example 11:\n",
    "In the following example,<br>\n",
    "1. We create a new dictionary with three student names and print it.\n",
    "2. We update the name in the first entry using the **```update()```** method and print the updated dictionary.\n",
    "3. We use **```update()```** to add a new record to the dictionary, using a key that does not already exist."
   ]
  },
  {
   "cell_type": "code",
   "execution_count": 54,
   "metadata": {},
   "outputs": [
    {
     "name": "stdout",
     "output_type": "stream",
     "text": [
      "{'X10000': 'Michael', 'X10001': 'Neil', 'X10002': 'Karen'}\n",
      "{'X10000': 'Jeffrey', 'X10001': 'Neil', 'X10002': 'Karen'}\n",
      "{'X10000': 'Jeffrey', 'X10001': 'Neil', 'X10002': 'Karen', 'X10003': 'Erin'}\n"
     ]
    }
   ],
   "source": [
    "students_dict = dict()\n",
    "students_dict['X10000'] = 'Michael'\n",
    "students_dict['X10001'] = 'Neil'\n",
    "students_dict['X10002'] = 'Karen'\n",
    "print(students_dict)\n",
    "\n",
    "# Create a new entry (key-value pair) with the desired update\n",
    "# Use the update method to update the value for key 'X10000'      \n",
    "new_person = {'X10000': 'Jeffrey'}\n",
    "students_dict.update(new_person)\n",
    "# We can see that the value stored in key 'X10000' changed after invoking the update method\n",
    "print(students_dict)\n",
    "\n",
    "# Use update method to creare a new entry\n",
    "new_person = {'X10003': 'Erin'}\n",
    "students_dict.update(new_person)\n",
    "print(students_dict)"
   ]
  },
  {
   "cell_type": "markdown",
   "metadata": {},
   "source": [
    "### Practice 11:\n",
    "Use the **```update()```** method to change the dictionary below to include information about yourself. Include at least two hobbies and use a random address, if you wish."
   ]
  },
  {
   "cell_type": "code",
   "execution_count": 59,
   "metadata": {},
   "outputs": [
    {
     "name": "stdout",
     "output_type": "stream",
     "text": [
      "{'name': 'Robert', 'hobbies': ['fishing', 'dancing'], 'address': '123 Main Street, Louisville, KY'}\n",
      "{'name': 'Tony', 'hobbies': ['fishing', 'dancing'], 'address': '123 Main Street, Louisville, KY'}\n",
      "{'name': 'Tony', 'hobbies': ['riding motorcycles', 'coding'], 'address': '123 Main Street, Louisville, KY'}\n",
      "{'name': 'Tony', 'hobbies': ['riding motorcycles', 'coding'], 'address': '456 Main Street, Houston, TX'}\n"
     ]
    }
   ],
   "source": [
    "info = {\n",
    "  \"name\": \"Robert\",\n",
    "  \"hobbies\": ['fishing','dancing'],\n",
    "  \"address\": \"123 Main Street, Louisville, KY\"\n",
    "}\n",
    "print(info)\n",
    "\n",
    "new_name = {'name': 'Tony'}\n",
    "info.update(new_name)\n",
    "print(info)\n",
    "\n",
    "new_hobbies = {'hobbies': ['riding motorcycles', 'coding']}\n",
    "info.update(new_hobbies)\n",
    "print(info)\n",
    "\n",
    "new_address = {'address': '456 Main Street, Houston, TX'}\n",
    "info.update(new_address)\n",
    "print(info)"
   ]
  },
  {
   "cell_type": "markdown",
   "metadata": {},
   "source": [
    "## Concept 12: In Operator\n",
    "We can use the **```in```** operator to check if a key exists in a dictionary."
   ]
  },
  {
   "cell_type": "markdown",
   "metadata": {},
   "source": [
    "### Example 12:"
   ]
  },
  {
   "cell_type": "code",
   "execution_count": 61,
   "metadata": {},
   "outputs": [
    {
     "name": "stdout",
     "output_type": "stream",
     "text": [
      "ssn does not exist in the dictionary.\n",
      "******************************************************\n",
      "name exists in the dictionary.\n",
      "The value stored in the dictionary is: Robert\n"
     ]
    }
   ],
   "source": [
    "info = {\n",
    "  \"name\": \"Robert\",\n",
    "  \"hobbies\": ['fishing','dancing'],\n",
    "  \"address\": \"123 Main Street, Louisville, KY\"\n",
    "}\n",
    "\n",
    "key1 = \"ssn\"\n",
    "# We use the in operator to check if key1 exists in the list of keys\n",
    "if key1 in info.keys():\n",
    "    print(key1, \"exists in the dictionary.\")\n",
    "    print(\"The value stored in the dictionary is:\", info[key1])\n",
    "else:\n",
    "    # Display an error message if the key does not exist\n",
    "    print(key1, \"does not exist in the dictionary.\")\n",
    "\n",
    "print('******************************************************')\n",
    "\n",
    "key2 = 'name'\n",
    "# We use the in operator to check if key2 exists in the list of keys\n",
    "if key2 in info.keys():\n",
    "    print(key2, \"exists in the dictionary.\")\n",
    "    print(\"The value stored in the dictionary is:\", info[key2])\n",
    "else:\n",
    "    print(key2, \"does not exist in the dictionary.\")"
   ]
  },
  {
   "cell_type": "markdown",
   "metadata": {},
   "source": [
    "### Practice 12:\n",
    "Update the program below to include the following tasks:<br>\n",
    "* Ask the user for an input key.\n",
    "* Check if the key exists in the dictionary. If it does, display the value.\n",
    "* If the key doesn't exist, display an appropriate error message."
   ]
  },
  {
   "cell_type": "code",
   "execution_count": 66,
   "metadata": {},
   "outputs": [
    {
     "name": "stdout",
     "output_type": "stream",
     "text": [
      "food does not exist in the dictionary.\n"
     ]
    }
   ],
   "source": [
    "info = {\n",
    "  \"name\": \"Robert\",\n",
    "  \"hobbies\": ['fishing','dancing'],\n",
    "  \"address\": \"123 Main Street, Louisville, KY\"\n",
    "}\n",
    " \n",
    "# your code here \n",
    "key1 = input(\"Which key would you like to search for? \")\n",
    "if key1 in info.keys():\n",
    "    print(key1, \"exists in the dictionary.\")\n",
    "    print(\"The value stored in the dictionary is:\", info[key1])\n",
    "else:\n",
    "    print(key1, \"does not exist in the dictionary.\")"
   ]
  },
  {
   "cell_type": "code",
   "execution_count": null,
   "metadata": {},
   "outputs": [],
   "source": []
  }
 ],
 "metadata": {
  "kernelspec": {
   "display_name": "Python 3.9.6 64-bit",
   "language": "python",
   "name": "python3"
  },
  "language_info": {
   "codemirror_mode": {
    "name": "ipython",
    "version": 3
   },
   "file_extension": ".py",
   "mimetype": "text/x-python",
   "name": "python",
   "nbconvert_exporter": "python",
   "pygments_lexer": "ipython3",
   "version": "3.9.6"
  },
  "orig_nbformat": 4,
  "vscode": {
   "interpreter": {
    "hash": "9cc6a95a29893daac463ce220390149ef03aeb7175da3903cfd40cfc8442e04e"
   }
  }
 },
 "nbformat": 4,
 "nbformat_minor": 2
}
