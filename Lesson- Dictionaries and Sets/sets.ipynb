{
 "cells": [
  {
   "cell_type": "markdown",
   "metadata": {},
   "source": [
    "## Concept 1: Sets\n",
    "A set is an unordered and unindexed collection of unique items. Specifically:<br>\n",
    "* The values stored in a set are not indexed in any way. To retrieve an item from a set, you use the value itself, rather than an index.\n",
    "* Each item in a set must be unique. You cannot include multiple items with the same value in the same set.\n",
    "* The contents of a set are not ordered. You can add the items in any order you wish, and Python will typically retrieve them in a different, random order.<br>\n",
    "\n",
    "The steps to create a set are similar to those used to create other data collections, such as lists and tuples. The main difference is the use of curly brackets **```{}```** to define the collection as a set."
   ]
  },
  {
   "cell_type": "markdown",
   "metadata": {},
   "source": [
    "### Example 1:\n",
    "In this example, we create a set of names and then retrieve the values from the set.<br>\n",
    "\n",
    "The order of the items in a set is random, so the names may appear in a different order than the order in which they were added."
   ]
  },
  {
   "cell_type": "code",
   "execution_count": 2,
   "metadata": {},
   "outputs": [
    {
     "name": "stdout",
     "output_type": "stream",
     "text": [
      "<class 'set'>\n",
      "{'Mark', 'Robert', 'Nancy'}\n"
     ]
    }
   ],
   "source": [
    "names = {'Robert', 'Mark', 'Nancy'}\n",
    "print(type(names))\n",
    "\n",
    "# The order of the items is random in a set, so the names may not appear in the same order\n",
    "print(names)"
   ]
  },
  {
   "cell_type": "markdown",
   "metadata": {},
   "source": [
    "### Practice 1:\n",
    "Create a set that contains a collection of your favorite fruits."
   ]
  },
  {
   "cell_type": "code",
   "execution_count": 4,
   "metadata": {},
   "outputs": [
    {
     "name": "stdout",
     "output_type": "stream",
     "text": [
      "{'strawberries', 'papaya', 'apples', 'mangos', 'bananas', 'dragonfruit', 'mamey'}\n",
      "<class 'set'>\n"
     ]
    }
   ],
   "source": [
    "fruits = {'apples', 'bananas', 'mangos', 'dragonfruit', 'strawberries', 'papaya', 'mamey'}\n",
    "print(fruits)\n",
    "print(type(fruits))"
   ]
  },
  {
   "cell_type": "markdown",
   "metadata": {},
   "source": [
    "## Concept 2: Retrieving Items from a Set\n",
    "We can use a **```for```** loop with **```in```** to iterate through a set. Agin, because the set is not ordered, the items may appear in a different order than how they were added to the set."
   ]
  },
  {
   "cell_type": "markdown",
   "metadata": {},
   "source": [
    "### Example 2:\n",
    "We retrieve the names individually from the same set we used earlier."
   ]
  },
  {
   "cell_type": "code",
   "execution_count": 5,
   "metadata": {},
   "outputs": [
    {
     "name": "stdout",
     "output_type": "stream",
     "text": [
      "Mark\n",
      "Robert\n",
      "Nancy\n"
     ]
    }
   ],
   "source": [
    "names = {\"Robert\", \"Mark\", \"Nancy\"}\n",
    "\n",
    "for name in names:\n",
    "    print(name)"
   ]
  },
  {
   "cell_type": "markdown",
   "metadata": {},
   "source": [
    "### Practice 2:\n",
    "Using the set of fruits you created in the previous exercise, retrieve the items from the set so that each item appears on a separate line in the output."
   ]
  },
  {
   "cell_type": "code",
   "execution_count": 6,
   "metadata": {},
   "outputs": [
    {
     "name": "stdout",
     "output_type": "stream",
     "text": [
      "strawberries\n",
      "papaya\n",
      "apples\n",
      "mangos\n",
      "bananas\n",
      "dragonfruit\n",
      "mamey\n"
     ]
    }
   ],
   "source": [
    "fruits = {'apples', 'bananas', 'mangos', 'dragonfruit', 'strawberries', 'papaya', 'mamey'}\n",
    "\n",
    "for fruit in fruits:\n",
    "    print(fruit)"
   ]
  },
  {
   "cell_type": "markdown",
   "metadata": {},
   "source": [
    "## Concept 3: Adding Items to a Set\n",
    "We can use the **```add()```** method to add new items to a set."
   ]
  },
  {
   "cell_type": "markdown",
   "metadata": {},
   "source": [
    "### Example 3:\n",
    "We create a set with three names and then add three more names to the set."
   ]
  },
  {
   "cell_type": "code",
   "execution_count": 8,
   "metadata": {},
   "outputs": [
    {
     "name": "stdout",
     "output_type": "stream",
     "text": [
      "{'Mark', 'Robert', 'Nancy'}\n",
      "{'Alice', 'Mark', 'Robert', 'Bob', 'Mary', 'Nancy'}\n"
     ]
    }
   ],
   "source": [
    "names = {\"Robert\", \"Mark\", \"Nancy\"}\n",
    "print(names)\n",
    "\n",
    "names.add('Mary')\n",
    "names.add('Alice')\n",
    "names.add('Bob')\n",
    "print(names)"
   ]
  },
  {
   "cell_type": "markdown",
   "metadata": {},
   "source": [
    "### Practice 3:\n",
    "Create a set with at least three fruit items in it and print it. Then add at least three more items to the set and print the updated set."
   ]
  },
  {
   "cell_type": "code",
   "execution_count": 11,
   "metadata": {},
   "outputs": [
    {
     "name": "stdout",
     "output_type": "stream",
     "text": [
      "{'bananas', 'cherries', 'apples'}\n",
      "{'limes', 'bananas', 'cherries', 'apples', 'dragonfruit', 'grapes'}\n"
     ]
    }
   ],
   "source": [
    "fruits = {'apples', 'bananas', 'cherries'}\n",
    "print(fruits)\n",
    "\n",
    "fruits.add('dragonfruit')\n",
    "fruits.add('grapes')\n",
    "fruits.add('limes')\n",
    "print(fruits)"
   ]
  },
  {
   "cell_type": "markdown",
   "metadata": {},
   "source": [
    "## Concept 4: Empty Sets\n",
    "We can use **```set()```** to create an empty set. This can be useful if we need to stage an empty set that we intend to add data to at a later time."
   ]
  },
  {
   "cell_type": "markdown",
   "metadata": {},
   "source": [
    "### Example 3:\n",
    "In this example, we create an empty set and then add three names to it."
   ]
  },
  {
   "cell_type": "code",
   "execution_count": 13,
   "metadata": {},
   "outputs": [
    {
     "name": "stdout",
     "output_type": "stream",
     "text": [
      "set()\n",
      "{'Alice', 'Bob', 'Mary'}\n"
     ]
    }
   ],
   "source": [
    "names_set = set()\n",
    "print(names_set)\n",
    "\n",
    "names_set.add('Mary')\n",
    "names_set.add('Alice')\n",
    "names_set.add('Bob')\n",
    "print(names_set)"
   ]
  },
  {
   "cell_type": "markdown",
   "metadata": {},
   "source": [
    "### Practice 4a:\n",
    "Use the **```add()```** method to convert the **```names```** list into a set called **```names_set```**.<br>\n",
    "\n",
    "Use the following steps:<br>\n",
    "* Create a new empty set.\n",
    "* Add the items from the list to the new set.\n",
    "* Print the set when it is complete"
   ]
  },
  {
   "cell_type": "code",
   "execution_count": 15,
   "metadata": {},
   "outputs": [
    {
     "name": "stdout",
     "output_type": "stream",
     "text": [
      "['Robert', 'Mark', 'Nick', 'Jenny']\n",
      "{'Nick', 'Mark', 'Robert', 'Jenny'}\n"
     ]
    }
   ],
   "source": [
    "names = [\"Robert\", \"Mark\", \"Nick\", \"Jenny\"] # do not change this\n",
    "print(names)\n",
    " \n",
    "# your code here\n",
    "names_set = set(names)\n",
    "print(names_set)"
   ]
  },
  {
   "cell_type": "code",
   "execution_count": 17,
   "metadata": {},
   "outputs": [
    {
     "name": "stdout",
     "output_type": "stream",
     "text": [
      "['Robert', 'Mark', 'Nick', 'Jenny']\n",
      "{'Nick', 'Mark', 'Robert', 'Jenny'}\n"
     ]
    }
   ],
   "source": [
    "names = [\"Robert\", \"Mark\", \"Nick\", \"Jenny\"] # do not change this\n",
    "print(names)\n",
    " \n",
    "# your code here\n",
    "names_set = set()\n",
    "names_set.add('Robert')\n",
    "names_set.add('Mark')\n",
    "names_set.add('Nick')\n",
    "names_set.add('Jenny')\n",
    "print(names_set)"
   ]
  },
  {
   "cell_type": "markdown",
   "metadata": {},
   "source": [
    "### Practice 4b:\n",
    "Fix the errors in the following code. Do not remove any existing instructions or add new instructions."
   ]
  },
  {
   "cell_type": "code",
   "execution_count": 20,
   "metadata": {},
   "outputs": [
    {
     "name": "stdout",
     "output_type": "stream",
     "text": [
      "{'Mark', 'Nick', 'Robert', 'Jenny'}\n",
      "{'Mark', 'Nick', 'Robert', 'Jenny'}\n"
     ]
    }
   ],
   "source": [
    "names = {\"Robert\", \"Mark\", \"Nick\",\"Jenny\"}\n",
    "print(names)\n",
    " \n",
    "another_set = set()\n",
    "another_set = names\n",
    "print(another_set)"
   ]
  },
  {
   "cell_type": "markdown",
   "metadata": {},
   "source": [
    "## Concept 5: Uniqueness\n",
    "Each item in a set must be unique within that set. Duplicate items will be ignored."
   ]
  },
  {
   "cell_type": "markdown",
   "metadata": {},
   "source": [
    "### Example 5:\n",
    "We create another set of names, with some of the names duplicated during input. When we print it, we see that only distinct values are stored in the set."
   ]
  },
  {
   "cell_type": "code",
   "execution_count": 21,
   "metadata": {},
   "outputs": [
    {
     "name": "stdout",
     "output_type": "stream",
     "text": [
      "{'Mark', 'Robert', 'Nancy', 'Jenny'}\n"
     ]
    }
   ],
   "source": [
    "names = {\"Robert\", \"Mark\", \"Nancy\", \"Robert\", \"Mark\", \"Jenny\", \"Robert\"}\n",
    "print(names)"
   ]
  },
  {
   "cell_type": "markdown",
   "metadata": {},
   "source": [
    "### Practice 5:\n",
    "Convert the **```names```** list into a set called **```names_set```** and print the set."
   ]
  },
  {
   "cell_type": "code",
   "execution_count": 23,
   "metadata": {},
   "outputs": [
    {
     "name": "stdout",
     "output_type": "stream",
     "text": [
      "['Robert', 'Mark', 'Nancy', 'Robert', 'Mark', 'Jenny', 'Robert']\n",
      "{'Mark', 'Robert', 'Nancy', 'Jenny'}\n"
     ]
    }
   ],
   "source": [
    "names = [\"Robert\", \"Mark\", \"Nancy\", \"Robert\", \"Mark\", \"Jenny\", \"Robert\"] # do not change this line of code\n",
    "print(names)\n",
    " \n",
    "# your code here\n",
    "names_set = set(names)\n",
    "print(names_set)"
   ]
  },
  {
   "cell_type": "markdown",
   "metadata": {},
   "source": [
    "## Concept 6: Searching Items in a Set\n",
    "We can use the **```in```** operator to check if an element exists in a set. This operation returns a boolean value: **```True```** if the value exists in the set and **```False```** if it does not."
   ]
  },
  {
   "cell_type": "markdown",
   "metadata": {},
   "source": [
    "### Example 6:\n",
    "We start with a set of state abbreviations."
   ]
  },
  {
   "cell_type": "code",
   "execution_count": 26,
   "metadata": {},
   "outputs": [
    {
     "name": "stdout",
     "output_type": "stream",
     "text": [
      "False\n",
      "False\n",
      "True\n"
     ]
    }
   ],
   "source": [
    "states_abbrev = {\"AL\", \"AK\", \"AZ\", \"AR\", \"CA\", \"CO\", \"CT\", \"DE\", \"FL\", \"GA\", \n",
    "          \"HI\", \"ID\", \"IL\", \"IN\", \"IA\", \"KS\", \"KY\", \"LA\", \"ME\", \"MD\", \n",
    "          \"MA\", \"MI\", \"MN\", \"MS\", \"MO\", \"MT\", \"NE\", \"NV\", \"NH\", \"NJ\", \n",
    "          \"NM\", \"NY\", \"NC\", \"ND\", \"OH\", \"OK\", \"OR\", \"PA\", \"RI\", \"SC\", \n",
    "          \"SD\", \"TN\", \"TX\", \"UT\", \"VT\", \"VA\", \"WA\", \"WV\", \"WI\", \"WY\"}\n",
    "\n",
    "# This will return True if the item is in the set and False otherwise\n",
    "print('DC' in states_abbrev)\n",
    "print('PR' in states_abbrev)\n",
    "print('CA' in states_abbrev)"
   ]
  },
  {
   "cell_type": "markdown",
   "metadata": {},
   "source": [
    "### Practice 6:\n",
    "Create a program that performs the following steps:<br>\n",
    "1. Prompt the user for a state abbreviation.\n",
    "2. Return a success message if the user entered a valid state abrreviation.\n",
    "3. Return an error message if the user entered an invalid state abbreviation.<br>\n",
    "\n",
    "The final version of the code should support both uppercase and lowercase input. For example, the user should be able to input \"FL\", \"Fl\", \"fL\", or \"fl\" and get the same response."
   ]
  },
  {
   "cell_type": "code",
   "execution_count": 32,
   "metadata": {},
   "outputs": [
    {
     "name": "stdout",
     "output_type": "stream",
     "text": [
      "TX is in the set.\n"
     ]
    }
   ],
   "source": [
    "states_abbrev = {\"AL\", \"AK\", \"AZ\", \"AR\", \"CA\", \"CO\", \"CT\", \"DE\", \"FL\", \"GA\", \n",
    "          \"HI\", \"ID\", \"IL\", \"IN\", \"IA\", \"KS\", \"KY\", \"LA\", \"ME\", \"MD\", \n",
    "          \"MA\", \"MI\", \"MN\", \"MS\", \"MO\", \"MT\", \"NE\", \"NV\", \"NH\", \"NJ\", \n",
    "          \"NM\", \"NY\", \"NC\", \"ND\", \"OH\", \"OK\", \"OR\", \"PA\", \"RI\", \"SC\", \n",
    "          \"SD\", \"TN\", \"TX\", \"UT\", \"VT\", \"VA\", \"WA\", \"WV\", \"WI\", \"WY\"}\n",
    " \n",
    "# your code here\n",
    "state = input(\"Enter a state abbreviation to see if its in the set: \").upper()\n",
    "if state in states_abbrev:\n",
    "    print(state, \"is in the set.\")\n",
    "else:\n",
    "    print(\"We cannot find\", state, \"in the set.\")"
   ]
  },
  {
   "cell_type": "markdown",
   "metadata": {},
   "source": [
    "## Concept 7: Adding Multiple Items to a Set\n",
    "We can use the **```update()```** method to add multiple items to an existing set."
   ]
  },
  {
   "cell_type": "markdown",
   "metadata": {},
   "source": [
    "### Example 7:\n",
    "We create two sets of food items: one with four items and the other with two.<br>\n",
    "\n",
    "We then use **```update()```** to add the shorter set to the longer set and display the updated set."
   ]
  },
  {
   "cell_type": "code",
   "execution_count": 34,
   "metadata": {},
   "outputs": [
    {
     "name": "stdout",
     "output_type": "stream",
     "text": [
      "{'burger', 'hotdog', 'pizza', 'pasta'}\n",
      "{'burger', 'hotdog', 'burrito', 'pizza', 'taco', 'pasta'}\n"
     ]
    }
   ],
   "source": [
    "food = {'pasta', 'burger', 'hotdog', 'pizza'}\n",
    "print(food)\n",
    "\n",
    "other_food = {'taco', 'burrito'}\n",
    "\n",
    "food.update(other_food)\n",
    "print(food)"
   ]
  },
  {
   "cell_type": "markdown",
   "metadata": {},
   "source": [
    "### Practice 7:\n",
    "Create a script that keeps asking the user for input until the user enters 'quit' (uppercase or lowercase).<br>\n",
    "* Each input should be added to a set.\n",
    "* When the user enters 'quit', the program should display all distinct values entered by the user, with each word on a separate line."
   ]
  },
  {
   "cell_type": "code",
   "execution_count": 21,
   "metadata": {},
   "outputs": [
    {
     "name": "stdout",
     "output_type": "stream",
     "text": [
      "if does not start with A. Please try another word: \n",
      "another already exists. Try a different word please:\n",
      "The unique words you entered are: \n",
      "another\n",
      "atom\n",
      "already\n"
     ]
    }
   ],
   "source": [
    "word_set = set()\n",
    "\n",
    "word = input(\"Input as many words that you can that start with the letter a. Once you're done, enter 'Quit/quit/QUIT' to finish and display the words you entered: \")\n",
    "\n",
    "while word:\n",
    "    if word == 'Quit' or word == 'quit' or word == 'QUIT':\n",
    "        print(\"The unique words you entered are: \")\n",
    "        for w in word_set:\n",
    "            print(w)\n",
    "        break\n",
    "    elif word[0] != 'a' and word[0] != 'A':\n",
    "        print(word, \"does not start with A. Please try another word: \")\n",
    "        word = input()\n",
    "    elif word not in word_set:\n",
    "        word_set.add(word)\n",
    "        word = input(\"Add another word: \")\n",
    "    else:\n",
    "        print(word, \"already exists. Try a different word please:\")\n",
    "        word = input()"
   ]
  },
  {
   "cell_type": "markdown",
   "metadata": {},
   "source": [
    "## Concept 8: Calculating the Length of a Set\n",
    "We can use the **```len()```** method to compute the number of elements in a set. "
   ]
  },
  {
   "cell_type": "markdown",
   "metadata": {},
   "source": [
    "### Example 8:\n",
    "We create a new set, and then use **```len()```** to display the number of items in the set."
   ]
  },
  {
   "cell_type": "code",
   "execution_count": 7,
   "metadata": {},
   "outputs": [
    {
     "name": "stdout",
     "output_type": "stream",
     "text": [
      "{'pasta', 'pizza', 'hotdog', 'burger'}\n",
      "This set contains 4 elements.\n"
     ]
    }
   ],
   "source": [
    "food =  {\"pasta\", \"burger\", \"hotdog\", \"pizza\"}\n",
    "print(food)\n",
    "\n",
    "print(\"This set contains\", len(food), \"elements.\")"
   ]
  },
  {
   "cell_type": "markdown",
   "metadata": {},
   "source": [
    "### Practice 8:\n",
    "Create a program that performs the following steps:<br>\n",
    "1. Prompt the user for an integer.\n",
    "2. Ask the user to enter that many words.\n",
    "3. Display the set of words provided by the user.<br>\n",
    "\n",
    "For example, if the user enters 5, the program will ask the user for 5 different words that it will store in the set.<br>\n",
    "\n",
    "When the user finishes entering the items of the set, the program displays the set to the user."
   ]
  },
  {
   "cell_type": "code",
   "execution_count": 17,
   "metadata": {},
   "outputs": [
    {
     "name": "stdout",
     "output_type": "stream",
     "text": [
      "{'alicia', 'manuel', 'tony', 'ana', 'alejandra'}\n"
     ]
    }
   ],
   "source": [
    "words_set = set()\n",
    "number = int(input(\"Enter a number between 1 and 10: Then you will be prompted to enter that many words into the set\"))\n",
    "i = 1\n",
    "while i < number+1:\n",
    "    word = input(f\"Word {i} - Please enter a word: \")\n",
    "    words_set.add(word)\n",
    "    i += 1\n",
    "print(words_set)"
   ]
  },
  {
   "cell_type": "markdown",
   "metadata": {},
   "source": [
    "## Concept 9: Deleting Items from a Set\n",
    "We can use the **```remove()```** or **```discard()```** methods to delete elements from a set.<br>\n",
    "\n",
    "These methods behave differently:<br>\n",
    "* **```discard()```** will ***not*** raise an error if the item to remove does not exist.\n",
    "* **```remove()```** will raise an error if the item to remove does not exist.<br>\n",
    "\n",
    "See the example below."
   ]
  },
  {
   "cell_type": "markdown",
   "metadata": {},
   "source": [
    "### Example 9:\n",
    "We start by creating a set of food items.<br>\n",
    "\n",
    "We then use **```discard()```** to delete one item and **```remove()```** to delete another item.<br>\n",
    "\n",
    "When we repeat the **```discard()```** and **```remove()```** steps, the final **```remove()```** step throws an error because that item no longer exists in the set."
   ]
  },
  {
   "cell_type": "code",
   "execution_count": 22,
   "metadata": {},
   "outputs": [
    {
     "name": "stdout",
     "output_type": "stream",
     "text": [
      "{'pasta', 'pizza', 'hotdog', 'burger'}\n",
      "{'pizza', 'hotdog', 'burger'}\n",
      "{'pizza', 'hotdog'}\n",
      "{'pizza', 'hotdog'}\n"
     ]
    },
    {
     "ename": "KeyError",
     "evalue": "'pasta'",
     "output_type": "error",
     "traceback": [
      "\u001b[1;31m---------------------------------------------------------------------------\u001b[0m",
      "\u001b[1;31mKeyError\u001b[0m                                  Traceback (most recent call last)",
      "\u001b[1;32mc:\\Users\\Tony Landero\\Desktop\\Wiley_Assignments\\Wiley_Python_C278\\sets.ipynb Cell 46\u001b[0m in \u001b[0;36m<cell line: 15>\u001b[1;34m()\u001b[0m\n\u001b[0;32m     <a href='vscode-notebook-cell:/c%3A/Users/Tony%20Landero/Desktop/Wiley_Assignments/Wiley_Python_C278/sets.ipynb#Y122sZmlsZQ%3D%3D?line=11'>12</a>\u001b[0m \u001b[39mprint\u001b[39m(food) \n\u001b[0;32m     <a href='vscode-notebook-cell:/c%3A/Users/Tony%20Landero/Desktop/Wiley_Assignments/Wiley_Python_C278/sets.ipynb#Y122sZmlsZQ%3D%3D?line=13'>14</a>\u001b[0m \u001b[39m# This WILL throw an error because pasta doesn't exist in the set anymore\u001b[39;00m\n\u001b[1;32m---> <a href='vscode-notebook-cell:/c%3A/Users/Tony%20Landero/Desktop/Wiley_Assignments/Wiley_Python_C278/sets.ipynb#Y122sZmlsZQ%3D%3D?line=14'>15</a>\u001b[0m food\u001b[39m.\u001b[39;49mremove(\u001b[39m'\u001b[39;49m\u001b[39mpasta\u001b[39;49m\u001b[39m'\u001b[39;49m)\n",
      "\u001b[1;31mKeyError\u001b[0m: 'pasta'"
     ]
    }
   ],
   "source": [
    "food = {\"pasta\", \"burger\", \"hotdog\", \"pizza\"}\n",
    "print(food)\n",
    "\n",
    "food.discard('pasta')\n",
    "print(food)\n",
    "\n",
    "food.remove('burger')\n",
    "print(food)\n",
    "\n",
    "# This will NOT throw an error even though pasta doesn't exist in the set anymore\n",
    "food.discard('pasta')\n",
    "print(food) \n",
    "\n",
    "# This WILL throw an error because pasta doesn't exist in the set anymore\n",
    "food.remove('pasta')"
   ]
  },
  {
   "cell_type": "markdown",
   "metadata": {},
   "source": [
    "### Practice 9:\n",
    "Complete the code below, using the **```in```** operator and the **```remove()```** method, to create a script that will remove items from a set.<br>\n",
    "* If the item exists, remove the item and display the current set with the item removed.\n",
    "* If the item does ***not*** exist, display an appropriate, user-friendly message and list the items currently in the set.<br>\n",
    "\n",
    "The program should ***not*** throw an error if the item doesn't exist. This means that the script should check if the item exists in the set, and remove the item only if it is included in the current set. "
   ]
  },
  {
   "cell_type": "code",
   "execution_count": 3,
   "metadata": {},
   "outputs": [
    {
     "name": "stdout",
     "output_type": "stream",
     "text": [
      "{'hotdog', 'pizza', 'pasta', 'burger'}\n",
      "fish is not in the set. Please select from one of the following: \n",
      "{'hotdog', 'pizza', 'pasta', 'burger'}\n",
      "The new set includes: \n",
      "{'pizza', 'pasta', 'burger'}\n",
      "taco is not in the set. Please select from one of the following: \n",
      "{'pizza', 'pasta', 'burger'}\n",
      "The new set includes: \n",
      "{'pasta', 'burger'}\n",
      "Thank you!\n",
      "The current set includes: \n",
      "{'pasta', 'burger'}\n"
     ]
    }
   ],
   "source": [
    "food = {\"pasta\", \"burger\", \"hotdog\", \"pizza\"}\n",
    " \n",
    "# the remove shouldn't throw an error. \n",
    "print(food)\n",
    "item = input(\"Which item would you like to delete from the current set? \")\n",
    "while item:\n",
    "    if item == 'quit':\n",
    "        print(\"Thank you!\")\n",
    "        print(\"The current set includes: \")\n",
    "        print(food)\n",
    "        break\n",
    "    elif item not in food:\n",
    "        print(item, \"is not in the set. Please select from one of the following: \")\n",
    "        print(food)\n",
    "        item = input()\n",
    "    elif item in food:\n",
    "        food.remove(item)\n",
    "        print(\"The new set includes: \")\n",
    "        print(food)\n",
    "        item = input(\"What other item would you like to remove from the list. If none, enter quit: \")"
   ]
  },
  {
   "cell_type": "markdown",
   "metadata": {},
   "source": [
    "## Concept 10: Clearing a Set\n",
    "We can use the **```clear()```** method to empty a set.<br>\n",
    "\n",
    "This is useful if we want to completely update an existing set with new data."
   ]
  },
  {
   "cell_type": "markdown",
   "metadata": {},
   "source": [
    "### Example 10:\n",
    "In this example, we create a set of food items, clear the set, and then print the updated set."
   ]
  },
  {
   "cell_type": "code",
   "execution_count": 5,
   "metadata": {},
   "outputs": [
    {
     "name": "stdout",
     "output_type": "stream",
     "text": [
      "{'hotdog', 'pizza', 'pasta', 'burger'}\n",
      "set()\n"
     ]
    }
   ],
   "source": [
    "food = {\"pasta\", \"burger\", \"hotdog\", \"pizza\"}\n",
    "print(food)\n",
    "\n",
    "# This will empty the food set\n",
    "food.clear()\n",
    "print(food)"
   ]
  },
  {
   "cell_type": "markdown",
   "metadata": {},
   "source": [
    "### Practice 10:\n",
    "Update the following code to include a user prompt.<br>\n",
    "* If the user inputs a string that corresponds to the variable name of one of the sets below, clear the set using the **```clear()```** method.\n",
    "* If there is not set that matches the user input, display an error message that the set doesn't exist."
   ]
  },
  {
   "cell_type": "code",
   "execution_count": 9,
   "metadata": {},
   "outputs": [
    {
     "name": "stdout",
     "output_type": "stream",
     "text": [
      "That set does not exist.\n",
      "You have cleared the shake_1 set:\n",
      "set()\n",
      "You have cleared the shake_3 set:\n",
      "set()\n",
      "Thank you!\n"
     ]
    }
   ],
   "source": [
    "shake_1 = {\"banana\", \"blueberry\", \"spinach\"}\n",
    "shake_2 = {\"strawberry\", \"pistachio\", \"cocoa powder\"}\n",
    "shake_3 = {\"kiwi\", \"banana\", \"peanut butter\"}\n",
    " \n",
    "# your code here\n",
    "choice = input(\"Which set would you like to clear? \")\n",
    "while choice:\n",
    "    if choice == 'quit':\n",
    "        print(\"Thank you!\")\n",
    "        break\n",
    "    elif choice == 'shake_1':\n",
    "        shake_1.clear()\n",
    "        print(\"You have cleared the shake_1 set:\")\n",
    "        print(shake_1)\n",
    "        choice = input(\"Which other set would you like to clear. Type quit at any time to exit the program: \")\n",
    "    elif choice == 'shake_2':\n",
    "        shake_2.clear()\n",
    "        print(\"You have cleared the shake_2 set:\")\n",
    "        print(shake_2)\n",
    "        choice = input(\"Which other set would you like to clear. Type quit at any time to exit the program: \")\n",
    "    elif choice == 'shake_3':\n",
    "        shake_3.clear()\n",
    "        print(\"You have cleared the shake_3 set:\")\n",
    "        print(shake_3)\n",
    "        choice = input(\"Which other set would you like to clear. Type quit at any time to exit the program: \")\n",
    "    else:\n",
    "        print(\"That set does not exist.\")\n",
    "        choice = input(\"Please enter a set that exists: \")"
   ]
  },
  {
   "cell_type": "markdown",
   "metadata": {},
   "source": [
    "## Concept 11: Popping Items in a Set\n",
    "We can use the **```pop()```** method to return and remove the last item in a set.<br>\n",
    "\n",
    "Because sets are unordered, the item returned by the pop method is random.<br>\n",
    "\n",
    "The **```pop()```** method does not take an argument, which means that you cannot use it to remove a specific item from the set. "
   ]
  },
  {
   "cell_type": "markdown",
   "metadata": {},
   "source": [
    "### Example 11:\n",
    "We create a set of four food items and use **```pop()```** to identify and remove one of those items.<br>\n",
    "\n",
    "Note that while 'pizza' is the last item added to the new set, it may not correspond to the popped item, because sets are unordered."
   ]
  },
  {
   "cell_type": "code",
   "execution_count": 10,
   "metadata": {},
   "outputs": [
    {
     "name": "stdout",
     "output_type": "stream",
     "text": [
      "hotdog\n",
      "{'pasta', 'pizza', 'burger'}\n"
     ]
    }
   ],
   "source": [
    "food = {\"pasta\", \"burger\", \"hotdog\", \"pizza\"}\n",
    "\n",
    "# Item is not necessarily 'pizza' because sets are unordered\n",
    "item = food.pop()\n",
    "print(item)\n",
    "print(food)"
   ]
  },
  {
   "cell_type": "markdown",
   "metadata": {},
   "source": [
    "### Practice 11:\n",
    "Create a script that performs the following steps:<br>\n",
    "* Display the set to the user along with the number of items in the set.\n",
    "* If there are no items in the set, display an output message to that effect and end the script.\n",
    "* Ask the user if they want to remove an item from the set.\n",
    "* If the user says yes:<br>\n",
    "&nbsp;&nbsp;&nbsp;&nbsp;&nbsp;* Verify that there is at least one item in the set.<br>\n",
    "&nbsp;&nbsp;&nbsp;&nbsp;&nbsp;* Remove a random item from the set.<br>\n",
    "&nbsp;&nbsp;&nbsp;&nbsp;&nbsp;* Display the updated set to the user.<br>\n",
    "&nbsp;&nbsp;&nbsp;&nbsp;&nbsp;* Prompt the user to remove another item.<br>\n",
    "* If the user says no, end the script.<br>\n",
    "\n",
    "You cannot use the **```clear(), remove(),```** or **```discard()```** methods in your solution."
   ]
  },
  {
   "cell_type": "code",
   "execution_count": 17,
   "metadata": {},
   "outputs": [
    {
     "name": "stdout",
     "output_type": "stream",
     "text": [
      "{'hotdog', 'pizza', 'pasta', 'burger'}\n",
      "You removed hotdog from the set.\n",
      "The updated set includes: \n",
      "{'pizza', 'pasta', 'burger'}\n",
      "You removed pizza from the set.\n",
      "The updated set includes: \n",
      "{'pasta', 'burger'}\n",
      "You removed pasta from the set.\n",
      "The updated set includes: \n",
      "{'burger'}\n",
      "The final set includes: \n",
      "{'burger'}\n",
      "Goodbye\n"
     ]
    }
   ],
   "source": [
    "food = {\"pasta\", \"burger\", \"hotdog\", \"pizza\"}\n",
    "print(food)\n",
    "# your code here\n",
    "item = input(\"Would you like to remove an item from the set? \")\n",
    "while item:\n",
    "    if item == 'no':\n",
    "        print(\"The final set includes: \")\n",
    "        print(food)\n",
    "        print(\"Goodbye\")\n",
    "        break\n",
    "    elif item == 'yes':\n",
    "        if len(food) < 1:\n",
    "            print(\"There are no more items in the set. Goodbye!\")\n",
    "            break\n",
    "        elif len(food) > 0:\n",
    "            rem = food.pop()\n",
    "            print(\"You removed\", rem, \"from the set.\")\n",
    "            print(\"The updated set includes: \")\n",
    "            print(food)\n",
    "            item = input(\"Would you like to remove another item? \")"
   ]
  },
  {
   "cell_type": "markdown",
   "metadata": {},
   "source": [
    "## Concept 12: Deleting a Set\n",
    "We can use the **```del```** function to completely delete a set and its contents."
   ]
  },
  {
   "cell_type": "markdown",
   "metadata": {},
   "source": [
    "### Example 12:\n",
    "Here, we create a set of food items, print it out, and then delete it.<br>\n",
    "\n",
    "Printing a non-existent set will throw an error."
   ]
  },
  {
   "cell_type": "code",
   "execution_count": 19,
   "metadata": {},
   "outputs": [
    {
     "name": "stdout",
     "output_type": "stream",
     "text": [
      "{'hotdog', 'pizza', 'pasta', 'burger'}\n"
     ]
    },
    {
     "ename": "NameError",
     "evalue": "name 'food' is not defined",
     "output_type": "error",
     "traceback": [
      "\u001b[1;31m---------------------------------------------------------------------------\u001b[0m",
      "\u001b[1;31mNameError\u001b[0m                                 Traceback (most recent call last)",
      "\u001b[1;32mc:\\Users\\Tony Landero\\Desktop\\Wiley_Assignments\\Wiley_Python_C278\\sets.ipynb Cell 61\u001b[0m in \u001b[0;36m<cell line: 8>\u001b[1;34m()\u001b[0m\n\u001b[0;32m      <a href='vscode-notebook-cell:/c%3A/Users/Tony%20Landero/Desktop/Wiley_Assignments/Wiley_Python_C278/sets.ipynb#Y124sZmlsZQ%3D%3D?line=4'>5</a>\u001b[0m \u001b[39mdel\u001b[39;00m food\n\u001b[0;32m      <a href='vscode-notebook-cell:/c%3A/Users/Tony%20Landero/Desktop/Wiley_Assignments/Wiley_Python_C278/sets.ipynb#Y124sZmlsZQ%3D%3D?line=6'>7</a>\u001b[0m \u001b[39m# This will throw an error because the set doesn't exist anymore\u001b[39;00m\n\u001b[1;32m----> <a href='vscode-notebook-cell:/c%3A/Users/Tony%20Landero/Desktop/Wiley_Assignments/Wiley_Python_C278/sets.ipynb#Y124sZmlsZQ%3D%3D?line=7'>8</a>\u001b[0m \u001b[39mprint\u001b[39m(food)\n",
      "\u001b[1;31mNameError\u001b[0m: name 'food' is not defined"
     ]
    }
   ],
   "source": [
    "food = {\"pasta\", \"burger\", \"hotdog\", \"pizza\"}\n",
    "print(food)\n",
    "\n",
    "# Delete the set\n",
    "del food\n",
    "\n",
    "# This will throw an error because the set doesn't exist anymore\n",
    "print(food)"
   ]
  },
  {
   "cell_type": "markdown",
   "metadata": {},
   "source": [
    "### Practice 12:\n",
    "Complete the code below to ask the user for input.<br>\n",
    "* If the user inputs a string that corresponds to the variable name of one of the sets below, delete that set using **```del```**.\n",
    "* If there is no set with that name, display an error message that the set doesn't exist."
   ]
  },
  {
   "cell_type": "code",
   "execution_count": 4,
   "metadata": {},
   "outputs": [
    {
     "name": "stdout",
     "output_type": "stream",
     "text": [
      "Sorry, but that set does not exist.\n",
      "You chose to delete shake_1\n",
      "You chose to delete shake_2\n",
      "Thank you!\n"
     ]
    }
   ],
   "source": [
    "shake_1 = {\"banana\", \"blueberry\", \"spinach\"}\n",
    "shake_2 = {\"strawberry\", \"pistachio\", \"cocoa powder\"}\n",
    "shake_3 = {\"kiwi\", \"banana\", \"peanut butter\"}\n",
    " \n",
    "# your code here\n",
    "choice = input(\"Which set would you like to delete completely? Type exit at any time to exit the program: \")\n",
    "while choice:\n",
    "    if choice == 'exit':\n",
    "        print(\"Thank you!\")\n",
    "        break\n",
    "    if choice == 'shake_1':\n",
    "        del shake_1\n",
    "        print(\"You chose to delete\", choice)\n",
    "        choice = input(\"Which other set would you like to delete completely? \")\n",
    "    elif choice == 'shake_2':\n",
    "        del shake_2\n",
    "        print(\"You chose to delete\", choice)\n",
    "        choice = input(\"Which other set would you like to delete completely? \")\n",
    "    elif choice == 'shake_3':\n",
    "        del shake_3\n",
    "        print(\"You chose to delete\", choice)\n",
    "        choice = input(\"Which other set would you like to delete completely? \")\n",
    "    else:\n",
    "        print(\"Sorry, but that set does not exist.\")\n",
    "        choice = input(\"Please try again: \")"
   ]
  },
  {
   "cell_type": "markdown",
   "metadata": {},
   "source": [
    "## Concept 13: Determining the Difference Between Sets\n",
    "We can use the **```difference()```** method to compare two sets and return a set containing the items that appear in the first set but do not appear in the second set. "
   ]
  },
  {
   "cell_type": "markdown",
   "metadata": {},
   "source": [
    "### Example 13:\n",
    "In the following example, notice that both sets include one item that is not in the other set. The **```difference()```** method only looks for items in the first set that do not appear inthe second set, and it ignores other items in the second set."
   ]
  },
  {
   "cell_type": "code",
   "execution_count": 8,
   "metadata": {},
   "outputs": [
    {
     "name": "stdout",
     "output_type": "stream",
     "text": [
      "{'peanut butter', 'kiwi', 'banana'}\n",
      "{'spinach', 'kiwi', 'banana'}\n",
      "{'peanut butter'}\n"
     ]
    }
   ],
   "source": [
    "shake_1 = {\"kiwi\", \"banana\", \"peanut butter\"}\n",
    "shake_2 = {\"banana\", \"kiwi\", \"spinach\"}\n",
    "\n",
    "# This set will contain the difference of shake_1 and shake_2\n",
    "shake_3 = shake_1.difference(shake_2)\n",
    "\n",
    "print(shake_1)\n",
    "print(shake_2)\n",
    "print(shake_3)"
   ]
  },
  {
   "cell_type": "markdown",
   "metadata": {},
   "source": [
    "### Practice 13:\n",
    "Create a script that performs the following steps:<br>\n",
    "* Prompt the user for the abbreviation of a state they have visited and store the value in a new set.\n",
    "* Repeat the prompt and continue storing values in the same set until the user enters 'done' (in uppercase or lowercase).\n",
    "* After the user enters 'done', display a list of abbreviations for the states that the user has ***not*** visited yet, using the **```states_abbrev```** set and the **```difference()```** method.<br>\n",
    "\n",
    "***Tip:*** It's always a good idea to tell the user how to get out of a loop!"
   ]
  },
  {
   "cell_type": "code",
   "execution_count": 16,
   "metadata": {},
   "outputs": [
    {
     "name": "stdout",
     "output_type": "stream",
     "text": [
      "Your visited states include: \n",
      "{'AK'}\n",
      "Your visited states include: \n",
      "{'TX', 'AK'}\n",
      "Your visited states include: \n",
      "{'TX', 'IL', 'AK'}\n",
      "The states you have visited include: \n",
      "{'TX', 'IL', 'AK'}\n",
      "The states you still have to visit are:\n",
      "['ME', 'HI', 'OR', 'MN', 'CT', 'NV', 'OK', 'RI', 'VA', 'WV', 'KS', 'ND', 'UT', 'LA', 'AR', 'NH', 'PA', 'CA', 'MA', 'DE', 'AL', 'GA', 'CO', 'KY', 'FL', 'NM', 'WA', 'AZ', 'SC', 'MD', 'OH', 'NE', 'TN', 'ID', 'WI', 'IN', 'NY', 'NC', 'VT', 'MO', 'IA', 'MT', 'SD', 'NJ', 'MI', 'MS', 'WY']\n"
     ]
    }
   ],
   "source": [
    "states_abbrev = {\"AL\", \"AK\", \"AZ\", \"AR\", \"CA\", \"CO\", \"CT\", \"DE\", \"FL\", \"GA\", \n",
    "          \"HI\", \"ID\", \"IL\", \"IN\", \"IA\", \"KS\", \"KY\", \"LA\", \"ME\", \"MD\", \n",
    "          \"MA\", \"MI\", \"MN\", \"MS\", \"MO\", \"MT\", \"NE\", \"NV\", \"NH\", \"NJ\", \n",
    "          \"NM\", \"NY\", \"NC\", \"ND\", \"OH\", \"OK\", \"OR\", \"PA\", \"RI\", \"SC\", \n",
    "          \"SD\", \"TN\", \"TX\", \"UT\", \"VT\", \"VA\", \"WA\", \"WV\", \"WI\", \"WY\"}\n",
    " \n",
    "# your code here\n",
    "visited = set()\n",
    "state = input(\"Choose a state, from the set above, that you have visited before. Once you are done entering, type done, Done, or DONE to see which states you have left to visit: \")\n",
    "while state:\n",
    "    if state == 'done' or state == 'Done' or state == 'DONE':\n",
    "        print(\"The states you have visited include: \")\n",
    "        print(visited)\n",
    "        print(\"The states you still have to visit are:\")\n",
    "        set_3 = states_abbrev.difference(visited)\n",
    "        print(list(set_3))\n",
    "        break\n",
    "    elif state in visited:\n",
    "        state = input(f\"You have already included {state}. Please choose another state: \")\n",
    "    elif state not in visited:\n",
    "        visited.add(state)\n",
    "        print(\"Your visited states include: \")\n",
    "        print(visited)\n",
    "        state = input(\"Enter another visited state or done if no more visited states: \")"
   ]
  },
  {
   "cell_type": "markdown",
   "metadata": {},
   "source": [
    "## Concept 14: Intersecting Sets\n",
    "We can use the **```intersection()```** method to compute the intersection of two or more sets.<br>\n",
    "\n",
    "The result includes only the values that both sets have in common. "
   ]
  },
  {
   "cell_type": "markdown",
   "metadata": {},
   "source": [
    "### Example 14:\n",
    "In the following example, notice that there is at least one item that appears in both sets.<br>\n",
    "\n",
    "We use **```intersection()```** to identify the shared items."
   ]
  },
  {
   "cell_type": "code",
   "execution_count": 15,
   "metadata": {},
   "outputs": [
    {
     "name": "stdout",
     "output_type": "stream",
     "text": [
      "{'peanut butter', 'kiwi', 'banana'}\n",
      "{'spinach', 'kiwi', 'banana'}\n",
      "{'kiwi', 'banana'}\n"
     ]
    }
   ],
   "source": [
    "shake_1 = {\"kiwi\", \"banana\", \"peanut butter\"}\n",
    "shake_2 = {\"banana\", \"kiwi\", \"spinach\"}\n",
    "\n",
    "# This set will contain the intersection of shake_1 and shake_2\n",
    "shake_3 = shake_1.intersection(shake_2)\n",
    "\n",
    "print(shake_1)\n",
    "print(shake_2)\n",
    "print(shake_3)"
   ]
  },
  {
   "cell_type": "markdown",
   "metadata": {},
   "source": [
    "### Practice 14:\n",
    "The following code includes a set of state abbreviations representing states that Mary has visited. Update the code to include the following steps:<br>\n",
    "* Prompt the user for the abbreviation of a state they have visited and store the value in a new set.\n",
    "* Repeat the prompt and continue storing values in the same set until the user enters 'done' (in uppercase or lowercase).\n",
    "* Display a list of the states that both the user and Mary have visited, or display a meaningful message if the user has not visited any of the states that Mary has visited."
   ]
  },
  {
   "cell_type": "code",
   "execution_count": 20,
   "metadata": {},
   "outputs": [
    {
     "name": "stdout",
     "output_type": "stream",
     "text": [
      "You have added NC to your list.\n",
      "{'NC'}\n",
      "The states that both you and Mary have visited are: \n",
      "{'NC'}\n"
     ]
    }
   ],
   "source": [
    "mary_states = {\"AZ\", \"CA\", \"FL\", \"GA\", \"IN\", \n",
    "              \"KY\", \"MA\", \"NV\", \"NY\", \"NC\",\n",
    "              \"PA\", \"SC\", \"TN\"}\n",
    " \n",
    "# your code here\n",
    "user_states = set()\n",
    "state = input(\"Please enter the abbreviations of all the states you have visited: \")\n",
    "while state:\n",
    "    if state == 'done' or state == 'DONE':\n",
    "        set_3 = mary_states.intersection(user_states)\n",
    "        print(\"The states that both you and Mary have visited are: \")\n",
    "        print(set_3)\n",
    "        if len(set_3) < 1:\n",
    "            print(\"You have not visited any states on Mary's list.\")\n",
    "        break\n",
    "    elif state in user_states:\n",
    "        state = input(f\"You have already entered {state}. Please enter a different state: \")\n",
    "    elif state not in user_states:\n",
    "        user_states.add(state)\n",
    "        print(\"You have added\", state, \"to your list.\")\n",
    "        print(user_states)\n",
    "        state = input(\"Please enter another state --> You can enter done or DONE if finished adding states: \")"
   ]
  },
  {
   "cell_type": "markdown",
   "metadata": {},
   "source": [
    "## Concept 15: Combining Sets\n",
    "We can use the **```union()```** method to compute the union of two or more sets.<br>\n",
    "\n",
    "The result is a new set of items that exist in at least one of the sets."
   ]
  },
  {
   "cell_type": "markdown",
   "metadata": {},
   "source": [
    "### Example 15:\n",
    "In the following example, we create three sets of food items and then combine all three sets into a new set.<br>\n",
    "\n",
    "NOtice that 'kiwi' and 'banana' appear in two sets, but each of those values appears only once in the results."
   ]
  },
  {
   "cell_type": "code",
   "execution_count": 1,
   "metadata": {},
   "outputs": [
    {
     "name": "stdout",
     "output_type": "stream",
     "text": [
      "{'spinach', 'apple', 'almonds', 'peanut butter', 'kiwi', 'orange', 'banana'}\n"
     ]
    }
   ],
   "source": [
    "shake_1 = {\"kiwi\", \"banana\", \"peanut butter\"}\n",
    "shake_2 = {\"banana\", \"kiwi\", \"spinach\"}\n",
    "shake_3 = {\"orange\", \"apple\", \"almonds\"}\n",
    "\n",
    "# The union method combines two or more sets. We can add as many sets as needed\n",
    "shake_4 = shake_1.union(shake_2,shake_3)\n",
    "print(shake_4)"
   ]
  },
  {
   "cell_type": "markdown",
   "metadata": {},
   "source": [
    "### Practice 15:\n",
    "The following code includes a set of the states that Mary has visited. Update the code to perform the following steps:<br>\n",
    "* Prompt the user for the abbreviation of a state they have visited ans store the value in a new set.\n",
    "* Repeat the prompt and continue storing values in the same set until the user enters 'done' (in uppercase or lowercase).\n",
    "* Display a list of states that either the user or Mary have visited."
   ]
  },
  {
   "cell_type": "code",
   "execution_count": 2,
   "metadata": {},
   "outputs": [
    {
     "name": "stdout",
     "output_type": "stream",
     "text": [
      "The states you have visited are: \n",
      "{'AZ'}\n",
      "The states you have visited are: \n",
      "{'AZ', 'CA'}\n",
      "The states you have visited are: \n",
      "{'FL', 'AZ', 'CA'}\n",
      "The states you have visited are: \n",
      "{'TX', 'FL', 'AZ', 'CA'}\n",
      "The states you have visited are: \n",
      "{'TX', 'AZ', 'GA', 'FL', 'CA'}\n",
      "The states you have visited are: \n",
      "{'TX', 'AZ', 'GA', 'DC', 'FL', 'CA'}\n",
      "The states you have visited are: {'TX', 'AZ', 'GA', 'DC', 'FL', 'CA'}\n",
      "The states that both you and Mary have visited are:\n",
      "['IN', 'NV', 'NY', 'AZ', 'SC', 'DC', 'KY', 'CA', 'TX', 'MA', 'PA', 'GA', 'TN', 'FL', 'NC']\n",
      "Thank you! Goodbye!\n"
     ]
    }
   ],
   "source": [
    "mary_states = {\"AZ\", \"CA\", \"FL\", \"GA\", \"IN\", \n",
    "              \"KY\", \"MA\", \"NV\", \"NY\", \"NC\",\n",
    "              \"PA\", \"SC\", \"TN\"}\n",
    " \n",
    "# your code here\n",
    "user_states = set()\n",
    "state = input(\"Enter the abbreviation of any state you have visited: \")\n",
    "while state:\n",
    "    if state == 'done' or state == 'DONE' or state == 'Done':\n",
    "        print(\"The states you have visited are:\", user_states)\n",
    "        set_3 = mary_states.union(user_states)\n",
    "        print(\"The states that both you and Mary have visited are:\")\n",
    "        print(list(set_3))\n",
    "        print(\"Thank you! Goodbye!\")\n",
    "        break\n",
    "    elif state not in user_states:\n",
    "        user_states.add(state)\n",
    "        print(\"The states you have visited are: \")\n",
    "        print(user_states)\n",
    "        state = input(\"Add another state you have visited. Enter 'done' if there are no more states: \")\n",
    "    elif state in user_states:\n",
    "        state = input(f\"You have already included {state}. Enter a different state: \") "
   ]
  },
  {
   "cell_type": "code",
   "execution_count": null,
   "metadata": {},
   "outputs": [],
   "source": []
  }
 ],
 "metadata": {
  "kernelspec": {
   "display_name": "Python 3.9.6 64-bit",
   "language": "python",
   "name": "python3"
  },
  "language_info": {
   "codemirror_mode": {
    "name": "ipython",
    "version": 3
   },
   "file_extension": ".py",
   "mimetype": "text/x-python",
   "name": "python",
   "nbconvert_exporter": "python",
   "pygments_lexer": "ipython3",
   "version": "3.9.6"
  },
  "orig_nbformat": 4,
  "vscode": {
   "interpreter": {
    "hash": "9cc6a95a29893daac463ce220390149ef03aeb7175da3903cfd40cfc8442e04e"
   }
  }
 },
 "nbformat": 4,
 "nbformat_minor": 2
}
