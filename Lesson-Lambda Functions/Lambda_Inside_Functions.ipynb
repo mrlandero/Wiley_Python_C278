{
 "cells": [
  {
   "cell_type": "markdown",
   "metadata": {},
   "source": [
    "### Example 4:\n",
    "In this example, we create a function named **```myfunc```** that includes a lambda function.<br>\n",
    "\n",
    "The **```myfunc```** function accepts one argument **```n```**, and the lambda function accepts another argument **```a```**.<br>\n",
    "\n",
    "When we call the function to create the **```doubler```** variable, we include a value for **```n```**.<br>\n",
    "\n",
    "When we print the value of **```doubler```**, we provide the value for **```a```**."
   ]
  },
  {
   "cell_type": "code",
   "execution_count": 2,
   "metadata": {},
   "outputs": [
    {
     "data": {
      "text/plain": [
       "<function __main__.myfunc.<locals>.<lambda>(a)>"
      ]
     },
     "execution_count": 2,
     "metadata": {},
     "output_type": "execute_result"
    }
   ],
   "source": [
    "def myfunc(n):\n",
    "    return lambda a: a*n\n",
    "\n",
    "doubler = myfunc(2) # We set the value of n\n",
    "doubler"
   ]
  },
  {
   "cell_type": "code",
   "execution_count": 3,
   "metadata": {},
   "outputs": [
    {
     "name": "stdout",
     "output_type": "stream",
     "text": [
      "22\n"
     ]
    }
   ],
   "source": [
    "print(doubler(11)) # We set the value of a"
   ]
  },
  {
   "cell_type": "code",
   "execution_count": 4,
   "metadata": {},
   "outputs": [
    {
     "name": "stdout",
     "output_type": "stream",
     "text": [
      "36\n"
     ]
    }
   ],
   "source": [
    "def pow_n(n):\n",
    "    return lambda a: n**a\n",
    "pow_2 = pow_n(6)\n",
    "print(pow_2(2))"
   ]
  },
  {
   "cell_type": "code",
   "execution_count": null,
   "metadata": {},
   "outputs": [],
   "source": []
  }
 ],
 "metadata": {
  "interpreter": {
   "hash": "fb00f0c01367cd29234ef98d6ee35d5dad54fff2cb1a8b567bc06dceecc7a7af"
  },
  "kernelspec": {
   "display_name": "Python 3.8.8 ('base')",
   "language": "python",
   "name": "python3"
  },
  "language_info": {
   "codemirror_mode": {
    "name": "ipython",
    "version": 3
   },
   "file_extension": ".py",
   "mimetype": "text/x-python",
   "name": "python",
   "nbconvert_exporter": "python",
   "pygments_lexer": "ipython3",
   "version": "3.8.8"
  },
  "orig_nbformat": 4
 },
 "nbformat": 4,
 "nbformat_minor": 2
}
