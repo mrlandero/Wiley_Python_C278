{
 "cells": [
  {
   "cell_type": "markdown",
   "metadata": {},
   "source": [
    "# Module 1 - Lesson 2 Activities\n",
    "The activities here will give you the opportunity to practice the skills and tools presented in Lesson 2, with the following objectives:\n",
    "1. Demonstrate the use of a variety of data types in Python, including numbers, booleans, and strings.\n",
    "1. Distinguish between float values, integers, and complex numbers.\n",
    "1. Use Python to perform operations using numbers.\n",
    "1. Use Python to perform logic operations using booleans.\n",
    "1. Use Python to manipulate string values.\n",
    "\n",
    "Software development skills build on each other, so many of the activities here will also require skills and tools presented in earlier lessons."
   ]
  },
  {
   "cell_type": "markdown",
   "metadata": {},
   "source": [
    "## Activity 1\n",
    "Create a program that prompts the user to enter a number and then displays the type of the number entered (e.g., complex, integer, or float). \n",
    "\n",
    "For example, if the user enters `6`, the output should be `int` (for integer). "
   ]
  },
  {
   "cell_type": "code",
   "execution_count": null,
   "metadata": {},
   "outputs": [],
   "source": [
    "# your code here\n",
    "user_num = input(\"Enter a num: \")\n",
    "try:\n",
    "    if float(user_num).is_integer():\n",
    "        print(\"integer\")\n",
    "    else:\n",
    "        print(\"float\")\n",
    "except ValueError:\n",
    "    print(\"complex\")"
   ]
  },
  {
   "cell_type": "markdown",
   "metadata": {},
   "source": [
    "## Activity 2\n",
    "Update the code below so that the result is equal to 576. Do not change any of the existing values or operators or the order in which they appear."
   ]
  },
  {
   "cell_type": "code",
   "execution_count": null,
   "metadata": {},
   "outputs": [],
   "source": [
    "# do not change the order in which the numbers and operators appear in the next line\n",
    "result = (5 + 3) ** 2 * 9 \n",
    "\n",
    "print(result) # the output should be 576"
   ]
  },
  {
   "cell_type": "markdown",
   "metadata": {},
   "source": [
    "## Activity 3\n",
    "Create a program that prompts the user for a float number and returns the integer portion of the floating number."
   ]
  },
  {
   "cell_type": "code",
   "execution_count": null,
   "metadata": {},
   "outputs": [],
   "source": [
    "# your code here\n",
    "num = float(input(\"Please enter a decimal number: \"))\n",
    "num = int(num)\n",
    "print(num)"
   ]
  },
  {
   "cell_type": "markdown",
   "metadata": {},
   "source": [
    "## Activity 4\n",
    "Write a program that calculates and displays the current value of an investment for a given initial deposit, interest rate, the number of times interest is calculated per year, and the number of years since the initial deposit.\n",
    "\n",
    "The program should prompt the user for each of the values and use the following formula to calculate the current value of the deposit:\n",
    "\n",
    "    V = P(1 + r/n)^nt\n",
    "    \n",
    "Where each letter represents concepts listed below:\n",
    "* `V`: Value\n",
    "* `P`: Initial deposit\n",
    "* `r`: Interest rate as a fraction (e.g., 0.05)\n",
    "* `n`: Number of times per year interest is calculated\n",
    "* `t`: Number of years since the initial deposit\n",
    "\t\n",
    "\t    \n",
    "The program should show the user the results of the calculation and each of the input values in a meaningful way (so that the user can easily tell what each value represents)."
   ]
  },
  {
   "cell_type": "code",
   "execution_count": 12,
   "metadata": {},
   "outputs": [
    {
     "name": "stdout",
     "output_type": "stream",
     "text": [
      "Welcome to the investment value calculator!!\n",
      "===============\n",
      "Summary of the values entered: \n",
      "The principal amount is 10000\n",
      "The interest rate is 0.09\n",
      "The numbers of times interest is calculated per year is 1\n",
      "The number of years into the future you would like to calculate is 5\n",
      "===============\n",
      "Given the values provided, the value of your investment after 5 years will be $15386.24\n"
     ]
    }
   ],
   "source": [
    "# your code here\n",
    "# V = P(1 + r/n)^nt\n",
    "print(\"Welcome to the investment value calculator!!\")\n",
    "p = int(input(\"What is the initial investment amount? \"))\n",
    "r = float(input(\"What is the interest rate as a decimal? ex: 8% = 0.08 \"))\n",
    "n = int(input(\"How many times per year is the interst calculated? Yearly (1) or Biannually (2) \"))\n",
    "t = int(input(\"How many years into the future would you like to calculate? \"))\n",
    "v = p*(1 + r/n)**(n*t)\n",
    "print(\"===============\")\n",
    "print(\"Summary of the values entered: \")\n",
    "print(\"The principal amount is\", p)\n",
    "print(\"The interest rate is\", r)\n",
    "print(\"The numbers of times interest is calculated per year is\", n)\n",
    "print(\"The number of years into the future you would like to calculate is\", t)\n",
    "print(\"===============\")\n",
    "print(f\"Given the values provided, the value of your investment after {t} years will be ${v:.2f}\")"
   ]
  },
  {
   "cell_type": "markdown",
   "metadata": {},
   "source": [
    "## Activity 5\n",
    "Write a program that prompts the user for a principal amount, the rate of interest, and the number of days for a loan, and then calculates and returns the simple interest for the life of the loan. Use the formula below:\n",
    "\n",
    "    interest = principal * rate * days / 365"
   ]
  },
  {
   "cell_type": "code",
   "execution_count": 16,
   "metadata": {},
   "outputs": [
    {
     "name": "stdout",
     "output_type": "stream",
     "text": [
      "Welcome to the Simple Interest Calculator\n",
      "===============\n",
      "Directions:\n",
      "===============\n",
      "The loan amount is 1000\n",
      "The interest rate is 0.1\n",
      "You have 30 days to pay back the loan.\n",
      "===============\n",
      "Given the values entered, your total interest for the life of the loan would be $8.22\n"
     ]
    }
   ],
   "source": [
    "# your code here\n",
    "print(\"Welcome to the Simple Interest Calculator\")\n",
    "print(\"===============\")\n",
    "print(\"Directions:\")\n",
    "p = int(input(\"Enter the amount of the loan: \"))\n",
    "r = float(input(\"Please enter the interest rate as a decimal. Ex: 10% = 0.1: \"))\n",
    "d = int(input(\"How many days to pay back the loan? \"))\n",
    "print(\"===============\")\n",
    "print(\"The loan amount is\", p)\n",
    "print(\"The interest rate is\", r)\n",
    "print(f\"You have {d} days to pay back the loan.\")\n",
    "print(\"===============\")\n",
    "i = (p * r * d) / 365\n",
    "print(f\"Given the values entered, your total interest for the life of the loan would be ${i:.2f}\")"
   ]
  },
  {
   "cell_type": "markdown",
   "metadata": {},
   "source": [
    "## Activity 6\n",
    "Create a program that displays three statements that evaluate to True and three statements that evaluate to False.\n",
    "\n",
    "Example:\n",
    "\n",
    "    a = 0\n",
    "    b = 1 \n",
    "    \n",
    "    Output: a < b = True"
   ]
  },
  {
   "cell_type": "code",
   "execution_count": 19,
   "metadata": {},
   "outputs": [
    {
     "name": "stdout",
     "output_type": "stream",
     "text": [
      "a < b = True\n",
      "a <= b = True\n",
      "a is not equal to be = True\n",
      "===============\n",
      "a > b = False\n",
      "a = b = False\n",
      "a >= b = False\n"
     ]
    }
   ],
   "source": [
    "# your code here\n",
    "a = 0\n",
    "b = 1\n",
    "print(\"a < b =\", a < b)\n",
    "print(\"a <= b =\", a <= b)\n",
    "print(\"a is not equal to be =\", a != b)\n",
    "print(\"===============\")\n",
    "print(\"a > b =\", a > b)\n",
    "print(\"a = b =\", a == b)\n",
    "print(\"a >= b =\", a >= b)"
   ]
  },
  {
   "cell_type": "markdown",
   "metadata": {},
   "source": [
    "## Activity 7\n",
    "Create a program that prompts the user for a number and calculates the following:\n",
    "* The boolean of the number entered\n",
    "* The binary equivalent of the number entered\n",
    "* The square root of the number entered\n",
    "\n",
    "The program should display the following to the user:\n",
    "* The number the user entered, in a phrase like, \"You selected `value`.\"\n",
    "* The boolean of the number, in a phrase like, \"The boolean of your number is `value`.\"\n",
    "* The binary equivalent of the number, in a phrase like, \"The binary equivalent of your number is `value`.\"\n",
    "* The square root of the number, with the value rounded to three decimal places, in a phrase like, \"The square root of your number is `value`.\""
   ]
  },
  {
   "cell_type": "code",
   "execution_count": 28,
   "metadata": {},
   "outputs": [
    {
     "name": "stdout",
     "output_type": "stream",
     "text": [
      "The number you entered is 9\n",
      "The boolean value of the number you entered is True\n",
      "The binary equivalent of the number you entered is 0b1001\n",
      "The square root of the number you entered is 3.000\n"
     ]
    }
   ],
   "source": [
    "# your code here\n",
    "num = int(input(\"Please enter an integer: Ex. 1-20 \"))\n",
    "print(\"The number you entered is\", num)\n",
    "print(\"The boolean value of the number you entered is\", bool(num))\n",
    "print(\"The binary equivalent of the number you entered is\", bin(num))\n",
    "print(f\"The square root of the number you entered is {(num**0.5):.3f}\")"
   ]
  },
  {
   "cell_type": "markdown",
   "metadata": {},
   "source": [
    "## Activity 8\n",
    "Create a program that completes the following tasks:\n",
    "1. Prompt the user for a series of five integers. \n",
    "    * The user must be asked for five numbers.\n",
    "1. After the fifth entry, stop prompting for values and calculate the following: \n",
    "    * The product of the integers\n",
    "    * The average of the integers\n",
    "    * The sum of the integers\n",
    "1. After performing the calculations, display the following to the user: \n",
    "    * The values the user entered\n",
    "    * The values of the calculations, using a phrase that identifies the value"
   ]
  },
  {
   "cell_type": "code",
   "execution_count": 36,
   "metadata": {},
   "outputs": [
    {
     "name": "stdout",
     "output_type": "stream",
     "text": [
      "================\n",
      "For your first integer, you entered 1\n",
      "For your second integer, you entered 2\n",
      "For your third integer, you entered 3\n",
      "For your fourth integer, you entered 4\n",
      "For your last integer, you entered 5\n",
      "================\n",
      "The sum of all your integers is 15\n",
      "The product of all your integers is 120\n",
      "The average of all your integers is 3.00\n"
     ]
    }
   ],
   "source": [
    "# your code here\n",
    "num1 = int(input(\"Please enter your first integer: \"))\n",
    "num2 = int(input(\"Please enter your second integer: \"))\n",
    "num3 = int(input(\"Please enter your third integer: \"))\n",
    "num4 = int(input(\"Please enter your fourth integer: \"))\n",
    "num5 = int(input(\"Please enter your fifth integer: \"))\n",
    "print(\"================\")\n",
    "print(\"For your first integer, you entered\", num1)\n",
    "print(\"For your second integer, you entered\", num2)\n",
    "print(\"For your third integer, you entered\", num3)\n",
    "print(\"For your fourth integer, you entered\", num4)\n",
    "print(\"For your last integer, you entered\", num5)\n",
    "print(\"================\")\n",
    "print(\"The sum of all your integers is\", (num1+num2+num3+num4+num5))\n",
    "print(\"The product of all your integers is\", (num1*num2*num3*num4*num5))\n",
    "print(f\"The average of all your integers is {(num1+num2+num3+num4+num5)/5:.2f}\")"
   ]
  },
  {
   "cell_type": "markdown",
   "metadata": {},
   "source": [
    "## Activity 9\n",
    "1. Start with a street address that includes a building/house number, the name of the street, and the type of street (Street, Avenue, Boulevard, etc.). \n",
    "    * You can use any address you wish and abbreviations are acceptable.\n",
    "    * For example: 25 Main Street\n",
    "1. Display the full address to the user.\n",
    "1. Display the house number only in a phrase like, \"The building or house number is 25.\"\n",
    "1. Display the street name in a phrase like, \"The street name is Main Street.\""
   ]
  },
  {
   "cell_type": "code",
   "execution_count": 41,
   "metadata": {},
   "outputs": [
    {
     "name": "stdout",
     "output_type": "stream",
     "text": [
      "The address is 25 Main Street\n",
      "The building/house number is 25\n",
      "The street name is Main Street\n"
     ]
    }
   ],
   "source": [
    "# your code here\n",
    "address = \"25 Main Street\"\n",
    "number, street, type = address.split()\n",
    "print(\"The address is\", address)\n",
    "print(\"The building/house number is\", number)\n",
    "print(\"The street name is\", street + \" \" + type)"
   ]
  },
  {
   "cell_type": "code",
   "execution_count": 43,
   "metadata": {},
   "outputs": [
    {
     "name": "stdout",
     "output_type": "stream",
     "text": [
      "The address is 25 Main Street\n",
      "The building/house number is 25\n",
      "The street name is Main Street\n"
     ]
    }
   ],
   "source": [
    "address = \"25 Main Street\"\n",
    "print(\"The address is\", address)\n",
    "print(\"The building/house number is\", address[:2])\n",
    "print(\"The street name is\", address[3:])"
   ]
  },
  {
   "cell_type": "code",
   "execution_count": null,
   "metadata": {},
   "outputs": [],
   "source": []
  }
 ],
 "metadata": {
  "kernelspec": {
   "display_name": "Python 3.9.6 64-bit",
   "language": "python",
   "name": "python3"
  },
  "language_info": {
   "codemirror_mode": {
    "name": "ipython",
    "version": 3
   },
   "file_extension": ".py",
   "mimetype": "text/x-python",
   "name": "python",
   "nbconvert_exporter": "python",
   "pygments_lexer": "ipython3",
   "version": "3.9.6"
  },
  "vscode": {
   "interpreter": {
    "hash": "9cc6a95a29893daac463ce220390149ef03aeb7175da3903cfd40cfc8442e04e"
   }
  }
 },
 "nbformat": 4,
 "nbformat_minor": 2
}
