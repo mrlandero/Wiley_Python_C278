{
 "cells": [
  {
   "cell_type": "markdown",
   "metadata": {},
   "source": [
    "## Concept 1: String Values\n",
    "As with other programming languages, Pyton uses the string **```(str)```** data class for values that consist of individual characters, as opposed to numeric values, booleans, and other integral values.<br>\n",
    "\n",
    "In Python, string values are always presented inside quotation marks."
   ]
  },
  {
   "cell_type": "markdown",
   "metadata": {},
   "source": [
    "### Example 1:\n",
    "The following shows an example of how to create a string variable, using the syntax<br>\n",
    "```variable = \"value\"```"
   ]
  },
  {
   "cell_type": "code",
   "execution_count": null,
   "metadata": {},
   "outputs": [
    {
     "name": "stdout",
     "output_type": "stream",
     "text": [
      "John Smith\n",
      "<class 'str'>\n"
     ]
    }
   ],
   "source": [
    "name = \"John Smith\"\n",
    "print(name)\n",
    "print(type(name))"
   ]
  },
  {
   "cell_type": "markdown",
   "metadata": {},
   "source": [
    "### Practice 1:\n",
    "Create 5 different variables that contain strings. Use the print command to display the variables."
   ]
  },
  {
   "cell_type": "code",
   "execution_count": 2,
   "metadata": {},
   "outputs": [
    {
     "name": "stdout",
     "output_type": "stream",
     "text": [
      "Mexico\n",
      "============\n",
      "Mexico City\n",
      "============\n",
      "Texas\n",
      "============\n",
      "SHSU\n",
      "============\n",
      "SFASU\n"
     ]
    }
   ],
   "source": [
    "country = \"Mexico\"\n",
    "city = \"Mexico City\"\n",
    "state = \"Texas\"\n",
    "bachelors = \"SHSU\"\n",
    "masters = \"SFASU\"\n",
    "print(country)\n",
    "print(\"============\")\n",
    "print(city)\n",
    "print(\"============\")\n",
    "print(state)\n",
    "print(\"============\")\n",
    "print(bachelors)\n",
    "print(\"============\")\n",
    "print(masters)"
   ]
  },
  {
   "cell_type": "markdown",
   "metadata": {},
   "source": [
    "## Concept 2: Determine the Length of a String\n",
    "We can use the **```len()```** method to calculate the number of characters in a string, including not only letters but spaces and punctuation as well.<br>\n",
    "\n",
    "The syntax is **```len(variable)```**"
   ]
  },
  {
   "cell_type": "markdown",
   "metadata": {},
   "source": [
    "### Example 2:\n",
    "Using the same string as the previous example, we use **```len()```** to calculate the number of characters in a string.<br>\n",
    "\n",
    "Note that the comma, space, and exclamation point are included in the count."
   ]
  },
  {
   "cell_type": "code",
   "execution_count": 3,
   "metadata": {},
   "outputs": [
    {
     "name": "stdout",
     "output_type": "stream",
     "text": [
      "13\n"
     ]
    }
   ],
   "source": [
    "message = \"Hello, World!\"\n",
    "print(len(message)) # Prints the length (number of characters) in the string"
   ]
  },
  {
   "cell_type": "markdown",
   "metadata": {},
   "source": [
    "### Practice 2:\n",
    "Create a script that performs the following steps:\n",
    "1. It prompts the user for their first name and stores the input in a variable.\n",
    "2. It prompts the user for their last name and stores the input in a separate variable.\n",
    "3. It calculates and returns the sum of the length of both names."
   ]
  },
  {
   "cell_type": "code",
   "execution_count": 5,
   "metadata": {},
   "outputs": [
    {
     "name": "stdout",
     "output_type": "stream",
     "text": [
      "The amount of characters in your name is 13\n"
     ]
    }
   ],
   "source": [
    "f_name = input(\"What is your first name? \")\n",
    "l_name = input(\"What is your last name? \")\n",
    "total_char = len(f_name) + len(l_name)\n",
    "print(\"The amount of characters in your name is\", total_char)"
   ]
  },
  {
   "cell_type": "markdown",
   "metadata": {},
   "source": [
    "## Concept 3: Indexed Characters\n",
    "The characters within a string are indexed, and we can use index values to retrieve specific characters within a string. As with indexed arrays in other programming languages, the first character receives the index of 0, and subsequent characters are indexed sequentially from there.<br>\n",
    "\n",
    "The last character of a string is therefore indexed with a value equal to the length of the string minus 1."
   ]
  },
  {
   "cell_type": "markdown",
   "metadata": {},
   "source": [
    "### Example 3:\n",
    "In this example, we use index values within the string to retrieve and display specific characters contained in the string, using the syntax:<br>\n",
    "```variable[index_value]```<br>\n",
    "\n",
    "We can use **```len```** to determine the last character of a string without having to know how long the string is. Because the index values start with 0, the last character is always the length of the string minus 1.<br>\n",
    "```variable[len(variable)-1]```<br>\n",
    "\n",
    "If we specify an index value that is larger than the values available, Python will throw an error because the value does not exist. "
   ]
  },
  {
   "cell_type": "code",
   "execution_count": 12,
   "metadata": {},
   "outputs": [
    {
     "name": "stdout",
     "output_type": "stream",
     "text": [
      "John Smith\n",
      "============\n",
      "J\n",
      "============\n",
      "o\n",
      "============\n",
      "h\n",
      "============\n",
      "i\n",
      "============\n",
      "h\n",
      "============\n"
     ]
    },
    {
     "ename": "IndexError",
     "evalue": "string index out of range",
     "output_type": "error",
     "traceback": [
      "\u001b[1;31m---------------------------------------------------------------------------\u001b[0m",
      "\u001b[1;31mIndexError\u001b[0m                                Traceback (most recent call last)",
      "Input \u001b[1;32mIn [12]\u001b[0m, in \u001b[0;36m<cell line: 20>\u001b[1;34m()\u001b[0m\n\u001b[0;32m     18\u001b[0m \u001b[38;5;28mprint\u001b[39m(\u001b[38;5;124m\"\u001b[39m\u001b[38;5;124m============\u001b[39m\u001b[38;5;124m\"\u001b[39m)\n\u001b[0;32m     19\u001b[0m \u001b[38;5;66;03m# Error because the string is shorter than 11 characters\u001b[39;00m\n\u001b[1;32m---> 20\u001b[0m \u001b[38;5;28mprint\u001b[39m(\u001b[43mname\u001b[49m\u001b[43m[\u001b[49m\u001b[38;5;241;43m10\u001b[39;49m\u001b[43m]\u001b[49m)\n",
      "\u001b[1;31mIndexError\u001b[0m: string index out of range"
     ]
    }
   ],
   "source": [
    "name = \"John Smith\"\n",
    "print(name)\n",
    "print(\"============\")\n",
    "# Access the first character in the string\n",
    "print(name[0])\n",
    "print(\"============\")\n",
    "# Access the second character in the string\n",
    "print(name[1])\n",
    "print(\"============\")\n",
    "# Access the third character in the string\n",
    "print(name[2])\n",
    "print(\"============\")\n",
    "# Access the eigth character in the string\n",
    "print(name[7])\n",
    "print(\"============\")\n",
    "# Access the last character of the string\n",
    "print(name[len(name)-1])\n",
    "print(\"============\")\n",
    "# Error because the string is shorter than 11 characters\n",
    "print(name[10])"
   ]
  },
  {
   "cell_type": "markdown",
   "metadata": {},
   "source": [
    "### Practice 3:\n",
    "Fix the code below so the output displays only the character H and all instances of the charcter o."
   ]
  },
  {
   "cell_type": "code",
   "execution_count": 15,
   "metadata": {},
   "outputs": [
    {
     "name": "stdout",
     "output_type": "stream",
     "text": [
      "e\n",
      "l\n",
      "l\n",
      "============\n",
      "H\n",
      "o\n",
      "o\n"
     ]
    }
   ],
   "source": [
    "# Original code\n",
    "message = \"Hello, World!\"\n",
    "print(message[1])\n",
    "print(message[2])\n",
    "print(message[3])\n",
    "print(\"============\")\n",
    "# Editted code\n",
    "print(message[0])\n",
    "print(message[4])\n",
    "print(message[8])"
   ]
  },
  {
   "cell_type": "markdown",
   "metadata": {},
   "source": [
    "## Concept 4: Storing Characters\n",
    "While we can use index values to retrieve a specific character from a string, we can also store that value in its own variable, in case we want to use it elsewhere in the script."
   ]
  },
  {
   "cell_type": "markdown",
   "metadata": {},
   "source": [
    "### Example 4\n",
    "Using the same example of \"John Smith\", we can create variables that store specific characters in the string.<br>\n",
    "\n",
    "We can also use negative values to identify characters in a string, where **```-1```** is the last character of the string, **```-2```** is the next to last character, and so on."
   ]
  },
  {
   "cell_type": "code",
   "execution_count": 17,
   "metadata": {},
   "outputs": [
    {
     "name": "stdout",
     "output_type": "stream",
     "text": [
      "John Smith\n",
      "============\n",
      "J\n",
      "============\n",
      "S\n",
      "============\n",
      "h\n"
     ]
    }
   ],
   "source": [
    "name = \"John Smith\"\n",
    "print(name)\n",
    "print(\"============\")\n",
    "\n",
    "# Store the first character as char1\n",
    "char1 = name[0]\n",
    "print(char1)\n",
    "print(\"============\")\n",
    "\n",
    "# Stores the sixth character\n",
    "char6 = name[5]\n",
    "print(char6)\n",
    "print(\"============\")\n",
    "\n",
    "# Stores the last character\n",
    "char_last = name[-1]\n",
    "print(char_last)"
   ]
  },
  {
   "cell_type": "markdown",
   "metadata": {},
   "source": [
    "### Practice 4:\n",
    "Create a script that performs the following steps:\n",
    "1. Prompt the user for the name of the city they were born\n",
    "2. Display the number of characters in the name of the city, with an appropriate message\n",
    "3. Display the first letter of the name of the city, with an appropriate message\n",
    "4. Display the third from the last letter of the name of the city, with an appropriate message."
   ]
  },
  {
   "cell_type": "code",
   "execution_count": 19,
   "metadata": {},
   "outputs": [
    {
     "name": "stdout",
     "output_type": "stream",
     "text": [
      "The number of characters in your city's name is 11\n",
      "The first letter in your city's name is M\n",
      "The third to last letter in your city's name is i\n"
     ]
    }
   ],
   "source": [
    "city = input(\"In which city were you born? \")\n",
    "\n",
    "print(\"The number of characters in your city's name is\", len(city))\n",
    "\n",
    "f_char = city[0]\n",
    "print(\"The first letter in your city's name is\", f_char)\n",
    "\n",
    "last_3rd = city[-3]\n",
    "print(\"The third to last letter in your city's name is\", last_3rd)"
   ]
  },
  {
   "cell_type": "markdown",
   "metadata": {},
   "source": [
    "## Concept 5: Case Functions\n",
    "Strings support a variety of functions, including:\n",
    "* **```upper```**- Converts all characters in the string to uppercase\n",
    "* **```lower```**- Converts all charcters in the string to lowercase\n",
    "\n",
    "The syntax for using these functions with a variable is **```variable.function()```**."
   ]
  },
  {
   "cell_type": "markdown",
   "metadata": {},
   "source": [
    "### Example 5:\n",
    "This example starts with a basic \"Hello, World!\" string and performs the **```upper```** and **```lower```** functions on that string.<br>\n",
    "\n",
    "Note that we can assign the output to a separate variable, which will allow us to retain the original string independently of the converted value."
   ]
  },
  {
   "cell_type": "code",
   "execution_count": 21,
   "metadata": {},
   "outputs": [
    {
     "name": "stdout",
     "output_type": "stream",
     "text": [
      "Hello, World!\n",
      "HELLO, WORLD!\n",
      "============\n",
      "HELLO, WORLD!\n",
      "============\n",
      "hello, world!\n",
      "hello, world!\n"
     ]
    }
   ],
   "source": [
    "message = \"Hello, World!\"\n",
    "# Print the message\n",
    "print(message)\n",
    "# Prints message in upper case\n",
    "print(message.upper())\n",
    "print(\"============\")\n",
    "\n",
    "# Creates a variable that will hold the upper case version of the string\n",
    "message_upper = message.upper()\n",
    "print(message_upper)\n",
    "print(\"============\")\n",
    "\n",
    "# Prints the message in lowe case\n",
    "print(message.lower())\n",
    "\n",
    "# Creates a variable that will hold the lower case version of the string\n",
    "message_lower = message.lower()\n",
    "\n",
    "print(message_lower)"
   ]
  },
  {
   "cell_type": "markdown",
   "metadata": {},
   "source": [
    "### Practice 5:\n",
    "Create a script that performs the following steps:\n",
    "* Prompt the user for their first name and store the input in a variable.\n",
    "* Display the value in the same case the user entered it, in uppercase, and in lowercase.\n",
    "* Calculate the number of characters in their first name and display the result."
   ]
  },
  {
   "cell_type": "code",
   "execution_count": 22,
   "metadata": {},
   "outputs": [
    {
     "name": "stdout",
     "output_type": "stream",
     "text": [
      "You entered Tony\n",
      "Your name in all uppercase would be TONY\n",
      "Your name in all lowercase would be tony\n",
      "Your name has 4 characters\n"
     ]
    }
   ],
   "source": [
    "f_name = input(\"What is your first name? \")\n",
    "print(\"You entered\", f_name)\n",
    "\n",
    "print(\"Your name in all uppercase would be\", f_name.upper())\n",
    "print(\"Your name in all lowercase would be\", f_name.lower())\n",
    "print(\"Your name has\", len(f_name), \"characters\")"
   ]
  },
  {
   "cell_type": "markdown",
   "metadata": {},
   "source": [
    "## Concept 6: Split a String\n",
    "A typical task in text analysis is to identify the individual words in a string, which allows us to perform calculations related to word frequency and create a set of distinct words in a string.<br>\n",
    "\n",
    "We can use the **```split()```** method to separate the words in a string. While we can define other delimiters in cases where we need to, Python assumes that words are separated by whitespace (Such as spaces and tabs) by default."
   ]
  },
  {
   "cell_type": "markdown",
   "metadata": {},
   "source": [
    "### Example 6:\n",
    "In this example, we split the \"Hello, World!\" phrase into separate words.<br>\n",
    "\n",
    "Because Python uses only whitespace to delineate words by default, it considers the punctuation characters to be part of the adjecent words. In a more complex analysis, we can use a separate step to remove these characters from the original string before splitting the string into individual words. "
   ]
  },
  {
   "cell_type": "code",
   "execution_count": 1,
   "metadata": {},
   "outputs": [
    {
     "data": {
      "text/plain": [
       "['Hello,', 'World!']"
      ]
     },
     "execution_count": 1,
     "metadata": {},
     "output_type": "execute_result"
    }
   ],
   "source": [
    "message = \"Hello, World!\"\n",
    "message.split()"
   ]
  },
  {
   "cell_type": "markdown",
   "metadata": {},
   "source": [
    "### Practice 6:\n",
    "Write a script that performs the following steps:<br>\n",
    "1. Prompt the user to enter their full name in the format 'last_name, first_name'<br>\n",
    "2. Split the input into the separate names and display the result<br>\n",
    "\n",
    "It's fine if the last name still includes the comma from the original user input."
   ]
  },
  {
   "cell_type": "code",
   "execution_count": 5,
   "metadata": {},
   "outputs": [
    {
     "name": "stdout",
     "output_type": "stream",
     "text": [
      "Your last name is Landero\n",
      "Your first name is Tony\n"
     ]
    }
   ],
   "source": [
    "full_name = input(\"Please enter your name in this format: last name, first name: \")\n",
    "punc = \",\"\n",
    "for ele in full_name:\n",
    "    if ele in punc:\n",
    "        full_name = full_name.replace(ele, \"\")\n",
    "last_name, first_name = full_name.split()\n",
    "print(\"Your last name is\",last_name)\n",
    "print(\"Your first name is\",first_name)"
   ]
  },
  {
   "cell_type": "markdown",
   "metadata": {},
   "source": [
    "## Concept 7: Compare Strings\n",
    "Strings support the comparison operators **```==(equality)```** and **```!=(inequality)```**. As with Python in general, string comparisons are case-sensitive, so ***Hello*** is not equal to ***hello***."
   ]
  },
  {
   "cell_type": "markdown",
   "metadata": {},
   "source": [
    "### Example 7:\n",
    "The following code compares the same name using different casing.<br>\n",
    "\n",
    "* The **```==```** operator will output True if the strings are the same and False if they are different.<br>\n",
    "* The **```!=```** operator will output True if the strings are different and False if they are the same."
   ]
  },
  {
   "cell_type": "code",
   "execution_count": 8,
   "metadata": {},
   "outputs": [
    {
     "name": "stdout",
     "output_type": "stream",
     "text": [
      "True\n",
      "False\n",
      "True\n"
     ]
    }
   ],
   "source": [
    "fname1 = \"john\"\n",
    "fname2 = \"john\"\n",
    "fname3 = \"John\"\n",
    "\n",
    "# This will display True if the two strings are equal and False if they are not equal\n",
    "print(fname1 == fname2) # Should be True\n",
    "\n",
    "# This will display True if the two strings are equal and False if they are not equal\n",
    "print(fname1 == fname3) # Should be False\n",
    "\n",
    "# This will display False if the two strings are equal and True if they are not equal\n",
    "print(fname1 != fname3) # Sould be True"
   ]
  },
  {
   "cell_type": "markdown",
   "metadata": {},
   "source": [
    "### Practice 7a:\n",
    "Update the code below so so the print command returns true in all cases. Use the inequality operator **```(!=)```** at least once.<br>\n",
    "\n",
    "```string1 = \"This is a string\"```<br>\n",
    "```string2 = \"This  is a string  \"```<br>\n",
    "```print(string1 == string2)```<br>\n",
    "```print(string1[0:5] == string2[0:5])```<br>\n",
    "```print(string1[10:] == string2[10:])```"
   ]
  },
  {
   "cell_type": "code",
   "execution_count": 10,
   "metadata": {},
   "outputs": [
    {
     "name": "stdout",
     "output_type": "stream",
     "text": [
      "True\n",
      "True\n",
      "True\n"
     ]
    }
   ],
   "source": [
    "string1 = \"This is a string\"\n",
    "string2 = \"This  is a string  \" \n",
    "print(string1 != string2)\n",
    "print(string1[0:5] == string2[0:5])\n",
    "print(string1[10:] != string2[10:])"
   ]
  },
  {
   "cell_type": "markdown",
   "metadata": {},
   "source": [
    "### Practice 7b:\n",
    "Once common problem we might run into when we ask users to enter data is that some users prefer to key only in lower case, others will use mixed case, while others will sometimes have the caps lock key on(on purpose or not!). While passwords and other security strings are typically case-sensitive, other values like web addresses and usernames are normally not sensitive to case, even though the system that manages those values(like a web server OS or a programming language) may be case-sensitive. While we can always ask that a user use only upper- or lowercase, there is no guarantee that they will do so. We can instead use a script to normalize the characters to work within the system.<br>\n",
    "\n",
    "Update the below so that it works as follows:<br>\n",
    "* It accepts the user input in any case.<br>\n",
    "* It compares the user input to a preexisting **```value1```** stored in lowercase.<br>\n",
    "* It returns True if the lowercase version of the user input is equal to the preexisting value, regardless of the case the user chooses to use.<br>\n",
    "* It returns False if the values are not the same.<br>\n",
    "\n",
    "Be sure to test the program using lowercase input, uppercase input, and mixed-case input, as well as mispelled input. In the code below, \"username\" is the preexisting value, but you can change this to a different value if you wish.<br>\n",
    "\n",
    "```value1 = \"username\"```<br>\n",
    "```value2 = input(\"Enter your username: \")```"
   ]
  },
  {
   "cell_type": "code",
   "execution_count": 14,
   "metadata": {},
   "outputs": [
    {
     "name": "stdout",
     "output_type": "stream",
     "text": [
      "False\n"
     ]
    }
   ],
   "source": [
    "value1 = \"username\"\n",
    "value2 = input(\"Please enter your username: \").lower()\n",
    "print(value1 == value2)\n",
    "# USERNAME - True\n",
    "# username - True\n",
    "# usrname - False"
   ]
  },
  {
   "cell_type": "markdown",
   "metadata": {},
   "source": [
    "## Concept 8: Concatenation\n",
    "Concatenation is the process of combining two or more strings into a new string. We use the + operator to concatenate strings in Python."
   ]
  },
  {
   "cell_type": "markdown",
   "metadata": {},
   "source": [
    "### Example 8:"
   ]
  },
  {
   "cell_type": "code",
   "execution_count": 15,
   "metadata": {},
   "outputs": [
    {
     "name": "stdout",
     "output_type": "stream",
     "text": [
      "John\n",
      "Smith\n",
      "John Smith\n",
      "JOHN SMITH\n"
     ]
    }
   ],
   "source": [
    "first_name = \"John\"\n",
    "last_name = \"Smith\"\n",
    "full_name = first_name + \" \" + last_name\n",
    "full_name_upper = first_name.upper() + \" \" + last_name.upper()\n",
    "print(first_name)\n",
    "print(last_name)\n",
    "print(full_name)\n",
    "print(full_name_upper)"
   ]
  },
  {
   "cell_type": "markdown",
   "metadata": {},
   "source": [
    "### Practice 8:\n",
    "Update the following code to display the full name in uppercase.<br>\n",
    "\n",
    "The full name must be displayed last name, first, e.g., SMITHJOHN.<br>\n",
    "\n",
    "As a challenge step, include a comma and a space between the last name and the first name, e.g., SMITH, JOHN.<br>\n",
    "\n",
    "```first_name = \"John\"```<br>\n",
    "```last_name = \"Smith\"```"
   ]
  },
  {
   "cell_type": "code",
   "execution_count": 19,
   "metadata": {},
   "outputs": [
    {
     "name": "stdout",
     "output_type": "stream",
     "text": [
      "SMITHJOHN\n",
      "SMITH, JOHN\n"
     ]
    }
   ],
   "source": [
    "first_name = \"John\"\n",
    "last_name = \"Smith\"\n",
    "\n",
    "full_name = last_name.upper() + first_name.upper()\n",
    "print(full_name)\n",
    "\n",
    "full_name2 = last_name.upper() + \", \" + first_name.upper()\n",
    "print(full_name2)"
   ]
  },
  {
   "cell_type": "markdown",
   "metadata": {},
   "source": [
    "## Concept 9: Searching Strings\n",
    "Python supports search operations on strings, using the **```in```** operator to check if a substring exists in a string. This will perform an operation similar to searching a web page or other electronic document for a specific word or phrase.<br>\n",
    "\n",
    "The syntax for a search within a string named **```variable```** is **```\"substring\" in variable```**."
   ]
  },
  {
   "cell_type": "markdown",
   "metadata": {},
   "source": [
    "### Example 9:\n",
    "The following example again starts with a basic \"Hello, World!\" string and searches for substrings inside that string.<br>\n",
    "\n",
    "Note in particular that searches are case-sensitive by default, so a search for \"He\" is not the same as a search for \"he\". Normalizing the case means that the user can search for a string using any case, regardless of the case matching substrings are in.<br>\n",
    "\n",
    "In this case, the output is boolean: either the substring exists in the message or it does not. The output does not tell us where the substring is located inside the message, nor does it tell us how many times the substring appears in the message."
   ]
  },
  {
   "cell_type": "code",
   "execution_count": 23,
   "metadata": {},
   "outputs": [
    {
     "name": "stdout",
     "output_type": "stream",
     "text": [
      "True\n",
      "False\n",
      "True\n",
      "False\n"
     ]
    }
   ],
   "source": [
    "message = \"Hello, World!\"\n",
    "\n",
    "# We use the in operator to check if the string \"He\" exists in \"Hello, World!\"\n",
    "print(\"He\" in message)\n",
    "\n",
    "# Everything is case-sensitive\n",
    "print(\"he\" in message)\n",
    "print(\"he\" in message.lower())\n",
    "print(\"ch\" in message)"
   ]
  },
  {
   "cell_type": "markdown",
   "metadata": {},
   "source": [
    "### Practice 9:\n",
    "Update the print statements in the following code to display **```True```** in all cases. Do not change the original strings.<br>\n",
    "\n",
    "first_name = \"John\" --> False<br>\n",
    "last_name  = \"Smith\" --> Flase<br>\n",
    "print(\"j\" in first_name) --> False<br>\n",
    "print(\"s\" in last_name) --> False<br>\n",
    "print(\"ih\" in last_name) --> False<br>\n",
    "print(\"on\" in first_name) --> False<br>"
   ]
  },
  {
   "cell_type": "code",
   "execution_count": 31,
   "metadata": {},
   "outputs": [
    {
     "name": "stdout",
     "output_type": "stream",
     "text": [
      "True\n",
      "True\n",
      "True\n",
      "True\n"
     ]
    }
   ],
   "source": [
    "first_name = \"John\"\n",
    "last_name = \"Smith\"\n",
    "print(\"j\" in first_name.lower())\n",
    "print(\"s\" in last_name.lower())\n",
    "print(\"ith\" in last_name)\n",
    "print(\"ohn\" in first_name)"
   ]
  },
  {
   "cell_type": "markdown",
   "metadata": {},
   "source": [
    "## Concept 10: Slicing Strings\n",
    "While it's good to be able to retrieve individual values from a string based on their index value, we sometimes need to retrieve multiple characters at the same time. We use the term ***slicing*** to refer to the process of retrieving a range of characters from a string, rather than retrieving individual characters.<br>\n",
    "\n",
    "In Python, we use the syntax **```variable[range]```** to retrieve a range of characters from a string. Options include:<br>\n",
    "* **```variable[x:y]```**: Retrieves a string starting with index **```x```** and ending with the character ***before*** index **```y```**. If **```y```** is equal to the length of the string, the range will include the last character in the string.<br>\n",
    "* **```variable[:y]```**: Retrieves the characters from index 0 through the character ***before*** index **```y```**. This is equivalent to using **```[0:y]```**.<br>\n",
    "* **```variable[x:]```**: Retrieves a string that starts with the character whose index is x and includes all characters to the right of that character. This is equivalent to using **```[x:(length)]```**."
   ]
  },
  {
   "cell_type": "markdown",
   "metadata": {},
   "source": [
    "### Example 10:\n",
    "Let's look at some examples of slicing strings.<br>\n",
    "\n",
    "We again start with the basic \"Hello, World!\" string and then retrieve slices of that string. Look at the code below and try to predict what the output will look like for each print statement. Then look at the output to check your predictions."
   ]
  },
  {
   "cell_type": "code",
   "execution_count": 39,
   "metadata": {},
   "outputs": [
    {
     "name": "stdout",
     "output_type": "stream",
     "text": [
      "Hello, World!\n",
      "13\n",
      "message_1 is Hello\n",
      "message_2 is Hello\n",
      "messge_3 is World!\n",
      "message_4 is World!\n"
     ]
    }
   ],
   "source": [
    "message = \"Hello, World!\"\n",
    "print(message)\n",
    "print(len(message))\n",
    "\n",
    "# Extract the substring from message starting from the first character (index 0) through the \n",
    "# character whose index value is 4.\n",
    "message_1 = message[0:5] # --> Hello\n",
    "print(\"message_1 is\", message_1)\n",
    "\n",
    "# Extract the substring from message starting from the first character (index 0) through the \n",
    "# character whose index value is 4. The lower bound is not specified, so Python uses 0. \n",
    "message_2 = message[:5] # --> Hello\n",
    "print(\"message_2 is\", message_2)\n",
    "\n",
    "# Extract the substring from message starting from the eigth character (index 7) through the last \n",
    "# character index 12.\n",
    "message_3 = message[7:len(message)] # len(message) = 13\n",
    "print(\"messge_3 is\", message_3) # --> World!\n",
    "\n",
    "# Extract the substring from message starting from the eigth character (index 7) all the way to \n",
    "# the last character, regardless of index value.\n",
    "message_4 = message[7:] # --> World!\n",
    "print(\"message_4 is\", message_4)"
   ]
  },
  {
   "cell_type": "markdown",
   "metadata": {},
   "source": [
    "### Practice 10:\n",
    "Update the code below to use slicing to complete the following tasks.<br>\n",
    "\n",
    "* Extract the first name from the string using slicing and assign the output to a variable.<br>\n",
    "* Extract the last name from the string and assign the output to a variable.<br>\n",
    "* Display the first and last name in uppercase using separate print statements.<br>\n",
    "* Display the person's initials as a single string in uppercase.<br>\n",
    "\n",
    "***Challenge***: When you have completed the steps above for a first and last name, modify the code to include a middle name.<br>\n",
    "\n",
    "name=\"John Smith\"<br>\n",
    "first_name = name<br>\n",
    "last_name = name<br>\n",
    "print(first_name)<br>\n",
    "print(last_name)"
   ]
  },
  {
   "cell_type": "code",
   "execution_count": 43,
   "metadata": {},
   "outputs": [
    {
     "name": "stdout",
     "output_type": "stream",
     "text": [
      "JOHN\n",
      "SMITH\n",
      "J.S.\n",
      "===============\n",
      "JOHN\n",
      "ROBERT\n",
      "SMITH\n",
      "J.R.S.\n"
     ]
    }
   ],
   "source": [
    "name = \"John Smith\"\n",
    "first_name = name[:4]\n",
    "last_name = name[5:]\n",
    "print(first_name.upper())\n",
    "print(last_name.upper())\n",
    "f_initial = name[:1]\n",
    "l_initial = name[5:6]\n",
    "full_intials = f_initial + \".\" + l_initial + \".\"\n",
    "print(full_intials)\n",
    "print(\"===============\")\n",
    "name2 = \"John Robert Smith\"\n",
    "first_name2 = name2[:4]\n",
    "middle_name2 = name2[5:11]\n",
    "last_name2 = name2[12:]\n",
    "print(first_name2.upper())\n",
    "print(middle_name2.upper())\n",
    "print(last_name2.upper())\n",
    "f_initial2 = name2[:1]\n",
    "m_initial2 = name2[5:6]\n",
    "l_initial2 = name2[12:13]\n",
    "full_initials2 = f_initial2 + \".\" + m_initial2 + \".\" + l_initial2 + \".\"\n",
    "print(full_initials2)"
   ]
  },
  {
   "cell_type": "code",
   "execution_count": null,
   "metadata": {},
   "outputs": [],
   "source": []
  }
 ],
 "metadata": {
  "kernelspec": {
   "display_name": "Python 3.9.6 64-bit",
   "language": "python",
   "name": "python3"
  },
  "language_info": {
   "codemirror_mode": {
    "name": "ipython",
    "version": 3
   },
   "file_extension": ".py",
   "mimetype": "text/x-python",
   "name": "python",
   "nbconvert_exporter": "python",
   "pygments_lexer": "ipython3",
   "version": "3.9.6"
  },
  "orig_nbformat": 4,
  "vscode": {
   "interpreter": {
    "hash": "9cc6a95a29893daac463ce220390149ef03aeb7175da3903cfd40cfc8442e04e"
   }
  }
 },
 "nbformat": 4,
 "nbformat_minor": 2
}
