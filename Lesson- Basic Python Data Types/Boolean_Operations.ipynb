{
 "cells": [
  {
   "cell_type": "markdown",
   "metadata": {},
   "source": [
    "## Concept 1: Boolean Values\n",
    "Python supports boolean values True and False."
   ]
  },
  {
   "cell_type": "markdown",
   "metadata": {},
   "source": [
    "### Example 1:\n",
    "We can declare boolean variables just like we do other variables, by assigning a value to a name. If the value is True or False, Python treats the value as a bool type."
   ]
  },
  {
   "cell_type": "code",
   "execution_count": 2,
   "metadata": {},
   "outputs": [
    {
     "name": "stdout",
     "output_type": "stream",
     "text": [
      "True\n",
      "<class 'bool'>\n",
      "==========\n",
      "False\n",
      "<class 'bool'>\n"
     ]
    }
   ],
   "source": [
    "bool1 = True\n",
    "bool2 = False\n",
    "print(bool1)\n",
    "print(type(bool1))\n",
    "print(\"==========\")\n",
    "print(bool2)\n",
    "print(type(bool2))"
   ]
  },
  {
   "cell_type": "markdown",
   "metadata": {},
   "source": [
    "### Practice 1:\n",
    "Create boolean variables to store your answers to the following questions. Use True for yes, False for no.\n",
    "* Do you live in the U.S.?\n",
    "* Have you ever lived in New Hampshire?\n",
    "* Have you ever lived in Boston?\n",
    "* Have you ever been to California?<br>\n",
    "\n",
    "The code should display the value and type for each variable."
   ]
  },
  {
   "cell_type": "code",
   "execution_count": 3,
   "metadata": {},
   "outputs": [
    {
     "name": "stdout",
     "output_type": "stream",
     "text": [
      "True\n",
      "<class 'bool'>\n",
      "==========\n",
      "False\n",
      "<class 'bool'>\n",
      "==========\n",
      "False\n",
      "<class 'bool'>\n",
      "==========\n",
      "True\n",
      "<class 'bool'>\n"
     ]
    }
   ],
   "source": [
    "live_in_us = True\n",
    "lived_in_NH = False\n",
    "lived_boston = False\n",
    "been_california = True\n",
    "\n",
    "print(live_in_us)\n",
    "print(type(live_in_us))\n",
    "print(\"==========\")\n",
    "print(lived_in_NH)\n",
    "print(type(lived_in_NH))\n",
    "print(\"==========\")\n",
    "print(lived_boston)\n",
    "print(type(lived_boston))\n",
    "print(\"==========\")\n",
    "print(been_california)\n",
    "print(type(been_california))"
   ]
  },
  {
   "cell_type": "markdown",
   "metadata": {},
   "source": [
    "## Concept 2: Convert to bool\n",
    "We can use the built-in **```bool()```** function to convert values into True or False."
   ]
  },
  {
   "cell_type": "markdown",
   "metadata": {},
   "source": [
    "### Example 2:\n",
    "In this example, we see that the value 0 corresponds to False, while any value that is not 0 corresponds to True."
   ]
  },
  {
   "cell_type": "code",
   "execution_count": 4,
   "metadata": {},
   "outputs": [
    {
     "name": "stdout",
     "output_type": "stream",
     "text": [
      "0\n",
      "False\n",
      "==========\n",
      "1\n",
      "True\n",
      "==========\n",
      "2\n",
      "True\n"
     ]
    }
   ],
   "source": [
    "a = 0\n",
    "b = 1\n",
    "c = 2\n",
    "print(a)\n",
    "print(bool(a))\n",
    "print(\"==========\")\n",
    "print(b)\n",
    "print(bool(b))\n",
    "print(\"==========\")\n",
    "print(c)\n",
    "print(bool(c))"
   ]
  },
  {
   "cell_type": "markdown",
   "metadata": {},
   "source": [
    "### Practice 2a:\n",
    "Update the code in example 2 to include a fourth variable **```d```**. Assign a value of your choice (number or string) and determine the boolean value for that value using the pattern provided for the variables **```a```**,**```b```**, and **```c```**.<br>\n",
    "\n",
    "Can you find any other values that convert to False besides 0? (**Hint**: Try using an empty value.)"
   ]
  },
  {
   "cell_type": "code",
   "execution_count": 1,
   "metadata": {},
   "outputs": [
    {
     "name": "stdout",
     "output_type": "stream",
     "text": [
      "0\n",
      "False\n",
      "==========\n",
      "1\n",
      "True\n",
      "==========\n",
      "2\n",
      "True\n",
      "==========\n",
      "Tony\n",
      "True\n",
      "==========\n",
      "\n",
      "False\n"
     ]
    }
   ],
   "source": [
    "a = 0\n",
    "b = 1\n",
    "c = 2\n",
    "d = \"Tony\"\n",
    "e = ''\n",
    "print(a)\n",
    "print(bool(a))\n",
    "print(\"==========\")\n",
    "print(b)\n",
    "print(bool(b))\n",
    "print(\"==========\")\n",
    "print(c)\n",
    "print(bool(c))\n",
    "print(\"==========\")\n",
    "print(d)\n",
    "print(bool(d))\n",
    "print(\"==========\")\n",
    "print(e)\n",
    "print(bool(e))"
   ]
  },
  {
   "cell_type": "markdown",
   "metadata": {},
   "source": [
    "### Practice 2b:\n",
    "Update the following code so that all the tests return True.<br>\n",
    "\n",
    "**Hint**: you will need to update the values for **```test```** so the **```bool```** function returns True in all situations. "
   ]
  },
  {
   "cell_type": "code",
   "execution_count": 9,
   "metadata": {},
   "outputs": [
    {
     "name": "stdout",
     "output_type": "stream",
     "text": [
      "[1] : True\n",
      "==========\n",
      "0.1 : True\n",
      "==========\n",
      "A : True\n",
      "==========\n",
      "True : True\n",
      "==========\n",
      "Easy String : True\n"
     ]
    }
   ],
   "source": [
    "test = [1]\n",
    "print(test, \":\", bool(test))\n",
    "print(\"==========\")\n",
    "test = 0.1\n",
    "print(test, \":\", bool(test))\n",
    "print(\"==========\")\n",
    "test = \"A\"\n",
    "print(test, \":\", bool(test))\n",
    "print(\"==========\")\n",
    "test = True\n",
    "print(test, \":\", bool(test))\n",
    "print(\"==========\")\n",
    "test = \"Easy String\"\n",
    "print(test, \":\", bool(test))"
   ]
  },
  {
   "cell_type": "markdown",
   "metadata": {},
   "source": [
    "## Concept 3: Logic Operators\n",
    "Python inherently supports operations on boolean types, including **```and```**, **```or```**, and **```not```**.<br>\n",
    "\n",
    "Standard logic operations include the following:\n",
    "* **```and```**: A binary statement where both values must be true for the operation to evaluate as true. Otherwise, the operation evaluates as false.\n",
    "* **```or```**: A binary statement where either or both values must be true for the operation to evaluate as true. The operation evaluates as false only if both values are false. \n",
    "* **```not```**: A unary statement that returns the opposite of the original value. "
   ]
  },
  {
   "cell_type": "markdown",
   "metadata": {},
   "source": [
    "### Example 3:\n",
    "Look at the following code to determine whether the outcome of each statement will be **```True```** or **```False```** and then compare your predictions to the results below."
   ]
  },
  {
   "cell_type": "code",
   "execution_count": 10,
   "metadata": {},
   "outputs": [
    {
     "name": "stdout",
     "output_type": "stream",
     "text": [
      "True\n",
      "==========\n",
      "False\n",
      "==========\n",
      "False\n",
      "==========\n",
      "True\n",
      "==========\n",
      "False\n"
     ]
    }
   ],
   "source": [
    "a = True\n",
    "print(a) # True\n",
    "print(\"==========\")\n",
    "b = False\n",
    "print(b) # False\n",
    "print(\"==========\")\n",
    "c = not a\n",
    "print(c) # False\n",
    "print(\"==========\")\n",
    "d = a or b\n",
    "print(d) # True\n",
    "print(\"==========\")\n",
    "e = a and b\n",
    "print(e) # False"
   ]
  },
  {
   "cell_type": "markdown",
   "metadata": {},
   "source": [
    "### Practice 3a:\n",
    "Run the code below and answer each question with True or False based on the operation displayed."
   ]
  },
  {
   "cell_type": "code",
   "execution_count": 11,
   "metadata": {},
   "outputs": [],
   "source": [
    "a = input(\"What is the output of the following operation (True and True)? \") # True\n",
    "b = input(\"What is the output of the following operation (False or False)? \") # False\n",
    "c = input(\"What is the output of the following operation (False and False)? \") # False\n",
    "d = input(\"What is the output of the following operation (not False)? \") # True\n",
    "e = input(\"What is the output of the following operation ( (not False) or False )? \") # True\n",
    "f = input(\"What is the output of the following operation ( (not True) and (not False) )? \") # False"
   ]
  },
  {
   "cell_type": "markdown",
   "metadata": {},
   "source": [
    "### Practice 3b:\n",
    "Now create a program that performs each of the logic operations in the previous exercise to check your answers.<br>\n",
    "\n",
    "The code below shows the result for variable **```a```**. Use that model to create the statements for the remaining variables.<br>\n",
    "```a = True and True```<br>\n",
    "```print(a)```"
   ]
  },
  {
   "cell_type": "code",
   "execution_count": 12,
   "metadata": {},
   "outputs": [
    {
     "name": "stdout",
     "output_type": "stream",
     "text": [
      "True\n",
      "===========\n",
      "False\n",
      "===========\n",
      "False\n",
      "===========\n",
      "True\n",
      "===========\n",
      "True\n",
      "===========\n",
      "False\n"
     ]
    }
   ],
   "source": [
    "a = True and True\n",
    "print(a)\n",
    "print(\"===========\")\n",
    "b = False or False\n",
    "print(b)\n",
    "print(\"===========\")\n",
    "c = False and False\n",
    "print(c)\n",
    "print(\"===========\")\n",
    "d = not False\n",
    "print(d)\n",
    "print(\"===========\")\n",
    "e = (not False) or False\n",
    "print(e)\n",
    "print(\"===========\")\n",
    "f = (not True) and (not False)\n",
    "print(f)"
   ]
  },
  {
   "cell_type": "markdown",
   "metadata": {},
   "source": [
    "## Concept 4: Comparative Operators\n",
    "We can use the binary operators **```<,<=,>,>=,==,!=```** to compare the values of two objects and return True or False."
   ]
  },
  {
   "cell_type": "markdown",
   "metadata": {},
   "source": [
    "### Example 4:\n",
    "The code below assigns a value to each of the variables a and b and then performs a variety of comparisons between the two values with each result evaluating to True or Flase.<br>\n",
    "\n",
    "Note that, in addition to **```==```** and Unable to render embedded object: File (= (equality and inequality), Python has **```is```** and **```is not```** operators (identity and non-identity). We'll explain identity in a later chapter. Variables holding two equal numbers, or two equal strings, or two equal boolean values, will compare as identical, so it may seem like **```is```** and **```is not```** are synonyms for **```=```** and **```) not found.=```**. We'll see how they're different when we come to deal with more complicated objects in Python."
   ]
  },
  {
   "cell_type": "code",
   "execution_count": 13,
   "metadata": {},
   "outputs": [
    {
     "name": "stdout",
     "output_type": "stream",
     "text": [
      "Is a greater than b? True\n",
      "Is a less than b? False\n",
      "Is a greater or equal to b? True\n",
      "Is a less or equal to b? False\n",
      "Is a equal to b (option 1)? False\n",
      "Is a equal to b (option 2)? False\n",
      "Is a not equal to b (option 1)? True\n",
      "Is a not equal to b (option 2)? True\n"
     ]
    }
   ],
   "source": [
    "a = 6\n",
    "b = 5\n",
    "print(\"Is a greater than b?\", a > b) #greater than True\n",
    "print(\"Is a less than b?\", a < b)  #less than False\n",
    "print(\"Is a greater or equal to b?\", a >= b) #greater or equal True\n",
    "print(\"Is a less or equal to b?\", a <= b) #less or equal False\n",
    "print(\"Is a equal to b (option 1)?\", a == b) #test for equality False\n",
    "print(\"Is a equal to b (option 2)?\", a is b) #test for equality False\n",
    "print(\"Is a not equal to b (option 1)?\", a != b) #test for inequality  True\n",
    "print(\"Is a not equal to b (option 2)?\", a is not b) #test for inequality True"
   ]
  },
  {
   "cell_type": "markdown",
   "metadata": {},
   "source": [
    "### Practice 4a:\n",
    "Run the following code and answer each question with True or False.<br>\n",
    "\n",
    "Pay attention to details!"
   ]
  },
  {
   "cell_type": "code",
   "execution_count": 14,
   "metadata": {},
   "outputs": [],
   "source": [
    "num1 = 2\n",
    "num2 = 3\n",
    "a = input(\"What is the output of the following operation: num1 != num2? \") # True\n",
    "b = input(\"What is the output of the following operation: num1 == num2? \") # False\n",
    "c = input(\"What is the output of the following operation: num1 > num2? \") # False\n",
    "d = input(\"What is the output of the following operation: num2 >= num2? \") # True\n",
    "e = input(\"What is the output of the following operation: num2 is not num2? \") # False"
   ]
  },
  {
   "cell_type": "markdown",
   "metadata": {},
   "source": [
    "### Practice 4b:\n",
    "Now create a separate program that evaluates each of the statements above and returns the real value, so you can check your answers.<br>\n",
    "\n",
    "The code below shows the output for **```a```** as a model. You should add similar code for each of the variables in Practice 4a and then run the program to compare your answers from Practice 4a to show how Python actually evaluates each statement.<br>\n",
    "\n",
    "```num1 = 2```<br>\n",
    "```num2 = 3```<br>\n",
    "```a = (num1 != num2)```<br>\n",
    "```print(a)```"
   ]
  },
  {
   "cell_type": "code",
   "execution_count": 15,
   "metadata": {},
   "outputs": [
    {
     "name": "stdout",
     "output_type": "stream",
     "text": [
      "True\n",
      "============\n",
      "False\n",
      "============\n",
      "False\n",
      "============\n",
      "True\n",
      "============\n",
      "False\n"
     ]
    }
   ],
   "source": [
    "num1 = 2\n",
    "num2 = 3\n",
    "a = (num1 != num2) # True\n",
    "print(a) \n",
    "print(\"============\")\n",
    "b = num1 == num2 # False\n",
    "print(b)\n",
    "print(\"============\")\n",
    "c = num1 > num2 # False\n",
    "print(c)\n",
    "print(\"============\")\n",
    "d = num2 >= num2 # True\n",
    "print(d)\n",
    "print(\"============\")\n",
    "e = num2 is not num2 # False\n",
    "print(e)"
   ]
  },
  {
   "cell_type": "code",
   "execution_count": null,
   "metadata": {},
   "outputs": [],
   "source": []
  }
 ],
 "metadata": {
  "interpreter": {
   "hash": "b55bccf0a138b5a96e27cc6560e16b5bf0df2dff300efd9ad409a8ef3efa8088"
  },
  "kernelspec": {
   "display_name": "Python 3.9.6 64-bit",
   "language": "python",
   "name": "python3"
  },
  "language_info": {
   "codemirror_mode": {
    "name": "ipython",
    "version": 3
   },
   "file_extension": ".py",
   "mimetype": "text/x-python",
   "name": "python",
   "nbconvert_exporter": "python",
   "pygments_lexer": "ipython3",
   "version": "3.9.6"
  },
  "orig_nbformat": 4
 },
 "nbformat": 4,
 "nbformat_minor": 2
}
