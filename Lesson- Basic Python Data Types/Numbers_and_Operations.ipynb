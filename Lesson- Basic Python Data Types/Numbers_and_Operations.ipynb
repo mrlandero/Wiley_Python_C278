{
 "cells": [
  {
   "cell_type": "markdown",
   "metadata": {},
   "source": [
    "## Concept 1: Number Data Types\n",
    "Python supports a few different number data types including:\n",
    "\n",
    "* Integers\n",
    "* Floats\n",
    "* Complex Number Types\n",
    "\n",
    "Because Python assigns type automatically based on the value entered, if we use an integer as the value for the variable, Python will treat the value as an integer. If the value includes digits to the right of the decimal place, Python will treat the number as a float."
   ]
  },
  {
   "cell_type": "markdown",
   "metadata": {},
   "source": [
    "### Example 1: \n",
    "The following example shows how we can declare number variables, using a variety of number types."
   ]
  },
  {
   "cell_type": "code",
   "execution_count": 1,
   "metadata": {},
   "outputs": [
    {
     "name": "stdout",
     "output_type": "stream",
     "text": [
      "33\n",
      "0.06\n",
      "(1+3.4j)\n"
     ]
    }
   ],
   "source": [
    "# Integer\n",
    "age = 33\n",
    "\n",
    "# Float Type\n",
    "tax_rate = 0.06\n",
    "\n",
    "# Complex Type z: a+b*j\n",
    "coordinates = 1+3.4j\n",
    "\n",
    "print(age)\n",
    "print(tax_rate)\n",
    "print(coordinates)"
   ]
  },
  {
   "cell_type": "markdown",
   "metadata": {},
   "source": [
    "### Practice 1: \n",
    "Create three variables where:\n",
    "\n",
    "* One variable stores the number of days in a year.\n",
    "* One variable stores the number of minutes in a day.\n",
    "* Two variables that store the latitude and longitude of the city where you live.<br>\n",
    "\n",
    "You can use the LatLong.net website to retrieve the latitude and longitude values of your city."
   ]
  },
  {
   "cell_type": "code",
   "execution_count": 2,
   "metadata": {},
   "outputs": [],
   "source": [
    "# Days in a year:\n",
    "days_year = 365\n",
    "\n",
    "# Minutes in a day\n",
    "minutes_day = 1440\n",
    "\n",
    "# Latitude\n",
    "houston_latitude = 29.760427\n",
    "\n",
    "# Longitude\n",
    "houston_longitude = -95.369804"
   ]
  },
  {
   "cell_type": "code",
   "execution_count": 5,
   "metadata": {},
   "outputs": [
    {
     "name": "stdout",
     "output_type": "stream",
     "text": [
      "Days in a year:  365\n",
      "Minutes in a day:  1440\n",
      "Houston's Latitude:  29.760427\n",
      "Houston's Longitude:  -95.369804\n"
     ]
    }
   ],
   "source": [
    "print(\"Days in a year: \",days_year)\n",
    "print(\"Minutes in a day: \",minutes_day)\n",
    "print(\"Houston's Latitude: \",houston_latitude)\n",
    "print(\"Houston's Longitude: \",houston_longitude)"
   ]
  },
  {
   "cell_type": "markdown",
   "metadata": {},
   "source": [
    "## Concept 2: Identifying Types\n",
    "Because Python handles typing in the background, we sometimes need to know what type Python has assigned to a given value.<br>\n",
    "\n",
    "We can use the **```type```** function to get the type of a variable."
   ]
  },
  {
   "cell_type": "markdown",
   "metadata": {},
   "source": [
    "### Example 2:\n",
    "The following code includes a series of values with number data types as well as a variable defined as a string. We use the **```type```** function to identify the type for each variable.<br>\n",
    "\n",
    "While most of the examples here are numbers, we also include a string value to show Python's flexibility in assigning type to variables."
   ]
  },
  {
   "cell_type": "code",
   "execution_count": 6,
   "metadata": {},
   "outputs": [],
   "source": [
    "# Int Type\n",
    "a = 5\n",
    "\n",
    "# Float Type\n",
    "b = 6.7\n",
    "\n",
    "# Complex Type\n",
    "c = 1+2j\n",
    "\n",
    "# String Type (inside quotation marks)\n",
    "d = \"2020\""
   ]
  },
  {
   "cell_type": "code",
   "execution_count": 7,
   "metadata": {},
   "outputs": [
    {
     "name": "stdout",
     "output_type": "stream",
     "text": [
      "5\n",
      "<class 'int'>\n",
      "=========\n",
      "6.7\n",
      "<class 'float'>\n",
      "=========\n",
      "(1+2j)\n",
      "<class 'complex'>\n",
      "=========\n",
      "2020\n",
      "<class 'str'>\n"
     ]
    }
   ],
   "source": [
    "print(a)\n",
    "print(type(a))\n",
    "print(\"=========\")\n",
    "print(b)\n",
    "print(type(b))\n",
    "print(\"=========\")\n",
    "print(c)\n",
    "print(type(c))\n",
    "print(\"=========\")\n",
    "print(d)\n",
    "print(type(d))"
   ]
  },
  {
   "cell_type": "markdown",
   "metadata": {},
   "source": [
    "### Practice 2:\n",
    "Let's practice with the example code from the previous concept.\n",
    "\n",
    "* Modify the code so that Python displays the type for each of the variables. \n",
    "* Create a new variable that uses only numeric characters,but define it as a string. Use **```type```** to verify that Python treats it as a string."
   ]
  },
  {
   "cell_type": "code",
   "execution_count": 8,
   "metadata": {},
   "outputs": [],
   "source": [
    "# Integer\n",
    "age = 33\n",
    "\n",
    "# Float Type\n",
    "tax_rate = 0.06\n",
    "\n",
    "# Complex Type z: a+b*j\n",
    "coordinates = 1+3.4j\n",
    "\n",
    "# Numeric String Type\n",
    "year = \"2022\""
   ]
  },
  {
   "cell_type": "code",
   "execution_count": 9,
   "metadata": {},
   "outputs": [
    {
     "name": "stdout",
     "output_type": "stream",
     "text": [
      "<class 'int'>\n",
      "=========\n",
      "<class 'float'>\n",
      "=========\n",
      "<class 'complex'>\n",
      "=========\n",
      "<class 'str'>\n"
     ]
    }
   ],
   "source": [
    "print(type(age))\n",
    "print(\"=========\")\n",
    "print(type(tax_rate))\n",
    "print(\"=========\")\n",
    "print(type(coordinates))\n",
    "print(\"=========\")\n",
    "print(type(year))"
   ]
  },
  {
   "cell_type": "markdown",
   "metadata": {},
   "source": [
    "## Concept 3: Mathematical Operations\n",
    "Python supports binary arithmetic operations on numerical types including:\n",
    "* Addition (+)\n",
    "* Subtraction (-)\n",
    "* Multiplication (*)\n",
    "* Division (/)\n",
    "* Modulus (%)\n",
    "* Exponents (**)\n",
    "\n",
    "Binary operations operate using two values, either of which can be constant values or variables. These operations us the syntax:<br>\n",
    "\n",
    "```value1 [operator] value2```\n",
    "\n",
    "Spaces before and after the operator are optional, so the following two statements are identical to Python:<br>\n",
    "\n",
    "```1+2```<br>\n",
    "```1 + 2``` \n",
    "\n",
    "Including spaces can improve readability."
   ]
  },
  {
   "cell_type": "markdown",
   "metadata": {},
   "source": [
    "### Example 3\n",
    "The code below includes examples of several arithmetic operations.<br>\n",
    "\n",
    "Note that we declare the initial variables in the first two lines and then perform a series of operations using those variables, assigning each result to a new variable."
   ]
  },
  {
   "cell_type": "code",
   "execution_count": 1,
   "metadata": {},
   "outputs": [
    {
     "name": "stdout",
     "output_type": "stream",
     "text": [
      "56\n",
      "==========\n",
      "44\n",
      "==========\n",
      "300\n",
      "==========\n",
      "8.333333333333334\n",
      "==========\n",
      "8\n",
      "==========\n",
      "2\n",
      "==========\n",
      "15625000000\n"
     ]
    }
   ],
   "source": [
    "a = 50\n",
    "b = 6\n",
    "\n",
    "# Sum of a and b\n",
    "c = a + b\n",
    "\n",
    "# Difference between a and b\n",
    "d = a - b\n",
    "\n",
    "# Product of a and b\n",
    "e = a * b\n",
    "\n",
    "# Quotient of a and b\n",
    "f = a / b\n",
    "\n",
    "# Floored quotient of a and b\n",
    "g = a // b\n",
    "\n",
    "# Remainder of a / b\n",
    "h = a % b\n",
    "\n",
    "# a to the power of b\n",
    "i = a ** b\n",
    "\n",
    "print(c)\n",
    "print(\"==========\")\n",
    "print(d)\n",
    "print(\"==========\")\n",
    "print(e)\n",
    "print(\"==========\")\n",
    "print(f)\n",
    "print(\"==========\")\n",
    "print(g)\n",
    "print(\"==========\")\n",
    "print(h)\n",
    "print(\"==========\")\n",
    "print(i)"
   ]
  },
  {
   "cell_type": "markdown",
   "metadata": {},
   "source": [
    "### Practice 3:\n",
    "Create a Python script that starts with three declared values, a, b, and c, with numeric values of your choice.<br>\n",
    "\n",
    "Using those values, perform the following calculations and print the results of each.<br>\n",
    "\n",
    "* *a* plus *b* minus *c*\n",
    "* *a* minus *b* times *c*\n",
    "* *a* divided by *b* divided by *c*\n",
    "* The remainder of *a* divided by *b* to the power of *c*\n",
    "* *a* plus *c* divided by *b*"
   ]
  },
  {
   "cell_type": "code",
   "execution_count": 2,
   "metadata": {},
   "outputs": [
    {
     "name": "stdout",
     "output_type": "stream",
     "text": [
      "40\n",
      "==========\n",
      "-170\n",
      "==========\n",
      "0.15\n",
      "==========\n",
      "30\n",
      "==========\n",
      "30.5\n"
     ]
    }
   ],
   "source": [
    "a = 30\n",
    "b = 20\n",
    "c = 10\n",
    "\n",
    "d = a + b - c\n",
    "print(d)\n",
    "print(\"==========\")\n",
    "e = a - b * c\n",
    "print(e)\n",
    "print(\"==========\")\n",
    "f = a / b / c\n",
    "print(f)\n",
    "print(\"==========\")\n",
    "g = a % b ** c\n",
    "print(g)\n",
    "print(\"==========\")\n",
    "h = a + c / b\n",
    "print(h)"
   ]
  },
  {
   "cell_type": "markdown",
   "metadata": {},
   "source": [
    "## Concept 4: PEMDAS\n",
    "In the previous practice exercise, you may not have gotten the results you expected for some of the mathematical statements.<br>\n",
    "\n",
    "Python, like other mathematical systems, follows the rule of PEMDAS when evaluating statements that include more than one operation. PEMDAS refers to the order in which each operation is evaluated:\n",
    "* Parentheses: Any operations inside parentheses are evaluated first; if there are nested parentheses, Python starts with the innermost set of parentheses and works its way out.\n",
    "* Exponents: Exponents(which use the operator **) are calculated after any operations in parentheses and before any other operations.\n",
    "* Multiplication and division come next.\n",
    "* Addition and subtraction are evaluated last. "
   ]
  },
  {
   "cell_type": "markdown",
   "metadata": {},
   "source": [
    "### Example 4:\n",
    "Let's look at a couple of examples of PEMDAS in action.<br>\n",
    "\n",
    "First, let's look at *a* minus *b* times *c*.<br>\n",
    "\n",
    "If we do not include parentheses, Python evaluates this expression in the order:\n",
    "1. *b* times *c*\n",
    "2. *a* plus the result of *b* times *c*<br>\n",
    "\n",
    "If we want Python to perform the addition first, that operation must be inside parentheses:<br>\n",
    "```(a + b) * c```<br>\n",
    "\n",
    "Another example is the remainder of *a* divided by *b* to the power of *c*. If we do not include parentheses at all, Python evaluates this expression in the order:\n",
    "1. *b* to the power of *c*\n",
    "2. divide *a* by the result of *b* to the power of *c*\n",
    "3. save the remainder of the previous step<br>\n",
    "\n",
    "If we want Python to find the remainder first and calculate the remainder to the power of *c*, we have to put the modulus operation in parentheses:<br>\n",
    "```(a % b) ** c```"
   ]
  },
  {
   "cell_type": "code",
   "execution_count": 6,
   "metadata": {},
   "outputs": [
    {
     "name": "stdout",
     "output_type": "stream",
     "text": [
      "a - b * c: \n",
      "-590\n",
      "==========\n",
      "(a - b) * c:\n",
      "-300\n",
      "==========\n",
      "a % b ** c:\n",
      "10\n",
      "==========\n",
      "(a % b) ** c:\n",
      "1000000000000000000000000000000\n"
     ]
    }
   ],
   "source": [
    "a = 10\n",
    "b = 20\n",
    "c = 30\n",
    "\n",
    "d = a -b * c\n",
    "print(\"a - b * c: \")\n",
    "print(d)\n",
    "print(\"==========\")\n",
    "e = (a - b) * c\n",
    "print(\"(a - b) * c:\")\n",
    "print(e)\n",
    "print(\"==========\")\n",
    "f = a % b ** c\n",
    "print(\"a % b ** c:\")\n",
    "print(f)\n",
    "print(\"==========\")\n",
    "g = (a % b) ** c\n",
    "print(\"(a % b) ** c:\")\n",
    "print(g)"
   ]
  },
  {
   "cell_type": "markdown",
   "metadata": {},
   "source": [
    "### Practice 4:\n",
    "Create a Python script that starts with three declared values, *a*,*b*,*c*, with numeric values of your choice.<br>\n",
    "\n",
    "Using those values, perform the following calculations and print the results of each. For each calculation, use a single statement that executes the operations in the order described here.\n",
    "* *c* plus *a*, minus *b*\n",
    "* *c* minus *a*, times *b*\n",
    "* *c* divided by *a*, with the result divided by *b*\n",
    "* the remainder of *c* divided by *a*, with the remainder to the power of *b*\n",
    "* *c* plus *b*, divided by *a*"
   ]
  },
  {
   "cell_type": "code",
   "execution_count": 7,
   "metadata": {},
   "outputs": [
    {
     "name": "stdout",
     "output_type": "stream",
     "text": [
      "0\n",
      "==========\n",
      "900\n",
      "==========\n",
      "0.08333333333333333\n",
      "==========\n",
      "1000000000000000000000000000000\n",
      "==========\n",
      "4.0\n"
     ]
    }
   ],
   "source": [
    "a = 20\n",
    "b = 30\n",
    "c = 50\n",
    "\n",
    "d = (c - a) - b\n",
    "print(d)\n",
    "print(\"==========\")\n",
    "e = (c - a) * b\n",
    "print(e)\n",
    "print(\"==========\")\n",
    "f = (c / a) / b\n",
    "print(f)\n",
    "print(\"==========\")\n",
    "g = (c % a) ** b\n",
    "print(g)\n",
    "print(\"==========\")\n",
    "h = (c + b) / a\n",
    "print(h)"
   ]
  },
  {
   "cell_type": "markdown",
   "metadata": {},
   "source": [
    "## Concept 5: Common Math Functions\n",
    "Python includes some built-in math functions."
   ]
  },
  {
   "cell_type": "markdown",
   "metadata": {},
   "source": [
    "### Example 5:\n",
    "Built-in math functions include:\n",
    "* ```pow(a,b)```: calculates *a* to the power of *b*; alternative of ```a ** b```\n",
    "* ```round(a)```: rounds *a* to the nearest integer\n",
    "* ```round(a,b)```: round *a* to *b* decimal points\n",
    "* ```bin(a)```: converts a decimal value *a* to its binary value"
   ]
  },
  {
   "cell_type": "code",
   "execution_count": 8,
   "metadata": {},
   "outputs": [
    {
     "name": "stdout",
     "output_type": "stream",
     "text": [
      "100000000000000000000\n",
      "==========\n",
      "16\n",
      "==========\n",
      "15\n",
      "==========\n",
      "16\n",
      "==========\n",
      "15.5\n",
      "==========\n",
      "0b1010\n"
     ]
    }
   ],
   "source": [
    "a = 10\n",
    "b = 20\n",
    "c = 15.578\n",
    "d = 15.494\n",
    "e = 15.627\n",
    "\n",
    "f = pow(a,b)\n",
    "\n",
    "g = round(c)\n",
    "h = round(d)\n",
    "i = round(e)\n",
    "j = round(d,1)\n",
    "\n",
    "k = bin(a)\n",
    "\n",
    "print(f)\n",
    "print(\"==========\")\n",
    "print(g)\n",
    "print(\"==========\")\n",
    "print(h)\n",
    "print(\"==========\")\n",
    "print(i)\n",
    "print(\"==========\")\n",
    "print(j)\n",
    "print(\"==========\")\n",
    "print(k)"
   ]
  },
  {
   "cell_type": "markdown",
   "metadata": {},
   "source": [
    "### Practice 5:\n",
    "Create a series of variables, *a*,*b*,*c*, using float values of your choice.<br>\n",
    "\n",
    "Create expressions that performthe following calculations:\n",
    "* *a* multiplied by *c*, with the result rounded up to the closest integer.\n",
    "* *a* divided by *b*, with the result rounded down to the closes integer.\n",
    "* the square root of *b*, rounded to three decimal places.\n",
    "* *c* plus *b*, divided by *a*, with the result rounded up to the closes integer\n",
    "* the binary equivalent of *b* rounded to the closest integer."
   ]
  },
  {
   "cell_type": "code",
   "execution_count": 14,
   "metadata": {},
   "outputs": [
    {
     "name": "stdout",
     "output_type": "stream",
     "text": [
      "7\n",
      "0.0\n",
      "1.581\n",
      "5\n"
     ]
    },
    {
     "ename": "TypeError",
     "evalue": "'float' object cannot be interpreted as an integer",
     "output_type": "error",
     "traceback": [
      "\u001b[1;31m---------------------------------------------------------------------------\u001b[0m",
      "\u001b[1;31mTypeError\u001b[0m                                 Traceback (most recent call last)",
      "\u001b[1;32mC:\\Users\\TONYLA~1\\AppData\\Local\\Temp/ipykernel_19292/513638124.py\u001b[0m in \u001b[0;36m<module>\u001b[1;34m\u001b[0m\n\u001b[0;32m     16\u001b[0m \u001b[0mprint\u001b[0m\u001b[1;33m(\u001b[0m\u001b[0mg\u001b[0m\u001b[1;33m)\u001b[0m\u001b[1;33m\u001b[0m\u001b[1;33m\u001b[0m\u001b[0m\n\u001b[0;32m     17\u001b[0m \u001b[1;33m\u001b[0m\u001b[0m\n\u001b[1;32m---> 18\u001b[1;33m \u001b[0mh\u001b[0m \u001b[1;33m=\u001b[0m \u001b[0mround\u001b[0m\u001b[1;33m(\u001b[0m\u001b[0mbin\u001b[0m\u001b[1;33m(\u001b[0m\u001b[0ma\u001b[0m\u001b[1;33m)\u001b[0m\u001b[1;33m)\u001b[0m\u001b[1;33m\u001b[0m\u001b[1;33m\u001b[0m\u001b[0m\n\u001b[0m\u001b[0;32m     19\u001b[0m \u001b[0mprint\u001b[0m\u001b[1;33m(\u001b[0m\u001b[0mh\u001b[0m\u001b[1;33m)\u001b[0m\u001b[1;33m\u001b[0m\u001b[1;33m\u001b[0m\u001b[0m\n",
      "\u001b[1;31mTypeError\u001b[0m: 'float' object cannot be interpreted as an integer"
     ]
    }
   ],
   "source": [
    "import math\n",
    "a = 1.5\n",
    "b = 2.5\n",
    "c = 4.5\n",
    "\n",
    "d = math.ceil(a * c)\n",
    "print(d)\n",
    "\n",
    "e = a // b\n",
    "print(e)\n",
    "\n",
    "f = round((b ** 0.5), 3)\n",
    "print(f)\n",
    "\n",
    "g = math.ceil((c + b) / a)\n",
    "print(g)\n",
    "\n",
    "h = round(bin(a))\n",
    "print(h)"
   ]
  },
  {
   "cell_type": "markdown",
   "metadata": {},
   "source": [
    "## Concept 6: Math Library Functions\n",
    "The arithmetic operations and functions described earlier in this lesson are inherent to Python, but sometimes we need to perform more advanced operations. Python includes a separate **```math```** library that must be imported before a script can use it, but which also includes a variety of additional functions."
   ]
  },
  {
   "cell_type": "markdown",
   "metadata": {},
   "source": [
    "## Example 6:\n",
    "To complete these more advanced operations, we must import Python's math module, using the syntax **```import math```**. Here we will take a look at the following operations:\n",
    "* **```trunc```** - Removes all values to the right of the decimal point to create an integer\n",
    "* **```floor```** - Rounds a float value **down** to the closest integer\n",
    "* **```ceil```** - Rounds a float value **up** to the closest integer"
   ]
  },
  {
   "cell_type": "code",
   "execution_count": 15,
   "metadata": {},
   "outputs": [
    {
     "name": "stdout",
     "output_type": "stream",
     "text": [
      "6.1\n",
      "6\n",
      "6\n",
      "7\n"
     ]
    }
   ],
   "source": [
    "# We need to import the math module before using it\n",
    "# Imported it earlier in this notebook (Previous example)\n",
    "\n",
    "a = 6.1\n",
    "print(a)\n",
    "\n",
    "# The integral part of the float\n",
    "b = math.trunc(a)\n",
    "print(b)\n",
    "\n",
    "# Round down\n",
    "c = math.floor(a)\n",
    "print(c)\n",
    "\n",
    "# Round up\n",
    "d = math.ceil(a)\n",
    "print(d)"
   ]
  },
  {
   "cell_type": "markdown",
   "metadata": {},
   "source": [
    "### Practice 6:\n",
    "Create a Python script that:\n",
    "* assigns a floating point number of your choice to a variable **```num1```**\n",
    "* rounds **```num1```** up and stores the result in a variable **```a```**\n",
    "* assigns a second floating point number of your choiceto a variable **```num2```**\n",
    "* rounds **```num2```** up and stores the result in a variable **```b```**\n",
    "* prints the sum of **```a```** and **```b```**"
   ]
  },
  {
   "cell_type": "code",
   "execution_count": 17,
   "metadata": {},
   "outputs": [
    {
     "name": "stdout",
     "output_type": "stream",
     "text": [
      "c =  15\n"
     ]
    }
   ],
   "source": [
    "num1 = 6.3\n",
    "a = math.ceil(num1)\n",
    "\n",
    "num2 = 7.9\n",
    "b = math.ceil(num2)\n",
    "\n",
    "c= a + b\n",
    "print(\"c = \", c)"
   ]
  },
  {
   "cell_type": "markdown",
   "metadata": {},
   "source": [
    "## Concept 7: Using Numbers with User Input\n",
    "Python automatically assigns the string data type to user input, even when the input includes only numeric characters."
   ]
  },
  {
   "cell_type": "markdown",
   "metadata": {},
   "source": [
    "### Example 7a:\n",
    "In the following example, we prompt the user to enter a number - the year they were born - and Python can return that value. However, when we ask Python to subtract that value from the current year to calculate the user's age, Python throws an error."
   ]
  },
  {
   "cell_type": "code",
   "execution_count": 18,
   "metadata": {},
   "outputs": [
    {
     "name": "stdout",
     "output_type": "stream",
     "text": [
      "<class 'str'>\n",
      "<class 'str'>\n"
     ]
    },
    {
     "ename": "TypeError",
     "evalue": "unsupported operand type(s) for -: 'str' and 'str'",
     "output_type": "error",
     "traceback": [
      "\u001b[1;31m---------------------------------------------------------------------------\u001b[0m",
      "\u001b[1;31mTypeError\u001b[0m                                 Traceback (most recent call last)",
      "\u001b[1;32mC:\\Users\\TONYLA~1\\AppData\\Local\\Temp/ipykernel_19292/2916400853.py\u001b[0m in \u001b[0;36m<module>\u001b[1;34m\u001b[0m\n\u001b[0;32m      4\u001b[0m \u001b[0mprint\u001b[0m\u001b[1;33m(\u001b[0m\u001b[0mtype\u001b[0m\u001b[1;33m(\u001b[0m\u001b[0mcurrent_year\u001b[0m\u001b[1;33m)\u001b[0m\u001b[1;33m)\u001b[0m\u001b[1;33m\u001b[0m\u001b[1;33m\u001b[0m\u001b[0m\n\u001b[0;32m      5\u001b[0m \u001b[1;33m\u001b[0m\u001b[0m\n\u001b[1;32m----> 6\u001b[1;33m \u001b[0mage\u001b[0m \u001b[1;33m=\u001b[0m \u001b[0mcurrent_year\u001b[0m \u001b[1;33m-\u001b[0m \u001b[0myear_born\u001b[0m\u001b[1;33m\u001b[0m\u001b[1;33m\u001b[0m\u001b[0m\n\u001b[0m\u001b[0;32m      7\u001b[0m \u001b[1;33m\u001b[0m\u001b[0m\n\u001b[0;32m      8\u001b[0m \u001b[0mprint\u001b[0m\u001b[1;33m(\u001b[0m\u001b[1;34m\"Your age is: \"\u001b[0m\u001b[1;33m,\u001b[0m \u001b[0mage\u001b[0m\u001b[1;33m)\u001b[0m\u001b[1;33m\u001b[0m\u001b[1;33m\u001b[0m\u001b[0m\n",
      "\u001b[1;31mTypeError\u001b[0m: unsupported operand type(s) for -: 'str' and 'str'"
     ]
    }
   ],
   "source": [
    "year_born = input(\"Enter the year you were born: \")\n",
    "current_year = input(\"Enter the current year: \")\n",
    "print(type(year_born))\n",
    "print(type(current_year))\n",
    "\n",
    "age = current_year - year_born\n",
    "\n",
    "print(\"Your age is: \", age)"
   ]
  },
  {
   "cell_type": "markdown",
   "metadata": {},
   "source": [
    "### Example 7b:\n",
    "We see this error because both input values are string values, and Python cannot perform mathematical operations on string values.<br>\n",
    "\n",
    "This means that we must convert user input from string to a numeric data type before we can use the values in a mathematical operation. We can do this using the built-in **```int()```** or **```float()```** function, depending on the values we are using.<br>\n",
    "\n",
    "The following example is the same as the previous example, except that we convert the input values and store them as **```born_int```** and **```current_int```**. We then use the converted values in the math operations."
   ]
  },
  {
   "cell_type": "code",
   "execution_count": 20,
   "metadata": {},
   "outputs": [
    {
     "name": "stdout",
     "output_type": "stream",
     "text": [
      "Your age is:  40\n"
     ]
    }
   ],
   "source": [
    "year_born = input(\"Enter the year you were born: \")\n",
    "current_year = input(\"Enter the current year: \")\n",
    "\n",
    "# Convert the strings into integers\n",
    "born_int = int(year_born)\n",
    "current_int = int(current_year)\n",
    "\n",
    "age = current_int - born_int\n",
    "\n",
    "print(\"Your age is: \", age)"
   ]
  },
  {
   "cell_type": "markdown",
   "metadata": {},
   "source": [
    "### Practice 7a:\n",
    "Create a script that performs the following steps:\n",
    "1. Prompt the user for a four-digit year.\n",
    "2. Prompt the user to enter an integer of their choice.\n",
    "3. Display the year it will be that many years from the original input year, with an appropriate feedback message.<br>\n",
    "\n",
    "For example, if the user inputs 2020 and 42, the result should be 2062."
   ]
  },
  {
   "cell_type": "code",
   "execution_count": 25,
   "metadata": {},
   "outputs": [
    {
     "name": "stdout",
     "output_type": "stream",
     "text": [
      "The original year 1982 plus the number of years added, 40, means we are now in the year 2022.\n"
     ]
    }
   ],
   "source": [
    "user_year = input(\"Enter a 4-digit year: \")\n",
    "num = input(\"Enter any positive whole number of your choice: \")\n",
    "\n",
    "year_int = int(user_year)\n",
    "num_int = int(num)\n",
    "\n",
    "future_year = year_int + num_int\n",
    "\n",
    "print(f\"The original year {user_year} plus the number of years added, {num}, means we are now in the year {future_year}.\")"
   ]
  },
  {
   "cell_type": "markdown",
   "metadata": {},
   "source": [
    "### Practice 7b:\n",
    "Create a script that calculates the sales tax on a purchase and displays the total purchase price.\n",
    "1. Prompt the user for a pre-tax total.\n",
    "2. Prompt the user for the local sales tax\n",
    "3. Multiply the pre-tax total by the local sales tax and add the result to the pre-tax total.\n",
    "4. Display the total price to the user with an appropriate message.\n",
    "\n",
    "```Think about whether int() or float() would be better here. Why?```"
   ]
  },
  {
   "cell_type": "code",
   "execution_count": 26,
   "metadata": {},
   "outputs": [
    {
     "name": "stdout",
     "output_type": "stream",
     "text": [
      "The final price for your purchase is:  108.0\n"
     ]
    }
   ],
   "source": [
    "total = input(\"What is the pre-tax total of your purchase? \")\n",
    "tax = input(\"What is the sales tax in your area? \")\n",
    "\n",
    "total_float = float(total)\n",
    "tax_float = float(tax)\n",
    "\n",
    "final_price = (total_float * tax_float) + total_float \n",
    "\n",
    "print(\"The final price for your purchase is: \", final_price)"
   ]
  },
  {
   "cell_type": "code",
   "execution_count": null,
   "metadata": {},
   "outputs": [],
   "source": []
  }
 ],
 "metadata": {
  "interpreter": {
   "hash": "fb00f0c01367cd29234ef98d6ee35d5dad54fff2cb1a8b567bc06dceecc7a7af"
  },
  "kernelspec": {
   "display_name": "Python 3.8.8 ('base')",
   "language": "python",
   "name": "python3"
  },
  "language_info": {
   "codemirror_mode": {
    "name": "ipython",
    "version": 3
   },
   "file_extension": ".py",
   "mimetype": "text/x-python",
   "name": "python",
   "nbconvert_exporter": "python",
   "pygments_lexer": "ipython3",
   "version": "3.8.8"
  },
  "orig_nbformat": 4
 },
 "nbformat": 4,
 "nbformat_minor": 2
}
