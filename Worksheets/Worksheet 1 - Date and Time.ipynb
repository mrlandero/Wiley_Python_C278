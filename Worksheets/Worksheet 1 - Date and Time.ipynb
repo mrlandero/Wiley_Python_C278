{
 "cells": [
  {
   "cell_type": "markdown",
   "metadata": {},
   "source": [
    "# Worksheet: Date and Time\n",
    "This worksheet corresponds to *Lesson 1: Date and Time* in the online course. Refer to that page as necessary to complete the practice activities here."
   ]
  },
  {
   "cell_type": "markdown",
   "metadata": {},
   "source": [
    "## Practice 1A\n",
    "Display the current date and time using `today()` instead of `now()`."
   ]
  },
  {
   "cell_type": "code",
   "execution_count": 1,
   "metadata": {},
   "outputs": [
    {
     "name": "stdout",
     "output_type": "stream",
     "text": [
      "2022-07-01 10:10:39.040118\n"
     ]
    }
   ],
   "source": [
    "# your code here\n",
    "import datetime\n",
    "\n",
    "time_now = datetime.datetime.today()\n",
    "print(time_now)"
   ]
  },
  {
   "cell_type": "markdown",
   "metadata": {},
   "source": [
    "## Practice 1B\n",
    "Create a script that prints your birthday or another important date. Try using `datetime.datetime()` instead of `datetime.date()` to see how the outputs are different.\n",
    "\n",
    "Once the date works, try generating a specific time using the syntax:\n",
    "\n",
    "    datetime.time(hour, minute, second)\n",
    "    \n",
    "**Bonus**: Can you figure out how to use a single statement to generate a `datetime` object that includes both the date and the time?"
   ]
  },
  {
   "cell_type": "code",
   "execution_count": 9,
   "metadata": {},
   "outputs": [
    {
     "name": "stdout",
     "output_type": "stream",
     "text": [
      "1982-07-14 00:00:00\n"
     ]
    }
   ],
   "source": [
    "# your code here\n",
    "my_bday = datetime.datetime(1982,7,14)\n",
    "print(my_bday)"
   ]
  },
  {
   "cell_type": "code",
   "execution_count": 10,
   "metadata": {},
   "outputs": [
    {
     "name": "stdout",
     "output_type": "stream",
     "text": [
      "09:30:00\n"
     ]
    }
   ],
   "source": [
    "my_bday = datetime.time(9,30,00)\n",
    "print(my_bday)"
   ]
  },
  {
   "cell_type": "code",
   "execution_count": 16,
   "metadata": {},
   "outputs": [
    {
     "name": "stdout",
     "output_type": "stream",
     "text": [
      "1982-07-14 09:30:00\n"
     ]
    }
   ],
   "source": [
    "my_bday = datetime.datetime(1982,7,14,9,30,00)\n",
    "print(my_bday)"
   ]
  },
  {
   "cell_type": "markdown",
   "metadata": {},
   "source": [
    "## Practice 1C\n",
    "\n",
    "Using the example above, extract the current hour and minute as separate values from the date provided and display each value separately."
   ]
  },
  {
   "cell_type": "code",
   "execution_count": 23,
   "metadata": {},
   "outputs": [
    {
     "name": "stdout",
     "output_type": "stream",
     "text": [
      "11\n",
      "26\n"
     ]
    }
   ],
   "source": [
    "# your code here\n",
    "d = \"2019-07-23 11:26:26.047342\"\n",
    "(d,t) = d.split()\n",
    "(hour,minute,second) = t.split(\":\")\n",
    "print(hour)\n",
    "print(minute)"
   ]
  },
  {
   "cell_type": "markdown",
   "metadata": {},
   "source": [
    "## Practice 2\n",
    "Write a script where the user inputs a date: \n",
    "* Prompt the user for a year.\n",
    "* Prompt the user for a month.\n",
    "* Prompt the user for a day.\n",
    "\n",
    "Compute the current date, compare that value to the date from the user, and using only `if` statements, display one of the following messages: \n",
    "* If the date provided by the user happens before the current date: \"You are in the past.\"  \n",
    "* If the date provided by the user happens after the current date: \"You are in the future.\"\n",
    "* If the date provided by the user is the same as the current date (without time): \"That's today!\"\n",
    "\n",
    "Do not use any `datetime` functions except to calculate the current date. "
   ]
  },
  {
   "cell_type": "code",
   "execution_count": 44,
   "metadata": {},
   "outputs": [
    {
     "name": "stdout",
     "output_type": "stream",
     "text": [
      "You are in the past\n"
     ]
    }
   ],
   "source": [
    "year = int(input(\"Enter the year = \"))\n",
    "month = int(input(\"Enter the month = \"))\n",
    "day = int(input(\"Enter the year = \"))\n",
    "user_time = datetime.datetime(year,month,day)\n",
    "time_now = datetime.datetime.now()\n",
    "\n",
    "#your code goes here \n",
    "if user_time < time_now:\n",
    "    print(\"You are in the past\")\n",
    "elif user_time==time_now:\n",
    "    print(\"That's today!!\")\n",
    "elif user_time > time_now:\n",
    "    print(\"You are in the future\")"
   ]
  },
  {
   "cell_type": "markdown",
   "metadata": {},
   "source": [
    "## Practice 3\n",
    "Create a script that asks the user for a year, month, and day, creates a `datetime` object from the input, and displays the date.\n",
    "\n",
    "Include the following validations:\n",
    "* The year must be between 1900 and 2100.\n",
    "* The month must be a value between 1 and 12.\n",
    "* The day must be a value between 1 and 31.\n",
    "\n",
    "All ranges are inclusive. The script should display a user-friendly message if an input value is out of range.\n",
    "\n",
    "**Bonus goal**: Validate the day based on the month. For example, April 31 is not a valid date because April has only 30 days."
   ]
  },
  {
   "cell_type": "code",
   "execution_count": 49,
   "metadata": {},
   "outputs": [
    {
     "name": "stdout",
     "output_type": "stream",
     "text": [
      "Invalid day. Please enter between 1-31\n",
      "Invalid day. Please enter between 1-31\n",
      "Invalid day. Please enter between 1-31\n",
      "2022-12-02\n"
     ]
    }
   ],
   "source": [
    "# your code here\n",
    "year = int(input(\"Enter the year = \"))\n",
    "while year<1900 or year>2100:\n",
    "    print(\"Invalid Date. Please pick between 1900-2100\")\n",
    "    year = int(input(\"Enter the year = \"))\n",
    "month = int(input(\"Enter the month = \"))\n",
    "while month<1 or month>12:\n",
    "    print(\"Invalid Month. Please enter the month between 1-12\")\n",
    "    month = int(input(\"Enter the month = \"))\n",
    "day = int(input(\"Enter the day = \"))\n",
    "while day<1 or day>31:\n",
    "    print(\"Invalid day. Please enter between 1-31\")\n",
    "    day = int(input(\"Enter the day = \"))\n",
    "user_time = datetime.date(year,month,day)\n",
    "print(user_time)"
   ]
  },
  {
   "cell_type": "markdown",
   "metadata": {},
   "source": [
    "## Practice 4\n",
    "Create a script that receives a date input from the user in the following format:\n",
    "* Prompt the user for the year.\n",
    "* Prompt the user for the month.\n",
    "* Prompt the user for the day.\n",
    "\n",
    "Use comparison operators to compare the user's date and the current date, and display one of the following messages:\n",
    "* If the date provided by the user happens before the current date: \"That date is in the past.\"  \n",
    "* If the date provided by the user happens after the current date: \"That date is in the future.\"\n",
    "* If the date provided by the user is the same as the current date (without time): \"That date is today!\""
   ]
  },
  {
   "cell_type": "code",
   "execution_count": 58,
   "metadata": {},
   "outputs": [
    {
     "name": "stdout",
     "output_type": "stream",
     "text": [
      "You are in the future\n"
     ]
    }
   ],
   "source": [
    "# your code here\n",
    "year = int(input(\"Enter the year = \"))\n",
    "month = int(input(\"Enter the month = \"))\n",
    "day = int(input(\"Enter the day = \"))\n",
    "user_date = datetime.datetime(year,month,day)\n",
    "today_date = datetime.datetime(2022,7,1)\n",
    "#print(today_date)\n",
    "if user_date < today_date:\n",
    "    print(\"You are in the past!\")\n",
    "elif user_date == today_date:\n",
    "    print(\"That's today!\")\n",
    "else:\n",
    "    print(\"You are in the future\")"
   ]
  },
  {
   "cell_type": "markdown",
   "metadata": {},
   "source": [
    "## Practice 5\n",
    "Create a script that receives a date and time input from the user in the following format:\n",
    "* Ask the user for the year.\n",
    "* Ask the user for the month.\n",
    "* Ask the user for the day.\n",
    "* Ask the user for an hour value (in 24-hour format).\n",
    "* Ask the user for a minute value.\n",
    "\n",
    "Convert the input to a `datetime` value and compare it to the current UTC date and time. Display one of the following messages:\n",
    "* If the date provided by the user happens before the current date: \"You are in the past.\"  \n",
    "* If the date provided by the user happens after the current date: \"You are in the future.\"\n",
    "* If the date provided by the user is the same as the current date (without time): \"That's today!\""
   ]
  },
  {
   "cell_type": "code",
   "execution_count": 18,
   "metadata": {},
   "outputs": [],
   "source": [
    "# your code here"
   ]
  },
  {
   "cell_type": "markdown",
   "metadata": {},
   "source": [
    "## Practice 6\n",
    "Prompt the user to input a date as year, month, and day values. Convert the input to a `datetime` object and display the `timestamp` value of the date as an integer in seconds."
   ]
  },
  {
   "cell_type": "code",
   "execution_count": 20,
   "metadata": {},
   "outputs": [],
   "source": [
    "# your code here"
   ]
  },
  {
   "cell_type": "markdown",
   "metadata": {},
   "source": [
    "## Practice 7\n",
    "Create a script that asks the user for a timestamp value and then displays the equivalent date in a human readable format.  \n",
    "\n",
    "It should keep asking the user for an input value until they enter the word \"Quit\" in any letter case. \n",
    "\n",
    "**Tip**: It is always good practice to tell the user how to exit a loop!"
   ]
  },
  {
   "cell_type": "code",
   "execution_count": 22,
   "metadata": {},
   "outputs": [
    {
     "name": "stdout",
     "output_type": "stream",
     "text": [
      "1969-12-31 19:00:00\n"
     ]
    }
   ],
   "source": [
    "# your code goes here\n",
    "d = datetime.datetime.fromtimestamp(0) \n",
    "\n",
    "print(d)"
   ]
  },
  {
   "cell_type": "markdown",
   "metadata": {},
   "source": [
    "## Practice 8\n",
    "Create a script that performs the following actions:\n",
    "* Prompt the user for a date in the year, month, day format that we have used in earlier activities in this lesson.\n",
    "* Then, output an appropriate message:\n",
    "    * If the user's date occurs before today's date, output the message: \"That date was `x` days ago. In `x` days, the date will be `y`.\"\n",
    "    * If the user's date is after today, output the message: \"That date is `x` days in the future. `x` days ago, the date was `y`.\n",
    "    * If the user enters today's date, output the message: \"That's today! In six months, the date will be `y`.\"\n",
    "\n",
    "Each message should display appropriate values for `x` and `y`, where `x` is an integer and `y` is a date."
   ]
  },
  {
   "cell_type": "code",
   "execution_count": 25,
   "metadata": {},
   "outputs": [],
   "source": [
    "# your code here"
   ]
  },
  {
   "cell_type": "markdown",
   "metadata": {},
   "source": [
    "## Practice 9\n",
    "Repeat the previous practice activity using `date` instead of `datetime`.\n",
    "\n",
    "Create a script that performs the following actions:\n",
    "\n",
    "* Prompt the user for a date in the year, month, day format that we have used in earlier activities in this lesson.\n",
    "* Then, output an appropriate message:\n",
    "    * If the user's date occurs before today's date, output the message: \"That date was `x` days ago. In `x` days, the date will be `y`.\"\n",
    "    * If the user's date is after today, output the message: \"That date is `x` days in the future. `x` days ago, the date was `y`.\n",
    "    * If the user enters today's date, output the message: \"That's today! In six months, the date will be `y`.\"\n",
    "\n",
    "Each message should display appropriate values for `x` and `y`, where `x` is an integer and `y` is a date\n",
    "\n",
    "How does using `date` instead of `datetime` simplify this exercise?"
   ]
  },
  {
   "cell_type": "code",
   "execution_count": 27,
   "metadata": {},
   "outputs": [],
   "source": [
    "# your code here"
   ]
  },
  {
   "cell_type": "markdown",
   "metadata": {},
   "source": [
    "## Practice 10\n",
    "Do some research online and provide one example of how to use time in the US format (am and pm) instead of 24-hour time."
   ]
  },
  {
   "cell_type": "code",
   "execution_count": 29,
   "metadata": {},
   "outputs": [],
   "source": [
    "# your code here"
   ]
  }
 ],
 "metadata": {
  "kernelspec": {
   "display_name": "Python 3",
   "language": "python",
   "name": "python3"
  },
  "language_info": {
   "codemirror_mode": {
    "name": "ipython",
    "version": 3
   },
   "file_extension": ".py",
   "mimetype": "text/x-python",
   "name": "python",
   "nbconvert_exporter": "python",
   "pygments_lexer": "ipython3",
   "version": "3.8.8"
  }
 },
 "nbformat": 4,
 "nbformat_minor": 2
}
