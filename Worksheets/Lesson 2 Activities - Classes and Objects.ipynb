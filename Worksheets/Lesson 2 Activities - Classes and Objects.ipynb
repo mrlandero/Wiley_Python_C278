{
 "cells": [
  {
   "cell_type": "markdown",
   "metadata": {},
   "source": [
    "# Lesson 2 Activities: Classes and Objects\n",
    "The activities in this page will allow you to demonstrate your ability to:\n",
    "* Create a class that includes at least three attributes appropriate for that class.\n",
    "* Use a class to create two or more separate objects.\n",
    "* Define and use a constructor in a class.\n",
    "* Create one or more methods that describe a behavior associated with a class and implement those methods in a program.\n",
    "* Reference a class as an attribute of another class to create a complex entity."
   ]
  },
  {
   "cell_type": "markdown",
   "metadata": {},
   "source": [
    "## Activity 1\n",
    "The lesson uses `Person` and `Animal` as example classes. For this activity, choose another `Noun` of your choice to create a class. It can be anything you wish, as long as it meets the following criteria:\n",
    "* Do not use people or animals.\n",
    "* The category must be broad enough to include different examples of the category.\n",
    "* It must represent a real-life object.\n",
    "\n",
    "Include at least three attributes that are common to most (if not all) instances of the `Noun`. Use appropriate naming conventions."
   ]
  },
  {
   "cell_type": "code",
   "execution_count": 16,
   "metadata": {},
   "outputs": [],
   "source": [
    "# your code here\n",
    "class Vehicle:\n",
    "    brand = \"\"\n",
    "    color = \"\"\n",
    "    method_of_movement = \"\"\n",
    "    type_of_vehicle = \"\"\n",
    "    capacity = \"\"\n",
    "\n",
    "    def __init__(self, brand,color,mom,tov,capacity):\n",
    "        self.brand = brand \n",
    "        self.color = color\n",
    "        self.method_of_movement = mom\n",
    "        self.type_of_vehicle = tov\n",
    "        self.capacity = capacity\n",
    "\n",
    "    def changeColor(self, color):\n",
    "        self.color = color\n",
    "\n",
    "    def getFeatures(self):\n",
    "        print(\"brand\",self.brand)\n",
    "        print(\"color\",self.color)\n",
    "        print(\"method_of_movement\",self.method_of_movement)\n",
    "        print(\"type_of_vehicle\",self.type_of_vehicle)\n",
    "        print(\"capacity\",self.capacity)\n"
   ]
  },
  {
   "cell_type": "code",
   "execution_count": 17,
   "metadata": {},
   "outputs": [],
   "source": [
    "renes_vehicle = Vehicle(\"BMW\", \"Grey\", \"Drive\", \"Car\", 6)"
   ]
  },
  {
   "cell_type": "code",
   "execution_count": 18,
   "metadata": {},
   "outputs": [],
   "source": [
    "meghans_vehicle = Vehicle(\"Tesla\", \"Blue\", \"Ride\", \"Bike\", 1)"
   ]
  },
  {
   "cell_type": "code",
   "execution_count": 19,
   "metadata": {},
   "outputs": [
    {
     "data": {
      "text/plain": [
       "'BMW'"
      ]
     },
     "execution_count": 19,
     "metadata": {},
     "output_type": "execute_result"
    }
   ],
   "source": [
    "renes_vehicle.brand"
   ]
  },
  {
   "cell_type": "code",
   "execution_count": 20,
   "metadata": {},
   "outputs": [
    {
     "data": {
      "text/plain": [
       "'Tesla'"
      ]
     },
     "execution_count": 20,
     "metadata": {},
     "output_type": "execute_result"
    }
   ],
   "source": [
    "meghans_vehicle.brand"
   ]
  },
  {
   "cell_type": "code",
   "execution_count": 21,
   "metadata": {},
   "outputs": [
    {
     "data": {
      "text/plain": [
       "'Red'"
      ]
     },
     "execution_count": 21,
     "metadata": {},
     "output_type": "execute_result"
    }
   ],
   "source": [
    "meghans_vehicle.changeColor(\"Red\")\n",
    "meghans_vehicle.color"
   ]
  },
  {
   "cell_type": "code",
   "execution_count": 22,
   "metadata": {},
   "outputs": [
    {
     "name": "stdout",
     "output_type": "stream",
     "text": [
      "brand Tesla\n",
      "color Red\n",
      "method_of_movement Ride\n",
      "type_of_vehicle Bike\n",
      "capacity 1\n"
     ]
    }
   ],
   "source": [
    "meghans_vehicle.getFeatures()"
   ]
  },
  {
   "cell_type": "markdown",
   "metadata": {},
   "source": [
    "## Activity 2\n",
    "Use the `Noun` class you created in the previous activity to create at least four different objects. Print out all attributes for each object."
   ]
  },
  {
   "cell_type": "code",
   "execution_count": 2,
   "metadata": {},
   "outputs": [],
   "source": [
    "# your code here"
   ]
  },
  {
   "cell_type": "markdown",
   "metadata": {},
   "source": [
    "## Activity 3\n",
    "Create an `__init__` method for your `Noun` class. Include at least four of the attributes you originally defined in the new method."
   ]
  },
  {
   "cell_type": "code",
   "execution_count": null,
   "metadata": {},
   "outputs": [],
   "source": [
    "# your code here"
   ]
  },
  {
   "cell_type": "markdown",
   "metadata": {},
   "source": [
    "## Activity 4\n",
    "Create a method for your `Noun` class. The method should perform a specific activity (or series of activities) on objects based on the class. \n",
    "\n",
    "Although this can be a simple `display`, you are encouraged to consider more complicated activities in the method."
   ]
  },
  {
   "cell_type": "code",
   "execution_count": 3,
   "metadata": {},
   "outputs": [],
   "source": [
    "# your code here"
   ]
  },
  {
   "cell_type": "markdown",
   "metadata": {},
   "source": [
    "## Activity 5\n",
    "Create a separate class that is logically related to your original `Noun` class, based on the example that a `Person` can have one or more `Addresses`.\n",
    "\t\n",
    "Create at least one `Noun` object that includes a list of objects from the associated class. Display the `Noun` with the related objects."
   ]
  },
  {
   "cell_type": "code",
   "execution_count": null,
   "metadata": {},
   "outputs": [],
   "source": [
    "# your code here"
   ]
  }
 ],
 "metadata": {
  "kernelspec": {
   "display_name": "Python 3",
   "language": "python",
   "name": "python3"
  },
  "language_info": {
   "codemirror_mode": {
    "name": "ipython",
    "version": 3
   },
   "file_extension": ".py",
   "mimetype": "text/x-python",
   "name": "python",
   "nbconvert_exporter": "python",
   "pygments_lexer": "ipython3",
   "version": "3.7.10"
  }
 },
 "nbformat": 4,
 "nbformat_minor": 2
}
