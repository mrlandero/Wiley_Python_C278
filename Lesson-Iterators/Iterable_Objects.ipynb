{
 "cells": [
  {
   "cell_type": "markdown",
   "metadata": {},
   "source": [
    "### Example 2: \n",
    "In this example, we create two iterable objects, first using a list and then using a set.<br>\n",
    "\n",
    "We use the **```next```** keyword only twice for each collection, so only two names are printed from each collection. For the list, the names are in a fixed order, but remember that items in a set are randomized, so the output may not be the first two names in the set definition."
   ]
  },
  {
   "cell_type": "code",
   "execution_count": 1,
   "metadata": {},
   "outputs": [],
   "source": [
    "names_list = [\"Haythem\",\"Mary\",\"Kate\",\"John\",\"Marcos\"]"
   ]
  },
  {
   "cell_type": "code",
   "execution_count": 2,
   "metadata": {},
   "outputs": [
    {
     "name": "stdout",
     "output_type": "stream",
     "text": [
      "Haythem\n",
      "=======\n",
      "Mary\n"
     ]
    }
   ],
   "source": [
    "names_list_iterator = iter(names_list)\n",
    "print(next(names_list_iterator))\n",
    "print(\"=======\")\n",
    "print(next(names_list_iterator))"
   ]
  },
  {
   "cell_type": "code",
   "execution_count": 3,
   "metadata": {},
   "outputs": [],
   "source": [
    "names_set = {\"Haythem\",\"Mary\",\"Kate\",\"John\",\"Marcos\"}"
   ]
  },
  {
   "cell_type": "code",
   "execution_count": 4,
   "metadata": {},
   "outputs": [
    {
     "name": "stdout",
     "output_type": "stream",
     "text": [
      "Haythem\n",
      "=======\n",
      "John\n"
     ]
    }
   ],
   "source": [
    "names_set_iterator = iter(names_set)\n",
    "print(next(names_set_iterator))\n",
    "print(\"=======\")\n",
    "print(next(names_set_iterator))"
   ]
  },
  {
   "cell_type": "code",
   "execution_count": null,
   "metadata": {},
   "outputs": [],
   "source": []
  }
 ],
 "metadata": {
  "interpreter": {
   "hash": "fb00f0c01367cd29234ef98d6ee35d5dad54fff2cb1a8b567bc06dceecc7a7af"
  },
  "kernelspec": {
   "display_name": "Python 3.8.8 ('base')",
   "language": "python",
   "name": "python3"
  },
  "language_info": {
   "codemirror_mode": {
    "name": "ipython",
    "version": 3
   },
   "file_extension": ".py",
   "mimetype": "text/x-python",
   "name": "python",
   "nbconvert_exporter": "python",
   "pygments_lexer": "ipython3",
   "version": "3.8.8"
  },
  "orig_nbformat": 4
 },
 "nbformat": 4,
 "nbformat_minor": 2
}
