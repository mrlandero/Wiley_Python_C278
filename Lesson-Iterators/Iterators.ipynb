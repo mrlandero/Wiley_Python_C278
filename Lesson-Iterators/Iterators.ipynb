{
 "cells": [
  {
   "cell_type": "markdown",
   "metadata": {},
   "source": [
    "### Example 1:\n",
    "In this example, we start with a tuple object that contains a collection of names. We then create an iterator named **```my_iterator```** that traverses the items in the tuple and prints each item separately.<br> \n",
    "\n",
    "This is similar to **```for-in```**, which can also iterate through the items in a collection, except that **```for-in```** automatically ends on the last item in the collection. When we use **```iter()```** and **```next()```**, we have to provide a **```next```** statement for each item we want to look at. In this example, the tuple includes five items, so we need five **```next```** statements to display all of the items in the tuple. If we have more **```next```** statements than items in the collection, Python will throw an error."
   ]
  },
  {
   "cell_type": "code",
   "execution_count": 1,
   "metadata": {},
   "outputs": [
    {
     "name": "stdout",
     "output_type": "stream",
     "text": [
      "<class 'tuple'>\n",
      "=======\n",
      "('Haythem', 'Mary', 'Kate', 'John', 'Marcos')\n"
     ]
    }
   ],
   "source": [
    "names = (\"Haythem\",\"Mary\",\"Kate\",\"John\",\"Marcos\") # We create a tuple object\n",
    "print(type(names))\n",
    "print(\"=======\")\n",
    "print(names)"
   ]
  },
  {
   "cell_type": "code",
   "execution_count": 8,
   "metadata": {},
   "outputs": [
    {
     "name": "stdout",
     "output_type": "stream",
     "text": [
      "Haythem\n",
      "=======\n",
      "Mary\n",
      "=======\n",
      "Kate\n",
      "=======\n",
      "John\n",
      "=======\n",
      "Marcos\n",
      "=======\n"
     ]
    },
    {
     "ename": "StopIteration",
     "evalue": "",
     "output_type": "error",
     "traceback": [
      "\u001b[1;31m---------------------------------------------------------------------------\u001b[0m",
      "\u001b[1;31mStopIteration\u001b[0m                             Traceback (most recent call last)",
      "\u001b[1;32mC:\\Users\\TONYLA~1\\AppData\\Local\\Temp/ipykernel_26796/3532991162.py\u001b[0m in \u001b[0;36m<module>\u001b[1;34m\u001b[0m\n\u001b[0;32m     10\u001b[0m \u001b[0mprint\u001b[0m\u001b[1;33m(\u001b[0m\u001b[0mnext\u001b[0m\u001b[1;33m(\u001b[0m\u001b[0mmy_iterator\u001b[0m\u001b[1;33m)\u001b[0m\u001b[1;33m)\u001b[0m\u001b[1;33m\u001b[0m\u001b[1;33m\u001b[0m\u001b[0m\n\u001b[0;32m     11\u001b[0m \u001b[0mprint\u001b[0m\u001b[1;33m(\u001b[0m\u001b[1;34m\"=======\"\u001b[0m\u001b[1;33m)\u001b[0m\u001b[1;33m\u001b[0m\u001b[1;33m\u001b[0m\u001b[0m\n\u001b[1;32m---> 12\u001b[1;33m \u001b[0mprint\u001b[0m\u001b[1;33m(\u001b[0m\u001b[0mnext\u001b[0m\u001b[1;33m(\u001b[0m\u001b[0mmy_iterator\u001b[0m\u001b[1;33m)\u001b[0m\u001b[1;33m)\u001b[0m \u001b[1;31m# This will throw an error because there are only 5 items in the tuple\u001b[0m\u001b[1;33m\u001b[0m\u001b[1;33m\u001b[0m\u001b[0m\n\u001b[0m",
      "\u001b[1;31mStopIteration\u001b[0m: "
     ]
    }
   ],
   "source": [
    "my_iterator = iter(names) # We use iter to create an iterable object\n",
    "print(next(my_iterator)) # We use next to iterate through the tuple and print each name individually\n",
    "print(\"=======\")\n",
    "print(next(my_iterator))\n",
    "print(\"=======\")\n",
    "print(next(my_iterator))\n",
    "print(\"=======\")\n",
    "print(next(my_iterator))\n",
    "print(\"=======\")\n",
    "print(next(my_iterator))\n",
    "print(\"=======\")\n",
    "print(next(my_iterator)) # This will throw an error because there are only 5 items in the tuple"
   ]
  },
  {
   "cell_type": "code",
   "execution_count": null,
   "metadata": {},
   "outputs": [],
   "source": []
  }
 ],
 "metadata": {
  "interpreter": {
   "hash": "fb00f0c01367cd29234ef98d6ee35d5dad54fff2cb1a8b567bc06dceecc7a7af"
  },
  "kernelspec": {
   "display_name": "Python 3.8.8 ('base')",
   "language": "python",
   "name": "python3"
  },
  "language_info": {
   "codemirror_mode": {
    "name": "ipython",
    "version": 3
   },
   "file_extension": ".py",
   "mimetype": "text/x-python",
   "name": "python",
   "nbconvert_exporter": "python",
   "pygments_lexer": "ipython3",
   "version": "3.8.8"
  },
  "orig_nbformat": 4
 },
 "nbformat": 4,
 "nbformat_minor": 2
}
