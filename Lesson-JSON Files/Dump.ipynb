{
 "cells": [
  {
   "cell_type": "markdown",
   "metadata": {},
   "source": [
    "### Example 9:\n",
    "In this example, we create one record in a dictionary and then dump the dictionary into a new JSON file."
   ]
  },
  {
   "cell_type": "code",
   "execution_count": 1,
   "metadata": {},
   "outputs": [],
   "source": [
    "import json"
   ]
  },
  {
   "cell_type": "code",
   "execution_count": 2,
   "metadata": {},
   "outputs": [],
   "source": [
    "jason_dict = {\n",
    "    \"first_name\": \"Robert\",\n",
    "    \"last_name\": \"Balti\",\n",
    "    \"hobbies\": [\"traveling\", \"music\"],\n",
    "    \"age\": 34\n",
    "}"
   ]
  },
  {
   "cell_type": "code",
   "execution_count": 3,
   "metadata": {},
   "outputs": [
    {
     "name": "stdout",
     "output_type": "stream",
     "text": [
      "{'first_name': 'Robert', 'last_name': 'Balti', 'hobbies': ['traveling', 'music'], 'age': 34}\n"
     ]
    }
   ],
   "source": [
    "print(jason_dict)"
   ]
  },
  {
   "cell_type": "code",
   "execution_count": 4,
   "metadata": {},
   "outputs": [],
   "source": [
    "with open(\"test_file.json\", \"w\") as json_file:\n",
    "    json.dump(jason_dict,json_file)"
   ]
  },
  {
   "cell_type": "code",
   "execution_count": 6,
   "metadata": {},
   "outputs": [
    {
     "name": "stdout",
     "output_type": "stream",
     "text": [
      "{\"first_name\": \"Robert\", \"last_name\": \"Balti\", \"hobbies\": [\"traveling\", \"music\"], \"age\": 34}\n"
     ]
    }
   ],
   "source": [
    "f = open(\"test_file.json\", \"r\")\n",
    "print(f.read())\n",
    "f.close()"
   ]
  },
  {
   "cell_type": "code",
   "execution_count": null,
   "metadata": {},
   "outputs": [],
   "source": []
  }
 ],
 "metadata": {
  "interpreter": {
   "hash": "fb00f0c01367cd29234ef98d6ee35d5dad54fff2cb1a8b567bc06dceecc7a7af"
  },
  "kernelspec": {
   "display_name": "Python 3.8.8 ('base')",
   "language": "python",
   "name": "python3"
  },
  "language_info": {
   "codemirror_mode": {
    "name": "ipython",
    "version": 3
   },
   "file_extension": ".py",
   "mimetype": "text/x-python",
   "name": "python",
   "nbconvert_exporter": "python",
   "pygments_lexer": "ipython3",
   "version": "3.8.8"
  },
  "orig_nbformat": 4
 },
 "nbformat": 4,
 "nbformat_minor": 2
}
