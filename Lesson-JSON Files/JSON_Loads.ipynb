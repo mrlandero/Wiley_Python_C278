{
 "cells": [
  {
   "cell_type": "markdown",
   "metadata": {},
   "source": [
    "### Example 3:\n",
    "In this example, we create a dictionary, transform the dictionary into a JSON-encoded string, and convert the string back to a Python dictionary.<br>\n",
    "\n",
    "As we can see in the output, Python treats each object as a different data class, although the content looks identical for both objects."
   ]
  },
  {
   "cell_type": "code",
   "execution_count": 1,
   "metadata": {},
   "outputs": [],
   "source": [
    "import json"
   ]
  },
  {
   "cell_type": "code",
   "execution_count": 2,
   "metadata": {},
   "outputs": [],
   "source": [
    "json_dict = {\n",
    "    \"first_name\": \"Robert\",\n",
    "    \"last_name\": \"Balti\",\n",
    "    \"hobbies\": [\"traveling\", \"music\"],\n",
    "    \"age\": 34\n",
    "    }"
   ]
  },
  {
   "cell_type": "code",
   "execution_count": 4,
   "metadata": {},
   "outputs": [
    {
     "name": "stdout",
     "output_type": "stream",
     "text": [
      "{'first_name': 'Robert', 'last_name': 'Balti', 'hobbies': ['traveling', 'music'], 'age': 34}\n",
      "<class 'str'>\n"
     ]
    }
   ],
   "source": [
    "# Convert a dictionary into a string object that we can display\n",
    "json_data = json.dumps(json_dict, indent=4)\n",
    "print(json_dict)\n",
    "print(type(json_data)) # String"
   ]
  },
  {
   "cell_type": "code",
   "execution_count": 5,
   "metadata": {},
   "outputs": [
    {
     "name": "stdout",
     "output_type": "stream",
     "text": [
      "{'first_name': 'Robert', 'last_name': 'Balti', 'hobbies': ['traveling', 'music'], 'age': 34}\n",
      "<class 'dict'>\n"
     ]
    }
   ],
   "source": [
    "# Convert a JSON encoded object into a python dictionary\n",
    "python_dict = json.loads(json_data)\n",
    "print(python_dict)\n",
    "print(type(python_dict)) # Dict"
   ]
  },
  {
   "cell_type": "code",
   "execution_count": null,
   "metadata": {},
   "outputs": [],
   "source": []
  }
 ],
 "metadata": {
  "interpreter": {
   "hash": "fb00f0c01367cd29234ef98d6ee35d5dad54fff2cb1a8b567bc06dceecc7a7af"
  },
  "kernelspec": {
   "display_name": "Python 3.8.8 ('base')",
   "language": "python",
   "name": "python3"
  },
  "language_info": {
   "codemirror_mode": {
    "name": "ipython",
    "version": 3
   },
   "file_extension": ".py",
   "mimetype": "text/x-python",
   "name": "python",
   "nbconvert_exporter": "python",
   "pygments_lexer": "ipython3",
   "version": "3.8.8"
  },
  "orig_nbformat": 4
 },
 "nbformat": 4,
 "nbformat_minor": 2
}
