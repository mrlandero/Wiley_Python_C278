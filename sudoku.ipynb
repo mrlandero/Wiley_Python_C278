{
 "cells": [
  {
   "cell_type": "code",
   "execution_count": 1,
   "metadata": {},
   "outputs": [],
   "source": [
    "import numpy as np"
   ]
  },
  {
   "cell_type": "code",
   "execution_count": 2,
   "metadata": {},
   "outputs": [],
   "source": [
    "grid =[\n",
    "        [7, 8, 0, 4, 0, 0, 1, 2, 0],\n",
    "        [6, 0, 0, 0, 7, 5, 0, 0, 9],\n",
    "        [0, 0, 0, 6, 0, 1, 0, 7, 8],\n",
    "        [0, 0, 7, 0, 4, 0, 2, 6, 0],\n",
    "        [0, 0, 1, 0, 5, 0, 9, 3, 0],\n",
    "        [9, 0, 4, 0, 6, 0, 0, 0, 5],\n",
    "        [0, 7, 0, 3, 0, 0, 0, 1, 2],\n",
    "        [1, 2, 0, 0, 0, 7, 4, 0, 0],\n",
    "        [0, 4, 9, 2, 0, 6, 0, 0, 7]\n",
    "    ]"
   ]
  },
  {
   "cell_type": "code",
   "execution_count": 3,
   "metadata": {},
   "outputs": [
    {
     "name": "stdout",
     "output_type": "stream",
     "text": [
      "[[7 8 0 4 0 0 1 2 0]\n",
      " [6 0 0 0 7 5 0 0 9]\n",
      " [0 0 0 6 0 1 0 7 8]\n",
      " [0 0 7 0 4 0 2 6 0]\n",
      " [0 0 1 0 5 0 9 3 0]\n",
      " [9 0 4 0 6 0 0 0 5]\n",
      " [0 7 0 3 0 0 0 1 2]\n",
      " [1 2 0 0 0 7 4 0 0]\n",
      " [0 4 9 2 0 6 0 0 7]]\n"
     ]
    }
   ],
   "source": [
    "print(np.matrix(grid))"
   ]
  },
  {
   "cell_type": "code",
   "execution_count": null,
   "metadata": {},
   "outputs": [],
   "source": []
  }
 ],
 "metadata": {
  "interpreter": {
   "hash": "ad9fb37fa15c2fac4885b853501abc8587965d08b8586f67468c92fe4e3567d7"
  },
  "kernelspec": {
   "display_name": "Python 3.7.10 ('dev')",
   "language": "python",
   "name": "python3"
  },
  "language_info": {
   "codemirror_mode": {
    "name": "ipython",
    "version": 3
   },
   "file_extension": ".py",
   "mimetype": "text/x-python",
   "name": "python",
   "nbconvert_exporter": "python",
   "pygments_lexer": "ipython3",
   "version": "3.7.10"
  },
  "orig_nbformat": 4
 },
 "nbformat": 4,
 "nbformat_minor": 2
}
