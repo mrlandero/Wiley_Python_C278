{
 "cells": [
  {
   "cell_type": "markdown",
   "metadata": {},
   "source": [
    "\n",
    "# Lesson 1 Activities\n",
    "\n",
    "The activities in this page are designed to test your ability to meet the objectives for Lesson 1, including:\n",
    "\n",
    "* Use lists to store data collections and retrieve specific values from a collection.\n",
    "* Use tuples to store data collections and retrieve values.\n",
    "\n",
    "Complete each activity as described and run the code to make sure it works as expected before starting the next activity."
   ]
  },
  {
   "cell_type": "markdown",
   "metadata": {},
   "source": [
    "## Activity 1\n",
    "\n",
    "Prompt the user to answer a series of 3-5 questions about themselves (such as their name, their age, their birthdate, or where they live) and save the answers in a list. Display the results to the user.\n",
    "\n",
    "**Tip**: Research the syntax required for a tuple with a single element."
   ]
  },
  {
   "cell_type": "code",
   "execution_count": null,
   "metadata": {},
   "outputs": [],
   "source": [
    "# your code here\n",
    "name = input(\"What is your name? \")\n",
    "age = input(\"How old are you? \")\n",
    "birthdate = input(\"What is your date of birth? \")\n",
    "live = input(\"Where do you live? \")\n",
    "team = input(\"Who's your favorite baseball team? \")\n",
    "\n",
    "person_list = [name, age, birthdate, live, team]\n",
    "print(person_list)"
   ]
  },
  {
   "cell_type": "markdown",
   "metadata": {},
   "source": [
    "## Activity 2\n",
    "\n",
    "Present the user with an existing list of items (such as the list created in the previous activity) and prompt the user for 2-4 more items to add to the list. Update the list with the new items and display the updated list."
   ]
  },
  {
   "cell_type": "code",
   "execution_count": null,
   "metadata": {},
   "outputs": [],
   "source": [
    "# your code here\n",
    "print(person_list)\n",
    "\n",
    "born = input(\"Where were you born? \")\n",
    "food = input(\"What is your favorite food? \")\n",
    "hobby = input(\"What is your favorite hobby? \")\n",
    "vacation = input(\"Where would you like to go on vacation? \")\n",
    "\n",
    "person_list.append(born)\n",
    "person_list.append(food)\n",
    "person_list.append(hobby)\n",
    "person_list.append(vacation)\n",
    "print(person_list)"
   ]
  },
  {
   "cell_type": "markdown",
   "metadata": {},
   "source": [
    "## Activity 3\n",
    "\n",
    "Present the user with a list of 7-9 items (such as the list created in the previous activities) and prompt them to enter one item to delete from the list. Delete the named item from the list and display the updated list."
   ]
  },
  {
   "cell_type": "code",
   "execution_count": null,
   "metadata": {},
   "outputs": [],
   "source": [
    "# your code here\n",
    "print(person_list)\n",
    "choice = input(\"Which item would you like to delete from the list? \")\n",
    "person_list.remove(choice)\n",
    "print(person_list)"
   ]
  },
  {
   "cell_type": "markdown",
   "metadata": {},
   "source": [
    "## Activity 4\n",
    "\n",
    "Present the user with a list of 7-9 items (such as the list created in the previous activities) and prompt them to select one item from the list to update, along with the new value for that item. Change the item's value and display the new list to the user.\n",
    "\n",
    "**Tip**: You will need to know how to find the index value for a specific value to complete this activity."
   ]
  },
  {
   "cell_type": "code",
   "execution_count": null,
   "metadata": {},
   "outputs": [],
   "source": [
    "# your code here\n",
    "print(person_list)\n",
    "choice = input(\"Which item would you like to replace? \")\n",
    "index = person_list.index(choice)\n",
    "person_list.remove(choice)\n",
    "choice2 = input(\"What would you like to replace it with? \")\n",
    "person_list.insert(index, choice2)\n",
    "print(person_list)"
   ]
  },
  {
   "cell_type": "markdown",
   "metadata": {},
   "source": [
    "## Activity 5\n",
    "\n",
    "Create four tuples:\n",
    "\n",
    "* One tuple with a person's first name and last name\n",
    "* A second tuple with the person's current profession\n",
    "* A third tuple with the person's current address\n",
    "* A fourth tuple with the person's previous address\n",
    "\n",
    "Combine all tuples into a new, single tuple that contains all items from the original tuples."
   ]
  },
  {
   "cell_type": "code",
   "execution_count": 2,
   "metadata": {},
   "outputs": [
    {
     "name": "stdout",
     "output_type": "stream",
     "text": [
      "('Tony', 'Landero', 'SWE', '123 Main Street', 'Houston', 'TX', '77007', '456 Broadway', 'Huntsville', 'TX', '77479')\n"
     ]
    }
   ],
   "source": [
    "# your code here\n",
    "name_tuple = (\"Tony\", \"Landero\")\n",
    "job_tuple = (\"SWE\",)\n",
    "address_tuple = (\"123 Main Street\", \"Houston\", \"TX\", \"77007\")\n",
    "previous_address_tuple = (\"456 Broadway\", \"Huntsville\", \"TX\", \"77479\")\n",
    "\n",
    "record_tuple = name_tuple + job_tuple + address_tuple + previous_address_tuple\n",
    "print(record_tuple)"
   ]
  },
  {
   "cell_type": "markdown",
   "metadata": {},
   "source": [
    "## Activity 6\n",
    "\n",
    "Using the final tuple from the previous activity, write a program that performs the following steps:\n",
    "\n",
    "* Display the tuple to the user.\n",
    "* Prompt the user to enter a value that should be changed.\n",
    "* Prompt the user to enter the updated value for that item.\n",
    "* Update the value and display the updated tuple to the user.\n",
    "\n",
    "**Tip**: You cannot update the contents of a tuple, but you can update the contents of a list."
   ]
  },
  {
   "cell_type": "code",
   "execution_count": 3,
   "metadata": {},
   "outputs": [
    {
     "name": "stdout",
     "output_type": "stream",
     "text": [
      "('Tony', 'Landero', 'SWE', '123 Main Street', 'Houston', 'TX', '77007', '456 Broadway', 'Huntsville', 'TX', '77479')\n",
      "('Tony', 'Landero', 'SWE', '123 Main Street', 'Houston', 'TX', '77007', '456 Broadway', 'Nacogdoches', 'TX', '77479')\n"
     ]
    }
   ],
   "source": [
    "# your code here\n",
    "print(record_tuple)\n",
    "choice = input(\"Which item would you like to replace from the tuple? \")\n",
    "choice2 = input(\"What item would you like to replace it with? \")\n",
    "record_list = list(record_tuple)\n",
    "index = record_list.index(choice)\n",
    "record_list.remove(choice)\n",
    "record_list.insert(index, choice2)\n",
    "record_tuple2 = tuple(record_list)\n",
    "print(record_tuple2)"
   ]
  },
  {
   "cell_type": "code",
   "execution_count": null,
   "metadata": {},
   "outputs": [],
   "source": []
  }
 ],
 "metadata": {
  "kernelspec": {
   "display_name": "Python 3.9.6 64-bit",
   "language": "python",
   "name": "python3"
  },
  "language_info": {
   "codemirror_mode": {
    "name": "ipython",
    "version": 3
   },
   "file_extension": ".py",
   "mimetype": "text/x-python",
   "name": "python",
   "nbconvert_exporter": "python",
   "pygments_lexer": "ipython3",
   "version": "3.9.6"
  },
  "vscode": {
   "interpreter": {
    "hash": "9cc6a95a29893daac463ce220390149ef03aeb7175da3903cfd40cfc8442e04e"
   }
  }
 },
 "nbformat": 4,
 "nbformat_minor": 2
}
