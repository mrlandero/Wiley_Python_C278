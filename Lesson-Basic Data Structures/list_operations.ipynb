{
 "cells": [
  {
   "cell_type": "markdown",
   "metadata": {},
   "source": [
    "## Concept 1:\n",
    "Python supports lists as a basic data type.<br>\n",
    "\n",
    "A list is a data structure that stores a collection of items of any type. Each item in a list is treated as a separate value in the collection.<br>\n",
    "\n",
    "We use the syntax **```variable = [value1, value2, value3, ...]```**, using square brackets **```[]```** to create a list and store values inside the list. Each value can be any data type Python supports, and the same list can include any combination of data types."
   ]
  },
  {
   "cell_type": "markdown",
   "metadata": {},
   "source": [
    "### Example 1:\n",
    "Let's create a few lists, including a list of numbers, a list of strings, and a list that contains both strings and numbers.<br>\n",
    "\n",
    "Note that Python treats each collection as a list, regardless of what kind of data is included in the collection. "
   ]
  },
  {
   "cell_type": "code",
   "execution_count": 6,
   "metadata": {},
   "outputs": [
    {
     "name": "stdout",
     "output_type": "stream",
     "text": [
      "[1, 2, 4, 6]\n",
      "<class 'list'>\n",
      "===============\n",
      "['Kate', 'Jennifer', 'Mike']\n",
      "<class 'list'>\n",
      "===============\n",
      "['Kate', '124 W Main Street Boston', 24, 4.0]\n",
      "<class 'list'>\n"
     ]
    }
   ],
   "source": [
    "list_of_numbers = [1,2,4,6]\n",
    "print(list_of_numbers)\n",
    "print(type(list_of_numbers))\n",
    "print(\"===============\")\n",
    "list_of_strings = [\"Kate\", \"Jennifer\", \"Mike\"]\n",
    "print(list_of_strings)\n",
    "print(type(list_of_strings))\n",
    "print(\"===============\")\n",
    "list_of_items = [\"Kate\", \"124 W Main Street Boston\", 24, 4.0]\n",
    "print(list_of_items)\n",
    "print(type(list_of_items))"
   ]
  },
  {
   "cell_type": "markdown",
   "metadata": {},
   "source": [
    "### Practice 1:\n",
    "Create a list that contains the following information (in this specific order):<br>\n",
    "* Your first name\n",
    "* Your last name\n",
    "* Your age\n",
    "* The number of miles you travel to work every day (round-trip)"
   ]
  },
  {
   "cell_type": "code",
   "execution_count": 7,
   "metadata": {},
   "outputs": [
    {
     "name": "stdout",
     "output_type": "stream",
     "text": [
      "['Tony', 'Landero', 40, 36.0]\n",
      "<class 'list'>\n"
     ]
    }
   ],
   "source": [
    "my_info_list = [\"Tony\", \"Landero\", 40, 36.0]\n",
    "print(my_info_list)\n",
    "print(type(my_info_list))"
   ]
  },
  {
   "cell_type": "markdown",
   "metadata": {},
   "source": [
    "## Concept 2: Length\n",
    "We can use the **```len```** method to compute the number of elements in the list, using the syntax **```len(list)```**."
   ]
  },
  {
   "cell_type": "markdown",
   "metadata": {},
   "source": [
    "### Example 2:"
   ]
  },
  {
   "cell_type": "code",
   "execution_count": 8,
   "metadata": {},
   "outputs": [
    {
     "name": "stdout",
     "output_type": "stream",
     "text": [
      "3\n"
     ]
    }
   ],
   "source": [
    "list_of_strings = [\"Kate\", \"Jennifer\", \"Mike\"]\n",
    "\n",
    "# len returns the number of elements in the list\n",
    "print(len(list_of_strings))"
   ]
  },
  {
   "cell_type": "markdown",
   "metadata": {},
   "source": [
    "### Practice 2:\n",
    "Modify the list definition (add or remove elements) so the **```print```** command displays **```True```**."
   ]
  },
  {
   "cell_type": "code",
   "execution_count": 10,
   "metadata": {},
   "outputs": [
    {
     "name": "stdout",
     "output_type": "stream",
     "text": [
      "True\n"
     ]
    }
   ],
   "source": [
    "#list_of_strings = [\"Kate\", \"Jennifer\", \"Mike\"]\n",
    "list_of_strings = [\"Kate\", \"Jennifer\", \"Mike\", \"Tony\", \"Alicia\"]\n",
    "# do not change the following code\n",
    "# test = len(list_of_strings) == 5 # check that the size of the list is equal to 5\n",
    "# print(test)\n",
    "test = len(list_of_strings) == 5\n",
    "print(test)"
   ]
  },
  {
   "cell_type": "markdown",
   "metadata": {},
   "source": [
    "## Concept 3: List Indexes\n",
    "Python uses index values to identify items in a list, and we can retrieve specific items using those index values.<br>\n",
    "\n",
    "The first item in a list has the index value 0 and the last item in a list has an index value equal to the length of the list minus 1.<br>\n",
    "\n",
    "Python will throw an error if we try to retrieve non-existent index values in a list."
   ]
  },
  {
   "cell_type": "markdown",
   "metadata": {},
   "source": [
    "### Example 3:"
   ]
  },
  {
   "cell_type": "code",
   "execution_count": 15,
   "metadata": {},
   "outputs": [
    {
     "name": "stdout",
     "output_type": "stream",
     "text": [
      "['Kate', 'Jennifer', 'Mike']\n",
      "===============\n",
      "Kate\n",
      "===============\n",
      "Jennifer\n",
      "===============\n",
      "Mike\n",
      "===============\n"
     ]
    },
    {
     "ename": "IndexError",
     "evalue": "list index out of range",
     "output_type": "error",
     "traceback": [
      "\u001b[1;31m---------------------------------------------------------------------------\u001b[0m",
      "\u001b[1;31mIndexError\u001b[0m                                Traceback (most recent call last)",
      "\u001b[1;32mc:\\Users\\Tony Landero\\Desktop\\Wiley_Assignments\\Wiley_Python_C278\\list_operations.ipynb Cell 13\u001b[0m in \u001b[0;36m<cell line: 20>\u001b[1;34m()\u001b[0m\n\u001b[0;32m     <a href='vscode-notebook-cell:/c%3A/Users/Tony%20Landero/Desktop/Wiley_Assignments/Wiley_Python_C278/list_operations.ipynb#ch0000017?line=16'>17</a>\u001b[0m \u001b[39mprint\u001b[39m(\u001b[39m\"\u001b[39m\u001b[39m===============\u001b[39m\u001b[39m\"\u001b[39m)\n\u001b[0;32m     <a href='vscode-notebook-cell:/c%3A/Users/Tony%20Landero/Desktop/Wiley_Assignments/Wiley_Python_C278/list_operations.ipynb#ch0000017?line=18'>19</a>\u001b[0m \u001b[39m# This will cause an error because there are only three items in the list\u001b[39;00m\n\u001b[1;32m---> <a href='vscode-notebook-cell:/c%3A/Users/Tony%20Landero/Desktop/Wiley_Assignments/Wiley_Python_C278/list_operations.ipynb#ch0000017?line=19'>20</a>\u001b[0m person_4 \u001b[39m=\u001b[39m list_of_strings[\u001b[39m3\u001b[39;49m]\n\u001b[0;32m     <a href='vscode-notebook-cell:/c%3A/Users/Tony%20Landero/Desktop/Wiley_Assignments/Wiley_Python_C278/list_operations.ipynb#ch0000017?line=20'>21</a>\u001b[0m \u001b[39mprint\u001b[39m(person_4)\n",
      "\u001b[1;31mIndexError\u001b[0m: list index out of range"
     ]
    }
   ],
   "source": [
    "list_of_strings = [\"Kate\", \"Jennifer\", \"Mike\"]\n",
    "print(list_of_strings)\n",
    "print(\"===============\")\n",
    "\n",
    "# Access the first element in the list using the [] and the index starting \n",
    "# from zero for the first element\n",
    "person_1 = list_of_strings[0] # access the first element of the list\n",
    "print(person_1)\n",
    "print(\"===============\")\n",
    "\n",
    "person_2 = list_of_strings[1] # access the second element of the list\n",
    "print(person_2)\n",
    "print(\"===============\")\n",
    "\n",
    "person_3 = list_of_strings[2] # access the third (and last) element in the list\n",
    "print(person_3)\n",
    "print(\"===============\")\n",
    "\n",
    "# This will cause an error because there are only three items in the list\n",
    "person_4 = list_of_strings[3]\n",
    "print(person_4)"
   ]
  },
  {
   "cell_type": "markdown",
   "metadata": {},
   "source": [
    "### Practice 3a:\n",
    "Update the code above to display only the first character of each name in the list of names.<br>\n",
    "\n",
    "***Tip:*** Review the use of index values in strings."
   ]
  },
  {
   "cell_type": "code",
   "execution_count": 18,
   "metadata": {},
   "outputs": [
    {
     "name": "stdout",
     "output_type": "stream",
     "text": [
      "['Kate', 'Jennifer', 'Mike']\n",
      "===============\n",
      "K\n",
      "===============\n",
      "J\n",
      "===============\n",
      "M\n",
      "===============\n"
     ]
    }
   ],
   "source": [
    "list_of_strings = [\"Kate\", \"Jennifer\", \"Mike\"]\n",
    "print(list_of_strings)\n",
    "print(\"===============\")\n",
    "\n",
    "# Access the first element in the list using the [] and the index starting \n",
    "# from zero for the first element\n",
    "person_1 = list_of_strings[0][0] # access the first letter of the first element of the list\n",
    "print(person_1)\n",
    "print(\"===============\")\n",
    "\n",
    "person_2 = list_of_strings[1][0] # access the first letter of the second element of the list\n",
    "print(person_2)\n",
    "print(\"===============\")\n",
    "\n",
    "person_3 = list_of_strings[2][0] # access the first letter of the third (and last) element in the list\n",
    "print(person_3)\n",
    "print(\"===============\")"
   ]
  },
  {
   "cell_type": "markdown",
   "metadata": {},
   "source": [
    "### Practice 3b:\n",
    "When we use the **```split```** function on a string that contains multiple words, Python creates a list that includes each word in the string as a separate item in the list.<br>\n",
    "\n",
    "Create a script that performs the following steps:<br>\n",
    "1. Prompt the user for their name in the format: ***\"last name, first name\"***.\n",
    "2. Use the **```split```** function to separate the names in the input string.<br>\n",
    "3. Store each name in its own variable.\n",
    "4. Display the first name to the user with an appropriate feedback message.\n",
    "5. Display the last name to the user without the comma and with an appropriate feedback message.<br>\n",
    "\n",
    "***Challenge:*** Allow the user to enter their name using any case. Display each name with only the first letter capitalized, regardless of the case used to enter the name."
   ]
  },
  {
   "cell_type": "code",
   "execution_count": 28,
   "metadata": {},
   "outputs": [
    {
     "name": "stdout",
     "output_type": "stream",
     "text": [
      "Your first name is Alicia\n",
      "Your last name is Acevedo\n"
     ]
    }
   ],
   "source": [
    "name = input(\"Please enter your name in this format: last name, first name: \").lower()\n",
    "punc = \",\"\n",
    "for ele in name:\n",
    "    if ele in punc:\n",
    "        name = name.replace(ele, \"\")\n",
    "last_name, first_name = name.split()\n",
    "last_name = last_name[0].upper() + last_name[1:]\n",
    "first_name = first_name[0].upper() + first_name[1:]\n",
    "print(\"Your first name is\", first_name)\n",
    "print(\"Your last name is\", last_name)"
   ]
  },
  {
   "cell_type": "markdown",
   "metadata": {},
   "source": [
    "## Concept 4: Negative Indexing\n",
    "Lists in Python support negative indexing, which counts from the end of the list.<br>\n",
    "\n",
    "As shown in the following example, the index value **```-1```** always references the last item in a list, regardless of how many items there are. Sequential negative values count backwards from there, so **```-2```** is the next-to-last item, **```-3```** is the third-to-last item, and so on.<br>\n",
    "\n",
    "Python will throw an error if the negative value references an item that does not exist. "
   ]
  },
  {
   "cell_type": "markdown",
   "metadata": {},
   "source": [
    "### Example 4:\n",
    "Look at the code below and predict which value each variable references in the list. Confirm your answers in the output below."
   ]
  },
  {
   "cell_type": "code",
   "execution_count": 32,
   "metadata": {},
   "outputs": [
    {
     "name": "stdout",
     "output_type": "stream",
     "text": [
      "Mike\n",
      "-----------------\n",
      "Jennifer\n",
      "-----------------\n",
      "Kate\n",
      "-----------------\n"
     ]
    },
    {
     "ename": "IndexError",
     "evalue": "list index out of range",
     "output_type": "error",
     "traceback": [
      "\u001b[1;31m---------------------------------------------------------------------------\u001b[0m",
      "\u001b[1;31mIndexError\u001b[0m                                Traceback (most recent call last)",
      "\u001b[1;32mc:\\Users\\Tony Landero\\Desktop\\Wiley_Assignments\\Wiley_Python_C278\\list_operations.ipynb Cell 20\u001b[0m in \u001b[0;36m<cell line: 15>\u001b[1;34m()\u001b[0m\n\u001b[0;32m     <a href='vscode-notebook-cell:/c%3A/Users/Tony%20Landero/Desktop/Wiley_Assignments/Wiley_Python_C278/list_operations.ipynb#ch0000027?line=11'>12</a>\u001b[0m \u001b[39mprint\u001b[39m(\u001b[39m'\u001b[39m\u001b[39m-----------------\u001b[39m\u001b[39m'\u001b[39m)\n\u001b[0;32m     <a href='vscode-notebook-cell:/c%3A/Users/Tony%20Landero/Desktop/Wiley_Assignments/Wiley_Python_C278/list_operations.ipynb#ch0000027?line=13'>14</a>\u001b[0m \u001b[39m# This will throw an error because there are only three items in the list\u001b[39;00m\n\u001b[1;32m---> <a href='vscode-notebook-cell:/c%3A/Users/Tony%20Landero/Desktop/Wiley_Assignments/Wiley_Python_C278/list_operations.ipynb#ch0000027?line=14'>15</a>\u001b[0m person_4 \u001b[39m=\u001b[39m list_of_strings[\u001b[39m-\u001b[39;49m\u001b[39m4\u001b[39;49m] \n\u001b[0;32m     <a href='vscode-notebook-cell:/c%3A/Users/Tony%20Landero/Desktop/Wiley_Assignments/Wiley_Python_C278/list_operations.ipynb#ch0000027?line=15'>16</a>\u001b[0m \u001b[39mprint\u001b[39m(person_4)\n",
      "\u001b[1;31mIndexError\u001b[0m: list index out of range"
     ]
    }
   ],
   "source": [
    "list_of_strings = [\"Kate\", \"Jennifer\", \"Mike\"]\n",
    "person_1 = list_of_strings[-1] # -1 refers to the last element in the list\n",
    "print(person_1) # Mike\n",
    "print('-----------------')\n",
    "\n",
    "person_2 = list_of_strings[-2] # -2 refers to the second-to-last element in the list\n",
    "print(person_2) # Jennifer\n",
    "print('-----------------')\n",
    "\n",
    "person_3 = list_of_strings[-3] # -3 refers to the third-to-last element in the list\n",
    "print(person_3) # Kate\n",
    "print('-----------------')\n",
    "\n",
    "# This will throw an error because there are only three items in the list\n",
    "person_4 = list_of_strings[-4] \n",
    "print(person_4) # error"
   ]
  },
  {
   "cell_type": "markdown",
   "metadata": {},
   "source": [
    "### Practice 4:\n",
    "Fix the following code so each of the **```print```** lines displays the expected data."
   ]
  },
  {
   "cell_type": "code",
   "execution_count": 34,
   "metadata": {},
   "outputs": [
    {
     "name": "stdout",
     "output_type": "stream",
     "text": [
      "First name: John\n",
      "Last name: Smith\n",
      "Address: 123 East Main Street\n",
      "City: Boston\n",
      "Profession: Junior Software Developer\n"
     ]
    }
   ],
   "source": [
    "# do not change the first line\n",
    "# info = [\"John\", \"Smith\", \"123 East Main Street\", \"Boston\", \"Junior Software Developer\"]\n",
    " \n",
    "# # change the index values in the output statements\n",
    "# print(\"First name: \" + info[-4])\n",
    "# print(\"Last name: \" + info[-2])\n",
    "# print(\"Address: \" + info[-3])\n",
    "# print(\"City: \" + info[-1])\n",
    "# print(\"Profession: \" + info[-5])\n",
    "\n",
    "# do not change the first line\n",
    "info = [\"John\", \"Smith\", \"123 East Main Street\", \"Boston\", \"Junior Software Developer\"]\n",
    " \n",
    "# change the index values in the output statements\n",
    "print(\"First name: \" + info[-5])\n",
    "print(\"Last name: \" + info[-4])\n",
    "print(\"Address: \" + info[-3])\n",
    "print(\"City: \" + info[-2])\n",
    "print(\"Profession: \" + info[-1])"
   ]
  },
  {
   "cell_type": "markdown",
   "metadata": {},
   "source": [
    "## Concept 5: Slicing Lists\n",
    "Python supports slicing in lists, which allows us to retrieve multiple elements from the list with a single command.<br>\n",
    "\n",
    "We use the syntax **```variable[range]```** to retrieve a range of items from an index.<br>\n",
    "Options include:<br>\n",
    "* **```variable[x:y]:```** Retrieves a range of values starting with index **```x```** and ending with the item ***before*** index **```y```**. If **```y```** is equal to the length of the list, the output includes the lat item in the list.\n",
    "* **```variable[:y]:```** Retrieves the items from index 0 through the item ***before*** index **```y```**. This is equivalent to using **```[0:y]```**.\n",
    "* **```variable[x:]:```** Retrieves a string that starts with the item whose index is **```x```** and includes all items to the right of that item. This is equivalent to using **```[x:(length)]```**."
   ]
  },
  {
   "cell_type": "markdown",
   "metadata": {},
   "source": [
    "### Example 5:"
   ]
  },
  {
   "cell_type": "code",
   "execution_count": 41,
   "metadata": {},
   "outputs": [
    {
     "name": "stdout",
     "output_type": "stream",
     "text": [
      "['John', 'Mike', 'Serena', 'Jennifer', 'Abby', 'Lisa']\n",
      "\n",
      "The first team is:\n",
      "['John', 'Mike']\n",
      "\n",
      "The second team is:\n",
      "['Serena', 'Jennifer']\n",
      "\n",
      "The third team is:\n",
      "['Abby', 'Lisa']\n"
     ]
    }
   ],
   "source": [
    "list_of_names = [\"John\", \"Mike\", \"Serena\", \"Jennifer\", \"Abby\", \"Lisa\"]\n",
    "print(list_of_names)\n",
    "\n",
    "# Use slicing to retrieve the first two elements\n",
    "team_1 = list_of_names[0:2]\n",
    "print(\"\\nThe first team is:\")\n",
    "print(team_1)\n",
    "\n",
    "# Use slicing to retrieve the middle two elements\n",
    "team_2 = list_of_names[2:4]\n",
    "print(\"\\nThe second team is:\")\n",
    "print(team_2)\n",
    "\n",
    "# Use slicing to retrieve the last two elements\n",
    "team_3 = list_of_names[4:6]\n",
    "print(\"\\nThe third team is:\")\n",
    "print(team_3)"
   ]
  },
  {
   "cell_type": "markdown",
   "metadata": {},
   "source": [
    "### Practice 5a:\n",
    "Using the code above as a starting point, update the slicing code for **```team_1```** and **```team_3```** ***without*** referencing both index values. The output should not change."
   ]
  },
  {
   "cell_type": "code",
   "execution_count": 42,
   "metadata": {},
   "outputs": [
    {
     "name": "stdout",
     "output_type": "stream",
     "text": [
      "['John', 'Mike', 'Serena', 'Jennifer', 'Abby', 'Lisa']\n",
      "\n",
      "The first team is:\n",
      "['John', 'Mike']\n",
      "\n",
      "The second team is:\n",
      "['Serena', 'Jennifer']\n",
      "\n",
      "The third team is:\n",
      "['Abby', 'Lisa']\n"
     ]
    }
   ],
   "source": [
    "list_of_names = [\"John\", \"Mike\", \"Serena\", \"Jennifer\", \"Abby\", \"Lisa\"]\n",
    "print(list_of_names)\n",
    "\n",
    "# Use slicing to retrieve the first two elements\n",
    "team_1 = list_of_names[:2] # remove the 0\n",
    "print(\"\\nThe first team is:\")\n",
    "print(team_1)\n",
    "\n",
    "# Use slicing to retrieve the middle two elements\n",
    "team_2 = list_of_names[2:4]\n",
    "print(\"\\nThe second team is:\")\n",
    "print(team_2)\n",
    "\n",
    "# Use slicing to retrieve the last two elements\n",
    "team_3 = list_of_names[4:] # remove the 6\n",
    "print(\"\\nThe third team is:\")\n",
    "print(team_3)"
   ]
  },
  {
   "cell_type": "markdown",
   "metadata": {},
   "source": [
    "### Practice 5b:\n",
    "The list below contains the abbreviations for all states in the USA.<br>\n",
    "\n",
    "Use slicing to create three new lists:<br>\n",
    "* One list that contains all states that start with M\n",
    "* One list that contains all states that start with W\n",
    "* One list that contains all states that start with V"
   ]
  },
  {
   "cell_type": "code",
   "execution_count": 49,
   "metadata": {},
   "outputs": [
    {
     "name": "stdout",
     "output_type": "stream",
     "text": [
      "The states that start with the letter M are:\n",
      "['ME', 'MD', 'MA', 'MI', 'MN', 'MS', 'MO', 'MT']\n",
      "\n",
      "The states that start with the letter W are:\n",
      "['WA', 'WV', 'WI', 'WY']\n",
      "\n",
      "The states that start with the letter V are:\n",
      "['VT', 'VA']\n"
     ]
    }
   ],
   "source": [
    "states = [\"AL\", \"AK\", \"AZ\", \"AR\", \"CA\", \"CO\", \"CT\", \"DE\", \"FL\", \"GA\", \n",
    "          \"HI\", \"ID\", \"IL\", \"IN\", \"IA\", \"KS\", \"KY\", \"LA\", \"ME\", \"MD\", \n",
    "          \"MA\", \"MI\", \"MN\", \"MS\", \"MO\", \"MT\", \"NE\", \"NV\", \"NH\", \"NJ\", \n",
    "          \"NM\", \"NY\", \"NC\", \"ND\", \"OH\", \"OK\", \"OR\", \"PA\", \"RI\", \"SC\", \n",
    "          \"SD\", \"TN\", \"TX\", \"UT\", \"VT\", \"VA\", \"WA\", \"WV\", \"WI\", \"WY\"]\n",
    "          \n",
    "# continue code here\n",
    "m_states = states[18:26]\n",
    "print(\"The states that start with the letter M are:\")\n",
    "print(m_states)\n",
    "\n",
    "w_states = states[-4:]\n",
    "print(\"\\nThe states that start with the letter W are:\")\n",
    "print(w_states)\n",
    "\n",
    "v_states = states[-6:-4]\n",
    "print(\"\\nThe states that start with the letter V are:\")\n",
    "print(v_states)"
   ]
  },
  {
   "cell_type": "markdown",
   "metadata": {},
   "source": [
    "## Concept 6: Adding Items to a List\n",
    "Lists are ***mutable***, which means we can change the size of a list we have already defined by adding new values or removing existing values.<br>\n",
    "\n",
    "We use the **```append```** method to add items to an existing list. Each new item is added at the end of the existing list. "
   ]
  },
  {
   "cell_type": "markdown",
   "metadata": {},
   "source": [
    "### Example 6:\n",
    "In the example below, we start with an empty list and then add three names to the list, one at a time."
   ]
  },
  {
   "cell_type": "code",
   "execution_count": 54,
   "metadata": {},
   "outputs": [
    {
     "name": "stdout",
     "output_type": "stream",
     "text": [
      "[]\n",
      "['Greg']\n",
      "['Greg', 'Mario']\n",
      "['Greg', 'Mario', 'Maria']\n"
     ]
    }
   ],
   "source": [
    "# Create an emoty list\n",
    "list_of_names = []\n",
    "print(list_of_names)\n",
    "\n",
    "list_of_names.append(\"Greg\")\n",
    "print(list_of_names)\n",
    "\n",
    "list_of_names.append(\"Mario\")\n",
    "print(list_of_names)\n",
    "\n",
    "list_of_names.append(\"Maria\")\n",
    "print(list_of_names)"
   ]
  },
  {
   "cell_type": "markdown",
   "metadata": {},
   "source": [
    "### Practice 6:\n",
    "Using the **```append```** method, add the following information in this specific order:<br>\n",
    "* Your first name\n",
    "* Your last name\n",
    "* Your age\n",
    "* The average number of miles you travel to work every day (round-trip)"
   ]
  },
  {
   "cell_type": "code",
   "execution_count": 59,
   "metadata": {},
   "outputs": [
    {
     "name": "stdout",
     "output_type": "stream",
     "text": [
      "[]\n",
      "['Tony']\n",
      "['Tony', 'Landero']\n",
      "['Tony', 'Landero', 40]\n",
      "['Tony', 'Landero', 40, 36.0]\n"
     ]
    }
   ],
   "source": [
    "# The info list is initially empty\n",
    "info = []\n",
    "print(info)\n",
    "\n",
    "# Continue code here\n",
    "info.append(\"Tony\")\n",
    "print(info)\n",
    "\n",
    "info.append(\"Landero\")\n",
    "print(info)\n",
    "\n",
    "info.append(40)\n",
    "print(info)\n",
    "\n",
    "info.append(36.0)\n",
    "print(info)"
   ]
  },
  {
   "cell_type": "markdown",
   "metadata": {},
   "source": [
    "## Concept 7: Inserting List Items\n",
    "We can use the **```insert```** method to add an item to an existing list at a specific index, using the syntax **```insert(index, value)```**. This allows us to manage the order in which the items appear in the updated list."
   ]
  },
  {
   "cell_type": "markdown",
   "metadata": {},
   "source": [
    "### Example 7:\n",
    "In this example, we start with a list of two items. We then add a new item as the first item in the list (index **```0```**), and a fourth item in the third position in the list (index **```2```**)."
   ]
  },
  {
   "cell_type": "code",
   "execution_count": 62,
   "metadata": {},
   "outputs": [
    {
     "name": "stdout",
     "output_type": "stream",
     "text": [
      "['John', 'Mike']\n",
      "['Amy', 'John', 'Mike']\n",
      "['Amy', 'John', 'Mario', 'Mike']\n"
     ]
    }
   ],
   "source": [
    "list_of_names = [\"John\", \"Mike\"]\n",
    "print(list_of_names)\n",
    "\n",
    "# Insert Amy as the first item in the list, at index 0\n",
    "list_of_names.insert(0, \"Amy\")\n",
    "print(list_of_names)\n",
    "\n",
    "# Insert Mario as the third item in the list, at index 2\n",
    "list_of_names.insert(2, \"Mario\")\n",
    "print(list_of_names)"
   ]
  },
  {
   "cell_type": "markdown",
   "metadata": {},
   "source": [
    "### Practice 7:\n",
    "Use the **```insert```** method to add the appropriate information to the list and then update the **```print```** statements so the data is displayed correctly. Use any random address.<br>\n",
    "\n",
    "***Hint:*** You will need to add the address to **```info```** at the appropriate index."
   ]
  },
  {
   "cell_type": "code",
   "execution_count": 64,
   "metadata": {},
   "outputs": [
    {
     "name": "stdout",
     "output_type": "stream",
     "text": [
      "['John', 'Smith', '123 Main Street', 'Boston', 'Junior Software Developer']\n",
      "First name: John\n",
      "Last name: Smith\n",
      "Address: 123 Main Street\n",
      "City: Boston\n",
      "Profession: Junior Software Developer\n"
     ]
    }
   ],
   "source": [
    "info = [\"John\", \"Smith\", \"Boston\", \"Junior Software Developer\"]\n",
    "#your code goes here \n",
    "info.insert(2, \"123 Main Street\")\n",
    "print(info)\n",
    " \n",
    "#this code should be executed last \n",
    "print(\"First name: \" + info[0])\n",
    "print(\"Last name: \" + info[1])\n",
    "print(\"Address: \" + info[2])\n",
    "print(\"City: \" + info[3])\n",
    "print(\"Profession: \" + info[4])"
   ]
  },
  {
   "cell_type": "markdown",
   "metadata": {},
   "source": [
    "## Concept 8: Removing List Items\n",
    "We can use the **```remove```** method to remove items from a list, using the syntax **```remove(value)```**.<br>\n",
    "\n",
    "In cases where the value occurs more than once in the list, the **```remove```** method deletes only the first occurence of the value."
   ]
  },
  {
   "cell_type": "markdown",
   "metadata": {},
   "source": [
    "### Example 8:\n",
    "Here we start with a list of names, with the name \"Layla David\" included twice in the list. When we **```remove```** that value, only the first instance is affected and the second one remains in the list."
   ]
  },
  {
   "cell_type": "code",
   "execution_count": 66,
   "metadata": {},
   "outputs": [
    {
     "name": "stdout",
     "output_type": "stream",
     "text": [
      "['John Smith', 'Layla David', 'Maria Smith', 'Layla David']\n",
      "['John Smith', 'Maria Smith', 'Layla David']\n"
     ]
    }
   ],
   "source": [
    "list_of_names = [\"John Smith\", \"Layla David\", \"Maria Smith\", \"Layla David\"]\n",
    "print(list_of_names)\n",
    "\n",
    "list_of_names.remove(\"Layla David\") # This will remove only the first instance of Layla David\n",
    "print(list_of_names) "
   ]
  },
  {
   "cell_type": "markdown",
   "metadata": {},
   "source": [
    "### Practice 8:\n",
    "Use the **```remove```** method in the code below to delete all duplicate values in the list.<br>\n",
    "\n",
    "Each value in the original list should be included exactly one time in the final version of the list. "
   ]
  },
  {
   "cell_type": "code",
   "execution_count": 70,
   "metadata": {},
   "outputs": [
    {
     "name": "stdout",
     "output_type": "stream",
     "text": [
      "['Haythem', 'Mike', 1, 'Layla', 'Livia', 'Layla', 2, 1, 2, 3, 'Mike', 'Jesse', 'Haythem']\n",
      "['Livia', 'Layla', 1, 2, 3, 'Mike', 'Jesse', 'Haythem']\n"
     ]
    }
   ],
   "source": [
    "input_list = [\"Haythem\", \"Mike\", 1, \"Layla\", \"Livia\", \"Layla\", 2, 1, 2, 3, \"Mike\", \"Jesse\", \"Haythem\"]\n",
    " \n",
    "# your code goes here \n",
    "print(input_list)\n",
    "\n",
    "input_list.remove(\"Haythem\")\n",
    "input_list.remove(\"Mike\")\n",
    "input_list.remove(1)\n",
    "input_list.remove(\"Layla\")\n",
    "input_list.remove(2)\n",
    "print(input_list)"
   ]
  },
  {
   "cell_type": "markdown",
   "metadata": {},
   "source": [
    "## Concept 9: Concatenating Lists\n",
    "We can use the **```+```** operator two concatenate two or more lists in Python, using the syntax **```list1 + list2 + list3```** (and so on, if there are more than three lists).<br>\n",
    "\n",
    "The result a new list that includes all items in the original lists."
   ]
  },
  {
   "cell_type": "markdown",
   "metadata": {},
   "source": [
    "### Example 9:\n",
    "In this example, we start with two lists, each of which include two names. We then concatenate the lists into a new, third list that contains all items in the original two lists."
   ]
  },
  {
   "cell_type": "code",
   "execution_count": 73,
   "metadata": {},
   "outputs": [
    {
     "name": "stdout",
     "output_type": "stream",
     "text": [
      "['Haytem', 'Mike']\n",
      "['Jesse', 'Layla']\n",
      "['Haytem', 'Mike', 'Jesse', 'Layla']\n"
     ]
    }
   ],
   "source": [
    "list_of_names_1 = [\"Haytem\", \"Mike\"]\n",
    "print(list_of_names_1)\n",
    "\n",
    "list_of_names_2 = [\"Jesse\", \"Layla\"]\n",
    "print(list_of_names_2)\n",
    "\n",
    "list_of_names = list_of_names_1 + list_of_names_2\n",
    "print(list_of_names)"
   ]
  },
  {
   "cell_type": "markdown",
   "metadata": {},
   "source": [
    "### Practice 9:\n",
    "Create code below that performs the following steps:<br>\n",
    "* Concatenate the three lists.\n",
    "* Use the **```remove```** method to delete all the negative numbers from the new list. "
   ]
  },
  {
   "cell_type": "code",
   "execution_count": 74,
   "metadata": {},
   "outputs": [
    {
     "name": "stdout",
     "output_type": "stream",
     "text": [
      "[1, -1, 4, 6, 0, 1, 67, -98, 45, 65, 2, -54, -434]\n"
     ]
    }
   ],
   "source": [
    "list_1 = [1,-1,4,6]\n",
    "list_2 = [0,1,67,-98]\n",
    "list_3 = [45,65,2,-54,-434]\n",
    " \n",
    "# your code goes here \n",
    "list_of_numbers = list_1 + list_2 + list_3\n",
    "print(list_of_numbers)"
   ]
  },
  {
   "cell_type": "code",
   "execution_count": 75,
   "metadata": {},
   "outputs": [
    {
     "name": "stdout",
     "output_type": "stream",
     "text": [
      "[1, 4, 6, 0, 1, 67, 45, 65, 2]\n"
     ]
    }
   ],
   "source": [
    "# Remove all negative values\n",
    "list_of_numbers.remove(-1)\n",
    "list_of_numbers.remove(-98)\n",
    "list_of_numbers.remove(-54)\n",
    "list_of_numbers.remove(-434)\n",
    "print(list_of_numbers)"
   ]
  },
  {
   "cell_type": "code",
   "execution_count": null,
   "metadata": {},
   "outputs": [],
   "source": []
  }
 ],
 "metadata": {
  "kernelspec": {
   "display_name": "Python 3.9.6 64-bit",
   "language": "python",
   "name": "python3"
  },
  "language_info": {
   "codemirror_mode": {
    "name": "ipython",
    "version": 3
   },
   "file_extension": ".py",
   "mimetype": "text/x-python",
   "name": "python",
   "nbconvert_exporter": "python",
   "pygments_lexer": "ipython3",
   "version": "3.9.6"
  },
  "orig_nbformat": 4,
  "vscode": {
   "interpreter": {
    "hash": "9cc6a95a29893daac463ce220390149ef03aeb7175da3903cfd40cfc8442e04e"
   }
  }
 },
 "nbformat": 4,
 "nbformat_minor": 2
}
