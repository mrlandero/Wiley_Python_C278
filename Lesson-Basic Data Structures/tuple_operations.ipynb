{
 "cells": [
  {
   "cell_type": "markdown",
   "metadata": {},
   "source": [
    "## Concept 1: Tuples vs. Lists\n",
    "A ***tuple*** is another way to save a group of related pieces of data in Python.<br>\n",
    "\n",
    "The biggest difference between a tuple and a list is that a tuple is ***immutable***, which means that we cannot add or remove items from a tuple after we have defined it.<br>\n",
    "However, as with lists, we can:<br>\n",
    "* Store values of any data type, including different data types in the same tuple\n",
    "* Compute the length of a tuple\n",
    "* Use index values to retrieve specific items from a tuple\n",
    "* Slice tuples to retrieve multiple items at the same time"
   ]
  },
  {
   "cell_type": "markdown",
   "metadata": {},
   "source": [
    "### Example 1:\n",
    "Tuples are another basic data type in Python, and creating a tuple is nearly the same as creating a list. The only differences are that we use parentheses to group the values in a tuple, instead of the sqaure brackets used to create a list, and that we must create a tuple in its entirety when we first define it.<br>\n",
    "\n",
    "As with a list, we can use any data type in a tuple and we can mix data types in a single tuple.<br>\n",
    "\n",
    "In the following example, we create one tuple that includes only numbers and a second tuple that contains strings and numbers."
   ]
  },
  {
   "cell_type": "code",
   "execution_count": 3,
   "metadata": {},
   "outputs": [
    {
     "name": "stdout",
     "output_type": "stream",
     "text": [
      "(18, 120)\n",
      "<class 'tuple'>\n",
      "\n",
      "\n",
      "('Maria', 'Smith', 31, '123 Main Street', '000-000-0000')\n",
      "<class 'tuple'>\n"
     ]
    }
   ],
   "source": [
    "age_range = (18,120)\n",
    "print(age_range)\n",
    "print(type(age_range))\n",
    "print(\"\\n\")\n",
    "\n",
    "info = (\"Maria\", \"Smith\", 31, \"123 Main Street\", \"000-000-0000\")\n",
    "print(info)\n",
    "print(type(info))"
   ]
  },
  {
   "cell_type": "markdown",
   "metadata": {},
   "source": [
    "### Practice 1: \n",
    "Create a tuple that contains the following information:<br>\n",
    "* Your first name\n",
    "* Your last name\n",
    "* Your age\n",
    "* The average number of miles you travel to work every day (round-trip)"
   ]
  },
  {
   "cell_type": "code",
   "execution_count": 4,
   "metadata": {},
   "outputs": [
    {
     "name": "stdout",
     "output_type": "stream",
     "text": [
      "('Tony', 'Landero', 40, 36.0)\n",
      "<class 'tuple'>\n"
     ]
    }
   ],
   "source": [
    "my_info = (\"Tony\", \"Landero\", 40, 36.0)\n",
    "print(my_info)\n",
    "print(type(my_info))"
   ]
  },
  {
   "cell_type": "markdown",
   "metadata": {},
   "source": [
    "## Concept 2: Length\n",
    "We can use the **```len```** method to compute the number of elements in a tuple, using the syntax **```len(tuple)```**."
   ]
  },
  {
   "cell_type": "markdown",
   "metadata": {},
   "source": [
    "### Example 2:\n",
    "The following code starts with the same **```info```** tuple as the previous example and returns the number of items in the tuple."
   ]
  },
  {
   "cell_type": "code",
   "execution_count": 5,
   "metadata": {},
   "outputs": [
    {
     "name": "stdout",
     "output_type": "stream",
     "text": [
      "5\n"
     ]
    }
   ],
   "source": [
    "info = (\"Maria\", \"Smith\", 31, \"123 Main Street\", \"000-000-0000\")\n",
    "print(len(info))"
   ]
  },
  {
   "cell_type": "markdown",
   "metadata": {},
   "source": [
    "### Practice 2:\n",
    "Create a tuple that contains a series of items and then calculate the length of the tuple.<br>\n",
    "\n",
    "You may use the code from Practice 1 above as a starting point if you wish."
   ]
  },
  {
   "cell_type": "code",
   "execution_count": 7,
   "metadata": {},
   "outputs": [
    {
     "name": "stdout",
     "output_type": "stream",
     "text": [
      "The number of elements in this tuple is: 6\n"
     ]
    }
   ],
   "source": [
    "my_info = (\"Tony\", \"Landero\", 40, 36.0, \"Baseball\", \"Tacos\")\n",
    "print(\"The number of elements in this tuple is:\", len(my_info))"
   ]
  },
  {
   "cell_type": "markdown",
   "metadata": {},
   "source": [
    "## Concept 3: Index Values\n",
    "Python assigns an index value to each item in a tuple, starting with the value 0 for the first item and using sequential values for the remaining items. The last item has an index value equal to the length of the tuple minus 1.<br>\n",
    "\n",
    "We can use these values to retrieve specific items from the tuple, using the syntax **```tuple[index]```**.<br>\n",
    "\n",
    "If we attempt to retrieve an item using a non-existent index, Python will throw an error."
   ]
  },
  {
   "cell_type": "markdown",
   "metadata": {},
   "source": [
    "### Example 3:\n",
    "The following example starts with the same **```info```** tuple from previous examples, and we retrieve each of the values in the tuple sequentially.<br>\n",
    "\n",
    "Python throws an error when we try to use a non-existent index."
   ]
  },
  {
   "cell_type": "code",
   "execution_count": 10,
   "metadata": {},
   "outputs": [
    {
     "name": "stdout",
     "output_type": "stream",
     "text": [
      "('Maria', 'Smith', 31, '123 Main Street', '000-000-0000')\n",
      "5\n",
      "\n",
      "\n",
      "Maria\n",
      "Smith\n",
      "31\n",
      "123 Main Street\n",
      "000-000-0000\n"
     ]
    },
    {
     "ename": "IndexError",
     "evalue": "tuple index out of range",
     "output_type": "error",
     "traceback": [
      "\u001b[1;31m---------------------------------------------------------------------------\u001b[0m",
      "\u001b[1;31mIndexError\u001b[0m                                Traceback (most recent call last)",
      "\u001b[1;32mc:\\Users\\Tony Landero\\Desktop\\Wiley_Assignments\\Wiley_Python_C278\\tuple_operations.ipynb Cell 13\u001b[0m in \u001b[0;36m<cell line: 11>\u001b[1;34m()\u001b[0m\n\u001b[0;32m      <a href='vscode-notebook-cell:/c%3A/Users/Tony%20Landero/Desktop/Wiley_Assignments/Wiley_Python_C278/tuple_operations.ipynb#ch0000016?line=8'>9</a>\u001b[0m \u001b[39mprint\u001b[39m(info[\u001b[39m3\u001b[39m])\n\u001b[0;32m     <a href='vscode-notebook-cell:/c%3A/Users/Tony%20Landero/Desktop/Wiley_Assignments/Wiley_Python_C278/tuple_operations.ipynb#ch0000016?line=9'>10</a>\u001b[0m \u001b[39mprint\u001b[39m(info[\u001b[39m4\u001b[39m])\n\u001b[1;32m---> <a href='vscode-notebook-cell:/c%3A/Users/Tony%20Landero/Desktop/Wiley_Assignments/Wiley_Python_C278/tuple_operations.ipynb#ch0000016?line=10'>11</a>\u001b[0m \u001b[39mprint\u001b[39m(info[\u001b[39m5\u001b[39;49m])\n",
      "\u001b[1;31mIndexError\u001b[0m: tuple index out of range"
     ]
    }
   ],
   "source": [
    "info = (\"Maria\", \"Smith\", 31, \"123 Main Street\", \"000-000-0000\")\n",
    "print(info)\n",
    "print(len(info))\n",
    "print(\"\\n\")\n",
    "\n",
    "print(info[0]) # Retrieves the first item in the tuple\n",
    "print(info[1])\n",
    "print(info[2])\n",
    "print(info[3])\n",
    "print(info[4])\n",
    "print(info[5]) # This statement throws an error because there are only five items in the tuple"
   ]
  },
  {
   "cell_type": "markdown",
   "metadata": {},
   "source": [
    "### Practice 3:\n",
    "Fix the following code so all the information is displayed correctly."
   ]
  },
  {
   "cell_type": "code",
   "execution_count": 12,
   "metadata": {},
   "outputs": [
    {
     "name": "stdout",
     "output_type": "stream",
     "text": [
      "('Jonathan', 'Vance', '679 Birchpond Street', 'Merrillville', 'IN', '46410', '219-555-4876')\n",
      "Last name: Vance\n",
      "First name: Jonathan\n",
      "Phone number: 219-555-4876\n",
      "Street: 679 Birchpond Street\n",
      "City: Merrillville\n",
      "State: IN\n",
      "Zip code: 46410\n"
     ]
    }
   ],
   "source": [
    "# do not change the first line of code\n",
    "info = (\"Jonathan\", \"Vance\", \"679 Birchpond Street\", \"Merrillville\", \"IN\", \"46410\", \"219-555-4876\") \n",
    "print(info)\n",
    " \n",
    "# change the index values to produce the correct outputs\n",
    "print(\"Last name: \"+info[1])\n",
    "print(\"First name: \"+info[0])\n",
    "print(\"Phone number: \"+info[6])\n",
    "print(\"Street: \"+info[2])\n",
    "print(\"City: \"+info[3])\n",
    "print(\"State: \"+info[4])\n",
    "print(\"Zip code: \"+info[5])"
   ]
  },
  {
   "cell_type": "markdown",
   "metadata": {},
   "source": [
    "## Concept 4: Negative Indexing\n",
    "Tuples in Python support negative indexing, which counts from the end of the tuple.<br>\n",
    "\n",
    "As shown in the following example, the index value **```-1```** always references the last item in a tuple, regardless of how many items there are. Sequential negative values count backwards from there, so **```-2```** is the next-to-last item, **```-3```** is the third-to-last item, and so on.<br>\n",
    "\n",
    "Python will throw an error if the negative index value references an item that does not exist."
   ]
  },
  {
   "cell_type": "markdown",
   "metadata": {},
   "source": [
    "### Example 4:\n",
    "Look at the code below and predict which value each variable references in the tuple.<br>\n",
    "Confirm your answers in the associated output."
   ]
  },
  {
   "cell_type": "code",
   "execution_count": 13,
   "metadata": {},
   "outputs": [
    {
     "name": "stdout",
     "output_type": "stream",
     "text": [
      "Software Developer\n",
      "Boston\n"
     ]
    },
    {
     "ename": "IndexError",
     "evalue": "tuple index out of range",
     "output_type": "error",
     "traceback": [
      "\u001b[1;31m---------------------------------------------------------------------------\u001b[0m",
      "\u001b[1;31mIndexError\u001b[0m                                Traceback (most recent call last)",
      "\u001b[1;32mc:\\Users\\Tony Landero\\Desktop\\Wiley_Assignments\\Wiley_Python_C278\\tuple_operations.ipynb Cell 18\u001b[0m in \u001b[0;36m<cell line: 8>\u001b[1;34m()\u001b[0m\n\u001b[0;32m      <a href='vscode-notebook-cell:/c%3A/Users/Tony%20Landero/Desktop/Wiley_Assignments/Wiley_Python_C278/tuple_operations.ipynb#ch0000023?line=5'>6</a>\u001b[0m \u001b[39mprint\u001b[39m(info[\u001b[39m-\u001b[39m\u001b[39m1\u001b[39m]) \u001b[39m# Software Developer\u001b[39;00m\n\u001b[0;32m      <a href='vscode-notebook-cell:/c%3A/Users/Tony%20Landero/Desktop/Wiley_Assignments/Wiley_Python_C278/tuple_operations.ipynb#ch0000023?line=6'>7</a>\u001b[0m \u001b[39mprint\u001b[39m(info[\u001b[39m-\u001b[39m\u001b[39m2\u001b[39m]) \u001b[39m# Boston\u001b[39;00m\n\u001b[1;32m----> <a href='vscode-notebook-cell:/c%3A/Users/Tony%20Landero/Desktop/Wiley_Assignments/Wiley_Python_C278/tuple_operations.ipynb#ch0000023?line=7'>8</a>\u001b[0m \u001b[39mprint\u001b[39m(info[\u001b[39m-\u001b[39;49m\u001b[39m9\u001b[39;49m])\n",
      "\u001b[1;31mIndexError\u001b[0m: tuple index out of range"
     ]
    }
   ],
   "source": [
    "info = (\"Maria\", \"Smith\", 31, \"123 Main Street\", \"000-00-0000\", \"Boston\", \"Software Developer\")\n",
    "\n",
    "print(info[-1]) # Software Developer\n",
    "print(info[-2]) # Boston\n",
    "print(info[-9]) # Error"
   ]
  },
  {
   "cell_type": "markdown",
   "metadata": {},
   "source": [
    "### Practice 4:\n",
    "Use negative indexing to display all the items in the tuple below in alphabetical order."
   ]
  },
  {
   "cell_type": "code",
   "execution_count": 14,
   "metadata": {},
   "outputs": [
    {
     "name": "stdout",
     "output_type": "stream",
     "text": [
      "Adams\n",
      "Adams\n",
      "Jackson\n",
      "Jefferson\n",
      "Madison\n",
      "Monroe\n",
      "Van Buren\n",
      "Washington\n"
     ]
    }
   ],
   "source": [
    "info = (\"Washington\", \"Adams\", \"Jefferson\", \"Madison\", \"Monroe\", \"Adams\", \"Jackson\", \"Van Buren\")\n",
    " \n",
    "# your code here\n",
    "print(info[-3])\n",
    "print(info[-7])\n",
    "print(info[-2])\n",
    "print(info[-6])\n",
    "print(info[-5])\n",
    "print(info[-4])\n",
    "print(info[-1])\n",
    "print(info[-8])"
   ]
  },
  {
   "cell_type": "markdown",
   "metadata": {},
   "source": [
    "## Concept 5: Slicing Tuples\n",
    "Python supports slicing in tuples, which allows us to retrieve a range of multiple elements from the tuple with a single command.<br>\n",
    "\n",
    "We use the syntax **```tuple[range]```** to retrieve a range of items from a tuple.<br>\n",
    "Options include:<br>\n",
    "* **```tuple[x:y]:```** Retrieves a range of values starting with index **```x```** and ending with the item ***before*** index **```y```**. If **```y```** is equal to the length of the tuple, the output includes the last item in the tuple.\n",
    "* **```tuple[:y]:```** Retrieves the items from index 0 through the item ***before*** index **```y```**. This is equivalent to using **```[0:y]```**.\n",
    "* **```tuple[x:]:```** Retrieves a string that starts with the item whose index is **```x```** and includes all items to the right of that item. This is equivalent to using **```[x:(length)]```**."
   ]
  },
  {
   "cell_type": "markdown",
   "metadata": {},
   "source": [
    "### Example 5:\n",
    "The following example demonstrates slicing a tuple to retrieve a name and an address."
   ]
  },
  {
   "cell_type": "code",
   "execution_count": 18,
   "metadata": {},
   "outputs": [
    {
     "name": "stdout",
     "output_type": "stream",
     "text": [
      "The name is:\n",
      "('Jonathan', 'Vance')\n",
      "\n",
      "The address is:\n",
      "('679 Birchpond Street', 'Merrillville', 'IN', '46410')\n"
     ]
    }
   ],
   "source": [
    "info = (\"Jonathan\", \"Vance\", \"679 Birchpond Street\",\"Merrillville\", \"IN\", \"46410\")\n",
    "\n",
    "# We extract only the first two elements from the tuple and store them in a new tuple\n",
    "name = info[0:2]\n",
    "print(\"The name is:\")\n",
    "print(name)\n",
    "\n",
    "# We extract only the last four elements from the tuple and store them in a new tuple\n",
    "address = info[2:6]\n",
    "print(\"\\nThe address is:\")\n",
    "print(address)"
   ]
  },
  {
   "cell_type": "markdown",
   "metadata": {},
   "source": [
    "### Practice 5a:\n",
    "Update the code from the pervious example so that each range references only one index value.<br>\n",
    "\n",
    "The output should be identical to what is shown above."
   ]
  },
  {
   "cell_type": "code",
   "execution_count": 19,
   "metadata": {},
   "outputs": [
    {
     "name": "stdout",
     "output_type": "stream",
     "text": [
      "The name is:\n",
      "('Jonathan', 'Vance')\n",
      "\n",
      "The address is:\n",
      "('679 Birchpond Street', 'Merrillville', 'IN', '46410')\n"
     ]
    }
   ],
   "source": [
    "info = (\"Jonathan\", \"Vance\", \"679 Birchpond Street\",\"Merrillville\", \"IN\", \"46410\")\n",
    "\n",
    "# We extract only the first two elements from the tuple and store them in a new tuple\n",
    "name = info[:2] # Remove the 0\n",
    "print(\"The name is:\")\n",
    "print(name)\n",
    "\n",
    "# We extract only the last four elements from the tuple and store them in a new tuple\n",
    "address = info[2:] # remove the 6\n",
    "print(\"\\nThe address is:\")\n",
    "print(address)"
   ]
  },
  {
   "cell_type": "markdown",
   "metadata": {},
   "source": [
    "### Practice 5b:\n",
    "The tuple below contains the abbreviation of all the states in the USA.<br>\n",
    "\n",
    "Use slicing to create three new tuples:<br>\n",
    "* One tuple that contains all states that start with N\n",
    "* One tuple that contains all states that start with O\n",
    "* One tuple that contains all states that start with A"
   ]
  },
  {
   "cell_type": "code",
   "execution_count": 22,
   "metadata": {},
   "outputs": [
    {
     "name": "stdout",
     "output_type": "stream",
     "text": [
      "The states that start with N are:\n",
      "('NE', 'NV', 'NH', 'NJ', 'NM', 'NY', 'NC', 'ND')\n",
      "\n",
      "\n",
      "The states that start with O are:\n",
      "('OH', 'OK', 'OR')\n",
      "\n",
      "\n",
      "The states that start with A are:\n",
      "('AL', 'AK', 'AZ', 'AR')\n"
     ]
    }
   ],
   "source": [
    "states = (\"AL\", \"AK\", \"AZ\", \"AR\", \"CA\", \"CO\", \"CT\", \"DE\", \"FL\", \"GA\", \n",
    "          \"HI\", \"ID\", \"IL\", \"IN\", \"IA\", \"KS\", \"KY\", \"LA\", \"ME\", \"MD\", \n",
    "          \"MA\", \"MI\", \"MN\", \"MS\", \"MO\", \"MT\", \"NE\", \"NV\", \"NH\", \"NJ\", \n",
    "          \"NM\", \"NY\", \"NC\", \"ND\", \"OH\", \"OK\", \"OR\", \"PA\", \"RI\", \"SC\", \n",
    "          \"SD\", \"TN\", \"TX\", \"UT\", \"VT\", \"VA\", \"WA\", \"WV\", \"WI\", \"WY\")\n",
    " \n",
    "# your code here \n",
    "tuple_n = states[26:34]\n",
    "print(\"The states that start with N are:\")\n",
    "print(tuple_n)\n",
    "print(\"\\n\")\n",
    "\n",
    "tuple_o = states[-16:-13]\n",
    "print(\"The states that start with O are:\")\n",
    "print(tuple_o)\n",
    "print(\"\\n\")\n",
    "\n",
    "tuple_a = states[:4]\n",
    "print(\"The states that start with A are:\")\n",
    "print(tuple_a)"
   ]
  },
  {
   "cell_type": "markdown",
   "metadata": {},
   "source": [
    "## Concept 6: Immutability\n",
    "Tuples are ***immutable***, which means that we cannot add or remove items after we have defined a tuple.<br>\n",
    "\n",
    "Attempts to append items at the end of the tuple, insert new items, or remove existing items will result in errors."
   ]
  },
  {
   "cell_type": "markdown",
   "metadata": {},
   "source": [
    "### Example 6a:\n",
    "Tuples so not support the **```append```** method."
   ]
  },
  {
   "cell_type": "code",
   "execution_count": 24,
   "metadata": {},
   "outputs": [
    {
     "name": "stdout",
     "output_type": "stream",
     "text": [
      "('Maria', 'Smith', 31, '123 Main Street', 'Boston')\n"
     ]
    },
    {
     "ename": "AttributeError",
     "evalue": "'tuple' object has no attribute 'append'",
     "output_type": "error",
     "traceback": [
      "\u001b[1;31m---------------------------------------------------------------------------\u001b[0m",
      "\u001b[1;31mAttributeError\u001b[0m                            Traceback (most recent call last)",
      "\u001b[1;32mc:\\Users\\Tony Landero\\Desktop\\Wiley_Assignments\\Wiley_Python_C278\\tuple_operations.ipynb Cell 30\u001b[0m in \u001b[0;36m<cell line: 4>\u001b[1;34m()\u001b[0m\n\u001b[0;32m      <a href='vscode-notebook-cell:/c%3A/Users/Tony%20Landero/Desktop/Wiley_Assignments/Wiley_Python_C278/tuple_operations.ipynb#ch0000040?line=0'>1</a>\u001b[0m info \u001b[39m=\u001b[39m (\u001b[39m\"\u001b[39m\u001b[39mMaria\u001b[39m\u001b[39m\"\u001b[39m, \u001b[39m\"\u001b[39m\u001b[39mSmith\u001b[39m\u001b[39m\"\u001b[39m, \u001b[39m31\u001b[39m, \u001b[39m\"\u001b[39m\u001b[39m123 Main Street\u001b[39m\u001b[39m\"\u001b[39m, \u001b[39m\"\u001b[39m\u001b[39mBoston\u001b[39m\u001b[39m\"\u001b[39m) \n\u001b[0;32m      <a href='vscode-notebook-cell:/c%3A/Users/Tony%20Landero/Desktop/Wiley_Assignments/Wiley_Python_C278/tuple_operations.ipynb#ch0000040?line=1'>2</a>\u001b[0m \u001b[39mprint\u001b[39m(info)\n\u001b[1;32m----> <a href='vscode-notebook-cell:/c%3A/Users/Tony%20Landero/Desktop/Wiley_Assignments/Wiley_Python_C278/tuple_operations.ipynb#ch0000040?line=3'>4</a>\u001b[0m info\u001b[39m.\u001b[39;49mappend(\u001b[39m\"\u001b[39m\u001b[39mMA\u001b[39m\u001b[39m\"\u001b[39m)\n",
      "\u001b[1;31mAttributeError\u001b[0m: 'tuple' object has no attribute 'append'"
     ]
    }
   ],
   "source": [
    "info = (\"Maria\", \"Smith\", 31, \"123 Main Street\", \"Boston\") \n",
    "print(info)\n",
    "\n",
    "info.append(\"MA\")"
   ]
  },
  {
   "cell_type": "markdown",
   "metadata": {},
   "source": [
    "### Example 6b:\n",
    "Tuples do not support the **```insert```** method."
   ]
  },
  {
   "cell_type": "code",
   "execution_count": 26,
   "metadata": {},
   "outputs": [
    {
     "name": "stdout",
     "output_type": "stream",
     "text": [
      "('Maria', 'Smith', 31, '123 Main Street', 'Boston')\n"
     ]
    },
    {
     "ename": "AttributeError",
     "evalue": "'tuple' object has no attribute 'insert'",
     "output_type": "error",
     "traceback": [
      "\u001b[1;31m---------------------------------------------------------------------------\u001b[0m",
      "\u001b[1;31mAttributeError\u001b[0m                            Traceback (most recent call last)",
      "\u001b[1;32mc:\\Users\\Tony Landero\\Desktop\\Wiley_Assignments\\Wiley_Python_C278\\tuple_operations.ipynb Cell 32\u001b[0m in \u001b[0;36m<cell line: 4>\u001b[1;34m()\u001b[0m\n\u001b[0;32m      <a href='vscode-notebook-cell:/c%3A/Users/Tony%20Landero/Desktop/Wiley_Assignments/Wiley_Python_C278/tuple_operations.ipynb#ch0000043?line=0'>1</a>\u001b[0m info \u001b[39m=\u001b[39m (\u001b[39m\"\u001b[39m\u001b[39mMaria\u001b[39m\u001b[39m\"\u001b[39m, \u001b[39m\"\u001b[39m\u001b[39mSmith\u001b[39m\u001b[39m\"\u001b[39m, \u001b[39m31\u001b[39m, \u001b[39m\"\u001b[39m\u001b[39m123 Main Street\u001b[39m\u001b[39m\"\u001b[39m, \u001b[39m\"\u001b[39m\u001b[39mBoston\u001b[39m\u001b[39m\"\u001b[39m) \n\u001b[0;32m      <a href='vscode-notebook-cell:/c%3A/Users/Tony%20Landero/Desktop/Wiley_Assignments/Wiley_Python_C278/tuple_operations.ipynb#ch0000043?line=1'>2</a>\u001b[0m \u001b[39mprint\u001b[39m(info)\n\u001b[1;32m----> <a href='vscode-notebook-cell:/c%3A/Users/Tony%20Landero/Desktop/Wiley_Assignments/Wiley_Python_C278/tuple_operations.ipynb#ch0000043?line=3'>4</a>\u001b[0m info\u001b[39m.\u001b[39;49minsert(\u001b[39m5\u001b[39m, \u001b[39m\"\u001b[39m\u001b[39mMA\u001b[39m\u001b[39m\"\u001b[39m)\n",
      "\u001b[1;31mAttributeError\u001b[0m: 'tuple' object has no attribute 'insert'"
     ]
    }
   ],
   "source": [
    "info = (\"Maria\", \"Smith\", 31, \"123 Main Street\", \"Boston\") \n",
    "print(info)\n",
    "\n",
    "info.insert(5, \"MA\")"
   ]
  },
  {
   "cell_type": "markdown",
   "metadata": {},
   "source": [
    "### Example 6c:\n",
    "Tuples do not support the **```remove```** method."
   ]
  },
  {
   "cell_type": "code",
   "execution_count": 28,
   "metadata": {},
   "outputs": [
    {
     "name": "stdout",
     "output_type": "stream",
     "text": [
      "('Maria', 'Smith', 31, '123 Main Street', 'Boston')\n"
     ]
    },
    {
     "ename": "AttributeError",
     "evalue": "'tuple' object has no attribute 'remove'",
     "output_type": "error",
     "traceback": [
      "\u001b[1;31m---------------------------------------------------------------------------\u001b[0m",
      "\u001b[1;31mAttributeError\u001b[0m                            Traceback (most recent call last)",
      "\u001b[1;32mc:\\Users\\Tony Landero\\Desktop\\Wiley_Assignments\\Wiley_Python_C278\\tuple_operations.ipynb Cell 34\u001b[0m in \u001b[0;36m<cell line: 4>\u001b[1;34m()\u001b[0m\n\u001b[0;32m      <a href='vscode-notebook-cell:/c%3A/Users/Tony%20Landero/Desktop/Wiley_Assignments/Wiley_Python_C278/tuple_operations.ipynb#ch0000046?line=0'>1</a>\u001b[0m info \u001b[39m=\u001b[39m (\u001b[39m\"\u001b[39m\u001b[39mMaria\u001b[39m\u001b[39m\"\u001b[39m, \u001b[39m\"\u001b[39m\u001b[39mSmith\u001b[39m\u001b[39m\"\u001b[39m, \u001b[39m31\u001b[39m, \u001b[39m\"\u001b[39m\u001b[39m123 Main Street\u001b[39m\u001b[39m\"\u001b[39m, \u001b[39m\"\u001b[39m\u001b[39mBoston\u001b[39m\u001b[39m\"\u001b[39m) \n\u001b[0;32m      <a href='vscode-notebook-cell:/c%3A/Users/Tony%20Landero/Desktop/Wiley_Assignments/Wiley_Python_C278/tuple_operations.ipynb#ch0000046?line=1'>2</a>\u001b[0m \u001b[39mprint\u001b[39m(info)\n\u001b[1;32m----> <a href='vscode-notebook-cell:/c%3A/Users/Tony%20Landero/Desktop/Wiley_Assignments/Wiley_Python_C278/tuple_operations.ipynb#ch0000046?line=3'>4</a>\u001b[0m info\u001b[39m.\u001b[39;49mremove(\u001b[39m\"\u001b[39m\u001b[39mBoston\u001b[39m\u001b[39m\"\u001b[39m)\n",
      "\u001b[1;31mAttributeError\u001b[0m: 'tuple' object has no attribute 'remove'"
     ]
    }
   ],
   "source": [
    "info = (\"Maria\", \"Smith\", 31, \"123 Main Street\", \"Boston\") \n",
    "print(info)\n",
    "\n",
    "info.remove(\"Boston\")"
   ]
  },
  {
   "cell_type": "markdown",
   "metadata": {},
   "source": [
    "### Practice 6:\n",
    "Attempt each of the following tasks on the tuple defined below:<br>\n",
    "* Add an integer representing Jonathan's age as the last item in the tuple.\n",
    "* Add the zip code \"46410\" between the state and phone number.\n",
    "* Remove the phone number from the tuple. Attempt each of the tasks individually, run the code to see what happens, and then attempt the next task in the list.<br>\n",
    "\n",
    "***Challenge:*** Change the code so that the data is stored as a list rather than as a tuple and attempt each of the tasks again."
   ]
  },
  {
   "cell_type": "code",
   "execution_count": 32,
   "metadata": {},
   "outputs": [
    {
     "name": "stdout",
     "output_type": "stream",
     "text": [
      "('Jonathan', 'Vance', '679 Birchpond Street', 'Merrillville', 'IN', '219-555-4876')\n"
     ]
    },
    {
     "ename": "AttributeError",
     "evalue": "'tuple' object has no attribute 'remove'",
     "output_type": "error",
     "traceback": [
      "\u001b[1;31m---------------------------------------------------------------------------\u001b[0m",
      "\u001b[1;31mAttributeError\u001b[0m                            Traceback (most recent call last)",
      "\u001b[1;32mc:\\Users\\Tony Landero\\Desktop\\Wiley_Assignments\\Wiley_Python_C278\\tuple_operations.ipynb Cell 36\u001b[0m in \u001b[0;36m<cell line: 8>\u001b[1;34m()\u001b[0m\n\u001b[0;32m      <a href='vscode-notebook-cell:/c%3A/Users/Tony%20Landero/Desktop/Wiley_Assignments/Wiley_Python_C278/tuple_operations.ipynb#ch0000049?line=1'>2</a>\u001b[0m \u001b[39mprint\u001b[39m(info)\n\u001b[0;32m      <a href='vscode-notebook-cell:/c%3A/Users/Tony%20Landero/Desktop/Wiley_Assignments/Wiley_Python_C278/tuple_operations.ipynb#ch0000049?line=3'>4</a>\u001b[0m \u001b[39m# info.append(40) --> Error\u001b[39;00m\n\u001b[0;32m      <a href='vscode-notebook-cell:/c%3A/Users/Tony%20Landero/Desktop/Wiley_Assignments/Wiley_Python_C278/tuple_operations.ipynb#ch0000049?line=4'>5</a>\u001b[0m \n\u001b[0;32m      <a href='vscode-notebook-cell:/c%3A/Users/Tony%20Landero/Desktop/Wiley_Assignments/Wiley_Python_C278/tuple_operations.ipynb#ch0000049?line=5'>6</a>\u001b[0m \u001b[39m# info.insert(5, \"46410\") --> Error\u001b[39;00m\n\u001b[1;32m----> <a href='vscode-notebook-cell:/c%3A/Users/Tony%20Landero/Desktop/Wiley_Assignments/Wiley_Python_C278/tuple_operations.ipynb#ch0000049?line=7'>8</a>\u001b[0m info\u001b[39m.\u001b[39;49mremove(\u001b[39m\"\u001b[39m\u001b[39m219-555-4876\u001b[39m\u001b[39m\"\u001b[39m)\n",
      "\u001b[1;31mAttributeError\u001b[0m: 'tuple' object has no attribute 'remove'"
     ]
    }
   ],
   "source": [
    "info = (\"Jonathan\", \"Vance\", \"679 Birchpond Street\", \"Merrillville\", \"IN\", \"219-555-4876\") \n",
    "print(info)\n",
    "\n",
    "# info.append(40) --> Error\n",
    "\n",
    "# info.insert(5, \"46410\") --> Error\n",
    "\n",
    "# info.remove(\"219-555-4876\") --> Error"
   ]
  },
  {
   "cell_type": "code",
   "execution_count": 36,
   "metadata": {},
   "outputs": [
    {
     "name": "stdout",
     "output_type": "stream",
     "text": [
      "['Jonathan', 'Vance', '679 Birchpond Street', 'Merrillville', 'IN', '219-555-4876']\n",
      "['Jonathan', 'Vance', '679 Birchpond Street', 'Merrillville', 'IN', '219-555-4876', 40]\n",
      "['Jonathan', 'Vance', '679 Birchpond Street', 'Merrillville', 'IN', '46410', '219-555-4876', 40]\n",
      "['Jonathan', 'Vance', '679 Birchpond Street', 'Merrillville', 'IN', '46410', 40]\n"
     ]
    }
   ],
   "source": [
    "# Challenge\n",
    "info = [\"Jonathan\", \"Vance\", \"679 Birchpond Street\", \"Merrillville\", \"IN\", \"219-555-4876\"]\n",
    "print(info)\n",
    "\n",
    "info.append(40)\n",
    "print(info)\n",
    "\n",
    "info.insert(5, \"46410\")\n",
    "print(info)\n",
    "\n",
    "info.remove(\"219-555-4876\")\n",
    "print(info)"
   ]
  },
  {
   "cell_type": "markdown",
   "metadata": {},
   "source": [
    "## Concept 7: Concatenating Tuples\n",
    "We can use the **```+```** operator to concatenate two or more tuples in Python, using the syntax **```tuple1 + tuple2 + tuple3...```**<br>\n",
    "\n",
    "The result is a new tuple that includes all items in the original tuples."
   ]
  },
  {
   "cell_type": "markdown",
   "metadata": {},
   "source": [
    "### Example 7:\n",
    "In this example, we start with two tuples, each of which include two names. We then concatenate the tuples into a new, third tuple that contains all items in the original two tuples."
   ]
  },
  {
   "cell_type": "code",
   "execution_count": 39,
   "metadata": {},
   "outputs": [
    {
     "name": "stdout",
     "output_type": "stream",
     "text": [
      "('Haythem', 'Mike')\n",
      "('Jesse', 'Layla')\n",
      "('Haythem', 'Mike', 'Jesse', 'Layla')\n"
     ]
    }
   ],
   "source": [
    "tuple_of_names_1 = (\"Haythem\", \"Mike\")\n",
    "print(tuple_of_names_1)\n",
    "\n",
    "tuple_of_names_2 = (\"Jesse\", \"Layla\")\n",
    "print(tuple_of_names_2)\n",
    "\n",
    "tuple_of_names = tuple_of_names_1 + tuple_of_names_2\n",
    "print(tuple_of_names)"
   ]
  },
  {
   "cell_type": "markdown",
   "metadata": {},
   "source": [
    "### Practice 7:\n",
    "Create three tuples:<br>\n",
    "* One tuple with a person's first and last names\n",
    "* A second tuple with the person's complete address\n",
    "* A third tuple with contact information, such as a phone number and an email address<br>\n",
    "\n",
    "Combine all tuples into a new, single tuple that contains all of the items from the original tuples."
   ]
  },
  {
   "cell_type": "code",
   "execution_count": 43,
   "metadata": {},
   "outputs": [
    {
     "name": "stdout",
     "output_type": "stream",
     "text": [
      "('Tony', 'Landero')\n",
      "('123 Main Street', 'Houston', 'TX', '77777')\n",
      "('555-555-5555', 'some.email@gmail.com')\n",
      "('Tony', 'Landero', '123 Main Street', 'Houston', 'TX', '77777', '555-555-5555', 'some.email@gmail.com')\n"
     ]
    }
   ],
   "source": [
    "name_tuple = (\"Tony\", \"Landero\")\n",
    "print(name_tuple)\n",
    "\n",
    "address_tuple = (\"123 Main Street\", \"Houston\", \"TX\", \"77777\")\n",
    "print(address_tuple)\n",
    "\n",
    "contact_tuple = (\"555-555-5555\", \"some.email@gmail.com\")\n",
    "print(contact_tuple)\n",
    "\n",
    "record_tuple = name_tuple + address_tuple + contact_tuple\n",
    "print(record_tuple)"
   ]
  },
  {
   "cell_type": "code",
   "execution_count": null,
   "metadata": {},
   "outputs": [],
   "source": []
  }
 ],
 "metadata": {
  "kernelspec": {
   "display_name": "Python 3.9.6 64-bit",
   "language": "python",
   "name": "python3"
  },
  "language_info": {
   "codemirror_mode": {
    "name": "ipython",
    "version": 3
   },
   "file_extension": ".py",
   "mimetype": "text/x-python",
   "name": "python",
   "nbconvert_exporter": "python",
   "pygments_lexer": "ipython3",
   "version": "3.9.6"
  },
  "orig_nbformat": 4,
  "vscode": {
   "interpreter": {
    "hash": "9cc6a95a29893daac463ce220390149ef03aeb7175da3903cfd40cfc8442e04e"
   }
  }
 },
 "nbformat": 4,
 "nbformat_minor": 2
}
