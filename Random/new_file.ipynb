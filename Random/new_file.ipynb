{
 "cells": [
  {
   "cell_type": "code",
   "execution_count": 12,
   "metadata": {},
   "outputs": [],
   "source": [
    "hard_grid = [\n",
    "    [0,0,0,5,0,0,9,0,0],\n",
    "    [0,5,0,0,2,0,0,0,1],\n",
    "    [3,0,0,6,0,9,0,0,0],\n",
    "    [0,7,0,1,8,0,0,0,2],\n",
    "    [1,0,5,0,0,0,0,8,7],\n",
    "    [0,0,8,0,0,4,0,0,0],\n",
    "    [0,0,4,7,5,0,0,0,0],\n",
    "    [0,3,0,2,0,8,0,5,0],\n",
    "    [0,0,0,4,0,6,0,2,0]\n",
    "]"
   ]
  },
  {
   "cell_type": "code",
   "execution_count": 13,
   "metadata": {},
   "outputs": [
    {
     "name": "stdout",
     "output_type": "stream",
     "text": [
      "[[0, 0, 0, 5, 0, 0, 9, 0, 0], [0, 5, 0, 0, 2, 0, 0, 0, 1], [3, 0, 0, 6, 0, 9, 0, 0, 0], [0, 7, 0, 1, 8, 0, 0, 0, 2], [1, 0, 5, 0, 0, 0, 0, 8, 7], [0, 0, 8, 0, 0, 4, 0, 0, 0], [0, 0, 4, 7, 5, 0, 0, 0, 0], [0, 3, 0, 2, 0, 8, 0, 5, 0], [0, 0, 0, 4, 0, 6, 0, 2, 0]]\n"
     ]
    }
   ],
   "source": [
    "print(hard_grid)"
   ]
  },
  {
   "cell_type": "code",
   "execution_count": 14,
   "metadata": {},
   "outputs": [],
   "source": [
    "expert_grid =[\n",
    "    [0,0,0,5,0,0,0,0,0],\n",
    "    [0,0,5,0,0,2,9,4,0],\n",
    "    [0,0,6,0,0,0,0,7,0],\n",
    "    [0,0,0,0,5,0,0,2,0],\n",
    "    [0,0,7,0,0,4,1,0,0],\n",
    "    [8,0,0,3,9,0,0,0,0],\n",
    "    [4,0,3,0,0,0,0,0,6],\n",
    "    [0,0,0,4,0,0,0,0,7],\n",
    "    [0,8,0,0,6,0,0,0,2]\n",
    "]"
   ]
  },
  {
   "cell_type": "code",
   "execution_count": 15,
   "metadata": {},
   "outputs": [
    {
     "name": "stdout",
     "output_type": "stream",
     "text": [
      "[[0, 0, 0, 5, 0, 0, 0, 0, 0], [0, 0, 5, 0, 0, 2, 9, 4, 0], [0, 0, 6, 0, 0, 0, 0, 7, 0], [0, 0, 0, 0, 5, 0, 0, 2, 0], [0, 0, 7, 0, 0, 4, 1, 0, 0], [8, 0, 0, 3, 9, 0, 0, 0, 0], [4, 0, 3, 0, 0, 0, 0, 0, 6], [0, 0, 0, 4, 0, 0, 0, 0, 7], [0, 8, 0, 0, 6, 0, 0, 0, 2]]\n"
     ]
    }
   ],
   "source": [
    "print(expert_grid)"
   ]
  },
  {
   "cell_type": "code",
   "execution_count": null,
   "metadata": {},
   "outputs": [],
   "source": []
  }
 ],
 "metadata": {
  "interpreter": {
   "hash": "2be5faf79681da6f2a61fdfdd5405d65d042280f7fba6178067603e3a2925119"
  },
  "kernelspec": {
   "display_name": "Python 3.10.2 64-bit",
   "language": "python",
   "name": "python3"
  },
  "language_info": {
   "codemirror_mode": {
    "name": "ipython",
    "version": 3
   },
   "file_extension": ".py",
   "mimetype": "text/x-python",
   "name": "python",
   "nbconvert_exporter": "python",
   "pygments_lexer": "ipython3",
   "version": "3.10.2"
  },
  "orig_nbformat": 4
 },
 "nbformat": 4,
 "nbformat_minor": 2
}
