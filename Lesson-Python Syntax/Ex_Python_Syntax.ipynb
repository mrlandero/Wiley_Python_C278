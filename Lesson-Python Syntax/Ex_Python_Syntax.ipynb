{
 "cells": [
  {
   "cell_type": "markdown",
   "metadata": {},
   "source": [
    "## Exercise: Python Syntax\n",
    "\n",
    "### Requirements\n",
    "Write a script that meets the following requirements:\n",
    "* Add your name and the current date in comments at the top of the script.\n",
    "* Prompt the user to enter their first name, their last name, their phone number, and the year they were born. Save each of these values to a different variable.\n",
    "* Display the values they entered.<br>\n",
    "\n",
    "Test your script to make sure it works as expected."
   ]
  },
  {
   "cell_type": "code",
   "execution_count": 1,
   "metadata": {},
   "outputs": [],
   "source": [
    "# Tony Landero   Date: 7/9/2022"
   ]
  },
  {
   "cell_type": "code",
   "execution_count": 2,
   "metadata": {},
   "outputs": [],
   "source": [
    "# Ask user for their first name:\n",
    "f_name = input(\"Please enter your first name: \")\n",
    "\n",
    "# Ask user for their last name:\n",
    "l_name = input(\"Please enter your last name: \")\n",
    "\n",
    "# Ask user for their phone number:\n",
    "p_number = input(\"Please enter your phone number: \")\n",
    "\n",
    "# Ask user for the year they were born:\n",
    "y_born = input(\"Please enter the year in which you were born: \")"
   ]
  },
  {
   "cell_type": "code",
   "execution_count": 3,
   "metadata": {},
   "outputs": [
    {
     "name": "stdout",
     "output_type": "stream",
     "text": [
      "Hi! Your first name is: Jon, and your last name is: Smith. Your phone number is: 346-346-3463. You were born in 1982.\n"
     ]
    }
   ],
   "source": [
    "print(f\"Hi! Your first name is: {f_name}, and your last name is: {l_name}. Your phone number is: {p_number}. You were born in {y_born}.\")"
   ]
  },
  {
   "cell_type": "code",
   "execution_count": null,
   "metadata": {},
   "outputs": [],
   "source": []
  }
 ],
 "metadata": {
  "interpreter": {
   "hash": "fb00f0c01367cd29234ef98d6ee35d5dad54fff2cb1a8b567bc06dceecc7a7af"
  },
  "kernelspec": {
   "display_name": "Python 3.8.8 ('base')",
   "language": "python",
   "name": "python3"
  },
  "language_info": {
   "codemirror_mode": {
    "name": "ipython",
    "version": 3
   },
   "file_extension": ".py",
   "mimetype": "text/x-python",
   "name": "python",
   "nbconvert_exporter": "python",
   "pygments_lexer": "ipython3",
   "version": "3.8.8"
  },
  "orig_nbformat": 4
 },
 "nbformat": 4,
 "nbformat_minor": 2
}
