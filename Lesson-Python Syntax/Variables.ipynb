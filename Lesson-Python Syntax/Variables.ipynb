{
 "cells": [
  {
   "cell_type": "markdown",
   "metadata": {},
   "source": [
    "## Concept 1: Variable Types\n",
    "We use variables to store data in programs.<br>\n",
    "\n",
    "Python uses dynamically typed variables, so we do not have to assign data types to variables. Python automatically determines the appropriate data type based on the value associated with the variable."
   ]
  },
  {
   "cell_type": "markdown",
   "metadata": {},
   "source": [
    "### Example 1:\n",
    "The following example demonstrates the process of creating variables of several different data types, including an integer, a string, a float value, a boolean, a list of strings, and a list of integers.<br>\n",
    "\n",
    "Running this code block will not produce any output because the code simply defines variables that could be used by other processes later in the program."
   ]
  },
  {
   "cell_type": "code",
   "execution_count": 1,
   "metadata": {},
   "outputs": [],
   "source": [
    "# A variable that stores an integer\n",
    "t = 0\n",
    "\n",
    "# A variable that stores a string\n",
    "message = \"Hello World\"\n",
    "\n",
    "# A variable that stores fractional numbers\n",
    "tax_rate = 0.06\n",
    "\n",
    "# A variable that stores boolean values true or false\n",
    "isFromNH = False\n",
    "\n",
    "# A variable that stores a list of strings\n",
    "pets = [\"Maya\",\"Marley\"]\n",
    "\n",
    "# A variable that stores a list of integers\n",
    "winning_numbers = [45,7,25,7,2,6,4,11]"
   ]
  },
  {
   "cell_type": "markdown",
   "metadata": {},
   "source": [
    "### Practice 1:\n",
    "Create three variables to store the following information:<br>\n",
    "* Name: Your name\n",
    "* Age: Your age\n",
    "* States: A list that contains the names of the states (int the USA) where you have lived"
   ]
  },
  {
   "cell_type": "code",
   "execution_count": 2,
   "metadata": {},
   "outputs": [],
   "source": [
    "name = \"Tony\"\n",
    "age = 39\n",
    "states_list = [\"Texas\", \"Virginia\", \"Georgia\", \"Maryland\"]"
   ]
  },
  {
   "cell_type": "markdown",
   "metadata": {},
   "source": [
    "## Concept 2: Display the Value Associated with a Variable\n",
    "After we have defined a variable, we can use the **```print```** command to display the contents of the variable."
   ]
  },
  {
   "cell_type": "markdown",
   "metadata": {},
   "source": [
    "### Example 2:\n",
    "This example builds on the previous example. In this case, we use a series of **```print```** commands to display the value of each variable to the user's screen when the user runs the code."
   ]
  },
  {
   "cell_type": "code",
   "execution_count": 3,
   "metadata": {},
   "outputs": [
    {
     "name": "stdout",
     "output_type": "stream",
     "text": [
      "0\n",
      "==========\n",
      "Hello World!\n",
      "==========\n",
      "0.06\n",
      "==========\n",
      "False\n",
      "==========\n",
      "['Maya', 'Marley']\n",
      "==========\n",
      "[45, 7, 25, 7, 2, 6, 4, 11]\n"
     ]
    }
   ],
   "source": [
    "# A variable that stores an integer\n",
    "t = 0\n",
    "print(t)\n",
    "print(\"==========\")\n",
    "\n",
    "# A variable that stores a string\n",
    "message = \"Hello World!\"\n",
    "print(message)\n",
    "print(\"==========\")\n",
    "\n",
    "# A variable that stores fractional numbers\n",
    "tax_rate = 0.06\n",
    "print(tax_rate)\n",
    "print(\"==========\")\n",
    "\n",
    "# A variable that stores boolean values true or false\n",
    "isFromNH = False\n",
    "print(isFromNH)\n",
    "print(\"==========\")\n",
    "\n",
    "# A variable that stores a list of strings\n",
    "pets = [\"Maya\", \"Marley\"]\n",
    "print(pets)\n",
    "print(\"==========\")\n",
    "\n",
    "# A variable that stores a list of integers\n",
    "winning_numbers = [45,7,25,7,2,6,4,11]\n",
    "print(winning_numbers)"
   ]
  },
  {
   "cell_type": "markdown",
   "metadata": {},
   "source": [
    "### Practice 2a:\n",
    "Experiment with the example code above. What happens if you put the **```print```** statements at the end of the program? What if you put them above the corresponding variable statements?"
   ]
  },
  {
   "cell_type": "code",
   "execution_count": 4,
   "metadata": {},
   "outputs": [],
   "source": [
    "# A variable that stores an integer\n",
    "t = 0\n",
    "\n",
    "# A variable that stores a string\n",
    "message = \"Hello World!\"\n",
    "\n",
    "# A variable that stores fractional numbers\n",
    "tax_rate = 0.06\n",
    "\n",
    "# A variable that stores boolean values true or false\n",
    "isFromNH = False\n",
    "\n",
    "# A variable that stores a list of strings\n",
    "pets = [\"Maya\", \"Marley\"]\n",
    "\n",
    "# A variable that stores a list of integers\n",
    "winning_numbers = [45,7,25,7,2,6,4,11]"
   ]
  },
  {
   "cell_type": "code",
   "execution_count": 5,
   "metadata": {},
   "outputs": [
    {
     "name": "stdout",
     "output_type": "stream",
     "text": [
      "0\n",
      "Hello World!\n",
      "0.06\n",
      "False\n",
      "['Maya', 'Marley']\n",
      "[45, 7, 25, 7, 2, 6, 4, 11]\n"
     ]
    }
   ],
   "source": [
    "print(t)\n",
    "print(message)\n",
    "print(tax_rate)\n",
    "print(isFromNH)\n",
    "print(pets)\n",
    "print(winning_numbers)"
   ]
  },
  {
   "cell_type": "markdown",
   "metadata": {},
   "source": [
    "### Example 2b:\n",
    "Using the example given above, create variables to store your name, your age, and a list of states you have lived in and display those values in the output."
   ]
  },
  {
   "cell_type": "code",
   "execution_count": 8,
   "metadata": {},
   "outputs": [
    {
     "name": "stdout",
     "output_type": "stream",
     "text": [
      "Tony\n",
      "==========\n",
      "39\n",
      "==========\n",
      "['Texas', 'Virginia', 'Georgia', 'Maryland']\n"
     ]
    }
   ],
   "source": [
    "name = \"Tony\"\n",
    "age = 39\n",
    "states_list = [\"Texas\", \"Virginia\", \"Georgia\", \"Maryland\"]\n",
    "print(name)\n",
    "print(\"==========\")\n",
    "print(age)\n",
    "print(\"==========\")\n",
    "print(states_list)"
   ]
  },
  {
   "cell_type": "markdown",
   "metadata": {},
   "source": [
    "## Concept 3: Naming Variables\n",
    "Python has strict naming rules for variables, including the following:<br>\n",
    "* Variable names may use uppercase or lowercase letters, numeric digits, or the underscore character. No other characters are allowed.<br>\n",
    "* Variable names must start with a letter or underscore."
   ]
  },
  {
   "cell_type": "markdown",
   "metadata": {},
   "source": [
    "### Example 3:\n",
    "In this example, we create three valid variables and two invalid variables. Python will throw an error for the last two variables because they do not meet the criteria described above."
   ]
  },
  {
   "cell_type": "code",
   "execution_count": 9,
   "metadata": {},
   "outputs": [
    {
     "ename": "SyntaxError",
     "evalue": "invalid decimal literal (Temp/ipykernel_46144/3576077428.py, line 11)",
     "output_type": "error",
     "traceback": [
      "\u001b[1;36m  File \u001b[1;32m\"C:\\Users\\TONYLA~1\\AppData\\Local\\Temp/ipykernel_46144/3576077428.py\"\u001b[1;36m, line \u001b[1;32m11\u001b[0m\n\u001b[1;33m    5_age = 33\u001b[0m\n\u001b[1;37m     ^\u001b[0m\n\u001b[1;31mSyntaxError\u001b[0m\u001b[1;31m:\u001b[0m invalid decimal literal\n"
     ]
    }
   ],
   "source": [
    "# Correct\n",
    "age = 33\n",
    "\n",
    "# Correct\n",
    "_age = 33\n",
    "\n",
    "# Correct\n",
    "__age = 33\n",
    "\n",
    "# Incorrect \n",
    "5_age = 33\n",
    "\n",
    "# Incorrect\n",
    "-age = 33"
   ]
  },
  {
   "cell_type": "markdown",
   "metadata": {},
   "source": [
    "### Practice 3a:\n",
    "Note that when you run a program that includes an error, the code stops as soon as it reaches an error. We only see one error above because the program stops as soon as it finds a variable whose name starts with a number.<br>\n",
    "\n",
    "Change the code in line 4 above to make the variable name valid and run the code again. What happens when the program reaches line 5?"
   ]
  },
  {
   "cell_type": "code",
   "execution_count": 10,
   "metadata": {},
   "outputs": [
    {
     "ename": "SyntaxError",
     "evalue": "cannot assign to operator (Temp/ipykernel_46144/2704804251.py, line 15)",
     "output_type": "error",
     "traceback": [
      "\u001b[1;36m  File \u001b[1;32m\"C:\\Users\\TONYLA~1\\AppData\\Local\\Temp/ipykernel_46144/2704804251.py\"\u001b[1;36m, line \u001b[1;32m15\u001b[0m\n\u001b[1;33m    -age = 33\u001b[0m\n\u001b[1;37m    ^\u001b[0m\n\u001b[1;31mSyntaxError\u001b[0m\u001b[1;31m:\u001b[0m cannot assign to operator\n"
     ]
    }
   ],
   "source": [
    "# Correct\n",
    "age = 33\n",
    "\n",
    "# Correct\n",
    "_age = 33\n",
    "\n",
    "# Correct\n",
    "__age = 33\n",
    "\n",
    "# Incorrect - Change to correct\n",
    "# 5_age = 33\n",
    "age_5 = 33\n",
    "\n",
    "# Incorrect\n",
    "-age = 33"
   ]
  },
  {
   "cell_type": "markdown",
   "metadata": {},
   "source": [
    "### Practice 3b:\n",
    "Fix the following code to create three valid variable names. Add **```print```** statements to display the values associated with each variable and run the code to verify that there are no errors."
   ]
  },
  {
   "cell_type": "code",
   "execution_count": 11,
   "metadata": {},
   "outputs": [
    {
     "name": "stdout",
     "output_type": "stream",
     "text": [
      "35\n",
      "Alex\n",
      "['Kentucky', 'New Jersey']\n"
     ]
    }
   ],
   "source": [
    "# -name = \"Alex\"\n",
    "__age = 35\n",
    "# 2_list_of_states = [\"Kentucky\", \"New Jersey\"]\n",
    "\n",
    "# Fix first variable\n",
    "_name = \"Alex\"\n",
    "\n",
    "# Fix third variable\n",
    "list_of_states_2 = [\"Kentucky\", \"New Jersey\"]\n",
    "\n",
    "print(__age)\n",
    "print(_name)\n",
    "print(list_of_states_2)"
   ]
  },
  {
   "cell_type": "markdown",
   "metadata": {},
   "source": [
    "## Concept 4: Variable Name Lengths\n",
    "Identifiers or variable names can have unlimited length."
   ]
  },
  {
   "cell_type": "markdown",
   "metadata": {},
   "source": [
    "### Example 4:\n",
    "In this example, we have a variable name that is extremely long to demonstrate that Python does not restrict the length of a varianle name."
   ]
  },
  {
   "cell_type": "code",
   "execution_count": 12,
   "metadata": {},
   "outputs": [
    {
     "name": "stdout",
     "output_type": "stream",
     "text": [
      "5\n"
     ]
    }
   ],
   "source": [
    "thisisavalidvariablenamealthoughitisverylong = 5\n",
    "print(thisisavalidvariablenamealthoughitisverylong)"
   ]
  },
  {
   "cell_type": "markdown",
   "metadata": {},
   "source": [
    "### Practice 4:\n",
    "While longer names can be useful to make variable names more meaningful, it is best practice to keep variable names relatively short whenever possible. Very long names can be hard to re-use because they take more time to key out and because the length makes it more likely that errors will occur when rekeying the name.<br>\n",
    "\n",
    "Run the code below and fix the problem so that the code will display the associated value correctly.<br>\n",
    "\n",
    "```\n",
    "thisisavalidvariablenamealthoughitisverylong=5\n",
    "print(thisisavalidvariablenamealthoughitislong)\n",
    "```"
   ]
  },
  {
   "cell_type": "code",
   "execution_count": 13,
   "metadata": {},
   "outputs": [
    {
     "name": "stdout",
     "output_type": "stream",
     "text": [
      "5\n"
     ]
    }
   ],
   "source": [
    "thisisavalidvariablenamealthoughitisverylong=5\n",
    "print(thisisavalidvariablenamealthoughitisverylong) # Added the word very to fix the variable name"
   ]
  },
  {
   "cell_type": "code",
   "execution_count": null,
   "metadata": {},
   "outputs": [],
   "source": []
  }
 ],
 "metadata": {
  "interpreter": {
   "hash": "fb00f0c01367cd29234ef98d6ee35d5dad54fff2cb1a8b567bc06dceecc7a7af"
  },
  "kernelspec": {
   "display_name": "Python 3.8.8 ('base')",
   "language": "python",
   "name": "python3"
  },
  "language_info": {
   "codemirror_mode": {
    "name": "ipython",
    "version": 3
   },
   "file_extension": ".py",
   "mimetype": "text/x-python",
   "name": "python",
   "nbconvert_exporter": "python",
   "pygments_lexer": "ipython3",
   "version": "3.8.8"
  },
  "orig_nbformat": 4
 },
 "nbformat": 4,
 "nbformat_minor": 2
}
