{
 "cells": [
  {
   "cell_type": "markdown",
   "metadata": {},
   "source": [
    "## Concept 1: Single-Line Commands\n",
    "If we have one instruction per line, we do not need to end each line with a semicolon."
   ]
  },
  {
   "cell_type": "markdown",
   "metadata": {},
   "source": [
    "### Example 1:\n",
    "The following Python code prints two messages using the **```print```** command."
   ]
  },
  {
   "cell_type": "code",
   "execution_count": 1,
   "metadata": {},
   "outputs": [
    {
     "name": "stdout",
     "output_type": "stream",
     "text": [
      "Hello, world!\n",
      "How are you doing?\n"
     ]
    }
   ],
   "source": [
    "print(\"Hello, world!\")\n",
    "print(\"How are you doing?\")"
   ]
  },
  {
   "cell_type": "markdown",
   "metadata": {},
   "source": [
    "### Practice 1a:\n",
    "Experiment with the **```print```** command by changing one or both of the statements above and adding at least one more print statement."
   ]
  },
  {
   "cell_type": "code",
   "execution_count": 2,
   "metadata": {},
   "outputs": [
    {
     "name": "stdout",
     "output_type": "stream",
     "text": [
      "Hello, world! How's it going?\n",
      "I love to watch soccer....\n",
      "I love to eat tacos!!!\n"
     ]
    }
   ],
   "source": [
    "print(\"Hello, world! How's it going?\")\n",
    "print(\"I love to watch soccer....\")\n",
    "print(\"I love to eat tacos!!!\")"
   ]
  },
  {
   "cell_type": "markdown",
   "metadata": {},
   "source": [
    "### Practice 1b:\n",
    "Fix the code below using what you learned in Concept 1.\n",
    "```print(\"Welcome to our store.\")print(\"How can I help you?\")```"
   ]
  },
  {
   "cell_type": "code",
   "execution_count": 3,
   "metadata": {},
   "outputs": [
    {
     "name": "stdout",
     "output_type": "stream",
     "text": [
      "Welcome to our store.\n",
      "How can I help you?\n"
     ]
    }
   ],
   "source": [
    "print(\"Welcome to our store.\")\n",
    "print(\"How can I help you?\")"
   ]
  },
  {
   "cell_type": "markdown",
   "metadata": {},
   "source": [
    "## Concept 2: Semicolons\n",
    "Instructions in Python can be separated by semicolons."
   ]
  },
  {
   "cell_type": "markdown",
   "metadata": {},
   "source": [
    "### Example 2"
   ]
  },
  {
   "cell_type": "code",
   "execution_count": 4,
   "metadata": {},
   "outputs": [
    {
     "name": "stdout",
     "output_type": "stream",
     "text": [
      "Hello World!\n",
      "How are you doing?\n"
     ]
    }
   ],
   "source": [
    "print(\"Hello World!\");\n",
    "print(\"How are you doing?\");"
   ]
  },
  {
   "cell_type": "markdown",
   "metadata": {},
   "source": [
    "### Practice 2:\n",
    "Display a message that includes your name and your favorite hobby in two different instructions separated by a semicolon. What happens if you write the two **```print```** commands in the same line?"
   ]
  },
  {
   "cell_type": "code",
   "execution_count": 5,
   "metadata": {},
   "outputs": [
    {
     "name": "stdout",
     "output_type": "stream",
     "text": [
      "My name is Tony.\n",
      "My favorite hobby is riding motorcycles.\n"
     ]
    }
   ],
   "source": [
    "print(\"My name is Tony.\");\n",
    "print(\"My favorite hobby is riding motorcycles.\");"
   ]
  },
  {
   "cell_type": "code",
   "execution_count": 6,
   "metadata": {},
   "outputs": [
    {
     "name": "stdout",
     "output_type": "stream",
     "text": [
      "My name is Tony.\n",
      "My favorite hobby is riding motorcycles.\n"
     ]
    }
   ],
   "source": [
    "# Trying to place the commands on the same line\n",
    "print(\"My name is Tony.\");print(\"My favorite hobby is riding motorcycles.\");"
   ]
  },
  {
   "cell_type": "markdown",
   "metadata": {},
   "source": [
    "## Concept 3: More on Semicolons\n",
    "A semicolon is not required at the end of the instruction unless there are several instructions written on the same line."
   ]
  },
  {
   "cell_type": "markdown",
   "metadata": {},
   "source": [
    "### Example 3"
   ]
  },
  {
   "cell_type": "code",
   "execution_count": 7,
   "metadata": {},
   "outputs": [
    {
     "name": "stdout",
     "output_type": "stream",
     "text": [
      "Hi\n",
      "My name is Tony.\n",
      "I enjoy traveling.\n"
     ]
    }
   ],
   "source": [
    "print(\"Hi\");print(\"My name is Tony.\");print(\"I enjoy traveling.\");"
   ]
  },
  {
   "cell_type": "markdown",
   "metadata": {},
   "source": [
    "### Practice 3\n",
    "Fix the following code, keeping the instructions on one line\n",
    "```print(\"Welcome to our store.\")print(\"How can I help you?\")```"
   ]
  },
  {
   "cell_type": "code",
   "execution_count": 8,
   "metadata": {},
   "outputs": [
    {
     "name": "stdout",
     "output_type": "stream",
     "text": [
      "Welcome to our store.\n",
      "How can I help you?\n"
     ]
    }
   ],
   "source": [
    "print(\"Welcome to our store.\");print(\"How can I help you?\")"
   ]
  },
  {
   "cell_type": "markdown",
   "metadata": {},
   "source": [
    "## Concept 4: Backlash\n",
    "If an instruction uses more than one line, we can use the backlash operator (\"\\\") as the last character of the line. Python interprets the line following the backlash as a continuation of the insruction. "
   ]
  },
  {
   "cell_type": "markdown",
   "metadata": {},
   "source": [
    "### Example 4:\n",
    "The following shows an example of an instruction that is written on several lines."
   ]
  },
  {
   "cell_type": "code",
   "execution_count": 9,
   "metadata": {},
   "outputs": [
    {
     "name": "stdout",
     "output_type": "stream",
     "text": [
      "This  is a loooooooooooooooooooooooooooooooooooooooooooonnnnnnggggggggggggggg     strinnnnnnnnnnnnnnnnnnnnnggggggggggggggggg\n"
     ]
    }
   ],
   "source": [
    "print(\"This  is a loooooooooooooooooooooooooooooooooooooooooooonnnnnnggggggggggggggg \\\n",
    "    strinnnnnnnnnnnnnnnnnnnnnggggggggggggggggg\")"
   ]
  },
  {
   "cell_type": "markdown",
   "metadata": {},
   "source": [
    "### Practice 4:\n",
    "Fix the following code, keeping the instruction on four separate lines.\n",
    "```\n",
    "print\n",
    "(\"this is a\n",
    "long string\"\n",
    ")\n",
    "```"
   ]
  },
  {
   "cell_type": "code",
   "execution_count": 10,
   "metadata": {},
   "outputs": [
    {
     "data": {
      "text/plain": [
       "'this is a long string'"
      ]
     },
     "execution_count": 10,
     "metadata": {},
     "output_type": "execute_result"
    }
   ],
   "source": [
    "print\n",
    "(\"this is a \\\n",
    "long string\"\n",
    ")"
   ]
  },
  {
   "cell_type": "markdown",
   "metadata": {},
   "source": [
    "## Concept 5: Case\n",
    "Everything in Python is case-sensitive."
   ]
  },
  {
   "cell_type": "markdown",
   "metadata": {},
   "source": [
    "### Example 5:\n",
    "**```Print```** is not the same as **```print```**. The code will throw an error for the **```Print```** command because it is not a valid Python command."
   ]
  },
  {
   "cell_type": "code",
   "execution_count": 11,
   "metadata": {},
   "outputs": [
    {
     "name": "stdout",
     "output_type": "stream",
     "text": [
      "This will be displayed.\n",
      "=========\n"
     ]
    },
    {
     "ename": "NameError",
     "evalue": "name 'Print' is not defined",
     "output_type": "error",
     "traceback": [
      "\u001b[1;31m---------------------------------------------------------------------------\u001b[0m",
      "\u001b[1;31mNameError\u001b[0m                                 Traceback (most recent call last)",
      "\u001b[1;32mC:\\Users\\TONYLA~1\\AppData\\Local\\Temp/ipykernel_35148/871521130.py\u001b[0m in \u001b[0;36m<module>\u001b[1;34m\u001b[0m\n\u001b[0;32m      1\u001b[0m \u001b[0mprint\u001b[0m\u001b[1;33m(\u001b[0m\u001b[1;34m\"This will be displayed.\"\u001b[0m\u001b[1;33m)\u001b[0m\u001b[1;33m\u001b[0m\u001b[1;33m\u001b[0m\u001b[0m\n\u001b[0;32m      2\u001b[0m \u001b[0mprint\u001b[0m\u001b[1;33m(\u001b[0m\u001b[1;34m\"=========\"\u001b[0m\u001b[1;33m)\u001b[0m\u001b[1;33m\u001b[0m\u001b[1;33m\u001b[0m\u001b[0m\n\u001b[1;32m----> 3\u001b[1;33m \u001b[0mPrint\u001b[0m\u001b[1;33m(\u001b[0m\u001b[1;34m\"This will throw an error.\"\u001b[0m\u001b[1;33m)\u001b[0m\u001b[1;33m\u001b[0m\u001b[1;33m\u001b[0m\u001b[0m\n\u001b[0m",
      "\u001b[1;31mNameError\u001b[0m: name 'Print' is not defined"
     ]
    }
   ],
   "source": [
    "print(\"This will be displayed.\")\n",
    "print(\"=========\")\n",
    "Print(\"This will throw an error.\")"
   ]
  },
  {
   "cell_type": "markdown",
   "metadata": {},
   "source": [
    "### Practice 5:\n",
    "Fix the following code.\n",
    "```\n",
    "print(\"Hi!\");pruuint(\"My name is Tony.\");Print(\"I enjoy traveling.\");\n",
    "```"
   ]
  },
  {
   "cell_type": "code",
   "execution_count": 12,
   "metadata": {},
   "outputs": [
    {
     "name": "stdout",
     "output_type": "stream",
     "text": [
      "Hi!\n",
      "My name is Tony.\n",
      "I enjoy traveling.\n"
     ]
    }
   ],
   "source": [
    "print(\"Hi!\");print(\"My name is Tony.\");print(\"I enjoy traveling.\");"
   ]
  },
  {
   "cell_type": "markdown",
   "metadata": {},
   "source": [
    "## Concept 6: Comments\n",
    "We use comments to document our code."
   ]
  },
  {
   "cell_type": "markdown",
   "metadata": {},
   "source": [
    "### Example 6:\n",
    "In Python, we precede comments with the hashtag symbol (#). Python will ignore all text to the right of the hashtag symbol but will read the next line if there is no hashtag on that line. "
   ]
  },
  {
   "cell_type": "code",
   "execution_count": 13,
   "metadata": {},
   "outputs": [
    {
     "name": "stdout",
     "output_type": "stream",
     "text": [
      "This is an instruction\n"
     ]
    }
   ],
   "source": [
    "# This is a comment\n",
    "# This is another comment\n",
    "print(\"This is an instruction\")"
   ]
  },
  {
   "cell_type": "markdown",
   "metadata": {},
   "source": [
    "### Practice 6:\n",
    "Replace the **```print```** commands with comments that include the same text. What happens when you run the program after making the changes?\n",
    "```\n",
    "print(\"This is a computer program that prints the following information:\")\n",
    "print(\"User's name\")\n",
    "print(\"User's age\")\n",
    "print(\"List of states where the user has lived\")\n",
    "```"
   ]
  },
  {
   "cell_type": "code",
   "execution_count": 14,
   "metadata": {},
   "outputs": [],
   "source": [
    "# This is a computer program that prints the following information:\n",
    "# User's name\n",
    "# User's age\n",
    "# List of states where the user has lived"
   ]
  },
  {
   "cell_type": "code",
   "execution_count": null,
   "metadata": {},
   "outputs": [],
   "source": []
  }
 ],
 "metadata": {
  "interpreter": {
   "hash": "fb00f0c01367cd29234ef98d6ee35d5dad54fff2cb1a8b567bc06dceecc7a7af"
  },
  "kernelspec": {
   "display_name": "Python 3.8.8 ('base')",
   "language": "python",
   "name": "python3"
  },
  "language_info": {
   "codemirror_mode": {
    "name": "ipython",
    "version": 3
   },
   "file_extension": ".py",
   "mimetype": "text/x-python",
   "name": "python",
   "nbconvert_exporter": "python",
   "pygments_lexer": "ipython3",
   "version": "3.8.8"
  },
  "orig_nbformat": 4
 },
 "nbformat": 4,
 "nbformat_minor": 2
}
