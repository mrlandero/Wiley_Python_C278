{
 "cells": [
  {
   "cell_type": "markdown",
   "metadata": {},
   "source": [
    "## Concept 1: Input Function\n",
    "Programs often rely on user input. We can use the **```input```** function in Python to ask for user input.<br>\n",
    "\n",
    "The syntax for an input statement is **```input(\"user prompt\")```**."
   ]
  },
  {
   "cell_type": "markdown",
   "metadata": {},
   "source": [
    "### Example 1:\n",
    "In the following example, we want to get input from the user. <br>\n",
    "\n",
    "When we run the code, Python prompts the user for a value and displays a text box for the user input. After the user enters the input, Python automatically displays the input value."
   ]
  },
  {
   "cell_type": "code",
   "execution_count": 1,
   "metadata": {},
   "outputs": [
    {
     "data": {
      "text/plain": [
       "'Tony'"
      ]
     },
     "execution_count": 1,
     "metadata": {},
     "output_type": "execute_result"
    }
   ],
   "source": [
    "input(\"Please enter your name: \")"
   ]
  },
  {
   "cell_type": "markdown",
   "metadata": {},
   "source": [
    "### Practice 1:\n",
    "Create a program that prompts the user for their name and three states they have visited.<br>\n",
    "\n",
    "Run the program and enter appropriate values at each prompt. Pay attention to what Python outputs for each prompt. What happens if you add a third or fourth prompt to the code?"
   ]
  },
  {
   "cell_type": "code",
   "execution_count": 4,
   "metadata": {},
   "outputs": [],
   "source": [
    "# Ask user for their name\n",
    "name = input(\"Please enter your name: \")\n",
    "\n",
    "# Ask user for 3 states where they have lived\n",
    "state1,state2,state3 = input(\"Name 3 states where you have lived: (Separated by spaces)\").split()"
   ]
  },
  {
   "cell_type": "code",
   "execution_count": 5,
   "metadata": {},
   "outputs": [
    {
     "name": "stdout",
     "output_type": "stream",
     "text": [
      "Hi Jon! I see that you have lived in Alaska, Maine, and Texas!\n"
     ]
    }
   ],
   "source": [
    "print(f\"Hi {name}! I see that you have lived in {state1}, {state2}, and {state3}!\")"
   ]
  },
  {
   "cell_type": "markdown",
   "metadata": {},
   "source": [
    "## Concept 2: Storing Input\n",
    "In the practice 1 activity above, you should have noticed that Python outputs only the last input value in a series of prompts. This is because it automatically stores only the most recent input."
   ]
  },
  {
   "cell_type": "markdown",
   "metadata": {},
   "source": [
    "### Example 2:\n",
    "In the following example, we create a variable, **```name```**, and associate an input with that variable. "
   ]
  },
  {
   "cell_type": "code",
   "execution_count": 6,
   "metadata": {},
   "outputs": [
    {
     "name": "stdout",
     "output_type": "stream",
     "text": [
      "Your name is: \n",
      "Jon\n"
     ]
    }
   ],
   "source": [
    "name = input(\"Please enter your first name: \")\n",
    "print(\"Your name is: \")\n",
    "print(name)"
   ]
  },
  {
   "cell_type": "markdown",
   "metadata": {},
   "source": [
    "### Practice 2:\n",
    "Write code that asks the user for their first name as one input and their last name as a second input and stores each input in a separate variable.<br>\n",
    "\n",
    "Use the **```print```** command to display the last name and the first name."
   ]
  },
  {
   "cell_type": "code",
   "execution_count": 7,
   "metadata": {},
   "outputs": [
    {
     "name": "stdout",
     "output_type": "stream",
     "text": [
      "Your last name is: \n",
      "Smith\n",
      "And your first name is: \n",
      "Jon\n"
     ]
    }
   ],
   "source": [
    "# Ask user for first name\n",
    "f_name = input(\"What is your first name? \")\n",
    "\n",
    "# Ask user for last name\n",
    "l_name = input(\"What is your last name? \")\n",
    "\n",
    "# Print out the user input\n",
    "print(\"Your last name is: \")\n",
    "print(l_name)\n",
    "print(\"And your first name is: \")\n",
    "print(f_name)"
   ]
  },
  {
   "cell_type": "code",
   "execution_count": null,
   "metadata": {},
   "outputs": [],
   "source": []
  }
 ],
 "metadata": {
  "interpreter": {
   "hash": "fb00f0c01367cd29234ef98d6ee35d5dad54fff2cb1a8b567bc06dceecc7a7af"
  },
  "kernelspec": {
   "display_name": "Python 3.8.8 ('base')",
   "language": "python",
   "name": "python3"
  },
  "language_info": {
   "codemirror_mode": {
    "name": "ipython",
    "version": 3
   },
   "file_extension": ".py",
   "mimetype": "text/x-python",
   "name": "python",
   "nbconvert_exporter": "python",
   "pygments_lexer": "ipython3",
   "version": "3.8.8"
  },
  "orig_nbformat": 4
 },
 "nbformat": 4,
 "nbformat_minor": 2
}
