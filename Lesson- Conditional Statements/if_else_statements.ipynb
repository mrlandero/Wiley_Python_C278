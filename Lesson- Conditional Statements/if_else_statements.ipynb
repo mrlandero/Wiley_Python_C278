{
 "cells": [
  {
   "cell_type": "markdown",
   "metadata": {},
   "source": [
    "## Concept 1: If-Else\n",
    "When we use a simple **```if```** statement, we evalaute a single condition and produce an outcome based on the state of that condition. While we can include a series of **```if```** statements (and even build complex conditions by comparing individaul **```if```** conditions), this approach has the disadvantage that Python will evaluate each statement as it goes through the code, even if only one of the statements can logically be True.<br>\n",
    "\n",
    "Another approach is to use an **```if-else```** statement instead of two (or more) individual **```if```** statements. The advantage of **```if-else```** is that the **```else```** part of the statement will be evaluated only if the **```if```** condition is not met. If the initial condition is met, Python can skip the remaining code in the block, which can help speed up the runtime of the code. However, a standard **```if-else```** block supports only two outcomes: one for situations where the condition is True and the other for where the condition is False."
   ]
  },
  {
   "cell_type": "markdown",
   "metadata": {},
   "source": [
    "### Example 1:\n",
    "In this example, we compare a stored username with a guessed username. In this scenario, there are only two possible outcomes: either the usernames are the same or they are not.<br>\n",
    "\n",
    "While we could use two separate **```if```** statements to compare the values, the **```if-else```** structure allows us to state the comparison exactly one time. If the values are the same, Python will display the \"if-True\" response and skip over the **```else```** portion of the statement. If the initial **```if```** statement is false, Python skips the instructions in that block and goes straight to the **```else```** block to execute the instructions there. "
   ]
  },
  {
   "cell_type": "code",
   "execution_count": 1,
   "metadata": {},
   "outputs": [
    {
     "name": "stdout",
     "output_type": "stream",
     "text": [
      "Access Denied!\n"
     ]
    }
   ],
   "source": [
    "correct_username = \"admin\"\n",
    "guessed_username = \"Admin\"\n",
    "\n",
    "# The if statement will display only if the guessed username is equal to the correct username\n",
    "# The else statement will display only if the guessed username is not equal to the correct username\n",
    "if correct_username == guessed_username:\n",
    "    print(\"Access Granted!\")\n",
    "else:\n",
    "    print(\"Access Denied!\")"
   ]
  },
  {
   "cell_type": "markdown",
   "metadata": {},
   "source": [
    "### Practice 1:\n",
    "Change the code below to use an **```if-else```** statement instead of two separate if-statements."
   ]
  },
  {
   "cell_type": "code",
   "execution_count": 4,
   "metadata": {},
   "outputs": [
    {
     "name": "stdout",
     "output_type": "stream",
     "text": [
      "This person is someone else's sibling.\n"
     ]
    }
   ],
   "source": [
    "name = \"Mary\"\n",
    "# if name == \"John\":\n",
    "#     print(\"This person is my sibling.\")\n",
    "# if name != \"John\":\n",
    "#     print(\"This person is someone else's sibling.\")\n",
    "if name == \"John\":\n",
    "    print(\"This person is my sibling.\")\n",
    "else:\n",
    "    print(\"This person is someone else's sibling.\")"
   ]
  },
  {
   "cell_type": "markdown",
   "metadata": {},
   "source": [
    "## Concept 2: Conditional Satatements\n",
    "We can use a variety of conditional statements in an **```if-else```** statement, including comparing numbers.<br>\n",
    "\n",
    "The most common conditional operators used to compare numbers are:<br>\n",
    "* **```>:```** greater than<br>\n",
    "* **```>=:```** greater than or equal to<br>\n",
    "* **```<:```** less than<br>\n",
    "* **```<=:```** less than or equal to<br>\n",
    "* **```==:```** equal to<br>\n",
    "* **```!=:```** not equal to<br>\n",
    "\n",
    "A standard **```if-else```** block uses only one condition. If that condition is True, the first set of instructions are followed. If that condition is False, the instructions in the **```else```** block are followed."
   ]
  },
  {
   "cell_type": "markdown",
   "metadata": {},
   "source": [
    "### Example 2:\n",
    "In the following example, we have a single condition: **```age >= 16```**. If the person's age is greater than or equal to 16, the person can drive. If the person is younger than 16, they cannot drive. "
   ]
  },
  {
   "cell_type": "code",
   "execution_count": 5,
   "metadata": {},
   "outputs": [
    {
     "name": "stdout",
     "output_type": "stream",
     "text": [
      "This person is allowed to drive.\n"
     ]
    }
   ],
   "source": [
    "age = 21\n",
    "\n",
    "# Condition will evaluate to True or False\n",
    "condition = (age >= 16) \n",
    "\n",
    "# True if the value of the age is greater or equal to 16\n",
    "# False if the value of the age is less than 16\n",
    "if condition == True:\n",
    "    print(\"This person is allowed to drive.\")\n",
    "else:\n",
    "    print(\"This person is NOT allowed to drive.\")"
   ]
  },
  {
   "cell_type": "markdown",
   "metadata": {},
   "source": [
    "### Practice 2:\n",
    "Create a short computer program that uses an **```if-else```** statement.<br>\n",
    "\n",
    "You may use whatever scenarios and conditions you wish."
   ]
  },
  {
   "cell_type": "code",
   "execution_count": 7,
   "metadata": {},
   "outputs": [
    {
     "name": "stdout",
     "output_type": "stream",
     "text": [
      "Congratulations, the Astros have made the playoffs!\n",
      "We all knew the Yankees sucked!\n"
     ]
    }
   ],
   "source": [
    "wins_for_playoffs = 95\n",
    "astros_wins = 96\n",
    "yankees_wins = 62\n",
    "\n",
    "if astros_wins >= wins_for_playoffs:\n",
    "    print(\"Congratulations, the Astros have made the playoffs!\")\n",
    "else:\n",
    "    print(\"There's always next year.\")\n",
    "\n",
    "if yankees_wins >= wins_for_playoffs:\n",
    "    print(\"Congratualtions, the Yankees have made the playoffs!\")\n",
    "else:\n",
    "    print(\"We all knew the Yankees sucked!\")"
   ]
  },
  {
   "cell_type": "markdown",
   "metadata": {},
   "source": [
    "## Concept 3: Embedded Conditions\n",
    "In the examples above, we created a variable that has the value True or False, and we used the variable in the conditional statement.<br>\n",
    "**```condition = (age >= 16)```**<br>\n",
    "&nbsp;&nbsp;&nbsp;&nbsp;&nbsp;**```#condition will evaluate to True or False```**<br>\n",
    "**```if condition == True:```**<br>\n",
    "\n",
    "We can streamline the code by embedding the condition directly in the **```if```** statement.<br>\n",
    "**```if age >= 16:```**"
   ]
  },
  {
   "cell_type": "markdown",
   "metadata": {},
   "source": [
    "### Example 3:\n",
    "The following example repeats the driving age example given earlier, except that the conditional statement is embedded in the **```if```** statement, rather than existing as a separate variable."
   ]
  },
  {
   "cell_type": "code",
   "execution_count": 11,
   "metadata": {},
   "outputs": [
    {
     "name": "stdout",
     "output_type": "stream",
     "text": [
      "This person is allowed to drive.\n"
     ]
    }
   ],
   "source": [
    "age = 21\n",
    "\n",
    "# The if print command will only display if the age is greater or equal to 16\n",
    "# The else print command will only display if the age is less than 16\n",
    "if age >= 16:\n",
    "    print(\"This person is allowed to drive.\")\n",
    "else:\n",
    "    print(\"This person is NOT allowed to drive.\")"
   ]
  },
  {
   "cell_type": "markdown",
   "metadata": {},
   "source": [
    "### Practice 3:\n",
    "Create a computer program where:<br>\n",
    "* The program prompts the user to enter a single letter.<br>\n",
    "* The program checks if the entered letter is upper or lowercase.<br>\n",
    "&nbsp;&nbsp;&nbsp;&nbsp;&nbsp;&nbsp; * If the character is uppercase, display the message ***The user entered an upper case letter!***<br>\n",
    "&nbsp;&nbsp;&nbsp;&nbsp;&nbsp;&nbsp; * If the character is lowercase, display the message ***The user entered a lowercase letter!***<br>\n",
    "***Hint*** - Python supports the method **```string.isupper()```** and **```string.islower()```** to evaluate the case of characters in a string. Neither method takes arguments."
   ]
  },
  {
   "cell_type": "code",
   "execution_count": 13,
   "metadata": {},
   "outputs": [
    {
     "name": "stdout",
     "output_type": "stream",
     "text": [
      "The user entered a lowercase letter!\n"
     ]
    }
   ],
   "source": [
    "# Prompt user to enter a letter\n",
    "user_letter = input(\"Please enter 1 letter in either upper- or lowercase: \")\n",
    "\n",
    "# Conditional Statements\n",
    "if user_letter.islower():\n",
    "    print(\"The user entered a lowercase letter!\")\n",
    "else:\n",
    "    print(\"The user entered an uppercase letter!\")"
   ]
  },
  {
   "cell_type": "code",
   "execution_count": null,
   "metadata": {},
   "outputs": [],
   "source": []
  }
 ],
 "metadata": {
  "kernelspec": {
   "display_name": "Python 3.9.6 64-bit",
   "language": "python",
   "name": "python3"
  },
  "language_info": {
   "codemirror_mode": {
    "name": "ipython",
    "version": 3
   },
   "file_extension": ".py",
   "mimetype": "text/x-python",
   "name": "python",
   "nbconvert_exporter": "python",
   "pygments_lexer": "ipython3",
   "version": "3.9.6"
  },
  "orig_nbformat": 4,
  "vscode": {
   "interpreter": {
    "hash": "9cc6a95a29893daac463ce220390149ef03aeb7175da3903cfd40cfc8442e04e"
   }
  }
 },
 "nbformat": 4,
 "nbformat_minor": 2
}
