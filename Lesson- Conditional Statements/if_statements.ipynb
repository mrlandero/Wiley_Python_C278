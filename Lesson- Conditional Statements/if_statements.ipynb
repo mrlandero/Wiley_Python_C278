{
 "cells": [
  {
   "cell_type": "markdown",
   "metadata": {},
   "source": [
    "## Concept 1: Basic Conditional Statements\n",
    "In every programming language, it is important to be able to execute an appropriate block of code depending on some condition. That is the purpose of conditional statements. Python supports a variety of conditional statements.<br>\n",
    "\n",
    "The **```if```** statement creates a basic conditional statement that executes a block of code if a condition is true, using the syntax:<br>\n",
    "**```if condition:```**<br>\n",
    "&nbsp;&nbsp;&nbsp;&nbsp;**```statement```**<br>\n",
    "\n",
    "where **```condition```** is a statement that can evaluate to either True or False. If the condition evaluates as True, Python will execute the statement that follows. If the condition evaluates as False, Python will skip that statement and go on to the next set of instructions.<br>\n",
    "\n",
    "In some cases, we want to test if the condition False rather than only testing for True. For this reason, we often explicitly state the outcome of the condition. For example, we can use the following statement if we explicitly want to test for True:<br>\n",
    "**```if condition == True:```**<br>\n",
    "\n",
    "Or we can use the following variation when we want to test for False:<br>\n",
    "**```if condition == False```**<br>\n",
    "\n",
    "We frequently use flowcharts to create a visual representation of the steps a program will follow when there is an if-statement, using a diamond to represent the condition. The diamond normally has one input, a question that evaluates to Yes (True) or No (False), with one output for each possibility.<br>\n",
    "\n",
    "&nbsp;&nbsp;&nbsp;&nbsp;&nbsp;&nbsp;&nbsp;&nbsp;![Flowchart](flowchart.png)<br>\n",
    "\n",
    "You do not have to use flowcharts if you don't want to, but they can be very useful to help you step through a program, both before you start to write the code and to troubleshoot programs that produce unexpected results. "
   ]
  },
  {
   "cell_type": "markdown",
   "metadata": {},
   "source": [
    "### Example 1:\n",
    "The following code shows an example of an **```if```** statement in Python.<br>\n",
    "\n",
    "Note that we use simply **```if condition:```** to test for True, and we provide another conditional statement that will produce a different output if the condition is false.<br>\n",
    "\n",
    "In this case, the result is False because Python is case-sensitive, so ***admIn*** is not the same as ***admin***."
   ]
  },
  {
   "cell_type": "code",
   "execution_count": 3,
   "metadata": {},
   "outputs": [
    {
     "name": "stdout",
     "output_type": "stream",
     "text": [
      "Password is not correct!\n"
     ]
    }
   ],
   "source": [
    "password = \"admIn\"\n",
    "\n",
    "# Condition will evaluate to True or False\n",
    "# True if the value of the password is equal to \"admIn\"\n",
    "# False if the value of the password is not equal to \"admIn\"\n",
    "condition = (password == \"admin\")\n",
    "\n",
    "# If condition is equal to true, which means the password is correct\n",
    "if condition:\n",
    "    print(\"Password is correct\")\n",
    "\n",
    "# If condition is equal to false, which means the password in not correct\n",
    "if condition == False:\n",
    "    print(\"Password is not correct!\")"
   ]
  },
  {
   "cell_type": "markdown",
   "metadata": {},
   "source": [
    "### Practice 1:\n",
    "Fix the code above so that the code returns \"Password is correct\""
   ]
  },
  {
   "cell_type": "code",
   "execution_count": 4,
   "metadata": {},
   "outputs": [
    {
     "name": "stdout",
     "output_type": "stream",
     "text": [
      "Password is correct\n"
     ]
    }
   ],
   "source": [
    "password = \"admIn\"\n",
    "\n",
    "# Condition will evaluate to True or False\n",
    "# True if the value of the password is equal to \"admIn\"\n",
    "# False if the value of the password is not equal to \"admIn\"\n",
    "condition = (password == \"admIn\")\n",
    "\n",
    "# If condition is equal to true, which means the password is correct\n",
    "if condition:\n",
    "    print(\"Password is correct\")\n",
    "\n",
    "# If condition is equal to false, which means the password in not correct\n",
    "if condition == False:\n",
    "    print(\"Password is not correct!\")"
   ]
  },
  {
   "cell_type": "markdown",
   "metadata": {},
   "source": [
    "## Concept 2: Conditional Operators\n",
    "We can use a variety of conditional operations in an **```if```** statement, including comparing numbers.<br>\n",
    "\n",
    "The most common conditional operators used to compare numbers are:<br>\n",
    "* **```>:```** greater than<br>\n",
    "* **```>=:```** greater than or equal to<br>\n",
    "* **```<:```** less than<br>\n",
    "* **```<=:```** less than or equal to<br>\n",
    "* **```==:```** equal to<br>\n",
    "* **```!=:```** not equal to<br>\n",
    "\n",
    "The key point to remember is that conditional operators produce a boolean output that is either true or false. This makes them very useful when setting up programs whose output depends on one or more conditions that exist at run time."
   ]
  },
  {
   "cell_type": "markdown",
   "metadata": {},
   "source": [
    "### Example 2:\n",
    "In the following example, we want to determine if a person has the right to drive based on their age, where people 16 or older can drive.<br>\n",
    "\n",
    "We start by declaring an age, we create a condition that compares that age to the value of 16 **```(>= 16)```**, and then we determine whether or not the person can drive.<br>\n",
    "\n",
    "As an alternative, we could have used the conditional statement **```> 15```** to produce the same result, or even reversed the True and False conditions using the conditional statement **```< 16```**. All of these are valid options for this scenario."
   ]
  },
  {
   "cell_type": "code",
   "execution_count": 7,
   "metadata": {},
   "outputs": [
    {
     "name": "stdout",
     "output_type": "stream",
     "text": [
      "This person is allowed to drive.\n"
     ]
    }
   ],
   "source": [
    "age = 21\n",
    "\n",
    "# Condition will evaluate to True or False\n",
    "# True if the value of the age is greater or equal to 16\n",
    "# False if the value of the age is less than 16\n",
    "condition = (age >= 16)\n",
    "if condition == True:\n",
    "    print(\"This person is allowed to drive.\")\n",
    "if condition == False:\n",
    "    print(\"This person is NOT allowed to drive.\")"
   ]
  },
  {
   "cell_type": "markdown",
   "metadata": {},
   "source": [
    "### Practice 2a:\n",
    "Revise the code above to use the conditional statement **```< 16```** to produce the same result.  "
   ]
  },
  {
   "cell_type": "code",
   "execution_count": 9,
   "metadata": {},
   "outputs": [
    {
     "name": "stdout",
     "output_type": "stream",
     "text": [
      "This person is allowed to drive.\n"
     ]
    }
   ],
   "source": [
    "age = 21\n",
    "\n",
    "# Condition will evaluate to True or False\n",
    "# True if the value of the age is greater or equal to 16\n",
    "# False if the value of the age is less than 16\n",
    "condition = (age < 16)\n",
    "if condition == False:\n",
    "    print(\"This person is allowed to drive.\")\n",
    "if condition == True:\n",
    "    print(\"This person is NOT allowed to drive.\")"
   ]
  },
  {
   "cell_type": "markdown",
   "metadata": {},
   "source": [
    "### Practice 2b:\n",
    "Complete the following code by checking:<br>\n",
    "* If the user input is greater than 10, display the message ***Wrong Guess: Too High!***.<br>\n",
    "* If the user input is equal to 10, display the message ***Correct Guess: Great Job!!***.<br>\n",
    "* If the user input is lower than 10, display the message ***Wrong Guess: Too Low!***."
   ]
  },
  {
   "cell_type": "code",
   "execution_count": 13,
   "metadata": {},
   "outputs": [
    {
     "name": "stdout",
     "output_type": "stream",
     "text": [
      "Welcome to the Guess My Number Game!\n",
      "===============\n",
      "Your guess was: 15\n",
      "===============\n",
      "Wrong Guess: Too High!\n"
     ]
    }
   ],
   "source": [
    "print(\"Welcome to the Guess My Number Game!\")\n",
    "print(\"===============\")\n",
    "# Ask user for input/convert it to an int, and store it in a variable user_input\n",
    "user_input = int(input(\"Try to guess my number between 1-20: \"))\n",
    "# Print the user input\n",
    "print(\"Your guess was:\",user_input)\n",
    "print(\"===============\")\n",
    "# Implement if statements\n",
    "if user_input < 10:\n",
    "    print(\"Wrong Guess: Too Low!\")\n",
    "if user_input == 10:\n",
    "    print(\"Correct Guess: Great Job!!\")\n",
    "if user_input > 10:\n",
    "    print(\"Wrong Guess: Too High!\")"
   ]
  },
  {
   "cell_type": "markdown",
   "metadata": {},
   "source": [
    "## Concept 3: Embedded Conditions\n",
    "In the examples above, we created a variable **```condition```** to storw the output of the conditional statement, and then we referenced the variable in the **```if```** statement. This is a good approach if you are likely to test the same condition multiple times, but if that isn't the case, we can simplify the code by embedding conditions directly in the **```if```** statement."
   ]
  },
  {
   "cell_type": "markdown",
   "metadata": {},
   "source": [
    "### Example 3:\n",
    "In this example, we compare two values in the if-statement, rather than creating a separate variable, and that comparison statement produces a result of True or False."
   ]
  },
  {
   "cell_type": "code",
   "execution_count": 14,
   "metadata": {},
   "outputs": [
    {
     "name": "stdout",
     "output_type": "stream",
     "text": [
      "This person is allowed to drive.\n"
     ]
    }
   ],
   "source": [
    "age = 21\n",
    "# This print command will only display if the age is greater than or equal to 16\n",
    "if age >= 16:\n",
    "    print(\"This person is allowed to drive.\")\n",
    "# This print command will only display if the age is less than 16\n",
    "if age < 16:\n",
    "    print(\"This person is NOT allowed to drive.\")"
   ]
  },
  {
   "cell_type": "markdown",
   "metadata": {},
   "source": [
    "### Practice 3a:\n",
    "Revise the code above to use 15 instead of 16 as the base value, but producing the same result, where people under 16 cannot drive and people 16 or over can drive."
   ]
  },
  {
   "cell_type": "code",
   "execution_count": 18,
   "metadata": {},
   "outputs": [
    {
     "name": "stdout",
     "output_type": "stream",
     "text": [
      "This person is allowed to drive.\n"
     ]
    }
   ],
   "source": [
    "age = 21\n",
    "# This print command will only display if the age is greater than or equal to 16\n",
    "if age > 15:\n",
    "    print(\"This person is allowed to drive.\")\n",
    "# This print command will only display if the age is less than 16\n",
    "if age <= 15:\n",
    "    print(\"This person is NOT allowed to drive.\")"
   ]
  },
  {
   "cell_type": "markdown",
   "metadata": {},
   "source": [
    "### Practice 3b:\n",
    "Finish the following program by adding the following steps:<br>\n",
    "* If the username is equal to ***admin***, use the input command to ask the password from the user and store it in a variable named **```password```**.<br>\n",
    "* If the username is not equal to ***admin***, display the message ***access denied!***."
   ]
  },
  {
   "cell_type": "code",
   "execution_count": 24,
   "metadata": {},
   "outputs": [
    {
     "name": "stdout",
     "output_type": "stream",
     "text": [
      "Access Denied!\n"
     ]
    }
   ],
   "source": [
    "username = input(\"Please enter your username: \")\n",
    "# Your code goes here\n",
    "if username == \"admin\":\n",
    "    password = input(\"Please enter your password: \")\n",
    "    print(\"Your username is:\",username)\n",
    "    print(\"Your password is: \" + (\"*\" * len(password)))\n",
    "if username != \"admin\":\n",
    "    print(\"Access Denied!\")"
   ]
  },
  {
   "cell_type": "markdown",
   "metadata": {},
   "source": [
    "## Concept 4: Comparing Conditions\n",
    "When we want to compare two conditional statements in the same statement, we can use the following operators:<br>\n",
    "* **```and:```** produces a value of True only if both conditional statements are true; otherwise, the result is False.<br>\n",
    "* **```or:```** produces a value of True if either (or both) of the conditional statements is true; the result is False only if both conditional statements are false."
   ]
  },
  {
   "cell_type": "markdown",
   "metadata": {},
   "source": [
    "### Example 4:\n",
    "This example generates three different conditions to determine if the user can log in:<br>\n",
    "* We first generate a stored username and password that we will use for comparison.<br>\n",
    "* We then provide a guessed username and password to compare with the stored values. In this case, we hard code the values, but we could also prompt the user for these values instead.<br>\n",
    "* We compare the guessed username to the stored username to produce **```condition_1```**, which is True if both usernames are the same.<br>\n",
    "* We compare the guessed password to the stored password to produce **```condition_2```**, which is True if both passwords are the same.<br>\n",
    "* Finally, we check that the guessed username AND the guessed password match the stored values for **```condition_3```**. This statement is True only if both **```condition_1```** and **```condition_2```** are true, using the **```and```** operator."
   ]
  },
  {
   "cell_type": "code",
   "execution_count": 33,
   "metadata": {},
   "outputs": [
    {
     "name": "stdout",
     "output_type": "stream",
     "text": [
      "False\n",
      "True\n",
      "False\n",
      "Access Denied!\n"
     ]
    }
   ],
   "source": [
    "correct_username = \"admin\"\n",
    "correct_password = \"FgheXT254d\"\n",
    "\n",
    "guesse_username = \"Admin\"\n",
    "guessed_password = \"FgheXT254d\"\n",
    "\n",
    "# Condition_1 will evaluate to True or False\n",
    "# It evaluates to True, if the guessed username is equal to the correct username\n",
    "# It evaluates to False, if the guessed username is not equal to the correct username\n",
    "condition_1 = (guesse_username == correct_username)\n",
    "print(condition_1)\n",
    "\n",
    "# Condition_2 will evaluate to True or False\n",
    "# It evaluates to True, if the guessed password is equal to the correct password\n",
    "# It evaluates to False, if the guessed password is not equal to the correct password\n",
    "condition_2 = (guessed_password == correct_password)\n",
    "print(condition_2)\n",
    "\n",
    "# Condition_3 will evaluate to True or False\n",
    "# It evaluates to True, if the guessed username is equal to the correct username and\n",
    "# the guessed password is equal to the correct password\n",
    "# It evaluates to False, if the guessed username is not equal to the correct username or\n",
    "# the guessed password is not equal to the correct password\n",
    "condition_3 = (condition_1 == True) and (condition_2 == True)\n",
    "print(condition_3)\n",
    "\n",
    "# If condition_3 is equal to True, it means that both the username and password\n",
    "# were guessed correctly\n",
    "if condition_3 == True:\n",
    "    print(\"Access Granted!\")\n",
    "\n",
    "# If condition_3 is equal to False, it means that either username or password\n",
    "# (or both) were not guessed correctly\n",
    "if condition_3 == False:\n",
    "    print(\"Access Denied!\") "
   ]
  },
  {
   "cell_type": "markdown",
   "metadata": {},
   "source": [
    "### Practice 4:\n",
    "Change the code above to:<br>\n",
    "* Ask the user for a username using the input command and store the input in **```guessed_username```**.<br>\n",
    "* Ask the user for a password using the input command and store the input in **```guessed_password```**.<br>\n",
    "* Check if the user entered the correct username and password.<br>\n",
    "* Display an appropriate message in any case."
   ]
  },
  {
   "cell_type": "code",
   "execution_count": 35,
   "metadata": {},
   "outputs": [
    {
     "name": "stdout",
     "output_type": "stream",
     "text": [
      "The username you entered is: Admin\n",
      "The password you entered is: **********\n",
      "===============\n",
      "Access Denied!\n"
     ]
    }
   ],
   "source": [
    "correct_username = \"admin\"\n",
    "correct_password = \"FgheXT254d\"\n",
    "\n",
    "guessed_username = input(\"Please enter your username: \")\n",
    "guessed_password = input(\"Please enter your password: \")\n",
    "\n",
    "# Condition_1 will evaluate to True or False\n",
    "# It evaluates to True, if the guessed username is equal to the correct username\n",
    "# It evaluates to False, if the guessed username is not equal to the correct username\n",
    "condition_1 = (guessed_username == correct_username)\n",
    "\n",
    "# Condition_2 will evaluate to True or False\n",
    "# It evaluates to True, if the guessed password is equal to the correct password\n",
    "# It evaluates to False, if the guessed password is not equal to the correct password\n",
    "condition_2 = (guessed_password == correct_password)\n",
    "\n",
    "# Condition_3 will evaluate to True or False\n",
    "# It evaluates to True, if the guessed username is equal to the correct username and\n",
    "# the guessed password is equal to the correct password\n",
    "# It evaluates to False, if the guessed username is not equal to the correct username or\n",
    "# the guessed password is not equal to the correct password\n",
    "condition_3 = (condition_1 == True) and (condition_2 == True)\n",
    "\n",
    "# Display the values entered by the user\n",
    "print(\"The username you entered is:\", guessed_username)\n",
    "print(\"The password you entered is: \" + ('*' * len(guessed_password)))\n",
    "print(\"===============\")\n",
    "\n",
    "# If condition_3 is equal to True, it means that both the username and password\n",
    "# were guessed correctly\n",
    "if condition_3 == True:\n",
    "    print(\"Access Granted!\")\n",
    "\n",
    "# If condition_3 is equal to False, it means that either username or password\n",
    "# (or both) were not guessed correctly\n",
    "if condition_3 == False:\n",
    "    print(\"Access Denied!\") "
   ]
  },
  {
   "cell_type": "markdown",
   "metadata": {},
   "source": [
    "### Challenge Activity:\n",
    "Usernames are often not case sensitive, while passwords typically are case-sensitive.<br>\n",
    "\n",
    "Update the code above so that the user can enter the username in any case they wish ans still log in if they have the correct (case-sensitive) password."
   ]
  },
  {
   "cell_type": "code",
   "execution_count": 38,
   "metadata": {},
   "outputs": [
    {
     "name": "stdout",
     "output_type": "stream",
     "text": [
      "The username you entered is: admin\n",
      "The password you entered is: **********\n",
      "===============\n",
      "Access Granted!\n"
     ]
    }
   ],
   "source": [
    "correct_username = \"admin\"\n",
    "correct_username = correct_username.lower()\n",
    "correct_password = \"FgheXT254d\"\n",
    "\n",
    "guessed_username = input(\"Please enter your username: \").lower()\n",
    "guessed_password = input(\"Please enter your password: \")\n",
    "\n",
    "# Condition_1 will evaluate to True or False\n",
    "# It evaluates to True, if the guessed username is equal to the correct username\n",
    "# It evaluates to False, if the guessed username is not equal to the correct username\n",
    "condition_1 = (guessed_username == correct_username)\n",
    "\n",
    "# Condition_2 will evaluate to True or False\n",
    "# It evaluates to True, if the guessed password is equal to the correct password\n",
    "# It evaluates to False, if the guessed password is not equal to the correct password\n",
    "condition_2 = (guessed_password == correct_password)\n",
    "\n",
    "# Condition_3 will evaluate to True or False\n",
    "# It evaluates to True, if the guessed username is equal to the correct username and\n",
    "# the guessed password is equal to the correct password\n",
    "# It evaluates to False, if the guessed username is not equal to the correct username or\n",
    "# the guessed password is not equal to the correct password\n",
    "condition_3 = (condition_1 == True) and (condition_2 == True)\n",
    "\n",
    "# Display the values entered by the user\n",
    "print(\"The username you entered is:\", guessed_username)\n",
    "print(\"The password you entered is: \" + ('*' * len(guessed_password)))\n",
    "print(\"===============\")\n",
    "\n",
    "# If condition_3 is equal to True, it means that both the username and password\n",
    "# were guessed correctly\n",
    "if condition_3 == True:\n",
    "    print(\"Access Granted!\")\n",
    "\n",
    "# If condition_3 is equal to False, it means that either username or password\n",
    "# (or both) were not guessed correctly\n",
    "if condition_3 == False:\n",
    "    print(\"Access Denied!\") "
   ]
  },
  {
   "cell_type": "code",
   "execution_count": null,
   "metadata": {},
   "outputs": [],
   "source": []
  }
 ],
 "metadata": {
  "kernelspec": {
   "display_name": "Python 3.9.6 64-bit",
   "language": "python",
   "name": "python3"
  },
  "language_info": {
   "codemirror_mode": {
    "name": "ipython",
    "version": 3
   },
   "file_extension": ".py",
   "mimetype": "text/x-python",
   "name": "python",
   "nbconvert_exporter": "python",
   "pygments_lexer": "ipython3",
   "version": "3.9.6"
  },
  "orig_nbformat": 4,
  "vscode": {
   "interpreter": {
    "hash": "9cc6a95a29893daac463ce220390149ef03aeb7175da3903cfd40cfc8442e04e"
   }
  }
 },
 "nbformat": 4,
 "nbformat_minor": 2
}
