{
 "cells": [
  {
   "cell_type": "markdown",
   "metadata": {},
   "source": [
    "# Lesson 3 Activities\n",
    "The following activities are provided to allow you to demonstrate the objectives for this lesson:\n",
    "* Use an `if` statement to determine the outcome of a program.\n",
    "* Use an `if-else` statement to define two potential outcomes.\n",
    "* Use nested `if` statements to define more than two potential outcomes.\n",
    "\n",
    "Complete each activity and make sure that the code runs without errors before completing the next activity."
   ]
  },
  {
   "cell_type": "markdown",
   "metadata": {},
   "source": [
    "## Activity 1\n",
    "Write a program that asks the user how much money they have in their wallet. The program should output \"You're rich!\" if the user inputs 20 or more and \"You're broke!\" if the input is less than 20."
   ]
  },
  {
   "cell_type": "code",
   "execution_count": 3,
   "metadata": {},
   "outputs": [
    {
     "name": "stdout",
     "output_type": "stream",
     "text": [
      "You're rich!\n"
     ]
    }
   ],
   "source": [
    "# your code here\n",
    "wallet = int(input(\"How much money do you currently have in your wallet? \"))\n",
    "\n",
    "if wallet >= 20:\n",
    "    print(\"You're rich!\")\n",
    "if wallet < 20:\n",
    "    print(\"You're broke!\")"
   ]
  },
  {
   "cell_type": "markdown",
   "metadata": {},
   "source": [
    "## Activity 2\n",
    "Write a program that performs the following steps:\n",
    "1. Ask the user if they own any cats. (Yes/No answer)\n",
    "1. Ask the user if they own any dogs. (Yes/No answer)\n",
    "1. If the user responses indicate that they have both cats and dogs, output: \"You must really love pets!\"\n",
    "1. Otherwise, the output should be: \"Maybe you need more pets.\"\n",
    "\n",
    "The last step will apply if the user has cats but not dogs, dogs but not cats, and neither cats nor dogs.\n",
    "\n",
    "Write two different versions of this program: one that uses only `if` statements and another that uses `if-else` statements."
   ]
  },
  {
   "cell_type": "code",
   "execution_count": 6,
   "metadata": {},
   "outputs": [
    {
     "name": "stdout",
     "output_type": "stream",
     "text": [
      "Maybe you need more pets.\n"
     ]
    }
   ],
   "source": [
    "# program using only if statements\n",
    "cats = input(\"Do you have any cats? [y]-yes, [n]-no: \")\n",
    "dogs = input(\"Do you have any dogs? [y]-yes, [n]-no: \")\n",
    "\n",
    "if cats == 'y' and dogs == 'y':\n",
    "    print(\"You must really love pets!\")\n",
    "if cats == 'n' or dogs == 'n':\n",
    "    print(\"Maybe you need more pets.\")"
   ]
  },
  {
   "cell_type": "code",
   "execution_count": 10,
   "metadata": {},
   "outputs": [
    {
     "name": "stdout",
     "output_type": "stream",
     "text": [
      "Maybe you need more pets.\n"
     ]
    }
   ],
   "source": [
    "# program using if-else statements\n",
    "cats = input(\"Do you have any cats? [y]-yes, [n]-no: \")\n",
    "dogs = input(\"Do you have any dogs? [y]-yes, [n]-no: \")\n",
    "\n",
    "if cats == 'y' and dogs == 'y':\n",
    "    print(\"You must really love pets!\")\n",
    "else:\n",
    "    print(\"Maybe you need more pets.\")"
   ]
  },
  {
   "cell_type": "markdown",
   "metadata": {},
   "source": [
    "## Activity 3\n",
    "Create a computer program that asks the user a few questions to which the user will respond either True or False. Display all the questions with the correct answer and the user's answers at the end of the program, along with the user's the correct response rate (number of questions answered correctly/number of questions)."
   ]
  },
  {
   "cell_type": "code",
   "execution_count": 14,
   "metadata": {},
   "outputs": [
    {
     "name": "stdout",
     "output_type": "stream",
     "text": [
      "Sorry, you answered f, and that's incorrect.\n",
      "Sorry, you answered t, and that's incorrect.\n",
      "You answered t\n",
      "This is correct! Good job!\n",
      "You answered t\n",
      "This is correct! Good job!\n",
      "Your correct response rate is 2/4. That is 50.00%\n"
     ]
    }
   ],
   "source": [
    "# your code here\n",
    "question_1 = input(\"Is Rome in Italy? [t]-true, [f]-false: \")\n",
    "question_2 = input(\"Is 3 x 7 = 20? [t]-true, [f]-false: \")\n",
    "question_3 = input(\"Do the Yankees suck? [t]-true, [f]-false: \")\n",
    "question_4 = input(\"Is Python is case-sensitive? [t]-true, [f]-false: \")\n",
    "counter = 0\n",
    "if question_1 == 't':\n",
    "    print(\"You answered\", question_1)\n",
    "    print(\"This is correct! Good job!\")\n",
    "    counter +=1\n",
    "else:\n",
    "    print(f\"Sorry, you answered {question_1}, and that's incorrect.\")\n",
    "\n",
    "if question_2 == 'f':\n",
    "    print(\"You answered\", question_2)\n",
    "    print(\"This is correct! Good job!\")\n",
    "    counter +=1\n",
    "else:\n",
    "    print(f\"Sorry, you answered {question_2}, and that's incorrect.\")\n",
    "\n",
    "if question_3 == 't':\n",
    "    print(\"You answered\", question_3)\n",
    "    print(\"This is correct! Good job!\")\n",
    "    counter +=1\n",
    "else:\n",
    "    print(f\"Sorry, you answered {question_3}, and that's incorrect.\")\n",
    "\n",
    "if question_4 == 't':\n",
    "    print(\"You answered\", question_4)\n",
    "    print(\"This is correct! Good job!\")\n",
    "    counter +=1\n",
    "else:\n",
    "    print(f\"Sorry, you answered {question_4}, and that's incorrect.\")\n",
    "\n",
    "print(f\"Your correct response rate is {counter}/4. That is {(counter/4) * 100:.2f}%\")"
   ]
  },
  {
   "cell_type": "markdown",
   "metadata": {},
   "source": [
    "## Activity 4\n",
    "Write a program that uses `elif` to produce five different possible outcomes based on a single user input.\n",
    "1. Ask the user what season it is (fall, winter, spring, or summer).\n",
    "1. If the user enters fall, output: \"I bet the leaves are pretty there!\"\n",
    "1. If the user enters winter, output: \"I hope you're ready for snow!\"\n",
    "1. If the user enters spring, output: \"I can smell the flowers!\"\n",
    "1. If the user enters summer, output: \"Make sure your AC is working!\"\n",
    "1. If the user enters a value that does not correspond to a season, output: \"I don't recognize that season.\"\n",
    "\n",
    "The user should be able to enter the name of the season in any case and the program will still work.\n",
    "\n",
    "**Challenge**: After you have the program working as describe above, modify the program so that the user can enter either \"fall\" or \"autumn\" and get the same result."
   ]
  },
  {
   "cell_type": "code",
   "execution_count": 26,
   "metadata": {},
   "outputs": [
    {
     "name": "stdout",
     "output_type": "stream",
     "text": [
      "I bet the leaves are pretty there!\n"
     ]
    }
   ],
   "source": [
    "# your code here\n",
    "season = input(\"What season is it where you live right now? fall, winter, spring, or summer? \").lower()\n",
    "\n",
    "if season == 'fall':\n",
    "    print(\"I bet the leaves are pretty there!\")\n",
    "elif season == 'winter':\n",
    "    print(\"I hope you're ready for snow!\")\n",
    "elif season == 'spring':\n",
    "    print(\"I can smell the flowers!\")\n",
    "elif season == 'summer':\n",
    "    print(\"Make sure your AC is working!\")\n",
    "else:\n",
    "    print(\"I don't recognize that season.\")"
   ]
  },
  {
   "cell_type": "code",
   "execution_count": 27,
   "metadata": {},
   "outputs": [
    {
     "name": "stdout",
     "output_type": "stream",
     "text": [
      "Make sure your AC is working!\n"
     ]
    }
   ],
   "source": [
    "# Challenge\n",
    "# your code here\n",
    "season = input(\"What season is it where you live right now? fall/autumn, winter, spring, or summer? \").lower()\n",
    "\n",
    "if season == 'fall' or season == 'autumn':\n",
    "    print(\"I bet the leaves are pretty there!\")\n",
    "elif season == 'winter':\n",
    "    print(\"I hope you're ready for snow!\")\n",
    "elif season == 'spring':\n",
    "    print(\"I can smell the flowers!\")\n",
    "elif season == 'summer':\n",
    "    print(\"Make sure your AC is working!\")\n",
    "else:\n",
    "    print(\"I don't recognize that season.\")"
   ]
  },
  {
   "cell_type": "code",
   "execution_count": null,
   "metadata": {},
   "outputs": [],
   "source": []
  }
 ],
 "metadata": {
  "kernelspec": {
   "display_name": "Python 3.9.6 64-bit",
   "language": "python",
   "name": "python3"
  },
  "language_info": {
   "codemirror_mode": {
    "name": "ipython",
    "version": 3
   },
   "file_extension": ".py",
   "mimetype": "text/x-python",
   "name": "python",
   "nbconvert_exporter": "python",
   "pygments_lexer": "ipython3",
   "version": "3.9.6"
  },
  "vscode": {
   "interpreter": {
    "hash": "9cc6a95a29893daac463ce220390149ef03aeb7175da3903cfd40cfc8442e04e"
   }
  }
 },
 "nbformat": 4,
 "nbformat_minor": 2
}
