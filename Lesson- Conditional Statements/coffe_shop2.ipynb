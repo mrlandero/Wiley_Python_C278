{
 "cells": [
  {
   "cell_type": "code",
   "execution_count": 2,
   "metadata": {},
   "outputs": [
    {
     "name": "stdout",
     "output_type": "stream",
     "text": [
      "<|_| Welcome to Tony's Coffee Shop |_|>\n",
      "oOoOoOoOoOo oO0OoO0OoO0Oo oOoOoOoOoOo oO0OoO0OoO0Oo\n"
     ]
    }
   ],
   "source": [
    "print(\"<|_| Welcome to Tony's Coffee Shop |_|>\")\n",
    "print(\"oOoOoOoOoOo oO0OoO0OoO0Oo oOoOoOoOoOo oO0OoO0OoO0Oo\")"
   ]
  },
  {
   "cell_type": "code",
   "execution_count": 35,
   "metadata": {},
   "outputs": [],
   "source": [
    "cost = 0"
   ]
  },
  {
   "cell_type": "code",
   "execution_count": 36,
   "metadata": {},
   "outputs": [
    {
     "name": "stdout",
     "output_type": "stream",
     "text": [
      "You selected a small coffee. That's $2.\n"
     ]
    }
   ],
   "source": [
    "size = input(\"What size coffee would you like: [S] -$2, [M] -$3, [L] -$4: \").lower()\n",
    "\n",
    "if size == 's':\n",
    "    print(\"You selected a small coffee. That's $2.\")\n",
    "    cost += 2.00\n",
    "elif size == 'm':\n",
    "    print(\"You selected a medium coffee. That's $3.\")\n",
    "    cost += 3.00\n",
    "elif size == 'l':\n",
    "    print(\"You selected a large coffee. That's $4.\")\n",
    "    cost += 4.00"
   ]
  },
  {
   "cell_type": "code",
   "execution_count": 37,
   "metadata": {},
   "outputs": [
    {
     "name": "stdout",
     "output_type": "stream",
     "text": [
      "You selected an espresso for an additional cost of $.50\n"
     ]
    }
   ],
   "source": [
    "c_type = input(\"What type of coffee would you like? brewed - no cost, espresso -$.50, or cold -$1 :\").lower()\n",
    "\n",
    "if c_type == 'brewed':\n",
    "    print(\"You selected a brewed coffee for no additional cost.\")\n",
    "elif c_type == 'espresso':\n",
    "    print(\"You selected an espresso for an additional cost of $.50\")\n",
    "    cost += 0.50\n",
    "elif c_type == 'cold':\n",
    "    print(\"You selected a cold-brewed coffee for an additional cost of $1.\")\n",
    "    cost += 1.00"
   ]
  },
  {
   "cell_type": "code",
   "execution_count": 38,
   "metadata": {},
   "outputs": [
    {
     "name": "stdout",
     "output_type": "stream",
     "text": [
      "You selected vanilla. That will be $0.50\n"
     ]
    }
   ],
   "source": [
    "flavor = input(\"Would you like to add a flavor? no, vanilla -$.50, hazelnut -$0.50, mocha $-0.50\").lower()\n",
    "\n",
    "if flavor == 'no':\n",
    "    print(\"You selected no flavors.\")\n",
    "elif flavor == \"vanilla\" or flavor == \"hazelnut\" or flavor == \"mocha\":\n",
    "    print(f\"You selected {flavor}. That will be $0.50\")\n",
    "    cost += 0.50"
   ]
  },
  {
   "cell_type": "code",
   "execution_count": 39,
   "metadata": {},
   "outputs": [
    {
     "name": "stdout",
     "output_type": "stream",
     "text": [
      "For a s, espresso coffee, with vanilla flavoring, and a 15% tip, your total will be $3.45.\n"
     ]
    }
   ],
   "source": [
    "cost = cost * 1.15\n",
    "print(f\"For a {size}, {c_type} coffee, with {flavor} flavoring, and a 15% tip, your total will be ${cost:.2f}.\")"
   ]
  },
  {
   "cell_type": "code",
   "execution_count": null,
   "metadata": {},
   "outputs": [],
   "source": []
  }
 ],
 "metadata": {
  "kernelspec": {
   "display_name": "Python 3.9.6 64-bit",
   "language": "python",
   "name": "python3"
  },
  "language_info": {
   "codemirror_mode": {
    "name": "ipython",
    "version": 3
   },
   "file_extension": ".py",
   "mimetype": "text/x-python",
   "name": "python",
   "nbconvert_exporter": "python",
   "pygments_lexer": "ipython3",
   "version": "3.9.6"
  },
  "orig_nbformat": 4,
  "vscode": {
   "interpreter": {
    "hash": "9cc6a95a29893daac463ce220390149ef03aeb7175da3903cfd40cfc8442e04e"
   }
  }
 },
 "nbformat": 4,
 "nbformat_minor": 2
}
