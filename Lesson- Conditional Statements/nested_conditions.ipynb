{
 "cells": [
  {
   "cell_type": "markdown",
   "metadata": {},
   "source": [
    "## Concept 1: Elif\n",
    "Python uses the **```elif```** keyword as a contraction of \"else if\", which allows us to string together many different conditions, each of which must be True or False on their own. The syntax looks like:<br>\n",
    "**```if condition1:```**<br>\n",
    "&nbsp;&nbsp;&nbsp;&nbsp;&nbsp;&nbsp;&nbsp;**```instruction1```**<br>\n",
    "**```elif condition2:```**<br>\n",
    "&nbsp;&nbsp;&nbsp;&nbsp;&nbsp;&nbsp;&nbsp;**```instruction2```**<br>\n",
    "**```elif condition3:```**<br>\n",
    "&nbsp;&nbsp;&nbsp;&nbsp;&nbsp;&nbsp;&nbsp;**```instruction3```**<br>\n",
    "**```else:```**<br>\n",
    "&nbsp;&nbsp;&nbsp;&nbsp;&nbsp;&nbsp;&nbsp;**```instruction#```**<br>\n",
    "\n",
    "While the construction must include at least one elif statement, it can contain as many as necessary to address all the positional conditions.<br>\n",
    "\n",
    "When evaluating this structure, Python does the following:<br>\n",
    "1. If **```conditional1```** is True, Python executes **```instruction1```** and skips the rest of the code in the structure.<br>\n",
    "2. If **```conditional1```** is False, Python evaluates the **```elif```** statements individually until it finds a condition that is True. It then executes the instructions for that **```elif```** statement and skips the rest of the code in the structure.<br>\n",
    "3. If none of the conditions is True, Python executes the instructions in the **```else```** block."
   ]
  },
  {
   "cell_type": "markdown",
   "metadata": {},
   "source": [
    "### Example 1:\n",
    "In the following example, we start with a word and then compare that word to a sequence of other words.<br>\n",
    "\n",
    "If the stored word matches one of the expected words, Python will tell us what color the word represents. If the stored word does not match any of the expected words, the user will see a prompt to enter a more appropriate value."
   ]
  },
  {
   "cell_type": "code",
   "execution_count": 1,
   "metadata": {},
   "outputs": [
    {
     "name": "stdout",
     "output_type": "stream",
     "text": [
      "Please enter a valid color.\n"
     ]
    }
   ],
   "source": [
    "color = \"morning\"\n",
    "\n",
    "if color == \"red\":\n",
    "    print(\"The color is red.\")\n",
    "elif color == \"blue\":\n",
    "    print(\"The color is blue.\")\n",
    "elif color == \"yellow\":\n",
    "    print(\"The color is yellow.\")\n",
    "else:\n",
    "    print(\"Please enter a valid color.\")"
   ]
  },
  {
   "cell_type": "markdown",
   "metadata": {},
   "source": [
    "### Practice 1a:\n",
    "Change the code above to:<br>\n",
    "* Prompt the user to input a color.<br>\n",
    "* Display an appropriate message depending on color.<br>\n",
    "\n",
    "The example above uses four **```if```** statements. You are welcome to include more in your solution. You might also consider telling the user what options they should choose from for the initial input, but include a message that displays if they enter a value that is not in the list."
   ]
  },
  {
   "cell_type": "code",
   "execution_count": 8,
   "metadata": {},
   "outputs": [
    {
     "name": "stdout",
     "output_type": "stream",
     "text": [
      "You entered red.\n"
     ]
    }
   ],
   "source": [
    "color = input(\"Please enter a color [1] red, [2] blue, or [3] yellow: \")\n",
    "\n",
    "if color == \"1\" or color == \"red\":\n",
    "    print(\"You entered red.\")\n",
    "elif color == \"2\" or color == \"blue\":\n",
    "    print(\"You entered blue.\")\n",
    "elif color == \"3\" or color == \"yellow\":\n",
    "    print(\"You entered yellow.\")\n",
    "else:\n",
    "    print(\"Please enter a valid color.\")"
   ]
  },
  {
   "cell_type": "markdown",
   "metadata": {},
   "source": [
    "### Practice 1b:\n",
    "Now, let's try something a little more complicated using **```elif```**.<br>\n",
    "\n",
    "Write a program that performs the following steps:<br>\n",
    "1. Create a variable with a target value.<br>\n",
    "2. Ask the user to input a number.<br>\n",
    "3. If their choice is equal to the number, print out: \"Wow, nice guess! That was it!\"<br>\n",
    "4. If their choice is less than the target number, print out: \"Ha, nice try - too low!. I chose #\"<br>\n",
    "5. If their choice is greater than the target number, print out: \"Too bad, too high. I chose #\"<br>\n",
    "\n",
    "The user prompt and the order of the conditional statements are entirely up to you. However, because there is literally an infinite number of numbers that the user can choose from, the propmt should include a range that includes the value of the variable, to give the user a sporting chance of guessing it.<br>\n",
    "\n",
    "Make sure to test the program so that it produces each of the three outcomes correctly.<br>\n",
    "\n",
    "***Tip*** - Remember that Python always treats user input as a string, but you can't compare strings to numbers. How can you resolve that problem?"
   ]
  },
  {
   "cell_type": "code",
   "execution_count": 11,
   "metadata": {},
   "outputs": [
    {
     "name": "stdout",
     "output_type": "stream",
     "text": [
      "Too bad, too high. I chose 9\n"
     ]
    }
   ],
   "source": [
    "target = 9\n",
    "user_num = int(input(\"Try to guess the number I chose between 1 and 20: \"))\n",
    "\n",
    "if user_num < 9:\n",
    "    print(\"Ha, nice try - too low! I chose\", target)\n",
    "elif user_num == 9:\n",
    "    print(\"Wow, nice guess! That was it!\")\n",
    "else:\n",
    "    print(\"Too bad, too high. I chose\", target)"
   ]
  },
  {
   "cell_type": "code",
   "execution_count": null,
   "metadata": {},
   "outputs": [],
   "source": []
  }
 ],
 "metadata": {
  "kernelspec": {
   "display_name": "Python 3.9.6 64-bit",
   "language": "python",
   "name": "python3"
  },
  "language_info": {
   "codemirror_mode": {
    "name": "ipython",
    "version": 3
   },
   "file_extension": ".py",
   "mimetype": "text/x-python",
   "name": "python",
   "nbconvert_exporter": "python",
   "pygments_lexer": "ipython3",
   "version": "3.9.6"
  },
  "orig_nbformat": 4,
  "vscode": {
   "interpreter": {
    "hash": "9cc6a95a29893daac463ce220390149ef03aeb7175da3903cfd40cfc8442e04e"
   }
  }
 },
 "nbformat": 4,
 "nbformat_minor": 2
}
