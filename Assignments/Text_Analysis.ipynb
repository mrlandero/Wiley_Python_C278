{
 "cells": [
  {
   "cell_type": "code",
   "execution_count": null,
   "metadata": {},
   "outputs": [],
   "source": [
    "# Tony Landero  Date: 06/23/22"
   ]
  },
  {
   "cell_type": "code",
   "execution_count": 1,
   "metadata": {},
   "outputs": [
    {
     "data": {
      "text/plain": [
       "'Imagine a vast sheet of paper on which straight Lines, Triangles, Squares, Pentagons, Hexagons, and other figures, instead of remaining fixed in their places, move freely about, on or in the surface, but without the power of rising above or sinking below it, very much like shadows - only hard and with luminous edges - and you will then have a pretty correct notion of my country and countrymen. Alas, a few years ago, I should have said \"my universe\": but now my mind has been opened to higher views of things.'"
      ]
     },
     "execution_count": 1,
     "metadata": {},
     "output_type": "execute_result"
    }
   ],
   "source": [
    "s = \"\"\"Imagine a vast sheet of paper on which straight Lines, Triangles, Squares, Pentagons, Hexagons, and other figures, instead of remaining fixed in their places, move freely about, on or in the surface, but without the power of rising above or sinking below it, very much like shadows - only hard and with luminous edges - and you will then have a pretty correct notion of my country and countrymen. Alas, a few years ago, I should have said \"my universe\": but now my mind has been opened to higher views of things.\"\"\"\n",
    "s"
   ]
  },
  {
   "cell_type": "code",
   "execution_count": 2,
   "metadata": {},
   "outputs": [
    {
     "data": {
      "text/plain": [
       "'imagine a vast sheet of paper on which straight lines, triangles, squares, pentagons, hexagons, and other figures, instead of remaining fixed in their places, move freely about, on or in the surface, but without the power of rising above or sinking below it, very much like shadows - only hard and with luminous edges - and you will then have a pretty correct notion of my country and countrymen. alas, a few years ago, i should have said \"my universe\": but now my mind has been opened to higher views of things.'"
      ]
     },
     "execution_count": 2,
     "metadata": {},
     "output_type": "execute_result"
    }
   ],
   "source": [
    "s_lower = s.lower()\n",
    "s_lower"
   ]
  },
  {
   "cell_type": "code",
   "execution_count": 3,
   "metadata": {},
   "outputs": [
    {
     "data": {
      "text/plain": [
       "['imagine',\n",
       " 'a',\n",
       " 'vast',\n",
       " 'sheet',\n",
       " 'of',\n",
       " 'paper',\n",
       " 'on',\n",
       " 'which',\n",
       " 'straight',\n",
       " 'lines,',\n",
       " 'triangles,',\n",
       " 'squares,',\n",
       " 'pentagons,',\n",
       " 'hexagons,',\n",
       " 'and',\n",
       " 'other',\n",
       " 'figures,',\n",
       " 'instead',\n",
       " 'of',\n",
       " 'remaining',\n",
       " 'fixed',\n",
       " 'in',\n",
       " 'their',\n",
       " 'places,',\n",
       " 'move',\n",
       " 'freely',\n",
       " 'about,',\n",
       " 'on',\n",
       " 'or',\n",
       " 'in',\n",
       " 'the',\n",
       " 'surface,',\n",
       " 'but',\n",
       " 'without',\n",
       " 'the',\n",
       " 'power',\n",
       " 'of',\n",
       " 'rising',\n",
       " 'above',\n",
       " 'or',\n",
       " 'sinking',\n",
       " 'below',\n",
       " 'it,',\n",
       " 'very',\n",
       " 'much',\n",
       " 'like',\n",
       " 'shadows',\n",
       " '-',\n",
       " 'only',\n",
       " 'hard',\n",
       " 'and',\n",
       " 'with',\n",
       " 'luminous',\n",
       " 'edges',\n",
       " '-',\n",
       " 'and',\n",
       " 'you',\n",
       " 'will',\n",
       " 'then',\n",
       " 'have',\n",
       " 'a',\n",
       " 'pretty',\n",
       " 'correct',\n",
       " 'notion',\n",
       " 'of',\n",
       " 'my',\n",
       " 'country',\n",
       " 'and',\n",
       " 'countrymen.',\n",
       " 'alas,',\n",
       " 'a',\n",
       " 'few',\n",
       " 'years',\n",
       " 'ago,',\n",
       " 'i',\n",
       " 'should',\n",
       " 'have',\n",
       " 'said',\n",
       " '\"my',\n",
       " 'universe\":',\n",
       " 'but',\n",
       " 'now',\n",
       " 'my',\n",
       " 'mind',\n",
       " 'has',\n",
       " 'been',\n",
       " 'opened',\n",
       " 'to',\n",
       " 'higher',\n",
       " 'views',\n",
       " 'of',\n",
       " 'things.']"
      ]
     },
     "execution_count": 3,
     "metadata": {},
     "output_type": "execute_result"
    }
   ],
   "source": [
    "words = s_lower.split()\n",
    "words"
   ]
  },
  {
   "cell_type": "code",
   "execution_count": 4,
   "metadata": {},
   "outputs": [
    {
     "data": {
      "text/plain": [
       "92"
      ]
     },
     "execution_count": 4,
     "metadata": {},
     "output_type": "execute_result"
    }
   ],
   "source": [
    "len(words)"
   ]
  },
  {
   "cell_type": "code",
   "execution_count": 5,
   "metadata": {},
   "outputs": [
    {
     "data": {
      "text/plain": [
       "75"
      ]
     },
     "execution_count": 5,
     "metadata": {},
     "output_type": "execute_result"
    }
   ],
   "source": [
    "words_set = set(words)\n",
    "len(words_set)"
   ]
  },
  {
   "cell_type": "code",
   "execution_count": 9,
   "metadata": {},
   "outputs": [
    {
     "data": {
      "text/plain": [
       "'imagine a vast sheet of paper on which straight lines, triangles, squares, pentagons, hexagons, and other figures, instead of remaining fixed in their places, move freely about, on or in the surface, but without the power of rising above or sinking below it, very much like shadows - only hard and with luminous edges - and you will then have a pretty correct notion of my country and countrymen. alas, a few years ago, i should have said \"my universe\": but now my mind has been opened to higher views of things.'"
      ]
     },
     "execution_count": 9,
     "metadata": {},
     "output_type": "execute_result"
    }
   ],
   "source": [
    "new_words = \" \".join(words)\n",
    "new_words"
   ]
  },
  {
   "cell_type": "code",
   "execution_count": 10,
   "metadata": {},
   "outputs": [],
   "source": [
    "import string"
   ]
  },
  {
   "cell_type": "code",
   "execution_count": 11,
   "metadata": {},
   "outputs": [
    {
     "data": {
      "text/plain": [
       "'imagine a vast sheet of paper on which straight lines  triangles  squares  pentagons  hexagons  and other figures  instead of remaining fixed in their places  move freely about  on or in the surface  but without the power of rising above or sinking below it  very much like shadows   only hard and with luminous edges   and you will then have a pretty correct notion of my country and countrymen  alas  a few years ago  i should have said  my universe   but now my mind has been opened to higher views of things '"
      ]
     },
     "execution_count": 11,
     "metadata": {},
     "output_type": "execute_result"
    }
   ],
   "source": [
    "for character in string.punctuation:\n",
    "    new_words = new_words.replace(character,\" \")\n",
    "\n",
    "new_words"
   ]
  },
  {
   "cell_type": "code",
   "execution_count": 6,
   "metadata": {},
   "outputs": [
    {
     "data": {
      "text/plain": [
       "{}"
      ]
     },
     "execution_count": 6,
     "metadata": {},
     "output_type": "execute_result"
    }
   ],
   "source": [
    "freq_occur = dict()\n",
    "freq_occur"
   ]
  },
  {
   "cell_type": "code",
   "execution_count": 12,
   "metadata": {},
   "outputs": [],
   "source": [
    "for word in new_words:\n",
    "    if word in freq_occur:\n",
    "        freq_occur[word] = freq_occur[word] + 1\n",
    "    else:\n",
    "        freq_occur[word] = 1"
   ]
  },
  {
   "cell_type": "code",
   "execution_count": 13,
   "metadata": {},
   "outputs": [
    {
     "data": {
      "text/plain": [
       "{'imagine': 1,\n",
       " 'a': 34,\n",
       " 'vast': 1,\n",
       " 'sheet': 1,\n",
       " 'of': 5,\n",
       " 'paper': 1,\n",
       " 'on': 2,\n",
       " 'which': 1,\n",
       " 'straight': 1,\n",
       " 'lines,': 1,\n",
       " 'triangles,': 1,\n",
       " 'squares,': 1,\n",
       " 'pentagons,': 1,\n",
       " 'hexagons,': 1,\n",
       " 'and': 4,\n",
       " 'other': 1,\n",
       " 'figures,': 1,\n",
       " 'instead': 1,\n",
       " 'remaining': 1,\n",
       " 'fixed': 1,\n",
       " 'in': 2,\n",
       " 'their': 1,\n",
       " 'places,': 1,\n",
       " 'move': 1,\n",
       " 'freely': 1,\n",
       " 'about,': 1,\n",
       " 'or': 2,\n",
       " 'the': 2,\n",
       " 'surface,': 1,\n",
       " 'but': 2,\n",
       " 'without': 1,\n",
       " 'power': 1,\n",
       " 'rising': 1,\n",
       " 'above': 1,\n",
       " 'sinking': 1,\n",
       " 'below': 1,\n",
       " 'it,': 1,\n",
       " 'very': 1,\n",
       " 'much': 1,\n",
       " 'like': 1,\n",
       " 'shadows': 1,\n",
       " '-': 2,\n",
       " 'only': 1,\n",
       " 'hard': 1,\n",
       " 'with': 1,\n",
       " 'luminous': 1,\n",
       " 'edges': 1,\n",
       " 'you': 1,\n",
       " 'will': 1,\n",
       " 'then': 1,\n",
       " 'have': 2,\n",
       " 'pretty': 1,\n",
       " 'correct': 1,\n",
       " 'notion': 1,\n",
       " 'my': 2,\n",
       " 'country': 1,\n",
       " 'countrymen.': 1,\n",
       " 'alas,': 1,\n",
       " 'few': 1,\n",
       " 'years': 1,\n",
       " 'ago,': 1,\n",
       " 'i': 33,\n",
       " 'should': 1,\n",
       " 'said': 1,\n",
       " '\"my': 1,\n",
       " 'universe\":': 1,\n",
       " 'now': 1,\n",
       " 'mind': 1,\n",
       " 'has': 1,\n",
       " 'been': 1,\n",
       " 'opened': 1,\n",
       " 'to': 1,\n",
       " 'higher': 1,\n",
       " 'views': 1,\n",
       " 'things.': 1,\n",
       " 'm': 10,\n",
       " 'g': 13,\n",
       " 'n': 34,\n",
       " 'e': 45,\n",
       " ' ': 110,\n",
       " 'v': 8,\n",
       " 's': 27,\n",
       " 't': 27,\n",
       " 'h': 22,\n",
       " 'o': 32,\n",
       " 'f': 10,\n",
       " 'p': 7,\n",
       " 'r': 24,\n",
       " 'w': 10,\n",
       " 'c': 8,\n",
       " 'l': 12,\n",
       " 'q': 1,\n",
       " 'u': 15,\n",
       " 'x': 2,\n",
       " 'd': 13,\n",
       " 'y': 11,\n",
       " 'b': 6,\n",
       " 'k': 2}"
      ]
     },
     "execution_count": 13,
     "metadata": {},
     "output_type": "execute_result"
    }
   ],
   "source": [
    "freq_occur"
   ]
  },
  {
   "cell_type": "code",
   "execution_count": null,
   "metadata": {},
   "outputs": [],
   "source": []
  }
 ],
 "metadata": {
  "interpreter": {
   "hash": "ad9fb37fa15c2fac4885b853501abc8587965d08b8586f67468c92fe4e3567d7"
  },
  "kernelspec": {
   "display_name": "Python 3.7.10 ('dev')",
   "language": "python",
   "name": "python3"
  },
  "language_info": {
   "codemirror_mode": {
    "name": "ipython",
    "version": 3
   },
   "file_extension": ".py",
   "mimetype": "text/x-python",
   "name": "python",
   "nbconvert_exporter": "python",
   "pygments_lexer": "ipython3",
   "version": "3.7.10"
  },
  "orig_nbformat": 4
 },
 "nbformat": 4,
 "nbformat_minor": 2
}
