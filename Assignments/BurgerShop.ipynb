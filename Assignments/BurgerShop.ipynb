{
 "cells": [
  {
   "cell_type": "code",
   "execution_count": 1,
   "metadata": {},
   "outputs": [],
   "source": [
    "# Tony Landero          Date: June 30, 2022"
   ]
  },
  {
   "cell_type": "code",
   "execution_count": 2,
   "metadata": {},
   "outputs": [],
   "source": [
    "# Implement the classes listed below:\n",
    "class FoodItem:\n",
    "    # Constructor:\n",
    "    def __init__(self,name,itemType,price):\n",
    "        # The following attributes are common for all the classes:\n",
    "        self.itemName = name\n",
    "        self.foodType = itemType\n",
    "        self.price = float(price)\n",
    "        # Common methods/functions for all classes:\n",
    "    def getItemName(self):\n",
    "        return self.itemName\n",
    "    def getPrice(self):\n",
    "        return self.price\n",
    "    def getItemType(self):\n",
    "        return self.foodType"
   ]
  },
  {
   "cell_type": "code",
   "execution_count": 3,
   "metadata": {},
   "outputs": [],
   "source": [
    "# Now we will implement the Burger class that inherits from FoodItem class:\n",
    "class Burger(FoodItem):\n",
    "    def __init__(self,name,ItemType,price,toppings,size,sauce):\n",
    "        super().__init__(name,ItemType,price)\n",
    "        self.toppings = toppings\n",
    "        self.size = size\n",
    "        self.sauce = sauce\n",
    "    def getSize(self):\n",
    "        return self.size"
   ]
  },
  {
   "cell_type": "code",
   "execution_count": 4,
   "metadata": {},
   "outputs": [],
   "source": [
    "# Now we will implement the Drink class that inherits from FoodItem class:\n",
    "class Drink(FoodItem):\n",
    "    def __init__(self,name,itemType,price,size):\n",
    "        super().__init__(name,itemType,price)\n",
    "        self.size = size "
   ]
  },
  {
   "cell_type": "code",
   "execution_count": 5,
   "metadata": {},
   "outputs": [],
   "source": [
    "# Now we will implement the Side class that inherits from FoodItem class:\n",
    "class Side(FoodItem):\n",
    "    def __init__(self,name,itemType,price,quantity):\n",
    "        super().__init__(name,itemType,price)\n",
    "        self.quantity = quantity"
   ]
  },
  {
   "cell_type": "code",
   "execution_count": 7,
   "metadata": {},
   "outputs": [],
   "source": [
    "# Now we will implement the Combo class that inherits from FoodItem class:\n",
    "class Combo(FoodItem):\n",
    "    def __init__(self,burger,drink,sides):\n",
    "        self.comboBurger = burger\n",
    "        self.comboDrink = drink\n",
    "        self.comboSides = sides\n",
    "        self.totalPrice = self.comboBurger.getPrice() + self.comboDrink.getPrice() + self.comboSides.getPrice()\n",
    "        super().__init__(\"Combo\",\"Combo\",self.totalPrice)"
   ]
  },
  {
   "cell_type": "code",
   "execution_count": 6,
   "metadata": {},
   "outputs": [],
   "source": [
    "# Now we will implement the Order class:\n",
    "class Order:\n",
    "    def __init__(self,name):\n",
    "        self.userName = name\n",
    "        # A list to store all of the ordered items:\n",
    "        self.orderedItems = []\n",
    "    def add(self,item):\n",
    "        # We now add the new item to the orderedItems list:\n",
    "        self.orderedItems.append(item)\n",
    "    def orderTotal(self):\n",
    "        # We now calculate the total cost for all of the ordered items:\n",
    "        total = 0\n",
    "        for item in self.orderedItems:\n",
    "            total += item.getPrice()\n",
    "        return total\n",
    "    def printOrderedItems(self):\n",
    "        print(\"\\nUser Name: \",self.userName) \n",
    "        print(\"\\n{:<20} {:<20} {:<20} {:<20}\".format(\"Order No. \", \"Item Name\", \"Item Type\", \"Price\"))\n",
    "        count = 1\n",
    "        for item in self.orderedItems:\n",
    "            print(\"\\n{:<20} {:<20} {:<20} {:<20}\".format(count,item.getItemName(),item.getItemType(),item.getPrice()))"
   ]
  },
  {
   "cell_type": "code",
   "execution_count": 8,
   "metadata": {},
   "outputs": [],
   "source": [
    "# We will now create the Burger objects by taking inputs from the user:\n",
    "def user_input_burger():\n",
    "    name = input(\"\\nEnter Burger Name: \")\n",
    "    burgerType = input(\"Enter Burger Type: \")\n",
    "    price = input(\"Enter Burger Price: \")\n",
    "    toppings = list(map(str, input(\"Enter all the toppings you want to add to your burger, separated by spaces: \").split(\" \")))\n",
    "    size = input(\"Enter Burger Size [small/large]: \")\n",
    "    sauce = input(\"Enter the sauce to add to your burger: \")\n",
    "    b = Burger(name,burgerType,price,toppings,size,sauce)\n",
    "    return b "
   ]
  },
  {
   "cell_type": "code",
   "execution_count": 9,
   "metadata": {},
   "outputs": [],
   "source": [
    "# We will now create the Drink objects by taking inputs from the user:\n",
    "def user_input_drink():\n",
    "    name = input(\"\\nEnter Drink Name: \")\n",
    "    drinkType = input(\"Enter Drink Type: \")\n",
    "    price = input(\"Enter Drink Price: \")\n",
    "    size = input(\"Enter the drink size in ounces [16 oz./ 20oz./ 32 oz.]: \")\n",
    "    d = Drink(name,drinkType,price,size)\n",
    "    return d "
   ]
  },
  {
   "cell_type": "code",
   "execution_count": 10,
   "metadata": {},
   "outputs": [],
   "source": [
    "# We will now create the Sides objects by taking inputs from the user:\n",
    "def user_input_side():\n",
    "    name = input(\"\\nEnter name of the sides: \")\n",
    "    sidesType = input(\"Enter type of sides: \")\n",
    "    price = input(\"Enter price of sides: \")\n",
    "    quantity = input(\"How many sides would you like? \")\n",
    "    s = Side(name,sidesType,price,quantity)\n",
    "    # ask user for input and store it in side object \n",
    "    return s"
   ]
  },
  {
   "cell_type": "code",
   "execution_count": 11,
   "metadata": {},
   "outputs": [],
   "source": [
    "# We will now create the Combo objects by taking inputs from the user:\n",
    "def user_input_combo():\n",
    "    print(\"\\nA combo includes one burger, one side, and one drink\")\n",
    "    c = Combo(user_input_burger(),user_input_drink(),user_input_side())\n",
    "    # ask user for input and store it in combo object\n",
    "    # a combo must include one burger, one side, and one drink\n",
    "    return c "
   ]
  },
  {
   "cell_type": "code",
   "execution_count": 13,
   "metadata": {},
   "outputs": [
    {
     "name": "stdout",
     "output_type": "stream",
     "text": [
      "Welcome to Burger Shop\n",
      "\n",
      "Menu: \n",
      "1. Burger \n",
      "2. Drink \n",
      "3. Side \n",
      "4. Combo \n",
      "5. Order\n",
      "\n",
      "A combo includes one burger, one side, and one drink\n",
      "\n",
      "Menu: \n",
      "1. Burger \n",
      "2. Drink \n",
      "3. Side \n",
      "4. Combo \n",
      "5. Order\n",
      "\n",
      "Your Ordered Items are: \n",
      "\n",
      "User Name:  Tony\n",
      "\n",
      "Order No.            Item Name            Item Type            Price               \n",
      "\n",
      "1                    Combo                Combo                12.97               \n",
      "\n",
      "Order comfirmed for the selected items!!\n",
      "\n",
      "Total Pay: $12.97\n",
      "\n",
      "\n",
      "Thank you for your order!!\n",
      "\n"
     ]
    }
   ],
   "source": [
    "# Function to takes the user's order:\n",
    "def take_order():\n",
    "    userName = input(\"\\nPlease enter your name: \")\n",
    "    myOrder = Order(userName)\n",
    "    while True:\n",
    "        print(\"\\nMenu: \\n1. Burger \\n2. Drink \\n3. Side \\n4. Combo \\n5. Order\")\n",
    "        userChoice = input(\"\\nEnter your choice from the menu: \")\n",
    "        if userChoice == \"1\":\n",
    "            myOrder.add(user_input_burger())\n",
    "        elif userChoice == \"2\":\n",
    "            myOrder.add(user_input_drink())\n",
    "        elif userChoice == \"3\":\n",
    "            myOrder.add(user_input_side())\n",
    "        elif userChoice == \"4\":\n",
    "            myOrder.add(user_input_combo())\n",
    "        elif userChoice == \"5\":\n",
    "            break\n",
    "        else:\n",
    "            print(\"Please select a valid choice\")\n",
    "    print(\"\\nYour Ordered Items are: \")\n",
    "    myOrder.printOrderedItems()\n",
    "\n",
    "    isOrder = input(\"\\n1. Confirm Order or 0. Cancel Order: \")\n",
    "    if isOrder == \"1\":\n",
    "        print(f\"\\nOrder comfirmed for the selected items!!\\n\\nTotal Pay: ${myOrder.orderTotal()}\\n\")\n",
    "    elif isOrder == \"0\":\n",
    "        print(\"\\nOrder Cancelled for the selected items!!\\n\")\n",
    "    else:\n",
    "        print(\"\\nInvalid Selection, try again!!\")\n",
    "        take_order()\n",
    "\n",
    "    # Display a thank you message\n",
    "    print(f\"\\nThank you for your order!!\\n\")\n",
    "\n",
    "print(\"Welcome to Burger Shop\")\n",
    "take_order()"
   ]
  },
  {
   "cell_type": "code",
   "execution_count": null,
   "metadata": {},
   "outputs": [],
   "source": []
  }
 ],
 "metadata": {
  "interpreter": {
   "hash": "ad9fb37fa15c2fac4885b853501abc8587965d08b8586f67468c92fe4e3567d7"
  },
  "kernelspec": {
   "display_name": "Python 3.7.10 ('dev')",
   "language": "python",
   "name": "python3"
  },
  "language_info": {
   "codemirror_mode": {
    "name": "ipython",
    "version": 3
   },
   "file_extension": ".py",
   "mimetype": "text/x-python",
   "name": "python",
   "nbconvert_exporter": "python",
   "pygments_lexer": "ipython3",
   "version": "3.7.10"
  },
  "orig_nbformat": 4
 },
 "nbformat": 4,
 "nbformat_minor": 2
}
