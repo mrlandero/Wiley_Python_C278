{
 "cells": [
  {
   "cell_type": "code",
   "execution_count": 1,
   "metadata": {},
   "outputs": [],
   "source": [
    "# Tony Landero          Date: June 30, 2022"
   ]
  },
  {
   "cell_type": "code",
   "execution_count": 2,
   "metadata": {},
   "outputs": [],
   "source": [
    "# Implement the classes listed below:\n",
    "class FoodItem:\n",
    "    # Constructor:\n",
    "    def __init__(self,name,itemType,price):\n",
    "        # The following attributes are common for all the classes:\n",
    "        self.itemName = name\n",
    "        self.foodType = itemType\n",
    "        self.price = float(price)\n",
    "        # Common methods/functions for all classes:\n",
    "    def getItemName(self):\n",
    "        return self.itemName\n",
    "    def getPrice(self):\n",
    "        return self.price\n",
    "    def getItemType(self):\n",
    "        return self.foodType"
   ]
  },
  {
   "cell_type": "code",
   "execution_count": 3,
   "metadata": {},
   "outputs": [],
   "source": [
    "# Now we will implement the Burger class that inherits from FoodItem class:\n",
    "class Burger(FoodItem):\n",
    "    def __init__(self,name,ItemType,price,toppings,size,sauce):\n",
    "        super().__init__(name,ItemType,price)\n",
    "        self.toppings = toppings\n",
    "        self.size = size\n",
    "        self.sauce = sauce\n",
    "    def getSize(self):\n",
    "        return self.size"
   ]
  },
  {
   "cell_type": "code",
   "execution_count": 4,
   "metadata": {},
   "outputs": [],
   "source": [
    "# Now we will implement the Drink class that inherits from FoodItem class:\n",
    "class Drink(FoodItem):\n",
    "    def __init__(self,name,itemType,price,size):\n",
    "        super().__init__(name,itemType,price)\n",
    "        self.size = size "
   ]
  },
  {
   "cell_type": "code",
   "execution_count": 5,
   "metadata": {},
   "outputs": [],
   "source": [
    "# Now we will implement the Side class that inherits from FoodItem class:\n",
    "class Side(FoodItem):\n",
    "    def __init__(self,name,itemType,price,quantity):\n",
    "        super().__init__(name,itemType,price)\n",
    "        self.quantity = quantity"
   ]
  },
  {
   "cell_type": "code",
   "execution_count": null,
   "metadata": {},
   "outputs": [],
   "source": []
  }
 ],
 "metadata": {
  "interpreter": {
   "hash": "ad9fb37fa15c2fac4885b853501abc8587965d08b8586f67468c92fe4e3567d7"
  },
  "kernelspec": {
   "display_name": "Python 3.7.10 ('dev')",
   "language": "python",
   "name": "python3"
  },
  "language_info": {
   "codemirror_mode": {
    "name": "ipython",
    "version": 3
   },
   "file_extension": ".py",
   "mimetype": "text/x-python",
   "name": "python",
   "nbconvert_exporter": "python",
   "pygments_lexer": "ipython3",
   "version": "3.7.10"
  },
  "orig_nbformat": 4
 },
 "nbformat": 4,
 "nbformat_minor": 2
}
