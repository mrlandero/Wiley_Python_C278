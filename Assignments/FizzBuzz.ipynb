{
 "cells": [
  {
   "cell_type": "code",
   "execution_count": 23,
   "metadata": {},
   "outputs": [
    {
     "name": "stdout",
     "output_type": "stream",
     "text": [
      "0\n",
      "1\n",
      "2\n",
      "Fizz\n",
      "4\n",
      "Buzz\n",
      "Fizz\n",
      "TRADITION\n"
     ]
    }
   ],
   "source": [
    "num = int(input(\"What number would you like to use? \"))\n",
    "count = 0\n",
    "num1 = num**2\n",
    "while count < num:\n",
    "    for i in range(0,num1):\n",
    "        if count == num:\n",
    "            break\n",
    "        elif i == 0:\n",
    "            print(i)\n",
    "        elif i%3==0 and i%5==0:\n",
    "            count +=1\n",
    "            num1 = num1 + 1\n",
    "            print(\"FizzBuzz\")\n",
    "        elif i%3==0:\n",
    "            count +=1\n",
    "            num1 = num1 + 1\n",
    "            print(\"Fizz\")\n",
    "        elif i%5==0:\n",
    "            count +=1\n",
    "            num1 = num1 + 1\n",
    "            print(\"Buzz\")\n",
    "        else:\n",
    "            print(i)\n",
    "print(\"TRADITION\")"
   ]
  },
  {
   "cell_type": "code",
   "execution_count": null,
   "metadata": {},
   "outputs": [],
   "source": []
  }
 ],
 "metadata": {
  "interpreter": {
   "hash": "fb00f0c01367cd29234ef98d6ee35d5dad54fff2cb1a8b567bc06dceecc7a7af"
  },
  "kernelspec": {
   "display_name": "Python 3.8.8 ('base')",
   "language": "python",
   "name": "python3"
  },
  "language_info": {
   "codemirror_mode": {
    "name": "ipython",
    "version": 3
   },
   "file_extension": ".py",
   "mimetype": "text/x-python",
   "name": "python",
   "nbconvert_exporter": "python",
   "pygments_lexer": "ipython3",
   "version": "3.8.8"
  },
  "orig_nbformat": 4
 },
 "nbformat": 4,
 "nbformat_minor": 2
}
