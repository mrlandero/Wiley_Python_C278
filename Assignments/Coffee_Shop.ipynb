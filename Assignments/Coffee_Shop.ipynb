{
 "cells": [
  {
   "cell_type": "code",
   "execution_count": null,
   "metadata": {},
   "outputs": [],
   "source": [
    "# Tony Landero  Date: June 21, 2022"
   ]
  },
  {
   "cell_type": "code",
   "execution_count": 13,
   "metadata": {},
   "outputs": [
    {
     "name": "stdout",
     "output_type": "stream",
     "text": [
      "Welcome to Tony's Cofee Shop\n"
     ]
    }
   ],
   "source": [
    "print(\"Welcome to Tony's Cofee Shop\")"
   ]
  },
  {
   "cell_type": "code",
   "execution_count": 14,
   "metadata": {},
   "outputs": [],
   "source": [
    "# While loop to check for coffee size: Re-enter if invalid input\n",
    "cost = 0\n",
    "while(True):\n",
    "    cup = input(\"Would you like a small, medium, or large? \").lower()\n",
    "    if(cup==\"small\"):\n",
    "        cost +=2\n",
    "        break\n",
    "    elif(cup==\"medium\"):\n",
    "        cost +=3\n",
    "        break\n",
    "    elif(cup==\"large\"):\n",
    "        cost +=4\n",
    "        break\n",
    "    else:\n",
    "        print(\"Invalid cup size. Enter again: \")"
   ]
  },
  {
   "cell_type": "code",
   "execution_count": 15,
   "metadata": {},
   "outputs": [],
   "source": [
    "# While loop to check for coffee type. Re-enter if invalid input\n",
    "while(True):\n",
    "    coffee = input(\"Would you like it brewed, espresso, or cold press? \").lower()\n",
    "    if(coffee==\"brewed\"):\n",
    "        break\n",
    "    elif(coffee==\"espresso\"):\n",
    "        cost +=0.50\n",
    "        break\n",
    "    elif(coffee==\"cold press\"):\n",
    "        cost +=1\n",
    "        break\n",
    "    else:\n",
    "        print(\"Invalid coffee type. Enter again: \")"
   ]
  },
  {
   "cell_type": "code",
   "execution_count": 16,
   "metadata": {},
   "outputs": [],
   "source": [
    "# While loop to check for flavor. Re-enter if invalid input\n",
    "flavor = input(\"Would you like a flavored syrup: Yes or No: \").lower()\n",
    "if(flavor==\"yes\"):\n",
    "    while(True):\n",
    "        flavorType = input(\"Would you like Hazelnut, Vanilla, or Caramel? \").lower()\n",
    "        if(flavorType==\"hazelnut\" or flavorType==\"vanilla\" or flavorType==\"caramel\"):\n",
    "            cost +=0.5\n",
    "            break\n",
    "        else:\n",
    "            print(\"Invalid Flavoring. Enter again: \")\n"
   ]
  },
  {
   "cell_type": "code",
   "execution_count": 17,
   "metadata": {},
   "outputs": [
    {
     "name": "stdout",
     "output_type": "stream",
     "text": [
      "You asked for a medium cup of espresso coffee with hazelnut syrup.\n",
      "Your cup of coffee costs 4.0\n",
      "The price with a tip is 4.60\n"
     ]
    }
   ],
   "source": [
    "print(\"You asked for a \" + cup + \" cup of \" + coffee + \" coffee with \" + flavorType + \" syrup.\")\n",
    "print(\"Your cup of coffee costs \" + str(cost))\n",
    "cost +=cost*0.15\n",
    "print(\"The price with a tip is %.2f\"%(cost))"
   ]
  },
  {
   "cell_type": "code",
   "execution_count": null,
   "metadata": {},
   "outputs": [],
   "source": []
  }
 ],
 "metadata": {
  "interpreter": {
   "hash": "fb00f0c01367cd29234ef98d6ee35d5dad54fff2cb1a8b567bc06dceecc7a7af"
  },
  "kernelspec": {
   "display_name": "Python 3.8.8 ('base')",
   "language": "python",
   "name": "python3"
  },
  "language_info": {
   "codemirror_mode": {
    "name": "ipython",
    "version": 3
   },
   "file_extension": ".py",
   "mimetype": "text/x-python",
   "name": "python",
   "nbconvert_exporter": "python",
   "pygments_lexer": "ipython3",
   "version": "3.8.8"
  },
  "orig_nbformat": 4
 },
 "nbformat": 4,
 "nbformat_minor": 2
}
