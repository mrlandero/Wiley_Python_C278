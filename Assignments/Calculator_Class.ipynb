{
 "cells": [
  {
   "cell_type": "code",
   "execution_count": 1,
   "metadata": {},
   "outputs": [],
   "source": [
    "class Calculator:\n",
    "\n",
    "    # Intantiate the Class\n",
    "    def __init__(self,a,b):\n",
    "        self.a=a\n",
    "        self.b=b\n",
    "\n",
    "    # Addition Function\n",
    "    def add(self):\n",
    "        return self.a + self.b\n",
    "\n",
    "    # Subtraction Function\n",
    "    def subtract(self):\n",
    "        return self.a - self.b\n",
    "\n",
    "    # Multiplication Function\n",
    "    def multiply(self):\n",
    "        return self.a * self.b\n",
    "\n",
    "    # Division Function\n",
    "    def divide(self):\n",
    "        return self.a / self.b\n",
    "    \n",
    "    def findMin(self):\n",
    "        return min(self.a,self.b)\n",
    "     "
   ]
  },
  {
   "cell_type": "code",
   "execution_count": 2,
   "metadata": {},
   "outputs": [],
   "source": [
    "# Getting user input for the numbers they would like to do calculations on\n",
    "a = int(input(\"Enter the first number: \"))\n",
    "b = int(input(\"Enter the scond number: \"))"
   ]
  },
  {
   "cell_type": "code",
   "execution_count": 3,
   "metadata": {},
   "outputs": [
    {
     "data": {
      "text/plain": [
       "<__main__.Calculator at 0x28412ab7bc8>"
      ]
     },
     "execution_count": 3,
     "metadata": {},
     "output_type": "execute_result"
    }
   ],
   "source": [
    "# Instantiating the Calculator 'object'\n",
    "cal = Calculator(a,b)\n",
    "cal"
   ]
  },
  {
   "cell_type": "code",
   "execution_count": 4,
   "metadata": {},
   "outputs": [
    {
     "name": "stdout",
     "output_type": "stream",
     "text": [
      "0: Exit\n",
      "1: Add\n",
      "2: Subtract\n",
      "3: Multiply\n",
      "4: Divide\n",
      "5: Minimum\n",
      "Result:  15\n",
      "\n"
     ]
    }
   ],
   "source": [
    "# Asking user for action to perform. First display the menu and ask for choice\n",
    "choice = 1\n",
    "while choice != 0:\n",
    "    print(\"0: Exit\")\n",
    "    print(\"1: Add\")\n",
    "    print(\"2: Subtract\")\n",
    "    print(\"3: Multiply\")\n",
    "    print(\"4: Divide\")\n",
    "    print(\"5: Minimum\")\n",
    "\n",
    "    # Getting the actual user choice\n",
    "    choice = int(input(\"Enter your choice: \"))\n",
    "\n",
    "    # Compare the user input to the menu function above\n",
    "    if choice == 1:\n",
    "        print(\"Result: \", cal.add())\n",
    "        break\n",
    "    elif choice == 2:\n",
    "        print(\"Result:\", cal.subtract())\n",
    "        break\n",
    "    elif choice == 3:\n",
    "        print(\"Result: \", cal.multiply())\n",
    "        break\n",
    "    elif choice == 4:\n",
    "        print(\"Result: \", cal.divide())\n",
    "        break\n",
    "    elif choice == 5:\n",
    "        print(\"Result: \", cal.findMin())\n",
    "        break\n",
    "    elif choice == 0:\n",
    "        print(\"Exiting\")\n",
    "        break\n",
    "    else: \n",
    "        print(\"Invalid Choice! Try Again: \")\n",
    "\n",
    "print()"
   ]
  },
  {
   "cell_type": "code",
   "execution_count": null,
   "metadata": {},
   "outputs": [],
   "source": []
  }
 ],
 "metadata": {
  "interpreter": {
   "hash": "ad9fb37fa15c2fac4885b853501abc8587965d08b8586f67468c92fe4e3567d7"
  },
  "kernelspec": {
   "display_name": "Python 3.7.10 ('dev')",
   "language": "python",
   "name": "python3"
  },
  "language_info": {
   "codemirror_mode": {
    "name": "ipython",
    "version": 3
   },
   "file_extension": ".py",
   "mimetype": "text/x-python",
   "name": "python",
   "nbconvert_exporter": "python",
   "pygments_lexer": "ipython3",
   "version": "3.7.10"
  },
  "orig_nbformat": 4
 },
 "nbformat": 4,
 "nbformat_minor": 2
}
