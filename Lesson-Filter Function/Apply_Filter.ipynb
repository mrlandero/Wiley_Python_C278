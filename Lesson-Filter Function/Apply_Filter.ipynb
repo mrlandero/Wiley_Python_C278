{
 "cells": [
  {
   "cell_type": "markdown",
   "metadata": {},
   "source": [
    "### Example 1:\n",
    "In the following simple example, we want to find all names that start with \"h\" in the list.<br>\n",
    "\n",
    "We start by defining an **```initial_h```** function that looks at each item in a dataset and identifies the values that start with \"h\". Each value in the dataset will return **```True```** or **```False```**.<br>\n",
    "\n",
    "We use that function in a **```filter```** on a **```names```** dataset to extract the names that return **```True```** in the function to a new **```filter```** object, which we then convert to a list."
   ]
  },
  {
   "cell_type": "code",
   "execution_count": 1,
   "metadata": {},
   "outputs": [],
   "source": [
    "def initial_h(dataset):\n",
    "    for x in dataset:\n",
    "        # Normalize the case of the first letter and look for 'h'\n",
    "        if str.lower(x[0]) == \"h\":\n",
    "            return True\n",
    "        else:\n",
    "            return False"
   ]
  },
  {
   "cell_type": "code",
   "execution_count": 2,
   "metadata": {},
   "outputs": [
    {
     "name": "stdout",
     "output_type": "stream",
     "text": [
      "['Haythem', 'Mike', 'James', 'Helen', 'Mary']\n"
     ]
    }
   ],
   "source": [
    "names = [\"Haythem\", \"Mike\", \"James\", \"Helen\", \"Mary\"]\n",
    "print(names)"
   ]
  },
  {
   "cell_type": "code",
   "execution_count": 3,
   "metadata": {},
   "outputs": [
    {
     "name": "stdout",
     "output_type": "stream",
     "text": [
      "<class 'filter'>\n"
     ]
    }
   ],
   "source": [
    "# Extract the True results from the initial_h function to a new filter object\n",
    "names_filtered = filter(initial_h,names)\n",
    "print(type(names_filtered))"
   ]
  },
  {
   "cell_type": "code",
   "execution_count": 4,
   "metadata": {},
   "outputs": [
    {
     "name": "stdout",
     "output_type": "stream",
     "text": [
      "<class 'list'>\n"
     ]
    }
   ],
   "source": [
    "# Convert the filter object to a list object\n",
    "names_filtered_list = list(names_filtered)\n",
    "print(type(names_filtered_list))"
   ]
  },
  {
   "cell_type": "code",
   "execution_count": 5,
   "metadata": {},
   "outputs": [
    {
     "name": "stdout",
     "output_type": "stream",
     "text": [
      "['Haythem', 'Helen']\n"
     ]
    }
   ],
   "source": [
    "print(names_filtered_list)"
   ]
  },
  {
   "cell_type": "code",
   "execution_count": 12,
   "metadata": {},
   "outputs": [],
   "source": [
    "def contains_e(dataset):\n",
    "    if \"e\" in dataset:\n",
    "        return True\n",
    "    else:\n",
    "        return False"
   ]
  },
  {
   "cell_type": "code",
   "execution_count": 13,
   "metadata": {},
   "outputs": [
    {
     "name": "stdout",
     "output_type": "stream",
     "text": [
      "['Haythem', 'Mike', 'James', 'Helen', 'Mary']\n"
     ]
    }
   ],
   "source": [
    "names = [\"Haythem\", \"Mike\", \"James\", \"Helen\", \"Mary\"]\n",
    "print(names)"
   ]
  },
  {
   "cell_type": "code",
   "execution_count": 14,
   "metadata": {},
   "outputs": [
    {
     "name": "stdout",
     "output_type": "stream",
     "text": [
      "<class 'filter'>\n"
     ]
    }
   ],
   "source": [
    "names_filtered2 = filter(contains_e,names)\n",
    "print(type(names_filtered2))"
   ]
  },
  {
   "cell_type": "code",
   "execution_count": 15,
   "metadata": {},
   "outputs": [
    {
     "name": "stdout",
     "output_type": "stream",
     "text": [
      "<class 'list'>\n"
     ]
    }
   ],
   "source": [
    "names_filtered2_list = list(names_filtered2)\n",
    "print(type(names_filtered2_list))"
   ]
  },
  {
   "cell_type": "code",
   "execution_count": 16,
   "metadata": {},
   "outputs": [
    {
     "name": "stdout",
     "output_type": "stream",
     "text": [
      "['Haythem', 'Mike', 'James', 'Helen']\n"
     ]
    }
   ],
   "source": [
    "print(names_filtered2_list)"
   ]
  },
  {
   "cell_type": "code",
   "execution_count": null,
   "metadata": {},
   "outputs": [],
   "source": []
  }
 ],
 "metadata": {
  "interpreter": {
   "hash": "fb00f0c01367cd29234ef98d6ee35d5dad54fff2cb1a8b567bc06dceecc7a7af"
  },
  "kernelspec": {
   "display_name": "Python 3.8.8 ('base')",
   "language": "python",
   "name": "python3"
  },
  "language_info": {
   "codemirror_mode": {
    "name": "ipython",
    "version": 3
   },
   "file_extension": ".py",
   "mimetype": "text/x-python",
   "name": "python",
   "nbconvert_exporter": "python",
   "pygments_lexer": "ipython3",
   "version": "3.8.8"
  },
  "orig_nbformat": 4
 },
 "nbformat": 4,
 "nbformat_minor": 2
}
