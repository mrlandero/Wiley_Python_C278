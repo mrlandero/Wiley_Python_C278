{
 "cells": [
  {
   "cell_type": "markdown",
   "metadata": {},
   "source": [
    "## Cocept 1: Syntax\n",
    "To create a function in Python, we use the keyword **```def```** followed by the function name and required parameters in parentheses. The syntax looks like this:<br>\n",
    "\n",
    "&nbsp;&nbsp;&nbsp;**```def function_name(input_1, input_2,...,input_n):```**<br>\n",
    "&nbsp;&nbsp;&nbsp;&nbsp;&nbsp;&nbsp;**```implementation```**<br>\n",
    "\n",
    "In this syntax, the **```function_name```** should use the same naming conventions we use for variables: all lowercase letters, with underscores to separate individual words.<br>\n",
    "\n",
    "The parameters in parentheses are input values that the function will use for calculations and other operations within the function. A function can include any number of parameters, including options to use a flexible number of parameters based on requirements at run-time. "
   ]
  },
  {
   "cell_type": "markdown",
   "metadata": {},
   "source": [
    "### Example 1:\n",
    "In this example, we define a function named **```display_info```**, which takes one parameter called **```message```** as input.<br>\n",
    "\n",
    "We can reuse the function to create a variety of output messages."
   ]
  },
  {
   "cell_type": "code",
   "execution_count": null,
   "metadata": {},
   "outputs": [],
   "source": [
    "def display_info(message):\n",
    "    # display_info prints the input message\n",
    "    print(str(message))\n",
    "\n",
    "# We can use the display_info method to print several messages\n",
    "display_info(\"Hello World\")\n",
    "display_info(True)\n",
    "display_info(False)\n",
    "display_info(10.5)\n",
    "display_info(1)"
   ]
  },
  {
   "cell_type": "markdown",
   "metadata": {},
   "source": [
    "### Practice 1:\n",
    "Define the **```find_max```** function below to compute the max value from an input list of numbers."
   ]
  },
  {
   "cell_type": "code",
   "execution_count": null,
   "metadata": {},
   "outputs": [],
   "source": [
    "def find_max(numbers):\n",
    "    return max(numbers)\n",
    "\n",
    "numbers = [1,5,5,7,10,1]\n",
    "find_max(numbers)\n",
    "\n",
    "numbers2 = [500,4000,30000,200000]\n",
    "find_max(numbers2)"
   ]
  },
  {
   "cell_type": "markdown",
   "metadata": {},
   "source": [
    "## Concept 2: Inputs\n",
    "A function in Pyton can take any number of parameters."
   ]
  },
  {
   "cell_type": "markdown",
   "metadata": {},
   "source": [
    "### Example 2:\n",
    "In this example, we define a function named **```find_greater```** with two parameters:<br>\n",
    "* **```numbers:```** A list of numbers\n",
    "* **```threshold:```** An integer used as a threshold<br>\n",
    "\n",
    "The function iterates through the list of numbers, comparing each number to the threshold value, and prints the numbers that are greater than the threshold number."
   ]
  },
  {
   "cell_type": "code",
   "execution_count": null,
   "metadata": {},
   "outputs": [],
   "source": [
    "def find_greater(numbers,threshold):\n",
    "    for num in numbers:\n",
    "        # We only display the numbers that are above the input threshold\n",
    "        if (num > threshold):\n",
    "            print(num) \n",
    "\n",
    "numbers = [1,5,5,7,10,1]\n",
    "# Find all numbers greater than 0\n",
    "find_greater(numbers,0)\n",
    "\n",
    "print('*********************')\n",
    "\n",
    "find_greater(numbers, 5)"
   ]
  },
  {
   "cell_type": "markdown",
   "metadata": {},
   "source": [
    "### Practice 2:\n",
    "Define and implement the function **```find_div```**, which finds all the elements that are divisible by an input value in a list of numbers."
   ]
  },
  {
   "cell_type": "code",
   "execution_count": null,
   "metadata": {},
   "outputs": [],
   "source": [
    "def find_div(numbers, factor):\n",
    "    for num in numbers:\n",
    "        if num % factor == 0:\n",
    "            print(num)\n",
    "\n",
    "numbers = [1,5,5,7,10,1,9,12]\n",
    "\n",
    "# Find all numbers divisible by 3\n",
    "find_div(numbers,3)\n",
    "\n",
    "print('*********************')\n",
    "\n",
    "# Find all numbers divisible by 2\n",
    "find_div(numbers,2)\n",
    "\n",
    "print('**********************')\n",
    "\n",
    "find_div(numbers,4)"
   ]
  },
  {
   "cell_type": "markdown",
   "metadata": {},
   "source": [
    "## Concept 3: Defualt Input Values\n",
    "We can assign default values to function parameters so that we do not have to provide parameter values each time we run a function.<br>\n",
    "\n",
    "When we run a function that includes a defualt value for at least one parameter, we can optionally provide a different value to use when the function runs. If we do not provide a value, Python Python will use the defined default value instead."
   ]
  },
  {
   "cell_type": "markdown",
   "metadata": {},
   "source": [
    "### Example 3: \n",
    "In the following example, we define a function named **```display```** that takes **```message```** as its only parameter, with the default value, \"Hello World\".<br>\n",
    "\n",
    "When we run the function, we can choose to provide a different parameter value. If no value is provided, the function prints the default message."
   ]
  },
  {
   "cell_type": "code",
   "execution_count": null,
   "metadata": {},
   "outputs": [],
   "source": [
    "def display(message = \"Hello World\"):\n",
    "    print(message)\n",
    "\n",
    "# We can use the display method to print several messages\n",
    "display(\"Hello, World!\") # This will print Hello, World!\n",
    "\n",
    "print('*******************')\n",
    "\n",
    "display() # Since we didn't provide a value for message, it will use the default value 'Hello World'\n",
    "\n",
    "print('******************')\n",
    "\n",
    "display(True)"
   ]
  },
  {
   "cell_type": "markdown",
   "metadata": {},
   "source": [
    "### Practice 3:\n",
    "Fix the code below so that the **```find_greater```** function uses the default value 0 as the threshold value if we don't specify a different value."
   ]
  },
  {
   "cell_type": "code",
   "execution_count": null,
   "metadata": {},
   "outputs": [],
   "source": [
    "def find_greater(numbers,threshold = 0):\n",
    "    for num in numbers:\n",
    "        # we only display the numbers that are above the input threshold\n",
    "        if (num > threshold):\n",
    "            print(num)\n",
    " \n",
    "numbers = [1,5,5,7,10,1]\n",
    "find_greater(numbers) # find all numbers greater than 0\n",
    "print('******************')\n",
    "find_greater(numbers,5) # find all numbers greater than 5"
   ]
  },
  {
   "cell_type": "markdown",
   "metadata": {},
   "source": [
    "## Concept 4: Parameter Syntax\n",
    "When defining a function, parameters with default values must follow parameters without default values in the function header."
   ]
  },
  {
   "cell_type": "markdown",
   "metadata": {},
   "source": [
    "### Example 4:\n",
    "This example shows two versions of a **```display```** function.<br>\n",
    "\n",
    "The first function **```(display)```** includes two parameters. The first parameter **```(message1)```** requires a value when the function runs, but the second **```(message2)```** has the defualt value \"Hello World\". This function runs without error.<br>\n",
    "\n",
    "The second function **```(display2)```** reverses the parameters, which Python does not allow. This function throws an error when we try to run it."
   ]
  },
  {
   "cell_type": "code",
   "execution_count": null,
   "metadata": {},
   "outputs": [],
   "source": [
    "# This is ok. Parameters with a default value cannot precede a parameter with a non-default value\n",
    "def display(message1, message2 = \"Hello World\"):\n",
    "    print(message1 + message2)\n",
    "display(\"Good Morning! \")\n",
    "\n",
    "print('*************************')\n",
    "\n",
    "# This will throw an error because the parameter with the default value precedes the parameter\n",
    "# that does not have a default value\n",
    "# SyntaxError: non-default argument follows default argument\n",
    "def display2(message1 = \"Hello World\", message2):\n",
    "    print(message1 + message2)\n",
    "display2(\"This is Tony!\")"
   ]
  },
  {
   "cell_type": "markdown",
   "metadata": {},
   "source": [
    "### Practice 4:\n",
    "Create a Python function **```check_divisible```** that has two parameters:<br>\n",
    "* A list of numbers called **```numbers```**\n",
    "* An integer called **```factor```** with the default value 2<br>\n",
    "\n",
    "The function should print all of the numbers in the **```numbers```** list that are divisible by **```factor```**."
   ]
  },
  {
   "cell_type": "code",
   "execution_count": null,
   "metadata": {},
   "outputs": [],
   "source": [
    "def check_divisible(numbers, factor = 2):\n",
    "    for num in numbers:\n",
    "        if num % factor == 0:\n",
    "            print(num)\n",
    "\n",
    "numbers = [12,5,8,9,4,5]\n",
    "print(numbers)\n",
    "print('*******************')\n",
    "check_divisible(numbers)"
   ]
  },
  {
   "cell_type": "markdown",
   "metadata": {},
   "source": [
    "## Concept 5: Return\n",
    "In Python, we can use the keyword **```return```** to exit a function and return data from the function."
   ]
  },
  {
   "cell_type": "markdown",
   "metadata": {},
   "source": [
    "### Example 5:\n",
    "In this example, we define the **```greater```** variable in the function to create a list of values greater than the threshold value.<br>\n",
    "\n",
    "We then use **```return```** to output the value of **```greater```** as part of the function."
   ]
  },
  {
   "cell_type": "code",
   "execution_count": null,
   "metadata": {},
   "outputs": [],
   "source": [
    "def find_greater(numbers, threshold):\n",
    "    greater = list()\n",
    "    for num in numbers:\n",
    "        if (num > threshold):\n",
    "            greater.append(num)\n",
    "    return greater\n",
    "\n",
    "numbers = [1,5,5,7,10,1]\n",
    "# Find all the numbers greater than 0 and assign the results to a variable named result1\n",
    "result1 = find_greater(numbers,0)\n",
    "print(result1)\n",
    "\n",
    "print('***********************')\n",
    "\n",
    "# Find all numbers greater than 5 and assign the results to a variable named result2\n",
    "result2 = find_greater(numbers,5)\n",
    "print(result2)"
   ]
  },
  {
   "cell_type": "markdown",
   "metadata": {},
   "source": [
    "### Practice 5:\n",
    "Complete the Python function below which converts a set into a list.<br>\n",
    "\n",
    "The **```set2list```** function takes a set as a parameter and returns a list that contains the elements of the set."
   ]
  },
  {
   "cell_type": "code",
   "execution_count": null,
   "metadata": {},
   "outputs": [],
   "source": [
    "def set2list(input_set):\n",
    "    return list(input_set)\n",
    "\n",
    "s = {\"mary\",\"haythem\",\"mark\",\"jess\"}\n",
    "s2 = {'Houston', 'Huntsville', 'Mexico City', 'Nacogdoches', 'Qingdao'}\n",
    "\n",
    "l = set2list(s)\n",
    "print(l) # This should print the list outputted by set2list\n",
    "print(type(l)) # This should print <class 'list'>\n",
    "\n",
    "print('*******************')\n",
    "\n",
    "l2 = set2list(s2)\n",
    "print(l2)\n",
    "print(type(l2))"
   ]
  },
  {
   "cell_type": "markdown",
   "metadata": {},
   "source": [
    "## Concept 6: Indefinite Number of Parameters\n",
    "A function can include an indefinite number of parameter input values. This lets us include as many arguments as needed for a specific use when we run the function, rather than being limited to a defined number of parameters.<br>\n",
    "\n",
    "To allow an indefinite number of parameter inputs, we add **```*```** in front of the name of the parameter in the definition."
   ]
  },
  {
   "cell_type": "markdown",
   "metadata": {},
   "source": [
    "### Example 6:\n",
    "In this example, we define a **```display```** function that allows an indefinite numbers of parameter inputs using **```*argv```**. The function includes a **```for```** loop that evaluates each input value at runtime.<br>\n",
    "\n",
    "The code includes examples of the **```display```** function with two input values, three input values, one input value, and no input values at all."
   ]
  },
  {
   "cell_type": "code",
   "execution_count": null,
   "metadata": {},
   "outputs": [],
   "source": [
    "def display(*argv): # *argv refers to an indefinite number of optional arguments\n",
    "    for arg in argv: # argv: a list that contains the arguments\n",
    "        print(arg) # We can use a foor loop to iterate through the list and display each argument\n",
    "\n",
    "display(\"Hello World!\", \"My name is Haythem Balti.\")\n",
    "print('***************')\n",
    "\n",
    "display(\"Hello World!\", \"Let's learn Python.\", \"Let's Python.\")\n",
    "print('***************')\n",
    "\n",
    "display(\"Hello World!\")\n",
    "print('***************')\n",
    "\n",
    "display() # This will still execute without displaying anything"
   ]
  },
  {
   "cell_type": "markdown",
   "metadata": {},
   "source": [
    "### Practice 6: \n",
    "Create a function **```compute_sum```** that takes as input an indefinite number of integers and returns the sum of those numbers.<br>\n",
    "\n",
    "Make sure to test the function using different numbers of input values."
   ]
  },
  {
   "cell_type": "code",
   "execution_count": null,
   "metadata": {},
   "outputs": [],
   "source": [
    "def compute_sum(*numbers):\n",
    "    print(\"The numbers you are adding are:\")\n",
    "    for num in numbers:\n",
    "        print(num)\n",
    "    print(\"The sum of the numbers you entered is:\")\n",
    "    return sum(numbers)\n",
    "\n",
    "summation = compute_sum(2,3)\n",
    "print(summation)\n",
    "print('*****************')\n",
    "\n",
    "summation2 = compute_sum(1,5,5,7,10,1)\n",
    "print(summation2)\n",
    "print('*****************')\n",
    "\n",
    "summation3 = compute_sum(1,2,3,4)\n",
    "print(summation3)"
   ]
  },
  {
   "cell_type": "markdown",
   "metadata": {},
   "source": [
    "## Concept 7: Combine Required and Indefinite Parameters\n",
    "Additionally, we can combine required parameters and indefinite parameters in the same function."
   ]
  },
  {
   "cell_type": "markdown",
   "metadata": {},
   "source": [
    "### Example 7:\n",
    "In this example, we define a **```display```** function with two parameters:<br>\n",
    "* **```arg1```** is a required parameter with no default value. We must provide a value for this parameter or the function will not run.\n",
    "* **```argv```** is an idefinite parameter for which we can provide any number of values, including none.<br>\n",
    "\n",
    "Because the first parameter is required, we must provide at least one value when we run the function. "
   ]
  },
  {
   "cell_type": "code",
   "execution_count": null,
   "metadata": {},
   "outputs": [],
   "source": [
    "def display(arg1, *argv):\n",
    "    print(arg1)\n",
    "    for arg in argv: # argv: a list that contains the variable number of arguments\n",
    "        print(arg) # We can use a for loop to iterate through the list and display each argument\n",
    "\n",
    "display(\"Hello World!\",\"My name is Haythem Balti.\") # This will execute \n",
    "print('*************')\n",
    "\n",
    "display(\"Hello World!\",\"Let's learn Python.\",\"Let's Python.\") # This will execute\n",
    "print('************')\n",
    "\n",
    "display(\"Hello World!\") # This will execute\n",
    "print('**************')\n",
    "\n",
    "display() # This will throw an error because we need at least one argument"
   ]
  },
  {
   "cell_type": "markdown",
   "metadata": {},
   "source": [
    "### Practice 7:\n",
    "Create a function named **```check_words```** that takes as input some text, and a list of words. The function should compute the frequency of occurrence of each word in the input list.<br>\n",
    "\n",
    "The output should look like this:<br>\n",
    "\n",
    "**```{'to': 4, 'back': 0, 'the': 11, 'is': 1}```**<br>\n",
    "**```{'over': 1, 'level': 2, 'way': 1, 'square': 0, 'figure': 1}```**<br>\n",
    "\n",
    "***Bonus:*** After getting the script to work with the current text. revise the program so that output is not case-sensitive. For example, instead of treating \"The\" and \"the\" as different words, the count should include all instances of the word \"the\" regardless of case.<br>\n",
    "\n",
    "The text in this exercise comes from E. Abbott's ***Flatland***."
   ]
  },
  {
   "cell_type": "code",
   "execution_count": 23,
   "metadata": {},
   "outputs": [
    {
     "name": "stdout",
     "output_type": "stream",
     "text": [
      "{'to': 4, 'the': 11, 'is': 1, 'back': 0}\n",
      "******************\n",
      "{'way': 1, 'figure': 1, 'over': 1, 'level': 2, 'square': 0}\n"
     ]
    }
   ],
   "source": [
    "# Input 1: The text string\n",
    "# argv: a list of words\n",
    "# output: dictionary, which represents the count of each word.\n",
    "def check_words(text,*argv):\n",
    "    freq_occur = dict()\n",
    "    counter = 0\n",
    "    # punc = '''!()-[]{};:'\"\\,<>./?@#$%^&*_~'''\n",
    "    # for ele in text:\n",
    "    #     if ele in punc:\n",
    "    #         text = text.replace(ele, \"\")\n",
    "    text = text.split()\n",
    "    for word in text:\n",
    "        if word in argv:\n",
    "            if word not in freq_occur:\n",
    "                freq_occur[word] = 0\n",
    "            if word in freq_occur:\n",
    "                freq_occur[word] +=1\n",
    "    for word in argv:\n",
    "        if word not in freq_occur:\n",
    "            freq_occur[word] = 0\n",
    "                \n",
    "    return freq_occur\n",
    "\n",
    "text = \"\"\"The same thing would happen if you were to treat in the same way a Triangle, or Square, \n",
    "or any other figure cut out of pasteboard. As soon as you look at it with your eye on the edge on \n",
    "the table, you will find that it ceases to appear to you a figure, and that it becomes in appearance \n",
    "a straight line. Take for example an equilateral Triangle—who represents with us a Tradesman of \n",
    "the respectable class. Fig. 1 represents the Tradesman as you would see him while you were bending \n",
    "over him from above; figs. 2 and 3 represent the Tradesman, as you would see him if your eye were \n",
    "close to the level, or all but on the level of the table; and if your eye were quite on the level \n",
    "of the table (and that is how we see him in Flatland) you would see nothing but a straight line. \"\"\"\n",
    "\n",
    "words = check_words(text,\"to\",\"back\",\"the\",\"is\")\n",
    "print(words)\n",
    "print('******************')\n",
    "\n",
    "words2 = check_words(text,\"over\",\"level\",\"way\",\"square\",\"figure\")\n",
    "print(words2)"
   ]
  },
  {
   "cell_type": "markdown",
   "metadata": {},
   "source": [
    "## Concept 8: Keyword Arguments\n",
    "Python supports the use of keyword arguments, allowing the user to create an indefinite number of arguments for a function, where each argument includes both a variable name and a value."
   ]
  },
  {
   "cell_type": "markdown",
   "metadata": {},
   "source": [
    "### Example 8: \n",
    "In this example, we use **```**kwargs```** to create an indefinite number of arguments that include both a keyword and a value.<br>\n",
    "\n",
    "We do not have to define the exact keywords in the function itself. Instead, we can define different keywords (and different values) each time we run the function.<br>\n",
    "\n",
    "In the first example of the **```display```** function, we provide a person's first and last name.<br>\n",
    "\n",
    "In the second example, we provide a first name, an age, and a location."
   ]
  },
  {
   "cell_type": "code",
   "execution_count": 76,
   "metadata": {},
   "outputs": [
    {
     "name": "stdout",
     "output_type": "stream",
     "text": [
      "first_name : Robert\n",
      "last_name : Johnson\n",
      "***************\n",
      "first_name : Mary\n",
      "age : 32\n",
      "location : Dallas\n"
     ]
    }
   ],
   "source": [
    "# kwargs: These are keyword arguments. That means each argument has a variable name and a value\n",
    "def display(**kwargs): # kwargs: a dictionary that contains the keyword/value pairs\n",
    "    # We use a for loop to iterate through the dictionary and display each keyword/value\n",
    "    for keyword,value in kwargs.items():\n",
    "        print(keyword, \":\", value)\n",
    "\n",
    "display(first_name = 'Robert', last_name = 'Johnson')\n",
    "\n",
    "print('***************')\n",
    "\n",
    "display(first_name = 'Mary', age = 32, location = 'Dallas')"
   ]
  },
  {
   "cell_type": "markdown",
   "metadata": {},
   "source": [
    "### Practice 8:\n",
    "Create a function that takes as input a variable number of keywords using the following pattern:<br>\n",
    "\n",
    "&nbsp;&nbsp;&nbsp;**```word1=value, word2=value,...,word_n=value```**<br>\n",
    "\n",
    "The function should return the keyword with the highest corresponding value, with the word and the value in a tuple. Using the example data included in the code below, the result would be **```(word3,6)```**."
   ]
  },
  {
   "cell_type": "code",
   "execution_count": 155,
   "metadata": {},
   "outputs": [
    {
     "name": "stdout",
     "output_type": "stream",
     "text": [
      "word2 6\n"
     ]
    }
   ],
   "source": [
    "def compute_max_value(**kwargs):\n",
    "   num_list = list()\n",
    "   key_list = list()\n",
    "   for key,value in kwargs.items():\n",
    "      if value not in num_list:\n",
    "         num_list.append(value)\n",
    "   #print(num_list)\n",
    "   max_value = max(num_list)\n",
    "   print(key,max_value)\n",
    "   \n",
    "\n",
    "\n",
    "\n",
    "# key,value = compute_max_value(w1=1,w2=2,w3=3)\n",
    "# print(key,value)\n",
    "compute_max_value(word1=6,word2=3)"
   ]
  },
  {
   "cell_type": "code",
   "execution_count": 180,
   "metadata": {},
   "outputs": [
    {
     "name": "stdout",
     "output_type": "stream",
     "text": [
      "12\n",
      "(w 4 , 12 )\n"
     ]
    }
   ],
   "source": [
    "def compute_max_value(**kwargs):\n",
    "    value_list = list()\n",
    "    for key in kwargs.keys():\n",
    "        value = kwargs.get(key)\n",
    "        if value not in value_list:\n",
    "            value_list.append(value)\n",
    "        max_value = max(value_list)\n",
    "    print(max_value)\n",
    "    print('(w',value_list.index(max_value)+1, \",\" ,max_value,')')\n",
    "    #print(value_list)\n",
    "compute_max_value(w1=1,w2=6,w3=4,w4=12,w5=10)"
   ]
  },
  {
   "cell_type": "markdown",
   "metadata": {},
   "source": [
    "## Concept 9: Keyword Argument Order\n",
    "When we use keyword arguments, we can present the keyword/value pairs in any order as long as each argument includes a keyword. "
   ]
  },
  {
   "cell_type": "markdown",
   "metadata": {},
   "source": [
    "### Example 9:\n",
    "In this example, we create a function named **```display```** to display a person's first name, middle name, and laat name.<br>\n",
    "\n",
    "The definition of the function specifies the order in which the values should appear in the output, which means that we can input the values in any aorder we wish. As long as the keywords are correct, the output will be the same."
   ]
  },
  {
   "cell_type": "code",
   "execution_count": 5,
   "metadata": {},
   "outputs": [
    {
     "name": "stdout",
     "output_type": "stream",
     "text": [
      "Susan Marie Howard\n",
      "*********************\n",
      "Susan Marie Howard\n"
     ]
    }
   ],
   "source": [
    "def display(first_name, middle_name, last_name):\n",
    "    print(first_name + \" \" + middle_name + \" \" + last_name)\n",
    "\n",
    "# If we use keyword arguments then the order does not matter\n",
    "display(first_name='Susan', middle_name='Marie', last_name='Howard')\n",
    "\n",
    "print('*********************')\n",
    "\n",
    "display(middle_name='Marie', last_name='Howard', first_name='Susan')"
   ]
  },
  {
   "cell_type": "markdown",
   "metadata": {},
   "source": [
    "### Practice 9:\n",
    "Create a function that takes as input three numbers named **```number_1, number_2```**, and **```number_3```**.<br>\n",
    "\n",
    "The function should return one number derived as a concatenation of the input numbers in the order **```number_1number_2number_3```**<br>\n",
    "\n",
    "For example, if we start with the following values:<br>\n",
    "* **```number_1 = 5```**\n",
    "* **```number_2 = 5```**\n",
    "* **```number_3 = 14```**<br>\n",
    "\n",
    "The output should be **```5514```** regardless of the order in which the values are identified in the function."
   ]
  },
  {
   "cell_type": "code",
   "execution_count": 10,
   "metadata": {},
   "outputs": [
    {
     "name": "stdout",
     "output_type": "stream",
     "text": [
      "5514\n",
      "****************\n",
      "405060\n"
     ]
    }
   ],
   "source": [
    "def concat_numbers(number_1, number_2, number_3):\n",
    "    # number_1 = str(number_1)\n",
    "    # number_2 = str(number_2)\n",
    "    # number_3 = str(number_3)\n",
    "    return str(number_1)+ str(number_2)+ str(number_3)\n",
    "\n",
    "concat_number = concat_numbers(number_2=5, number_3=14, number_1=5)\n",
    "print(concat_number)\n",
    "\n",
    "print('****************')\n",
    "\n",
    "concat_number2 = concat_numbers(number_3=60, number_2=50, number_1=40)\n",
    "print(concat_number2)"
   ]
  },
  {
   "cell_type": "code",
   "execution_count": null,
   "metadata": {},
   "outputs": [],
   "source": []
  }
 ],
 "metadata": {
  "kernelspec": {
   "display_name": "Python 3.9.6 64-bit",
   "language": "python",
   "name": "python3"
  },
  "language_info": {
   "codemirror_mode": {
    "name": "ipython",
    "version": 3
   },
   "file_extension": ".py",
   "mimetype": "text/x-python",
   "name": "python",
   "nbconvert_exporter": "python",
   "pygments_lexer": "ipython3",
   "version": "3.9.6"
  },
  "orig_nbformat": 4,
  "vscode": {
   "interpreter": {
    "hash": "9cc6a95a29893daac463ce220390149ef03aeb7175da3903cfd40cfc8442e04e"
   }
  }
 },
 "nbformat": 4,
 "nbformat_minor": 2
}
